{
 "cells": [
  {
   "cell_type": "markdown",
   "id": "d219ff04",
   "metadata": {
    "slideshow": {
     "slide_type": "slide"
    }
   },
   "source": [
    "# # STA130 Project Tutorial Assignment<br> Model Performance Metrics:<br>Identifying Performance Differentiation Between Models\n",
    "\n",
    "**Group member**:\n",
    "- Vu My Hanh Tran\n",
    "- Zihao Wang\n",
    "- Cheryl Tong\n",
    "- Jiawei Gao"
   ]
  },
  {
   "cell_type": "code",
   "execution_count": 1,
   "id": "0829c433",
   "metadata": {
    "slideshow": {
     "slide_type": "slide"
    }
   },
   "outputs": [],
   "source": [
    "import pandas as pd\n",
    "import plotly.graph_objects as go\n",
    "import plotly.io as pio\n",
    "df_indicators = pd.read_csv('country_indicators.csv')\n",
    "df_preds = pd.read_csv('test_predictions.csv')"
   ]
  },
  {
   "cell_type": "code",
   "execution_count": 2,
   "id": "2cc296ff",
   "metadata": {
    "slideshow": {
     "slide_type": "slide"
    }
   },
   "outputs": [
    {
     "data": {
      "text/html": [
       "<div>\n",
       "<style scoped>\n",
       "    .dataframe tbody tr th:only-of-type {\n",
       "        vertical-align: middle;\n",
       "    }\n",
       "\n",
       "    .dataframe tbody tr th {\n",
       "        vertical-align: top;\n",
       "    }\n",
       "\n",
       "    .dataframe thead th {\n",
       "        text-align: right;\n",
       "    }\n",
       "</style>\n",
       "<table border=\"1\" class=\"dataframe\">\n",
       "  <thead>\n",
       "    <tr style=\"text-align: right;\">\n",
       "      <th></th>\n",
       "      <th>Unnamed: 0</th>\n",
       "      <th>sowc_demographics__population-thousands-2021_total</th>\n",
       "      <th>sowc_demographics__population-thousands-2021_under-18</th>\n",
       "      <th>sowc_demographics__population-thousands-2021_under-5</th>\n",
       "      <th>sowc_demographics__annual-population-growth-rate_2000-2020</th>\n",
       "      <th>sowc_demographics__annual-population-growth-rate_2020-2030-a</th>\n",
       "      <th>sowc_demographics__annual-number-of-births-thousands-2021_2020-2030-a</th>\n",
       "      <th>sowc_demographics__total-fertility-live-births-per-woman-2021_2020-2030-a</th>\n",
       "      <th>sowc_demographics__life-expectancy-at-birth-years_1970</th>\n",
       "      <th>sowc_demographics__life-expectancy-at-birth-years_2000-0</th>\n",
       "      <th>...</th>\n",
       "      <th>fsi_e3:_human_flight_and_brain_drain</th>\n",
       "      <th>fsi_e2:_economic_inequality</th>\n",
       "      <th>fsi_e1:_economy</th>\n",
       "      <th>fsi_p1:_state_legitimacy</th>\n",
       "      <th>fsi_p2:_public_services</th>\n",
       "      <th>fsi_p3:_human_rights</th>\n",
       "      <th>fsi_c1:_security_apparatus</th>\n",
       "      <th>fsi_c2:_factionalized_elites</th>\n",
       "      <th>fsi_x1:_external_intervention</th>\n",
       "      <th>fsi_category</th>\n",
       "    </tr>\n",
       "  </thead>\n",
       "  <tbody>\n",
       "    <tr>\n",
       "      <th>0</th>\n",
       "      <td>0</td>\n",
       "      <td>40099.4620</td>\n",
       "      <td>20297.8860</td>\n",
       "      <td>6490.5540</td>\n",
       "      <td>3.286824</td>\n",
       "      <td>2.325169</td>\n",
       "      <td>1440.941</td>\n",
       "      <td>4.6434</td>\n",
       "      <td>37.4178</td>\n",
       "      <td>55.2978</td>\n",
       "      <td>...</td>\n",
       "      <td>8.5</td>\n",
       "      <td>8.2</td>\n",
       "      <td>9.6</td>\n",
       "      <td>9.4</td>\n",
       "      <td>10.0</td>\n",
       "      <td>8.7</td>\n",
       "      <td>9.7</td>\n",
       "      <td>8.7</td>\n",
       "      <td>7.7</td>\n",
       "      <td>Alert</td>\n",
       "    </tr>\n",
       "    <tr>\n",
       "      <th>1</th>\n",
       "      <td>1</td>\n",
       "      <td>2854.7100</td>\n",
       "      <td>574.3875</td>\n",
       "      <td>141.3930</td>\n",
       "      <td>0.496681</td>\n",
       "      <td>0.248324</td>\n",
       "      <td>29.289</td>\n",
       "      <td>1.3897</td>\n",
       "      <td>64.8239</td>\n",
       "      <td>75.4043</td>\n",
       "      <td>...</td>\n",
       "      <td>8.5</td>\n",
       "      <td>2.9</td>\n",
       "      <td>6.1</td>\n",
       "      <td>5.0</td>\n",
       "      <td>3.8</td>\n",
       "      <td>3.6</td>\n",
       "      <td>4.8</td>\n",
       "      <td>6.2</td>\n",
       "      <td>5.5</td>\n",
       "      <td>Stable</td>\n",
       "    </tr>\n",
       "    <tr>\n",
       "      <th>2</th>\n",
       "      <td>2</td>\n",
       "      <td>44177.9685</td>\n",
       "      <td>15526.2050</td>\n",
       "      <td>4870.8425</td>\n",
       "      <td>1.642661</td>\n",
       "      <td>1.237367</td>\n",
       "      <td>950.888</td>\n",
       "      <td>2.8886</td>\n",
       "      <td>43.1597</td>\n",
       "      <td>70.4779</td>\n",
       "      <td>...</td>\n",
       "      <td>5.1</td>\n",
       "      <td>5.2</td>\n",
       "      <td>6.2</td>\n",
       "      <td>7.6</td>\n",
       "      <td>5.0</td>\n",
       "      <td>6.9</td>\n",
       "      <td>5.8</td>\n",
       "      <td>6.9</td>\n",
       "      <td>3.1</td>\n",
       "      <td>Warning</td>\n",
       "    </tr>\n",
       "    <tr>\n",
       "      <th>3</th>\n",
       "      <td>3</td>\n",
       "      <td>79.0340</td>\n",
       "      <td>12.7765</td>\n",
       "      <td>2.5385</td>\n",
       "      <td>0.770116</td>\n",
       "      <td>0.437249</td>\n",
       "      <td>0.567</td>\n",
       "      <td>1.1254</td>\n",
       "      <td>74.2557</td>\n",
       "      <td>80.9193</td>\n",
       "      <td>...</td>\n",
       "      <td>NaN</td>\n",
       "      <td>NaN</td>\n",
       "      <td>NaN</td>\n",
       "      <td>NaN</td>\n",
       "      <td>NaN</td>\n",
       "      <td>NaN</td>\n",
       "      <td>NaN</td>\n",
       "      <td>NaN</td>\n",
       "      <td>NaN</td>\n",
       "      <td>NaN</td>\n",
       "    </tr>\n",
       "    <tr>\n",
       "      <th>4</th>\n",
       "      <td>4</td>\n",
       "      <td>34503.7735</td>\n",
       "      <td>17832.9760</td>\n",
       "      <td>5983.4065</td>\n",
       "      <td>3.392806</td>\n",
       "      <td>2.684447</td>\n",
       "      <td>1338.792</td>\n",
       "      <td>5.3044</td>\n",
       "      <td>40.1904</td>\n",
       "      <td>46.0236</td>\n",
       "      <td>...</td>\n",
       "      <td>5.6</td>\n",
       "      <td>8.8</td>\n",
       "      <td>8.2</td>\n",
       "      <td>8.1</td>\n",
       "      <td>8.8</td>\n",
       "      <td>6.3</td>\n",
       "      <td>6.6</td>\n",
       "      <td>7.2</td>\n",
       "      <td>4.0</td>\n",
       "      <td>Warning</td>\n",
       "    </tr>\n",
       "    <tr>\n",
       "      <th>...</th>\n",
       "      <td>...</td>\n",
       "      <td>...</td>\n",
       "      <td>...</td>\n",
       "      <td>...</td>\n",
       "      <td>...</td>\n",
       "      <td>...</td>\n",
       "      <td>...</td>\n",
       "      <td>...</td>\n",
       "      <td>...</td>\n",
       "      <td>...</td>\n",
       "      <td>...</td>\n",
       "      <td>...</td>\n",
       "      <td>...</td>\n",
       "      <td>...</td>\n",
       "      <td>...</td>\n",
       "      <td>...</td>\n",
       "      <td>...</td>\n",
       "      <td>...</td>\n",
       "      <td>...</td>\n",
       "      <td>...</td>\n",
       "      <td>...</td>\n",
       "    </tr>\n",
       "    <tr>\n",
       "      <th>213</th>\n",
       "      <td>213</td>\n",
       "      <td>NaN</td>\n",
       "      <td>NaN</td>\n",
       "      <td>NaN</td>\n",
       "      <td>NaN</td>\n",
       "      <td>NaN</td>\n",
       "      <td>NaN</td>\n",
       "      <td>NaN</td>\n",
       "      <td>NaN</td>\n",
       "      <td>NaN</td>\n",
       "      <td>...</td>\n",
       "      <td>NaN</td>\n",
       "      <td>NaN</td>\n",
       "      <td>NaN</td>\n",
       "      <td>NaN</td>\n",
       "      <td>NaN</td>\n",
       "      <td>NaN</td>\n",
       "      <td>NaN</td>\n",
       "      <td>NaN</td>\n",
       "      <td>NaN</td>\n",
       "      <td>NaN</td>\n",
       "    </tr>\n",
       "    <tr>\n",
       "      <th>214</th>\n",
       "      <td>214</td>\n",
       "      <td>NaN</td>\n",
       "      <td>NaN</td>\n",
       "      <td>NaN</td>\n",
       "      <td>NaN</td>\n",
       "      <td>NaN</td>\n",
       "      <td>NaN</td>\n",
       "      <td>NaN</td>\n",
       "      <td>NaN</td>\n",
       "      <td>NaN</td>\n",
       "      <td>...</td>\n",
       "      <td>NaN</td>\n",
       "      <td>NaN</td>\n",
       "      <td>NaN</td>\n",
       "      <td>NaN</td>\n",
       "      <td>NaN</td>\n",
       "      <td>NaN</td>\n",
       "      <td>NaN</td>\n",
       "      <td>NaN</td>\n",
       "      <td>NaN</td>\n",
       "      <td>NaN</td>\n",
       "    </tr>\n",
       "    <tr>\n",
       "      <th>215</th>\n",
       "      <td>215</td>\n",
       "      <td>NaN</td>\n",
       "      <td>NaN</td>\n",
       "      <td>NaN</td>\n",
       "      <td>NaN</td>\n",
       "      <td>NaN</td>\n",
       "      <td>NaN</td>\n",
       "      <td>NaN</td>\n",
       "      <td>NaN</td>\n",
       "      <td>NaN</td>\n",
       "      <td>...</td>\n",
       "      <td>NaN</td>\n",
       "      <td>NaN</td>\n",
       "      <td>NaN</td>\n",
       "      <td>NaN</td>\n",
       "      <td>NaN</td>\n",
       "      <td>NaN</td>\n",
       "      <td>NaN</td>\n",
       "      <td>NaN</td>\n",
       "      <td>NaN</td>\n",
       "      <td>NaN</td>\n",
       "    </tr>\n",
       "    <tr>\n",
       "      <th>216</th>\n",
       "      <td>216</td>\n",
       "      <td>NaN</td>\n",
       "      <td>NaN</td>\n",
       "      <td>NaN</td>\n",
       "      <td>NaN</td>\n",
       "      <td>NaN</td>\n",
       "      <td>NaN</td>\n",
       "      <td>NaN</td>\n",
       "      <td>NaN</td>\n",
       "      <td>NaN</td>\n",
       "      <td>...</td>\n",
       "      <td>NaN</td>\n",
       "      <td>NaN</td>\n",
       "      <td>NaN</td>\n",
       "      <td>NaN</td>\n",
       "      <td>NaN</td>\n",
       "      <td>NaN</td>\n",
       "      <td>NaN</td>\n",
       "      <td>NaN</td>\n",
       "      <td>NaN</td>\n",
       "      <td>NaN</td>\n",
       "    </tr>\n",
       "    <tr>\n",
       "      <th>217</th>\n",
       "      <td>217</td>\n",
       "      <td>NaN</td>\n",
       "      <td>NaN</td>\n",
       "      <td>NaN</td>\n",
       "      <td>NaN</td>\n",
       "      <td>NaN</td>\n",
       "      <td>NaN</td>\n",
       "      <td>NaN</td>\n",
       "      <td>NaN</td>\n",
       "      <td>NaN</td>\n",
       "      <td>...</td>\n",
       "      <td>NaN</td>\n",
       "      <td>NaN</td>\n",
       "      <td>NaN</td>\n",
       "      <td>NaN</td>\n",
       "      <td>NaN</td>\n",
       "      <td>NaN</td>\n",
       "      <td>NaN</td>\n",
       "      <td>NaN</td>\n",
       "      <td>NaN</td>\n",
       "      <td>NaN</td>\n",
       "    </tr>\n",
       "  </tbody>\n",
       "</table>\n",
       "<p>218 rows × 1332 columns</p>\n",
       "</div>"
      ],
      "text/plain": [
       "     Unnamed: 0  sowc_demographics__population-thousands-2021_total  \\\n",
       "0             0                                         40099.4620    \n",
       "1             1                                          2854.7100    \n",
       "2             2                                         44177.9685    \n",
       "3             3                                            79.0340    \n",
       "4             4                                         34503.7735    \n",
       "..          ...                                                ...    \n",
       "213         213                                                NaN    \n",
       "214         214                                                NaN    \n",
       "215         215                                                NaN    \n",
       "216         216                                                NaN    \n",
       "217         217                                                NaN    \n",
       "\n",
       "     sowc_demographics__population-thousands-2021_under-18  \\\n",
       "0                                           20297.8860       \n",
       "1                                             574.3875       \n",
       "2                                           15526.2050       \n",
       "3                                              12.7765       \n",
       "4                                           17832.9760       \n",
       "..                                                 ...       \n",
       "213                                                NaN       \n",
       "214                                                NaN       \n",
       "215                                                NaN       \n",
       "216                                                NaN       \n",
       "217                                                NaN       \n",
       "\n",
       "     sowc_demographics__population-thousands-2021_under-5  \\\n",
       "0                                            6490.5540      \n",
       "1                                             141.3930      \n",
       "2                                            4870.8425      \n",
       "3                                               2.5385      \n",
       "4                                            5983.4065      \n",
       "..                                                 ...      \n",
       "213                                                NaN      \n",
       "214                                                NaN      \n",
       "215                                                NaN      \n",
       "216                                                NaN      \n",
       "217                                                NaN      \n",
       "\n",
       "     sowc_demographics__annual-population-growth-rate_2000-2020  \\\n",
       "0                                             3.286824            \n",
       "1                                             0.496681            \n",
       "2                                             1.642661            \n",
       "3                                             0.770116            \n",
       "4                                             3.392806            \n",
       "..                                                 ...            \n",
       "213                                                NaN            \n",
       "214                                                NaN            \n",
       "215                                                NaN            \n",
       "216                                                NaN            \n",
       "217                                                NaN            \n",
       "\n",
       "     sowc_demographics__annual-population-growth-rate_2020-2030-a  \\\n",
       "0                                             2.325169              \n",
       "1                                             0.248324              \n",
       "2                                             1.237367              \n",
       "3                                             0.437249              \n",
       "4                                             2.684447              \n",
       "..                                                 ...              \n",
       "213                                                NaN              \n",
       "214                                                NaN              \n",
       "215                                                NaN              \n",
       "216                                                NaN              \n",
       "217                                                NaN              \n",
       "\n",
       "     sowc_demographics__annual-number-of-births-thousands-2021_2020-2030-a  \\\n",
       "0                                             1440.941                       \n",
       "1                                               29.289                       \n",
       "2                                              950.888                       \n",
       "3                                                0.567                       \n",
       "4                                             1338.792                       \n",
       "..                                                 ...                       \n",
       "213                                                NaN                       \n",
       "214                                                NaN                       \n",
       "215                                                NaN                       \n",
       "216                                                NaN                       \n",
       "217                                                NaN                       \n",
       "\n",
       "     sowc_demographics__total-fertility-live-births-per-woman-2021_2020-2030-a  \\\n",
       "0                                               4.6434                           \n",
       "1                                               1.3897                           \n",
       "2                                               2.8886                           \n",
       "3                                               1.1254                           \n",
       "4                                               5.3044                           \n",
       "..                                                 ...                           \n",
       "213                                                NaN                           \n",
       "214                                                NaN                           \n",
       "215                                                NaN                           \n",
       "216                                                NaN                           \n",
       "217                                                NaN                           \n",
       "\n",
       "     sowc_demographics__life-expectancy-at-birth-years_1970  \\\n",
       "0                                              37.4178        \n",
       "1                                              64.8239        \n",
       "2                                              43.1597        \n",
       "3                                              74.2557        \n",
       "4                                              40.1904        \n",
       "..                                                 ...        \n",
       "213                                                NaN        \n",
       "214                                                NaN        \n",
       "215                                                NaN        \n",
       "216                                                NaN        \n",
       "217                                                NaN        \n",
       "\n",
       "     sowc_demographics__life-expectancy-at-birth-years_2000-0  ...  \\\n",
       "0                                              55.2978         ...   \n",
       "1                                              75.4043         ...   \n",
       "2                                              70.4779         ...   \n",
       "3                                              80.9193         ...   \n",
       "4                                              46.0236         ...   \n",
       "..                                                 ...         ...   \n",
       "213                                                NaN         ...   \n",
       "214                                                NaN         ...   \n",
       "215                                                NaN         ...   \n",
       "216                                                NaN         ...   \n",
       "217                                                NaN         ...   \n",
       "\n",
       "     fsi_e3:_human_flight_and_brain_drain  fsi_e2:_economic_inequality  \\\n",
       "0                                     8.5                          8.2   \n",
       "1                                     8.5                          2.9   \n",
       "2                                     5.1                          5.2   \n",
       "3                                     NaN                          NaN   \n",
       "4                                     5.6                          8.8   \n",
       "..                                    ...                          ...   \n",
       "213                                   NaN                          NaN   \n",
       "214                                   NaN                          NaN   \n",
       "215                                   NaN                          NaN   \n",
       "216                                   NaN                          NaN   \n",
       "217                                   NaN                          NaN   \n",
       "\n",
       "     fsi_e1:_economy  fsi_p1:_state_legitimacy  fsi_p2:_public_services  \\\n",
       "0                9.6                       9.4                     10.0   \n",
       "1                6.1                       5.0                      3.8   \n",
       "2                6.2                       7.6                      5.0   \n",
       "3                NaN                       NaN                      NaN   \n",
       "4                8.2                       8.1                      8.8   \n",
       "..               ...                       ...                      ...   \n",
       "213              NaN                       NaN                      NaN   \n",
       "214              NaN                       NaN                      NaN   \n",
       "215              NaN                       NaN                      NaN   \n",
       "216              NaN                       NaN                      NaN   \n",
       "217              NaN                       NaN                      NaN   \n",
       "\n",
       "     fsi_p3:_human_rights  fsi_c1:_security_apparatus  \\\n",
       "0                     8.7                         9.7   \n",
       "1                     3.6                         4.8   \n",
       "2                     6.9                         5.8   \n",
       "3                     NaN                         NaN   \n",
       "4                     6.3                         6.6   \n",
       "..                    ...                         ...   \n",
       "213                   NaN                         NaN   \n",
       "214                   NaN                         NaN   \n",
       "215                   NaN                         NaN   \n",
       "216                   NaN                         NaN   \n",
       "217                   NaN                         NaN   \n",
       "\n",
       "     fsi_c2:_factionalized_elites  fsi_x1:_external_intervention  fsi_category  \n",
       "0                             8.7                            7.7         Alert  \n",
       "1                             6.2                            5.5        Stable  \n",
       "2                             6.9                            3.1       Warning  \n",
       "3                             NaN                            NaN           NaN  \n",
       "4                             7.2                            4.0       Warning  \n",
       "..                            ...                            ...           ...  \n",
       "213                           NaN                            NaN           NaN  \n",
       "214                           NaN                            NaN           NaN  \n",
       "215                           NaN                            NaN           NaN  \n",
       "216                           NaN                            NaN           NaN  \n",
       "217                           NaN                            NaN           NaN  \n",
       "\n",
       "[218 rows x 1332 columns]"
      ]
     },
     "execution_count": 2,
     "metadata": {},
     "output_type": "execute_result"
    }
   ],
   "source": [
    "df_indicators"
   ]
  },
  {
   "cell_type": "code",
   "execution_count": 3,
   "id": "4b2e07b0",
   "metadata": {},
   "outputs": [
    {
     "data": {
      "text/html": [
       "<div>\n",
       "<style scoped>\n",
       "    .dataframe tbody tr th:only-of-type {\n",
       "        vertical-align: middle;\n",
       "    }\n",
       "\n",
       "    .dataframe tbody tr th {\n",
       "        vertical-align: top;\n",
       "    }\n",
       "\n",
       "    .dataframe thead th {\n",
       "        text-align: right;\n",
       "    }\n",
       "</style>\n",
       "<table border=\"1\" class=\"dataframe\">\n",
       "  <thead>\n",
       "    <tr style=\"text-align: right;\">\n",
       "      <th></th>\n",
       "      <th>yearmonth</th>\n",
       "      <th>fips</th>\n",
       "      <th>y_pred_transformer</th>\n",
       "      <th>y_pred_proba_transformer</th>\n",
       "      <th>y_true_transformer</th>\n",
       "      <th>y_pred_xgboost</th>\n",
       "      <th>y_pred_proba_xgboost</th>\n",
       "      <th>y_true_xgboost</th>\n",
       "      <th>y_pred_ffnn</th>\n",
       "      <th>y_pred_proba_ffnn</th>\n",
       "      <th>y_true_ffnn</th>\n",
       "      <th>iso3</th>\n",
       "    </tr>\n",
       "  </thead>\n",
       "  <tbody>\n",
       "    <tr>\n",
       "      <th>0</th>\n",
       "      <td>202211</td>\n",
       "      <td>FJ</td>\n",
       "      <td>False</td>\n",
       "      <td>0.183897</td>\n",
       "      <td>False</td>\n",
       "      <td>False</td>\n",
       "      <td>0.066500</td>\n",
       "      <td>False</td>\n",
       "      <td>False</td>\n",
       "      <td>0.409958</td>\n",
       "      <td>False</td>\n",
       "      <td>FJI</td>\n",
       "    </tr>\n",
       "    <tr>\n",
       "      <th>1</th>\n",
       "      <td>202212</td>\n",
       "      <td>FJ</td>\n",
       "      <td>False</td>\n",
       "      <td>0.267831</td>\n",
       "      <td>False</td>\n",
       "      <td>False</td>\n",
       "      <td>0.099643</td>\n",
       "      <td>False</td>\n",
       "      <td>False</td>\n",
       "      <td>0.406696</td>\n",
       "      <td>False</td>\n",
       "      <td>FJI</td>\n",
       "    </tr>\n",
       "    <tr>\n",
       "      <th>2</th>\n",
       "      <td>202211</td>\n",
       "      <td>TZ</td>\n",
       "      <td>False</td>\n",
       "      <td>0.482585</td>\n",
       "      <td>False</td>\n",
       "      <td>True</td>\n",
       "      <td>0.704086</td>\n",
       "      <td>True</td>\n",
       "      <td>True</td>\n",
       "      <td>0.545236</td>\n",
       "      <td>False</td>\n",
       "      <td>TZA</td>\n",
       "    </tr>\n",
       "    <tr>\n",
       "      <th>3</th>\n",
       "      <td>202212</td>\n",
       "      <td>TZ</td>\n",
       "      <td>False</td>\n",
       "      <td>0.187792</td>\n",
       "      <td>False</td>\n",
       "      <td>True</td>\n",
       "      <td>0.638444</td>\n",
       "      <td>True</td>\n",
       "      <td>True</td>\n",
       "      <td>0.534560</td>\n",
       "      <td>False</td>\n",
       "      <td>TZA</td>\n",
       "    </tr>\n",
       "    <tr>\n",
       "      <th>4</th>\n",
       "      <td>202301</td>\n",
       "      <td>TZ</td>\n",
       "      <td>True</td>\n",
       "      <td>0.539319</td>\n",
       "      <td>True</td>\n",
       "      <td>True</td>\n",
       "      <td>0.608380</td>\n",
       "      <td>False</td>\n",
       "      <td>True</td>\n",
       "      <td>0.538583</td>\n",
       "      <td>True</td>\n",
       "      <td>TZA</td>\n",
       "    </tr>\n",
       "    <tr>\n",
       "      <th>...</th>\n",
       "      <td>...</td>\n",
       "      <td>...</td>\n",
       "      <td>...</td>\n",
       "      <td>...</td>\n",
       "      <td>...</td>\n",
       "      <td>...</td>\n",
       "      <td>...</td>\n",
       "      <td>...</td>\n",
       "      <td>...</td>\n",
       "      <td>...</td>\n",
       "      <td>...</td>\n",
       "      <td>...</td>\n",
       "    </tr>\n",
       "    <tr>\n",
       "      <th>359</th>\n",
       "      <td>202211</td>\n",
       "      <td>MJ</td>\n",
       "      <td>False</td>\n",
       "      <td>0.182196</td>\n",
       "      <td>False</td>\n",
       "      <td>False</td>\n",
       "      <td>0.079453</td>\n",
       "      <td>False</td>\n",
       "      <td>False</td>\n",
       "      <td>0.291874</td>\n",
       "      <td>False</td>\n",
       "      <td>MNE</td>\n",
       "    </tr>\n",
       "    <tr>\n",
       "      <th>360</th>\n",
       "      <td>202212</td>\n",
       "      <td>MJ</td>\n",
       "      <td>False</td>\n",
       "      <td>0.203236</td>\n",
       "      <td>False</td>\n",
       "      <td>False</td>\n",
       "      <td>0.060189</td>\n",
       "      <td>False</td>\n",
       "      <td>False</td>\n",
       "      <td>0.300321</td>\n",
       "      <td>False</td>\n",
       "      <td>MNE</td>\n",
       "    </tr>\n",
       "    <tr>\n",
       "      <th>361</th>\n",
       "      <td>202211</td>\n",
       "      <td>TD</td>\n",
       "      <td>True</td>\n",
       "      <td>0.527107</td>\n",
       "      <td>False</td>\n",
       "      <td>True</td>\n",
       "      <td>0.697625</td>\n",
       "      <td>True</td>\n",
       "      <td>False</td>\n",
       "      <td>0.335496</td>\n",
       "      <td>False</td>\n",
       "      <td>TTO</td>\n",
       "    </tr>\n",
       "    <tr>\n",
       "      <th>362</th>\n",
       "      <td>202212</td>\n",
       "      <td>TD</td>\n",
       "      <td>True</td>\n",
       "      <td>0.555677</td>\n",
       "      <td>False</td>\n",
       "      <td>True</td>\n",
       "      <td>0.729246</td>\n",
       "      <td>False</td>\n",
       "      <td>False</td>\n",
       "      <td>0.324000</td>\n",
       "      <td>False</td>\n",
       "      <td>TTO</td>\n",
       "    </tr>\n",
       "    <tr>\n",
       "      <th>363</th>\n",
       "      <td>202301</td>\n",
       "      <td>TD</td>\n",
       "      <td>True</td>\n",
       "      <td>0.565700</td>\n",
       "      <td>True</td>\n",
       "      <td>True</td>\n",
       "      <td>0.591722</td>\n",
       "      <td>False</td>\n",
       "      <td>False</td>\n",
       "      <td>0.332455</td>\n",
       "      <td>True</td>\n",
       "      <td>TTO</td>\n",
       "    </tr>\n",
       "  </tbody>\n",
       "</table>\n",
       "<p>364 rows × 12 columns</p>\n",
       "</div>"
      ],
      "text/plain": [
       "     yearmonth fips  y_pred_transformer  y_pred_proba_transformer  \\\n",
       "0       202211   FJ               False                  0.183897   \n",
       "1       202212   FJ               False                  0.267831   \n",
       "2       202211   TZ               False                  0.482585   \n",
       "3       202212   TZ               False                  0.187792   \n",
       "4       202301   TZ                True                  0.539319   \n",
       "..         ...  ...                 ...                       ...   \n",
       "359     202211   MJ               False                  0.182196   \n",
       "360     202212   MJ               False                  0.203236   \n",
       "361     202211   TD                True                  0.527107   \n",
       "362     202212   TD                True                  0.555677   \n",
       "363     202301   TD                True                  0.565700   \n",
       "\n",
       "     y_true_transformer  y_pred_xgboost  y_pred_proba_xgboost  y_true_xgboost  \\\n",
       "0                 False           False              0.066500           False   \n",
       "1                 False           False              0.099643           False   \n",
       "2                 False            True              0.704086            True   \n",
       "3                 False            True              0.638444            True   \n",
       "4                  True            True              0.608380           False   \n",
       "..                  ...             ...                   ...             ...   \n",
       "359               False           False              0.079453           False   \n",
       "360               False           False              0.060189           False   \n",
       "361               False            True              0.697625            True   \n",
       "362               False            True              0.729246           False   \n",
       "363                True            True              0.591722           False   \n",
       "\n",
       "     y_pred_ffnn  y_pred_proba_ffnn  y_true_ffnn iso3  \n",
       "0          False           0.409958        False  FJI  \n",
       "1          False           0.406696        False  FJI  \n",
       "2           True           0.545236        False  TZA  \n",
       "3           True           0.534560        False  TZA  \n",
       "4           True           0.538583         True  TZA  \n",
       "..           ...                ...          ...  ...  \n",
       "359        False           0.291874        False  MNE  \n",
       "360        False           0.300321        False  MNE  \n",
       "361        False           0.335496        False  TTO  \n",
       "362        False           0.324000        False  TTO  \n",
       "363        False           0.332455         True  TTO  \n",
       "\n",
       "[364 rows x 12 columns]"
      ]
     },
     "execution_count": 3,
     "metadata": {},
     "output_type": "execute_result"
    }
   ],
   "source": [
    "df_preds"
   ]
  },
  {
   "cell_type": "code",
   "execution_count": 4,
   "id": "af60ae2b",
   "metadata": {},
   "outputs": [
    {
     "data": {
      "text/html": [
       "<div>\n",
       "<style scoped>\n",
       "    .dataframe tbody tr th:only-of-type {\n",
       "        vertical-align: middle;\n",
       "    }\n",
       "\n",
       "    .dataframe tbody tr th {\n",
       "        vertical-align: top;\n",
       "    }\n",
       "\n",
       "    .dataframe thead th {\n",
       "        text-align: right;\n",
       "    }\n",
       "</style>\n",
       "<table border=\"1\" class=\"dataframe\">\n",
       "  <thead>\n",
       "    <tr style=\"text-align: right;\">\n",
       "      <th></th>\n",
       "      <th>yearmonth</th>\n",
       "      <th>fips</th>\n",
       "      <th>y_pred_transformer</th>\n",
       "      <th>y_pred_proba_transformer</th>\n",
       "      <th>y_true_transformer</th>\n",
       "      <th>y_pred_xgboost</th>\n",
       "      <th>y_pred_proba_xgboost</th>\n",
       "      <th>y_true_xgboost</th>\n",
       "      <th>y_pred_ffnn</th>\n",
       "      <th>y_pred_proba_ffnn</th>\n",
       "      <th>...</th>\n",
       "      <th>fsi_e3:_human_flight_and_brain_drain</th>\n",
       "      <th>fsi_e2:_economic_inequality</th>\n",
       "      <th>fsi_e1:_economy</th>\n",
       "      <th>fsi_p1:_state_legitimacy</th>\n",
       "      <th>fsi_p2:_public_services</th>\n",
       "      <th>fsi_p3:_human_rights</th>\n",
       "      <th>fsi_c1:_security_apparatus</th>\n",
       "      <th>fsi_c2:_factionalized_elites</th>\n",
       "      <th>fsi_x1:_external_intervention</th>\n",
       "      <th>fsi_category</th>\n",
       "    </tr>\n",
       "  </thead>\n",
       "  <tbody>\n",
       "    <tr>\n",
       "      <th>0</th>\n",
       "      <td>202211</td>\n",
       "      <td>FJ</td>\n",
       "      <td>False</td>\n",
       "      <td>0.183897</td>\n",
       "      <td>False</td>\n",
       "      <td>False</td>\n",
       "      <td>0.066500</td>\n",
       "      <td>False</td>\n",
       "      <td>False</td>\n",
       "      <td>0.409958</td>\n",
       "      <td>...</td>\n",
       "      <td>7.6</td>\n",
       "      <td>5.0</td>\n",
       "      <td>7.5</td>\n",
       "      <td>6.1</td>\n",
       "      <td>4.2</td>\n",
       "      <td>5.4</td>\n",
       "      <td>6.4</td>\n",
       "      <td>8.2</td>\n",
       "      <td>6.6</td>\n",
       "      <td>Warning</td>\n",
       "    </tr>\n",
       "    <tr>\n",
       "      <th>1</th>\n",
       "      <td>202212</td>\n",
       "      <td>FJ</td>\n",
       "      <td>False</td>\n",
       "      <td>0.267831</td>\n",
       "      <td>False</td>\n",
       "      <td>False</td>\n",
       "      <td>0.099643</td>\n",
       "      <td>False</td>\n",
       "      <td>False</td>\n",
       "      <td>0.406696</td>\n",
       "      <td>...</td>\n",
       "      <td>7.6</td>\n",
       "      <td>5.0</td>\n",
       "      <td>7.5</td>\n",
       "      <td>6.1</td>\n",
       "      <td>4.2</td>\n",
       "      <td>5.4</td>\n",
       "      <td>6.4</td>\n",
       "      <td>8.2</td>\n",
       "      <td>6.6</td>\n",
       "      <td>Warning</td>\n",
       "    </tr>\n",
       "    <tr>\n",
       "      <th>2</th>\n",
       "      <td>202211</td>\n",
       "      <td>TZ</td>\n",
       "      <td>False</td>\n",
       "      <td>0.482585</td>\n",
       "      <td>False</td>\n",
       "      <td>True</td>\n",
       "      <td>0.704086</td>\n",
       "      <td>True</td>\n",
       "      <td>True</td>\n",
       "      <td>0.545236</td>\n",
       "      <td>...</td>\n",
       "      <td>6.4</td>\n",
       "      <td>7.3</td>\n",
       "      <td>6.2</td>\n",
       "      <td>6.9</td>\n",
       "      <td>8.4</td>\n",
       "      <td>5.6</td>\n",
       "      <td>4.6</td>\n",
       "      <td>6.5</td>\n",
       "      <td>6.0</td>\n",
       "      <td>Warning</td>\n",
       "    </tr>\n",
       "    <tr>\n",
       "      <th>3</th>\n",
       "      <td>202212</td>\n",
       "      <td>TZ</td>\n",
       "      <td>False</td>\n",
       "      <td>0.187792</td>\n",
       "      <td>False</td>\n",
       "      <td>True</td>\n",
       "      <td>0.638444</td>\n",
       "      <td>True</td>\n",
       "      <td>True</td>\n",
       "      <td>0.534560</td>\n",
       "      <td>...</td>\n",
       "      <td>6.4</td>\n",
       "      <td>7.3</td>\n",
       "      <td>6.2</td>\n",
       "      <td>6.9</td>\n",
       "      <td>8.4</td>\n",
       "      <td>5.6</td>\n",
       "      <td>4.6</td>\n",
       "      <td>6.5</td>\n",
       "      <td>6.0</td>\n",
       "      <td>Warning</td>\n",
       "    </tr>\n",
       "    <tr>\n",
       "      <th>4</th>\n",
       "      <td>202301</td>\n",
       "      <td>TZ</td>\n",
       "      <td>True</td>\n",
       "      <td>0.539319</td>\n",
       "      <td>True</td>\n",
       "      <td>True</td>\n",
       "      <td>0.608380</td>\n",
       "      <td>False</td>\n",
       "      <td>True</td>\n",
       "      <td>0.538583</td>\n",
       "      <td>...</td>\n",
       "      <td>6.4</td>\n",
       "      <td>7.3</td>\n",
       "      <td>6.2</td>\n",
       "      <td>6.9</td>\n",
       "      <td>8.4</td>\n",
       "      <td>5.6</td>\n",
       "      <td>4.6</td>\n",
       "      <td>6.5</td>\n",
       "      <td>6.0</td>\n",
       "      <td>Warning</td>\n",
       "    </tr>\n",
       "    <tr>\n",
       "      <th>...</th>\n",
       "      <td>...</td>\n",
       "      <td>...</td>\n",
       "      <td>...</td>\n",
       "      <td>...</td>\n",
       "      <td>...</td>\n",
       "      <td>...</td>\n",
       "      <td>...</td>\n",
       "      <td>...</td>\n",
       "      <td>...</td>\n",
       "      <td>...</td>\n",
       "      <td>...</td>\n",
       "      <td>...</td>\n",
       "      <td>...</td>\n",
       "      <td>...</td>\n",
       "      <td>...</td>\n",
       "      <td>...</td>\n",
       "      <td>...</td>\n",
       "      <td>...</td>\n",
       "      <td>...</td>\n",
       "      <td>...</td>\n",
       "      <td>...</td>\n",
       "    </tr>\n",
       "    <tr>\n",
       "      <th>359</th>\n",
       "      <td>202211</td>\n",
       "      <td>MJ</td>\n",
       "      <td>False</td>\n",
       "      <td>0.182196</td>\n",
       "      <td>False</td>\n",
       "      <td>False</td>\n",
       "      <td>0.079453</td>\n",
       "      <td>False</td>\n",
       "      <td>False</td>\n",
       "      <td>0.291874</td>\n",
       "      <td>...</td>\n",
       "      <td>5.4</td>\n",
       "      <td>2.4</td>\n",
       "      <td>5.8</td>\n",
       "      <td>3.9</td>\n",
       "      <td>3.8</td>\n",
       "      <td>2.9</td>\n",
       "      <td>4.0</td>\n",
       "      <td>6.5</td>\n",
       "      <td>6.3</td>\n",
       "      <td>Stable</td>\n",
       "    </tr>\n",
       "    <tr>\n",
       "      <th>360</th>\n",
       "      <td>202212</td>\n",
       "      <td>MJ</td>\n",
       "      <td>False</td>\n",
       "      <td>0.203236</td>\n",
       "      <td>False</td>\n",
       "      <td>False</td>\n",
       "      <td>0.060189</td>\n",
       "      <td>False</td>\n",
       "      <td>False</td>\n",
       "      <td>0.300321</td>\n",
       "      <td>...</td>\n",
       "      <td>5.4</td>\n",
       "      <td>2.4</td>\n",
       "      <td>5.8</td>\n",
       "      <td>3.9</td>\n",
       "      <td>3.8</td>\n",
       "      <td>2.9</td>\n",
       "      <td>4.0</td>\n",
       "      <td>6.5</td>\n",
       "      <td>6.3</td>\n",
       "      <td>Stable</td>\n",
       "    </tr>\n",
       "    <tr>\n",
       "      <th>361</th>\n",
       "      <td>202211</td>\n",
       "      <td>TD</td>\n",
       "      <td>True</td>\n",
       "      <td>0.527107</td>\n",
       "      <td>False</td>\n",
       "      <td>True</td>\n",
       "      <td>0.697625</td>\n",
       "      <td>True</td>\n",
       "      <td>False</td>\n",
       "      <td>0.335496</td>\n",
       "      <td>...</td>\n",
       "      <td>6.8</td>\n",
       "      <td>4.7</td>\n",
       "      <td>3.9</td>\n",
       "      <td>3.5</td>\n",
       "      <td>4.3</td>\n",
       "      <td>3.5</td>\n",
       "      <td>7.3</td>\n",
       "      <td>5.6</td>\n",
       "      <td>3.3</td>\n",
       "      <td>Stable</td>\n",
       "    </tr>\n",
       "    <tr>\n",
       "      <th>362</th>\n",
       "      <td>202212</td>\n",
       "      <td>TD</td>\n",
       "      <td>True</td>\n",
       "      <td>0.555677</td>\n",
       "      <td>False</td>\n",
       "      <td>True</td>\n",
       "      <td>0.729246</td>\n",
       "      <td>False</td>\n",
       "      <td>False</td>\n",
       "      <td>0.324000</td>\n",
       "      <td>...</td>\n",
       "      <td>6.8</td>\n",
       "      <td>4.7</td>\n",
       "      <td>3.9</td>\n",
       "      <td>3.5</td>\n",
       "      <td>4.3</td>\n",
       "      <td>3.5</td>\n",
       "      <td>7.3</td>\n",
       "      <td>5.6</td>\n",
       "      <td>3.3</td>\n",
       "      <td>Stable</td>\n",
       "    </tr>\n",
       "    <tr>\n",
       "      <th>363</th>\n",
       "      <td>202301</td>\n",
       "      <td>TD</td>\n",
       "      <td>True</td>\n",
       "      <td>0.565700</td>\n",
       "      <td>True</td>\n",
       "      <td>True</td>\n",
       "      <td>0.591722</td>\n",
       "      <td>False</td>\n",
       "      <td>False</td>\n",
       "      <td>0.332455</td>\n",
       "      <td>...</td>\n",
       "      <td>6.8</td>\n",
       "      <td>4.7</td>\n",
       "      <td>3.9</td>\n",
       "      <td>3.5</td>\n",
       "      <td>4.3</td>\n",
       "      <td>3.5</td>\n",
       "      <td>7.3</td>\n",
       "      <td>5.6</td>\n",
       "      <td>3.3</td>\n",
       "      <td>Stable</td>\n",
       "    </tr>\n",
       "  </tbody>\n",
       "</table>\n",
       "<p>364 rows × 1343 columns</p>\n",
       "</div>"
      ],
      "text/plain": [
       "     yearmonth fips  y_pred_transformer  y_pred_proba_transformer  \\\n",
       "0       202211   FJ               False                  0.183897   \n",
       "1       202212   FJ               False                  0.267831   \n",
       "2       202211   TZ               False                  0.482585   \n",
       "3       202212   TZ               False                  0.187792   \n",
       "4       202301   TZ                True                  0.539319   \n",
       "..         ...  ...                 ...                       ...   \n",
       "359     202211   MJ               False                  0.182196   \n",
       "360     202212   MJ               False                  0.203236   \n",
       "361     202211   TD                True                  0.527107   \n",
       "362     202212   TD                True                  0.555677   \n",
       "363     202301   TD                True                  0.565700   \n",
       "\n",
       "     y_true_transformer  y_pred_xgboost  y_pred_proba_xgboost  y_true_xgboost  \\\n",
       "0                 False           False              0.066500           False   \n",
       "1                 False           False              0.099643           False   \n",
       "2                 False            True              0.704086            True   \n",
       "3                 False            True              0.638444            True   \n",
       "4                  True            True              0.608380           False   \n",
       "..                  ...             ...                   ...             ...   \n",
       "359               False           False              0.079453           False   \n",
       "360               False           False              0.060189           False   \n",
       "361               False            True              0.697625            True   \n",
       "362               False            True              0.729246           False   \n",
       "363                True            True              0.591722           False   \n",
       "\n",
       "     y_pred_ffnn  y_pred_proba_ffnn  ...  \\\n",
       "0          False           0.409958  ...   \n",
       "1          False           0.406696  ...   \n",
       "2           True           0.545236  ...   \n",
       "3           True           0.534560  ...   \n",
       "4           True           0.538583  ...   \n",
       "..           ...                ...  ...   \n",
       "359        False           0.291874  ...   \n",
       "360        False           0.300321  ...   \n",
       "361        False           0.335496  ...   \n",
       "362        False           0.324000  ...   \n",
       "363        False           0.332455  ...   \n",
       "\n",
       "     fsi_e3:_human_flight_and_brain_drain fsi_e2:_economic_inequality  \\\n",
       "0                                     7.6                         5.0   \n",
       "1                                     7.6                         5.0   \n",
       "2                                     6.4                         7.3   \n",
       "3                                     6.4                         7.3   \n",
       "4                                     6.4                         7.3   \n",
       "..                                    ...                         ...   \n",
       "359                                   5.4                         2.4   \n",
       "360                                   5.4                         2.4   \n",
       "361                                   6.8                         4.7   \n",
       "362                                   6.8                         4.7   \n",
       "363                                   6.8                         4.7   \n",
       "\n",
       "     fsi_e1:_economy  fsi_p1:_state_legitimacy  fsi_p2:_public_services  \\\n",
       "0                7.5                       6.1                      4.2   \n",
       "1                7.5                       6.1                      4.2   \n",
       "2                6.2                       6.9                      8.4   \n",
       "3                6.2                       6.9                      8.4   \n",
       "4                6.2                       6.9                      8.4   \n",
       "..               ...                       ...                      ...   \n",
       "359              5.8                       3.9                      3.8   \n",
       "360              5.8                       3.9                      3.8   \n",
       "361              3.9                       3.5                      4.3   \n",
       "362              3.9                       3.5                      4.3   \n",
       "363              3.9                       3.5                      4.3   \n",
       "\n",
       "     fsi_p3:_human_rights  fsi_c1:_security_apparatus  \\\n",
       "0                     5.4                         6.4   \n",
       "1                     5.4                         6.4   \n",
       "2                     5.6                         4.6   \n",
       "3                     5.6                         4.6   \n",
       "4                     5.6                         4.6   \n",
       "..                    ...                         ...   \n",
       "359                   2.9                         4.0   \n",
       "360                   2.9                         4.0   \n",
       "361                   3.5                         7.3   \n",
       "362                   3.5                         7.3   \n",
       "363                   3.5                         7.3   \n",
       "\n",
       "     fsi_c2:_factionalized_elites  fsi_x1:_external_intervention  fsi_category  \n",
       "0                             8.2                            6.6       Warning  \n",
       "1                             8.2                            6.6       Warning  \n",
       "2                             6.5                            6.0       Warning  \n",
       "3                             6.5                            6.0       Warning  \n",
       "4                             6.5                            6.0       Warning  \n",
       "..                            ...                            ...           ...  \n",
       "359                           6.5                            6.3        Stable  \n",
       "360                           6.5                            6.3        Stable  \n",
       "361                           5.6                            3.3        Stable  \n",
       "362                           5.6                            3.3        Stable  \n",
       "363                           5.6                            3.3        Stable  \n",
       "\n",
       "[364 rows x 1343 columns]"
      ]
     },
     "execution_count": 4,
     "metadata": {},
     "output_type": "execute_result"
    }
   ],
   "source": [
    "df = df_preds.merge(df_indicators, left_on='iso3', right_on='iso3', how='inner')\n",
    "df"
   ]
  },
  {
   "cell_type": "code",
   "execution_count": 11,
   "id": "027dc65a",
   "metadata": {},
   "outputs": [
    {
     "data": {
      "text/html": [
       "<style type=\"text/css\">\n",
       "#T_5d41a_row0_col2 {\n",
       "  background-color: #3f9f3f;\n",
       "  color: #f1f1f1;\n",
       "}\n",
       "#T_5d41a_row1_col2 {\n",
       "  background-color: #008000;\n",
       "  color: #f1f1f1;\n",
       "}\n",
       "#T_5d41a_row2_col2 {\n",
       "  background-color: #2a952a;\n",
       "  color: #f1f1f1;\n",
       "}\n",
       "#T_5d41a_row3_col2, #T_5d41a_row6_col2, #T_5d41a_row7_col2 {\n",
       "  background-color: #ebf3eb;\n",
       "  color: #000000;\n",
       "}\n",
       "#T_5d41a_row4_col2 {\n",
       "  background-color: #83c083;\n",
       "  color: #000000;\n",
       "}\n",
       "#T_5d41a_row5_col2 {\n",
       "  background-color: #9ccd9c;\n",
       "  color: #000000;\n",
       "}\n",
       "#T_5d41a_row8_col2 {\n",
       "  background-color: #75b975;\n",
       "  color: #f1f1f1;\n",
       "}\n",
       "#T_5d41a_row9_col2 {\n",
       "  background-color: #7cbd7c;\n",
       "  color: #000000;\n",
       "}\n",
       "#T_5d41a_row10_col2 {\n",
       "  background-color: #3e9e3e;\n",
       "  color: #f1f1f1;\n",
       "}\n",
       "#T_5d41a_row11_col2 {\n",
       "  background-color: #5fae5f;\n",
       "  color: #f1f1f1;\n",
       "}\n",
       "</style>\n",
       "<table id=\"T_5d41a\">\n",
       "  <thead>\n",
       "    <tr>\n",
       "      <th id=\"T_5d41a_level0_col0\" class=\"col_heading level0 col0\" >model</th>\n",
       "      <th id=\"T_5d41a_level0_col1\" class=\"col_heading level0 col1\" >fsi_category</th>\n",
       "      <th id=\"T_5d41a_level0_col2\" class=\"col_heading level0 col2\" >recall_score</th>\n",
       "    </tr>\n",
       "  </thead>\n",
       "  <tbody>\n",
       "    <tr>\n",
       "      <td id=\"T_5d41a_row0_col0\" class=\"data row0 col0\" >ffnn</td>\n",
       "      <td id=\"T_5d41a_row0_col1\" class=\"data row0 col1\" >Alert</td>\n",
       "      <td id=\"T_5d41a_row0_col2\" class=\"data row0 col2\" >0.727</td>\n",
       "    </tr>\n",
       "    <tr>\n",
       "      <td id=\"T_5d41a_row1_col0\" class=\"data row1 col0\" >xgboost</td>\n",
       "      <td id=\"T_5d41a_row1_col1\" class=\"data row1 col1\" >Alert</td>\n",
       "      <td id=\"T_5d41a_row1_col2\" class=\"data row1 col2\" >1.000</td>\n",
       "    </tr>\n",
       "    <tr>\n",
       "      <td id=\"T_5d41a_row2_col0\" class=\"data row2 col0\" >transformer</td>\n",
       "      <td id=\"T_5d41a_row2_col1\" class=\"data row2 col1\" >Alert</td>\n",
       "      <td id=\"T_5d41a_row2_col2\" class=\"data row2 col2\" >0.818</td>\n",
       "    </tr>\n",
       "    <tr>\n",
       "      <td id=\"T_5d41a_row3_col0\" class=\"data row3 col0\" >ffnn</td>\n",
       "      <td id=\"T_5d41a_row3_col1\" class=\"data row3 col1\" >Stable</td>\n",
       "      <td id=\"T_5d41a_row3_col2\" class=\"data row3 col2\" >0.000</td>\n",
       "    </tr>\n",
       "    <tr>\n",
       "      <td id=\"T_5d41a_row4_col0\" class=\"data row4 col0\" >xgboost</td>\n",
       "      <td id=\"T_5d41a_row4_col1\" class=\"data row4 col1\" >Stable</td>\n",
       "      <td id=\"T_5d41a_row4_col2\" class=\"data row4 col2\" >0.444</td>\n",
       "    </tr>\n",
       "    <tr>\n",
       "      <td id=\"T_5d41a_row5_col0\" class=\"data row5 col0\" >transformer</td>\n",
       "      <td id=\"T_5d41a_row5_col1\" class=\"data row5 col1\" >Stable</td>\n",
       "      <td id=\"T_5d41a_row5_col2\" class=\"data row5 col2\" >0.333</td>\n",
       "    </tr>\n",
       "    <tr>\n",
       "      <td id=\"T_5d41a_row6_col0\" class=\"data row6 col0\" >ffnn</td>\n",
       "      <td id=\"T_5d41a_row6_col1\" class=\"data row6 col1\" >Sustainable</td>\n",
       "      <td id=\"T_5d41a_row6_col2\" class=\"data row6 col2\" >0.000</td>\n",
       "    </tr>\n",
       "    <tr>\n",
       "      <td id=\"T_5d41a_row7_col0\" class=\"data row7 col0\" >xgboost</td>\n",
       "      <td id=\"T_5d41a_row7_col1\" class=\"data row7 col1\" >Sustainable</td>\n",
       "      <td id=\"T_5d41a_row7_col2\" class=\"data row7 col2\" >0.000</td>\n",
       "    </tr>\n",
       "    <tr>\n",
       "      <td id=\"T_5d41a_row8_col0\" class=\"data row8 col0\" >transformer</td>\n",
       "      <td id=\"T_5d41a_row8_col1\" class=\"data row8 col1\" >Sustainable</td>\n",
       "      <td id=\"T_5d41a_row8_col2\" class=\"data row8 col2\" >0.500</td>\n",
       "    </tr>\n",
       "    <tr>\n",
       "      <td id=\"T_5d41a_row9_col0\" class=\"data row9 col0\" >ffnn</td>\n",
       "      <td id=\"T_5d41a_row9_col1\" class=\"data row9 col1\" >Warning</td>\n",
       "      <td id=\"T_5d41a_row9_col2\" class=\"data row9 col2\" >0.469</td>\n",
       "    </tr>\n",
       "    <tr>\n",
       "      <td id=\"T_5d41a_row10_col0\" class=\"data row10 col0\" >xgboost</td>\n",
       "      <td id=\"T_5d41a_row10_col1\" class=\"data row10 col1\" >Warning</td>\n",
       "      <td id=\"T_5d41a_row10_col2\" class=\"data row10 col2\" >0.735</td>\n",
       "    </tr>\n",
       "    <tr>\n",
       "      <td id=\"T_5d41a_row11_col0\" class=\"data row11 col0\" >transformer</td>\n",
       "      <td id=\"T_5d41a_row11_col1\" class=\"data row11 col1\" >Warning</td>\n",
       "      <td id=\"T_5d41a_row11_col2\" class=\"data row11 col2\" >0.594</td>\n",
       "    </tr>\n",
       "  </tbody>\n",
       "</table>\n"
      ],
      "text/plain": [
       "<pandas.io.formats.style.Styler at 0x7f8cbb2bfee0>"
      ]
     },
     "execution_count": 11,
     "metadata": {},
     "output_type": "execute_result"
    }
   ],
   "source": [
    "import numpy as np\n",
    "from sklearn import metrics\n",
    "import seaborn as sns\n",
    "\n",
    "column_defining_groups = 'fsi_category'\n",
    "chosen_metric = 'recall_score'\n",
    "metric_function = getattr(metrics, chosen_metric)\n",
    "\n",
    "chosen_metric_for_chosen_groups = list()\n",
    "chosen_metric_back_into_original_data = {'ffnn': pd.Series(index=df.index, dtype=np.float64), \n",
    "                                         'xgboost': pd.Series(index=df.index, dtype=np.float64), \n",
    "                                         'transformer': pd.Series(index=df.index, dtype=np.float64)}\n",
    "    \n",
    "for g, rows in df.groupby(column_defining_groups):\n",
    "    for model in ['ffnn', 'xgboost', 'transformer']:        \n",
    "        chosen_metric_value = metric_function(rows[f\"y_true_{model}\"], rows[f\"y_pred_{model}\"])\n",
    "        chosen_metric_back_into_original_data[model][rows.index] = chosen_metric_value\n",
    "        chosen_metric_for_chosen_groups.append((model, g, chosen_metric_value))\n",
    "\n",
    "cm_bigger_better = sns.light_palette(\"green\", as_cmap=True)\n",
    "styler = (pd.DataFrame(chosen_metric_for_chosen_groups, \n",
    "                        columns=('model', column_defining_groups, chosen_metric))\n",
    "            .sort_values(column_defining_groups).style\n",
    "            .background_gradient(cmap=cm_bigger_better)\n",
    "            .format(precision=3).hide(axis=\"index\"))\n",
    "styler"
   ]
  },
  {
   "cell_type": "code",
   "execution_count": 12,
   "id": "44708b82",
   "metadata": {},
   "outputs": [
    {
     "data": {
      "application/vnd.plotly.v1+json": {
       "config": {
        "plotlyServerURL": "https://plot.ly"
       },
       "data": [
        {
         "autocolorscale": false,
         "colorbar": {
          "tickprefix": "",
          "title": {
           "text": "ffnn recall_score"
          }
         },
         "colorscale": [
          [
           0,
           "rgb(255,245,240)"
          ],
          [
           0.125,
           "rgb(254,224,210)"
          ],
          [
           0.25,
           "rgb(252,187,161)"
          ],
          [
           0.375,
           "rgb(252,146,114)"
          ],
          [
           0.5,
           "rgb(251,106,74)"
          ],
          [
           0.625,
           "rgb(239,59,44)"
          ],
          [
           0.75,
           "rgb(203,24,29)"
          ],
          [
           0.875,
           "rgb(165,15,21)"
          ],
          [
           1,
           "rgb(103,0,13)"
          ]
         ],
         "locations": [
          "FJI",
          "FJI",
          "TZA",
          "TZA",
          "TZA",
          "CAN",
          "CAN",
          "USA",
          "USA",
          "USA",
          "KAZ",
          "KAZ",
          "KAZ",
          "UZB",
          "UZB",
          "UZB",
          "IDN",
          "IDN",
          "IDN",
          "ARG",
          "ARG",
          "ARG",
          "CHL",
          "CHL",
          "CHL",
          "SOM",
          "SOM",
          "SOM",
          "KEN",
          "KEN",
          "KEN",
          "SDN",
          "SDN",
          "SDN",
          "TCD",
          "TCD",
          "TCD",
          "HTI",
          "HTI",
          "HTI",
          "RUS",
          "RUS",
          "RUS",
          "NOR",
          "NOR",
          "ZAF",
          "ZAF",
          "ZAF",
          "LSO",
          "LSO",
          "LSO",
          "MEX",
          "MEX",
          "MEX",
          "URY",
          "URY",
          "BRA",
          "BRA",
          "BRA",
          "BOL",
          "BOL",
          "BOL",
          "PER",
          "PER",
          "PER",
          "COL",
          "COL",
          "COL",
          "PAN",
          "PAN",
          "NIC",
          "NIC",
          "NIC",
          "HND",
          "HND",
          "HND",
          "SLV",
          "SLV",
          "SLV",
          "GTM",
          "GTM",
          "GTM",
          "BLZ",
          "BLZ",
          "BLZ",
          "GUY",
          "GUY",
          "GUY",
          "SUR",
          "SUR",
          "FRA",
          "FRA",
          "FRA",
          "ECU",
          "ECU",
          "ECU",
          "JAM",
          "JAM",
          "JAM",
          "CUB",
          "CUB",
          "CUB",
          "ZWE",
          "ZWE",
          "ZWE",
          "BWA",
          "BWA",
          "BWA",
          "NAM",
          "NAM",
          "NAM",
          "SEN",
          "SEN",
          "SEN",
          "MLI",
          "MLI",
          "MLI",
          "MRT",
          "MRT",
          "BEN",
          "BEN",
          "BEN",
          "NER",
          "NER",
          "NER",
          "NGA",
          "NGA",
          "NGA",
          "CMR",
          "CMR",
          "CMR",
          "TGO",
          "TGO",
          "TGO",
          "GHA",
          "GHA",
          "GHA",
          "CIV",
          "GIN",
          "GIN",
          "GIN",
          "LBR",
          "LBR",
          "LBR",
          "BFA",
          "BFA",
          "BFA",
          "GAB",
          "GAB",
          "ZMB",
          "ZMB",
          "ZMB",
          "MWI",
          "MWI",
          "MWI",
          "MOZ",
          "MOZ",
          "MOZ",
          "AGO",
          "AGO",
          "AGO",
          "BDI",
          "BDI",
          "ISR",
          "ISR",
          "ISR",
          "LBN",
          "LBN",
          "LBN",
          "MDG",
          "MDG",
          "MDG",
          "TUN",
          "TUN",
          "DZA",
          "DZA",
          "DZA",
          "JOR",
          "JOR",
          "JOR",
          "QAT",
          "QAT",
          "KWT",
          "KWT",
          "IRQ",
          "IRQ",
          "IRQ",
          "OMN",
          "OMN",
          "KHM",
          "KHM",
          "THA",
          "THA",
          "THA",
          "MMR",
          "MMR",
          "MMR",
          "VNM",
          "VNM",
          "MNG",
          "MNG",
          "IND",
          "IND",
          "IND",
          "BGD",
          "BGD",
          "BGD",
          "BTN",
          "BTN",
          "NPL",
          "NPL",
          "NPL",
          "PAK",
          "PAK",
          "PAK",
          "AFG",
          "AFG",
          "AFG",
          "TJK",
          "TJK",
          "KGZ",
          "KGZ",
          "KGZ",
          "TKM",
          "TKM",
          "SYR",
          "SYR",
          "SYR",
          "ARM",
          "ARM",
          "ARM",
          "SWE",
          "SWE",
          "BLR",
          "BLR",
          "BLR",
          "UKR",
          "UKR",
          "UKR",
          "POL",
          "POL",
          "AUT",
          "AUT",
          "HUN",
          "HUN",
          "HUN",
          "MDA",
          "MDA",
          "MDA",
          "ROU",
          "ROU",
          "LTU",
          "LTU",
          "LVA",
          "LVA",
          "EST",
          "EST",
          "DEU",
          "DEU",
          "DEU",
          "BGR",
          "BGR",
          "GRC",
          "GRC",
          "GRC",
          "ALB",
          "ALB",
          "HRV",
          "HRV",
          "CHE",
          "CHE",
          "LUX",
          "LUX",
          "BEL",
          "BEL",
          "NLD",
          "NLD",
          "PRT",
          "PRT",
          "ESP",
          "ESP",
          "ESP",
          "IRL",
          "IRL",
          "IRL",
          "AUS",
          "AUS",
          "LKA",
          "LKA",
          "LKA",
          "CHN",
          "CHN",
          "CHN",
          "ITA",
          "ITA",
          "ITA",
          "DNK",
          "DNK",
          "GBR",
          "GBR",
          "ISL",
          "ISL",
          "AZE",
          "AZE",
          "AZE",
          "GEO",
          "GEO",
          "GEO",
          "PHL",
          "PHL",
          "PHL",
          "MYS",
          "MYS",
          "BRN",
          "BRN",
          "SVN",
          "SVN",
          "FIN",
          "FIN",
          "SVK",
          "SVK",
          "CZE",
          "CZE",
          "CZE",
          "ERI",
          "ERI",
          "JPN",
          "JPN",
          "PRY",
          "PRY",
          "PRY",
          "SAU",
          "SAU",
          "SAU",
          "CYP",
          "CYP",
          "CYP",
          "MAR",
          "MAR",
          "MAR",
          "LBY",
          "LBY",
          "LBY",
          "ETH",
          "ETH",
          "ETH",
          "DJI",
          "UGA",
          "UGA",
          "UGA",
          "RWA",
          "RWA",
          "RWA",
          "MKD",
          "MKD",
          "MKD",
          "SRB",
          "SRB",
          "SRB",
          "MNE",
          "MNE",
          "TTO",
          "TTO",
          "TTO"
         ],
         "marker": {
          "line": {
           "color": "darkgray",
           "width": 0.5
          }
         },
         "reversescale": false,
         "text": [
          "FJI",
          "FJI",
          "TZA",
          "TZA",
          "TZA",
          "CAN",
          "CAN",
          "USA",
          "USA",
          "USA",
          "KAZ",
          "KAZ",
          "KAZ",
          "UZB",
          "UZB",
          "UZB",
          "IDN",
          "IDN",
          "IDN",
          "ARG",
          "ARG",
          "ARG",
          "CHL",
          "CHL",
          "CHL",
          "SOM",
          "SOM",
          "SOM",
          "KEN",
          "KEN",
          "KEN",
          "SDN",
          "SDN",
          "SDN",
          "TCD",
          "TCD",
          "TCD",
          "HTI",
          "HTI",
          "HTI",
          "RUS",
          "RUS",
          "RUS",
          "NOR",
          "NOR",
          "ZAF",
          "ZAF",
          "ZAF",
          "LSO",
          "LSO",
          "LSO",
          "MEX",
          "MEX",
          "MEX",
          "URY",
          "URY",
          "BRA",
          "BRA",
          "BRA",
          "BOL",
          "BOL",
          "BOL",
          "PER",
          "PER",
          "PER",
          "COL",
          "COL",
          "COL",
          "PAN",
          "PAN",
          "NIC",
          "NIC",
          "NIC",
          "HND",
          "HND",
          "HND",
          "SLV",
          "SLV",
          "SLV",
          "GTM",
          "GTM",
          "GTM",
          "BLZ",
          "BLZ",
          "BLZ",
          "GUY",
          "GUY",
          "GUY",
          "SUR",
          "SUR",
          "FRA",
          "FRA",
          "FRA",
          "ECU",
          "ECU",
          "ECU",
          "JAM",
          "JAM",
          "JAM",
          "CUB",
          "CUB",
          "CUB",
          "ZWE",
          "ZWE",
          "ZWE",
          "BWA",
          "BWA",
          "BWA",
          "NAM",
          "NAM",
          "NAM",
          "SEN",
          "SEN",
          "SEN",
          "MLI",
          "MLI",
          "MLI",
          "MRT",
          "MRT",
          "BEN",
          "BEN",
          "BEN",
          "NER",
          "NER",
          "NER",
          "NGA",
          "NGA",
          "NGA",
          "CMR",
          "CMR",
          "CMR",
          "TGO",
          "TGO",
          "TGO",
          "GHA",
          "GHA",
          "GHA",
          "CIV",
          "GIN",
          "GIN",
          "GIN",
          "LBR",
          "LBR",
          "LBR",
          "BFA",
          "BFA",
          "BFA",
          "GAB",
          "GAB",
          "ZMB",
          "ZMB",
          "ZMB",
          "MWI",
          "MWI",
          "MWI",
          "MOZ",
          "MOZ",
          "MOZ",
          "AGO",
          "AGO",
          "AGO",
          "BDI",
          "BDI",
          "ISR",
          "ISR",
          "ISR",
          "LBN",
          "LBN",
          "LBN",
          "MDG",
          "MDG",
          "MDG",
          "TUN",
          "TUN",
          "DZA",
          "DZA",
          "DZA",
          "JOR",
          "JOR",
          "JOR",
          "QAT",
          "QAT",
          "KWT",
          "KWT",
          "IRQ",
          "IRQ",
          "IRQ",
          "OMN",
          "OMN",
          "KHM",
          "KHM",
          "THA",
          "THA",
          "THA",
          "MMR",
          "MMR",
          "MMR",
          "VNM",
          "VNM",
          "MNG",
          "MNG",
          "IND",
          "IND",
          "IND",
          "BGD",
          "BGD",
          "BGD",
          "BTN",
          "BTN",
          "NPL",
          "NPL",
          "NPL",
          "PAK",
          "PAK",
          "PAK",
          "AFG",
          "AFG",
          "AFG",
          "TJK",
          "TJK",
          "KGZ",
          "KGZ",
          "KGZ",
          "TKM",
          "TKM",
          "SYR",
          "SYR",
          "SYR",
          "ARM",
          "ARM",
          "ARM",
          "SWE",
          "SWE",
          "BLR",
          "BLR",
          "BLR",
          "UKR",
          "UKR",
          "UKR",
          "POL",
          "POL",
          "AUT",
          "AUT",
          "HUN",
          "HUN",
          "HUN",
          "MDA",
          "MDA",
          "MDA",
          "ROU",
          "ROU",
          "LTU",
          "LTU",
          "LVA",
          "LVA",
          "EST",
          "EST",
          "DEU",
          "DEU",
          "DEU",
          "BGR",
          "BGR",
          "GRC",
          "GRC",
          "GRC",
          "ALB",
          "ALB",
          "HRV",
          "HRV",
          "CHE",
          "CHE",
          "LUX",
          "LUX",
          "BEL",
          "BEL",
          "NLD",
          "NLD",
          "PRT",
          "PRT",
          "ESP",
          "ESP",
          "ESP",
          "IRL",
          "IRL",
          "IRL",
          "AUS",
          "AUS",
          "LKA",
          "LKA",
          "LKA",
          "CHN",
          "CHN",
          "CHN",
          "ITA",
          "ITA",
          "ITA",
          "DNK",
          "DNK",
          "GBR",
          "GBR",
          "ISL",
          "ISL",
          "AZE",
          "AZE",
          "AZE",
          "GEO",
          "GEO",
          "GEO",
          "PHL",
          "PHL",
          "PHL",
          "MYS",
          "MYS",
          "BRN",
          "BRN",
          "SVN",
          "SVN",
          "FIN",
          "FIN",
          "SVK",
          "SVK",
          "CZE",
          "CZE",
          "CZE",
          "ERI",
          "ERI",
          "JPN",
          "JPN",
          "PRY",
          "PRY",
          "PRY",
          "SAU",
          "SAU",
          "SAU",
          "CYP",
          "CYP",
          "CYP",
          "MAR",
          "MAR",
          "MAR",
          "LBY",
          "LBY",
          "LBY",
          "ETH",
          "ETH",
          "ETH",
          "DJI",
          "UGA",
          "UGA",
          "UGA",
          "RWA",
          "RWA",
          "RWA",
          "MKD",
          "MKD",
          "MKD",
          "SRB",
          "SRB",
          "SRB",
          "MNE",
          "MNE",
          "TTO",
          "TTO",
          "TTO"
         ],
         "type": "choropleth",
         "z": [
          0.46875,
          0.46875,
          0.46875,
          0.46875,
          0.46875,
          0,
          0,
          0,
          0,
          0,
          0.46875,
          0.46875,
          0.46875,
          0.46875,
          0.46875,
          0.46875,
          0.46875,
          0.46875,
          0.46875,
          0,
          0,
          0,
          0,
          0,
          0,
          0.7272727272727273,
          0.7272727272727273,
          0.7272727272727273,
          0.46875,
          0.46875,
          0.46875,
          0.7272727272727273,
          0.7272727272727273,
          0.7272727272727273,
          0.7272727272727273,
          0.7272727272727273,
          0.7272727272727273,
          0.7272727272727273,
          0.7272727272727273,
          0.7272727272727273,
          0.46875,
          0.46875,
          0.46875,
          0,
          0,
          0.46875,
          0.46875,
          0.46875,
          0.46875,
          0.46875,
          0.46875,
          0.46875,
          0.46875,
          0.46875,
          0,
          0,
          0.46875,
          0.46875,
          0.46875,
          0.46875,
          0.46875,
          0.46875,
          0.46875,
          0.46875,
          0.46875,
          0.46875,
          0.46875,
          0.46875,
          0,
          0,
          0.46875,
          0.46875,
          0.46875,
          0.46875,
          0.46875,
          0.46875,
          0.46875,
          0.46875,
          0.46875,
          0.46875,
          0.46875,
          0.46875,
          0,
          0,
          0,
          0.46875,
          0.46875,
          0.46875,
          0,
          0,
          0,
          0,
          0,
          0.46875,
          0.46875,
          0.46875,
          0.46875,
          0.46875,
          0.46875,
          0,
          0,
          0,
          0.7272727272727273,
          0.7272727272727273,
          0.7272727272727273,
          0,
          0,
          0,
          0.46875,
          0.46875,
          0.46875,
          0.46875,
          0.46875,
          0.46875,
          0.7272727272727273,
          0.7272727272727273,
          0.7272727272727273,
          0.46875,
          0.46875,
          0.46875,
          0.46875,
          0.46875,
          0.7272727272727273,
          0.7272727272727273,
          0.7272727272727273,
          0.7272727272727273,
          0.7272727272727273,
          0.7272727272727273,
          0.7272727272727273,
          0.7272727272727273,
          0.7272727272727273,
          0.46875,
          0.46875,
          0.46875,
          0.46875,
          0.46875,
          0.46875,
          0.46875,
          0.7272727272727273,
          0.7272727272727273,
          0.7272727272727273,
          0.46875,
          0.46875,
          0.46875,
          0.7272727272727273,
          0.7272727272727273,
          0.7272727272727273,
          0.46875,
          0.46875,
          0.46875,
          0.46875,
          0.46875,
          0.46875,
          0.46875,
          0.46875,
          0.7272727272727273,
          0.7272727272727273,
          0.7272727272727273,
          0.46875,
          0.46875,
          0.46875,
          0.7272727272727273,
          0.7272727272727273,
          0,
          0,
          0,
          0.7272727272727273,
          0.7272727272727273,
          0.7272727272727273,
          0.46875,
          0.46875,
          0.46875,
          0.46875,
          0.46875,
          0.46875,
          0.46875,
          0.46875,
          0.46875,
          0.46875,
          0.46875,
          0,
          0,
          0,
          0,
          0.7272727272727273,
          0.7272727272727273,
          0.7272727272727273,
          0,
          0,
          0.46875,
          0.46875,
          0.46875,
          0.46875,
          0.46875,
          0.7272727272727273,
          0.7272727272727273,
          0.7272727272727273,
          0,
          0,
          0,
          0,
          0.46875,
          0.46875,
          0.46875,
          0.46875,
          0.46875,
          0.46875,
          0.46875,
          0.46875,
          0.46875,
          0.46875,
          0.46875,
          0.46875,
          0.46875,
          0.46875,
          0.7272727272727273,
          0.7272727272727273,
          0.7272727272727273,
          0.46875,
          0.46875,
          0.46875,
          0.46875,
          0.46875,
          0.46875,
          0.46875,
          0.7272727272727273,
          0.7272727272727273,
          0.7272727272727273,
          0.46875,
          0.46875,
          0.46875,
          0,
          0,
          0.46875,
          0.46875,
          0.46875,
          0.7272727272727273,
          0.7272727272727273,
          0.7272727272727273,
          0,
          0,
          0,
          0,
          0,
          0,
          0,
          0.46875,
          0.46875,
          0.46875,
          0,
          0,
          0,
          0,
          0,
          0,
          0,
          0,
          0,
          0,
          0,
          0,
          0,
          0,
          0,
          0,
          0,
          0,
          0,
          0,
          0,
          0,
          0,
          0,
          0,
          0,
          0,
          0,
          0,
          0,
          0,
          0,
          0,
          0,
          0,
          0,
          0,
          0,
          0.7272727272727273,
          0.7272727272727273,
          0.7272727272727273,
          0.46875,
          0.46875,
          0.46875,
          0,
          0,
          0,
          0,
          0,
          0,
          0,
          0,
          0,
          0.46875,
          0.46875,
          0.46875,
          0.46875,
          0.46875,
          0.46875,
          0.46875,
          0.46875,
          0.46875,
          0,
          0,
          0,
          0,
          0,
          0,
          0,
          0,
          0,
          0,
          0,
          0,
          0,
          0.7272727272727273,
          0.7272727272727273,
          0,
          0,
          0.46875,
          0.46875,
          0.46875,
          0.46875,
          0.46875,
          0.46875,
          0,
          0,
          0,
          0.46875,
          0.46875,
          0.46875,
          0.7272727272727273,
          0.7272727272727273,
          0.7272727272727273,
          0.7272727272727273,
          0.7272727272727273,
          0.7272727272727273,
          0.46875,
          0.7272727272727273,
          0.7272727272727273,
          0.7272727272727273,
          0.46875,
          0.46875,
          0.46875,
          0.46875,
          0.46875,
          0.46875,
          0.46875,
          0.46875,
          0.46875,
          0,
          0,
          0,
          0,
          0
         ]
        }
       ],
       "layout": {
        "template": {
         "data": {
          "bar": [
           {
            "error_x": {
             "color": "#2a3f5f"
            },
            "error_y": {
             "color": "#2a3f5f"
            },
            "marker": {
             "line": {
              "color": "#E5ECF6",
              "width": 0.5
             },
             "pattern": {
              "fillmode": "overlay",
              "size": 10,
              "solidity": 0.2
             }
            },
            "type": "bar"
           }
          ],
          "barpolar": [
           {
            "marker": {
             "line": {
              "color": "#E5ECF6",
              "width": 0.5
             },
             "pattern": {
              "fillmode": "overlay",
              "size": 10,
              "solidity": 0.2
             }
            },
            "type": "barpolar"
           }
          ],
          "carpet": [
           {
            "aaxis": {
             "endlinecolor": "#2a3f5f",
             "gridcolor": "white",
             "linecolor": "white",
             "minorgridcolor": "white",
             "startlinecolor": "#2a3f5f"
            },
            "baxis": {
             "endlinecolor": "#2a3f5f",
             "gridcolor": "white",
             "linecolor": "white",
             "minorgridcolor": "white",
             "startlinecolor": "#2a3f5f"
            },
            "type": "carpet"
           }
          ],
          "choropleth": [
           {
            "colorbar": {
             "outlinewidth": 0,
             "ticks": ""
            },
            "type": "choropleth"
           }
          ],
          "contour": [
           {
            "colorbar": {
             "outlinewidth": 0,
             "ticks": ""
            },
            "colorscale": [
             [
              0,
              "#0d0887"
             ],
             [
              0.1111111111111111,
              "#46039f"
             ],
             [
              0.2222222222222222,
              "#7201a8"
             ],
             [
              0.3333333333333333,
              "#9c179e"
             ],
             [
              0.4444444444444444,
              "#bd3786"
             ],
             [
              0.5555555555555556,
              "#d8576b"
             ],
             [
              0.6666666666666666,
              "#ed7953"
             ],
             [
              0.7777777777777778,
              "#fb9f3a"
             ],
             [
              0.8888888888888888,
              "#fdca26"
             ],
             [
              1,
              "#f0f921"
             ]
            ],
            "type": "contour"
           }
          ],
          "contourcarpet": [
           {
            "colorbar": {
             "outlinewidth": 0,
             "ticks": ""
            },
            "type": "contourcarpet"
           }
          ],
          "heatmap": [
           {
            "colorbar": {
             "outlinewidth": 0,
             "ticks": ""
            },
            "colorscale": [
             [
              0,
              "#0d0887"
             ],
             [
              0.1111111111111111,
              "#46039f"
             ],
             [
              0.2222222222222222,
              "#7201a8"
             ],
             [
              0.3333333333333333,
              "#9c179e"
             ],
             [
              0.4444444444444444,
              "#bd3786"
             ],
             [
              0.5555555555555556,
              "#d8576b"
             ],
             [
              0.6666666666666666,
              "#ed7953"
             ],
             [
              0.7777777777777778,
              "#fb9f3a"
             ],
             [
              0.8888888888888888,
              "#fdca26"
             ],
             [
              1,
              "#f0f921"
             ]
            ],
            "type": "heatmap"
           }
          ],
          "heatmapgl": [
           {
            "colorbar": {
             "outlinewidth": 0,
             "ticks": ""
            },
            "colorscale": [
             [
              0,
              "#0d0887"
             ],
             [
              0.1111111111111111,
              "#46039f"
             ],
             [
              0.2222222222222222,
              "#7201a8"
             ],
             [
              0.3333333333333333,
              "#9c179e"
             ],
             [
              0.4444444444444444,
              "#bd3786"
             ],
             [
              0.5555555555555556,
              "#d8576b"
             ],
             [
              0.6666666666666666,
              "#ed7953"
             ],
             [
              0.7777777777777778,
              "#fb9f3a"
             ],
             [
              0.8888888888888888,
              "#fdca26"
             ],
             [
              1,
              "#f0f921"
             ]
            ],
            "type": "heatmapgl"
           }
          ],
          "histogram": [
           {
            "marker": {
             "pattern": {
              "fillmode": "overlay",
              "size": 10,
              "solidity": 0.2
             }
            },
            "type": "histogram"
           }
          ],
          "histogram2d": [
           {
            "colorbar": {
             "outlinewidth": 0,
             "ticks": ""
            },
            "colorscale": [
             [
              0,
              "#0d0887"
             ],
             [
              0.1111111111111111,
              "#46039f"
             ],
             [
              0.2222222222222222,
              "#7201a8"
             ],
             [
              0.3333333333333333,
              "#9c179e"
             ],
             [
              0.4444444444444444,
              "#bd3786"
             ],
             [
              0.5555555555555556,
              "#d8576b"
             ],
             [
              0.6666666666666666,
              "#ed7953"
             ],
             [
              0.7777777777777778,
              "#fb9f3a"
             ],
             [
              0.8888888888888888,
              "#fdca26"
             ],
             [
              1,
              "#f0f921"
             ]
            ],
            "type": "histogram2d"
           }
          ],
          "histogram2dcontour": [
           {
            "colorbar": {
             "outlinewidth": 0,
             "ticks": ""
            },
            "colorscale": [
             [
              0,
              "#0d0887"
             ],
             [
              0.1111111111111111,
              "#46039f"
             ],
             [
              0.2222222222222222,
              "#7201a8"
             ],
             [
              0.3333333333333333,
              "#9c179e"
             ],
             [
              0.4444444444444444,
              "#bd3786"
             ],
             [
              0.5555555555555556,
              "#d8576b"
             ],
             [
              0.6666666666666666,
              "#ed7953"
             ],
             [
              0.7777777777777778,
              "#fb9f3a"
             ],
             [
              0.8888888888888888,
              "#fdca26"
             ],
             [
              1,
              "#f0f921"
             ]
            ],
            "type": "histogram2dcontour"
           }
          ],
          "mesh3d": [
           {
            "colorbar": {
             "outlinewidth": 0,
             "ticks": ""
            },
            "type": "mesh3d"
           }
          ],
          "parcoords": [
           {
            "line": {
             "colorbar": {
              "outlinewidth": 0,
              "ticks": ""
             }
            },
            "type": "parcoords"
           }
          ],
          "pie": [
           {
            "automargin": true,
            "type": "pie"
           }
          ],
          "scatter": [
           {
            "fillpattern": {
             "fillmode": "overlay",
             "size": 10,
             "solidity": 0.2
            },
            "type": "scatter"
           }
          ],
          "scatter3d": [
           {
            "line": {
             "colorbar": {
              "outlinewidth": 0,
              "ticks": ""
             }
            },
            "marker": {
             "colorbar": {
              "outlinewidth": 0,
              "ticks": ""
             }
            },
            "type": "scatter3d"
           }
          ],
          "scattercarpet": [
           {
            "marker": {
             "colorbar": {
              "outlinewidth": 0,
              "ticks": ""
             }
            },
            "type": "scattercarpet"
           }
          ],
          "scattergeo": [
           {
            "marker": {
             "colorbar": {
              "outlinewidth": 0,
              "ticks": ""
             }
            },
            "type": "scattergeo"
           }
          ],
          "scattergl": [
           {
            "marker": {
             "colorbar": {
              "outlinewidth": 0,
              "ticks": ""
             }
            },
            "type": "scattergl"
           }
          ],
          "scattermapbox": [
           {
            "marker": {
             "colorbar": {
              "outlinewidth": 0,
              "ticks": ""
             }
            },
            "type": "scattermapbox"
           }
          ],
          "scatterpolar": [
           {
            "marker": {
             "colorbar": {
              "outlinewidth": 0,
              "ticks": ""
             }
            },
            "type": "scatterpolar"
           }
          ],
          "scatterpolargl": [
           {
            "marker": {
             "colorbar": {
              "outlinewidth": 0,
              "ticks": ""
             }
            },
            "type": "scatterpolargl"
           }
          ],
          "scatterternary": [
           {
            "marker": {
             "colorbar": {
              "outlinewidth": 0,
              "ticks": ""
             }
            },
            "type": "scatterternary"
           }
          ],
          "surface": [
           {
            "colorbar": {
             "outlinewidth": 0,
             "ticks": ""
            },
            "colorscale": [
             [
              0,
              "#0d0887"
             ],
             [
              0.1111111111111111,
              "#46039f"
             ],
             [
              0.2222222222222222,
              "#7201a8"
             ],
             [
              0.3333333333333333,
              "#9c179e"
             ],
             [
              0.4444444444444444,
              "#bd3786"
             ],
             [
              0.5555555555555556,
              "#d8576b"
             ],
             [
              0.6666666666666666,
              "#ed7953"
             ],
             [
              0.7777777777777778,
              "#fb9f3a"
             ],
             [
              0.8888888888888888,
              "#fdca26"
             ],
             [
              1,
              "#f0f921"
             ]
            ],
            "type": "surface"
           }
          ],
          "table": [
           {
            "cells": {
             "fill": {
              "color": "#EBF0F8"
             },
             "line": {
              "color": "white"
             }
            },
            "header": {
             "fill": {
              "color": "#C8D4E3"
             },
             "line": {
              "color": "white"
             }
            },
            "type": "table"
           }
          ]
         },
         "layout": {
          "annotationdefaults": {
           "arrowcolor": "#2a3f5f",
           "arrowhead": 0,
           "arrowwidth": 1
          },
          "autotypenumbers": "strict",
          "coloraxis": {
           "colorbar": {
            "outlinewidth": 0,
            "ticks": ""
           }
          },
          "colorscale": {
           "diverging": [
            [
             0,
             "#8e0152"
            ],
            [
             0.1,
             "#c51b7d"
            ],
            [
             0.2,
             "#de77ae"
            ],
            [
             0.3,
             "#f1b6da"
            ],
            [
             0.4,
             "#fde0ef"
            ],
            [
             0.5,
             "#f7f7f7"
            ],
            [
             0.6,
             "#e6f5d0"
            ],
            [
             0.7,
             "#b8e186"
            ],
            [
             0.8,
             "#7fbc41"
            ],
            [
             0.9,
             "#4d9221"
            ],
            [
             1,
             "#276419"
            ]
           ],
           "sequential": [
            [
             0,
             "#0d0887"
            ],
            [
             0.1111111111111111,
             "#46039f"
            ],
            [
             0.2222222222222222,
             "#7201a8"
            ],
            [
             0.3333333333333333,
             "#9c179e"
            ],
            [
             0.4444444444444444,
             "#bd3786"
            ],
            [
             0.5555555555555556,
             "#d8576b"
            ],
            [
             0.6666666666666666,
             "#ed7953"
            ],
            [
             0.7777777777777778,
             "#fb9f3a"
            ],
            [
             0.8888888888888888,
             "#fdca26"
            ],
            [
             1,
             "#f0f921"
            ]
           ],
           "sequentialminus": [
            [
             0,
             "#0d0887"
            ],
            [
             0.1111111111111111,
             "#46039f"
            ],
            [
             0.2222222222222222,
             "#7201a8"
            ],
            [
             0.3333333333333333,
             "#9c179e"
            ],
            [
             0.4444444444444444,
             "#bd3786"
            ],
            [
             0.5555555555555556,
             "#d8576b"
            ],
            [
             0.6666666666666666,
             "#ed7953"
            ],
            [
             0.7777777777777778,
             "#fb9f3a"
            ],
            [
             0.8888888888888888,
             "#fdca26"
            ],
            [
             1,
             "#f0f921"
            ]
           ]
          },
          "colorway": [
           "#636efa",
           "#EF553B",
           "#00cc96",
           "#ab63fa",
           "#FFA15A",
           "#19d3f3",
           "#FF6692",
           "#B6E880",
           "#FF97FF",
           "#FECB52"
          ],
          "font": {
           "color": "#2a3f5f"
          },
          "geo": {
           "bgcolor": "white",
           "lakecolor": "white",
           "landcolor": "#E5ECF6",
           "showlakes": true,
           "showland": true,
           "subunitcolor": "white"
          },
          "hoverlabel": {
           "align": "left"
          },
          "hovermode": "closest",
          "mapbox": {
           "style": "light"
          },
          "paper_bgcolor": "white",
          "plot_bgcolor": "#E5ECF6",
          "polar": {
           "angularaxis": {
            "gridcolor": "white",
            "linecolor": "white",
            "ticks": ""
           },
           "bgcolor": "#E5ECF6",
           "radialaxis": {
            "gridcolor": "white",
            "linecolor": "white",
            "ticks": ""
           }
          },
          "scene": {
           "xaxis": {
            "backgroundcolor": "#E5ECF6",
            "gridcolor": "white",
            "gridwidth": 2,
            "linecolor": "white",
            "showbackground": true,
            "ticks": "",
            "zerolinecolor": "white"
           },
           "yaxis": {
            "backgroundcolor": "#E5ECF6",
            "gridcolor": "white",
            "gridwidth": 2,
            "linecolor": "white",
            "showbackground": true,
            "ticks": "",
            "zerolinecolor": "white"
           },
           "zaxis": {
            "backgroundcolor": "#E5ECF6",
            "gridcolor": "white",
            "gridwidth": 2,
            "linecolor": "white",
            "showbackground": true,
            "ticks": "",
            "zerolinecolor": "white"
           }
          },
          "shapedefaults": {
           "line": {
            "color": "#2a3f5f"
           }
          },
          "ternary": {
           "aaxis": {
            "gridcolor": "white",
            "linecolor": "white",
            "ticks": ""
           },
           "baxis": {
            "gridcolor": "white",
            "linecolor": "white",
            "ticks": ""
           },
           "bgcolor": "#E5ECF6",
           "caxis": {
            "gridcolor": "white",
            "linecolor": "white",
            "ticks": ""
           }
          },
          "title": {
           "x": 0.05
          },
          "xaxis": {
           "automargin": true,
           "gridcolor": "white",
           "linecolor": "white",
           "ticks": "",
           "title": {
            "standoff": 15
           },
           "zerolinecolor": "white",
           "zerolinewidth": 2
          },
          "yaxis": {
           "automargin": true,
           "gridcolor": "white",
           "linecolor": "white",
           "ticks": "",
           "title": {
            "standoff": 15
           },
           "zerolinecolor": "white",
           "zerolinewidth": 2
          }
         }
        }
       }
      },
      "text/html": [
       "<div>                            <div id=\"056ce664-f653-436c-92e2-49c112fd19af\" class=\"plotly-graph-div\" style=\"height:525px; width:100%;\"></div>            <script type=\"text/javascript\">                require([\"plotly\"], function(Plotly) {                    window.PLOTLYENV=window.PLOTLYENV || {};                                    if (document.getElementById(\"056ce664-f653-436c-92e2-49c112fd19af\")) {                    Plotly.newPlot(                        \"056ce664-f653-436c-92e2-49c112fd19af\",                        [{\"autocolorscale\":false,\"colorbar\":{\"tickprefix\":\"\",\"title\":{\"text\":\"ffnn recall_score\"}},\"colorscale\":[[0.0,\"rgb(255,245,240)\"],[0.125,\"rgb(254,224,210)\"],[0.25,\"rgb(252,187,161)\"],[0.375,\"rgb(252,146,114)\"],[0.5,\"rgb(251,106,74)\"],[0.625,\"rgb(239,59,44)\"],[0.75,\"rgb(203,24,29)\"],[0.875,\"rgb(165,15,21)\"],[1.0,\"rgb(103,0,13)\"]],\"locations\":[\"FJI\",\"FJI\",\"TZA\",\"TZA\",\"TZA\",\"CAN\",\"CAN\",\"USA\",\"USA\",\"USA\",\"KAZ\",\"KAZ\",\"KAZ\",\"UZB\",\"UZB\",\"UZB\",\"IDN\",\"IDN\",\"IDN\",\"ARG\",\"ARG\",\"ARG\",\"CHL\",\"CHL\",\"CHL\",\"SOM\",\"SOM\",\"SOM\",\"KEN\",\"KEN\",\"KEN\",\"SDN\",\"SDN\",\"SDN\",\"TCD\",\"TCD\",\"TCD\",\"HTI\",\"HTI\",\"HTI\",\"RUS\",\"RUS\",\"RUS\",\"NOR\",\"NOR\",\"ZAF\",\"ZAF\",\"ZAF\",\"LSO\",\"LSO\",\"LSO\",\"MEX\",\"MEX\",\"MEX\",\"URY\",\"URY\",\"BRA\",\"BRA\",\"BRA\",\"BOL\",\"BOL\",\"BOL\",\"PER\",\"PER\",\"PER\",\"COL\",\"COL\",\"COL\",\"PAN\",\"PAN\",\"NIC\",\"NIC\",\"NIC\",\"HND\",\"HND\",\"HND\",\"SLV\",\"SLV\",\"SLV\",\"GTM\",\"GTM\",\"GTM\",\"BLZ\",\"BLZ\",\"BLZ\",\"GUY\",\"GUY\",\"GUY\",\"SUR\",\"SUR\",\"FRA\",\"FRA\",\"FRA\",\"ECU\",\"ECU\",\"ECU\",\"JAM\",\"JAM\",\"JAM\",\"CUB\",\"CUB\",\"CUB\",\"ZWE\",\"ZWE\",\"ZWE\",\"BWA\",\"BWA\",\"BWA\",\"NAM\",\"NAM\",\"NAM\",\"SEN\",\"SEN\",\"SEN\",\"MLI\",\"MLI\",\"MLI\",\"MRT\",\"MRT\",\"BEN\",\"BEN\",\"BEN\",\"NER\",\"NER\",\"NER\",\"NGA\",\"NGA\",\"NGA\",\"CMR\",\"CMR\",\"CMR\",\"TGO\",\"TGO\",\"TGO\",\"GHA\",\"GHA\",\"GHA\",\"CIV\",\"GIN\",\"GIN\",\"GIN\",\"LBR\",\"LBR\",\"LBR\",\"BFA\",\"BFA\",\"BFA\",\"GAB\",\"GAB\",\"ZMB\",\"ZMB\",\"ZMB\",\"MWI\",\"MWI\",\"MWI\",\"MOZ\",\"MOZ\",\"MOZ\",\"AGO\",\"AGO\",\"AGO\",\"BDI\",\"BDI\",\"ISR\",\"ISR\",\"ISR\",\"LBN\",\"LBN\",\"LBN\",\"MDG\",\"MDG\",\"MDG\",\"TUN\",\"TUN\",\"DZA\",\"DZA\",\"DZA\",\"JOR\",\"JOR\",\"JOR\",\"QAT\",\"QAT\",\"KWT\",\"KWT\",\"IRQ\",\"IRQ\",\"IRQ\",\"OMN\",\"OMN\",\"KHM\",\"KHM\",\"THA\",\"THA\",\"THA\",\"MMR\",\"MMR\",\"MMR\",\"VNM\",\"VNM\",\"MNG\",\"MNG\",\"IND\",\"IND\",\"IND\",\"BGD\",\"BGD\",\"BGD\",\"BTN\",\"BTN\",\"NPL\",\"NPL\",\"NPL\",\"PAK\",\"PAK\",\"PAK\",\"AFG\",\"AFG\",\"AFG\",\"TJK\",\"TJK\",\"KGZ\",\"KGZ\",\"KGZ\",\"TKM\",\"TKM\",\"SYR\",\"SYR\",\"SYR\",\"ARM\",\"ARM\",\"ARM\",\"SWE\",\"SWE\",\"BLR\",\"BLR\",\"BLR\",\"UKR\",\"UKR\",\"UKR\",\"POL\",\"POL\",\"AUT\",\"AUT\",\"HUN\",\"HUN\",\"HUN\",\"MDA\",\"MDA\",\"MDA\",\"ROU\",\"ROU\",\"LTU\",\"LTU\",\"LVA\",\"LVA\",\"EST\",\"EST\",\"DEU\",\"DEU\",\"DEU\",\"BGR\",\"BGR\",\"GRC\",\"GRC\",\"GRC\",\"ALB\",\"ALB\",\"HRV\",\"HRV\",\"CHE\",\"CHE\",\"LUX\",\"LUX\",\"BEL\",\"BEL\",\"NLD\",\"NLD\",\"PRT\",\"PRT\",\"ESP\",\"ESP\",\"ESP\",\"IRL\",\"IRL\",\"IRL\",\"AUS\",\"AUS\",\"LKA\",\"LKA\",\"LKA\",\"CHN\",\"CHN\",\"CHN\",\"ITA\",\"ITA\",\"ITA\",\"DNK\",\"DNK\",\"GBR\",\"GBR\",\"ISL\",\"ISL\",\"AZE\",\"AZE\",\"AZE\",\"GEO\",\"GEO\",\"GEO\",\"PHL\",\"PHL\",\"PHL\",\"MYS\",\"MYS\",\"BRN\",\"BRN\",\"SVN\",\"SVN\",\"FIN\",\"FIN\",\"SVK\",\"SVK\",\"CZE\",\"CZE\",\"CZE\",\"ERI\",\"ERI\",\"JPN\",\"JPN\",\"PRY\",\"PRY\",\"PRY\",\"SAU\",\"SAU\",\"SAU\",\"CYP\",\"CYP\",\"CYP\",\"MAR\",\"MAR\",\"MAR\",\"LBY\",\"LBY\",\"LBY\",\"ETH\",\"ETH\",\"ETH\",\"DJI\",\"UGA\",\"UGA\",\"UGA\",\"RWA\",\"RWA\",\"RWA\",\"MKD\",\"MKD\",\"MKD\",\"SRB\",\"SRB\",\"SRB\",\"MNE\",\"MNE\",\"TTO\",\"TTO\",\"TTO\"],\"marker\":{\"line\":{\"color\":\"darkgray\",\"width\":0.5}},\"reversescale\":false,\"text\":[\"FJI\",\"FJI\",\"TZA\",\"TZA\",\"TZA\",\"CAN\",\"CAN\",\"USA\",\"USA\",\"USA\",\"KAZ\",\"KAZ\",\"KAZ\",\"UZB\",\"UZB\",\"UZB\",\"IDN\",\"IDN\",\"IDN\",\"ARG\",\"ARG\",\"ARG\",\"CHL\",\"CHL\",\"CHL\",\"SOM\",\"SOM\",\"SOM\",\"KEN\",\"KEN\",\"KEN\",\"SDN\",\"SDN\",\"SDN\",\"TCD\",\"TCD\",\"TCD\",\"HTI\",\"HTI\",\"HTI\",\"RUS\",\"RUS\",\"RUS\",\"NOR\",\"NOR\",\"ZAF\",\"ZAF\",\"ZAF\",\"LSO\",\"LSO\",\"LSO\",\"MEX\",\"MEX\",\"MEX\",\"URY\",\"URY\",\"BRA\",\"BRA\",\"BRA\",\"BOL\",\"BOL\",\"BOL\",\"PER\",\"PER\",\"PER\",\"COL\",\"COL\",\"COL\",\"PAN\",\"PAN\",\"NIC\",\"NIC\",\"NIC\",\"HND\",\"HND\",\"HND\",\"SLV\",\"SLV\",\"SLV\",\"GTM\",\"GTM\",\"GTM\",\"BLZ\",\"BLZ\",\"BLZ\",\"GUY\",\"GUY\",\"GUY\",\"SUR\",\"SUR\",\"FRA\",\"FRA\",\"FRA\",\"ECU\",\"ECU\",\"ECU\",\"JAM\",\"JAM\",\"JAM\",\"CUB\",\"CUB\",\"CUB\",\"ZWE\",\"ZWE\",\"ZWE\",\"BWA\",\"BWA\",\"BWA\",\"NAM\",\"NAM\",\"NAM\",\"SEN\",\"SEN\",\"SEN\",\"MLI\",\"MLI\",\"MLI\",\"MRT\",\"MRT\",\"BEN\",\"BEN\",\"BEN\",\"NER\",\"NER\",\"NER\",\"NGA\",\"NGA\",\"NGA\",\"CMR\",\"CMR\",\"CMR\",\"TGO\",\"TGO\",\"TGO\",\"GHA\",\"GHA\",\"GHA\",\"CIV\",\"GIN\",\"GIN\",\"GIN\",\"LBR\",\"LBR\",\"LBR\",\"BFA\",\"BFA\",\"BFA\",\"GAB\",\"GAB\",\"ZMB\",\"ZMB\",\"ZMB\",\"MWI\",\"MWI\",\"MWI\",\"MOZ\",\"MOZ\",\"MOZ\",\"AGO\",\"AGO\",\"AGO\",\"BDI\",\"BDI\",\"ISR\",\"ISR\",\"ISR\",\"LBN\",\"LBN\",\"LBN\",\"MDG\",\"MDG\",\"MDG\",\"TUN\",\"TUN\",\"DZA\",\"DZA\",\"DZA\",\"JOR\",\"JOR\",\"JOR\",\"QAT\",\"QAT\",\"KWT\",\"KWT\",\"IRQ\",\"IRQ\",\"IRQ\",\"OMN\",\"OMN\",\"KHM\",\"KHM\",\"THA\",\"THA\",\"THA\",\"MMR\",\"MMR\",\"MMR\",\"VNM\",\"VNM\",\"MNG\",\"MNG\",\"IND\",\"IND\",\"IND\",\"BGD\",\"BGD\",\"BGD\",\"BTN\",\"BTN\",\"NPL\",\"NPL\",\"NPL\",\"PAK\",\"PAK\",\"PAK\",\"AFG\",\"AFG\",\"AFG\",\"TJK\",\"TJK\",\"KGZ\",\"KGZ\",\"KGZ\",\"TKM\",\"TKM\",\"SYR\",\"SYR\",\"SYR\",\"ARM\",\"ARM\",\"ARM\",\"SWE\",\"SWE\",\"BLR\",\"BLR\",\"BLR\",\"UKR\",\"UKR\",\"UKR\",\"POL\",\"POL\",\"AUT\",\"AUT\",\"HUN\",\"HUN\",\"HUN\",\"MDA\",\"MDA\",\"MDA\",\"ROU\",\"ROU\",\"LTU\",\"LTU\",\"LVA\",\"LVA\",\"EST\",\"EST\",\"DEU\",\"DEU\",\"DEU\",\"BGR\",\"BGR\",\"GRC\",\"GRC\",\"GRC\",\"ALB\",\"ALB\",\"HRV\",\"HRV\",\"CHE\",\"CHE\",\"LUX\",\"LUX\",\"BEL\",\"BEL\",\"NLD\",\"NLD\",\"PRT\",\"PRT\",\"ESP\",\"ESP\",\"ESP\",\"IRL\",\"IRL\",\"IRL\",\"AUS\",\"AUS\",\"LKA\",\"LKA\",\"LKA\",\"CHN\",\"CHN\",\"CHN\",\"ITA\",\"ITA\",\"ITA\",\"DNK\",\"DNK\",\"GBR\",\"GBR\",\"ISL\",\"ISL\",\"AZE\",\"AZE\",\"AZE\",\"GEO\",\"GEO\",\"GEO\",\"PHL\",\"PHL\",\"PHL\",\"MYS\",\"MYS\",\"BRN\",\"BRN\",\"SVN\",\"SVN\",\"FIN\",\"FIN\",\"SVK\",\"SVK\",\"CZE\",\"CZE\",\"CZE\",\"ERI\",\"ERI\",\"JPN\",\"JPN\",\"PRY\",\"PRY\",\"PRY\",\"SAU\",\"SAU\",\"SAU\",\"CYP\",\"CYP\",\"CYP\",\"MAR\",\"MAR\",\"MAR\",\"LBY\",\"LBY\",\"LBY\",\"ETH\",\"ETH\",\"ETH\",\"DJI\",\"UGA\",\"UGA\",\"UGA\",\"RWA\",\"RWA\",\"RWA\",\"MKD\",\"MKD\",\"MKD\",\"SRB\",\"SRB\",\"SRB\",\"MNE\",\"MNE\",\"TTO\",\"TTO\",\"TTO\"],\"z\":[0.46875,0.46875,0.46875,0.46875,0.46875,0.0,0.0,0.0,0.0,0.0,0.46875,0.46875,0.46875,0.46875,0.46875,0.46875,0.46875,0.46875,0.46875,0.0,0.0,0.0,0.0,0.0,0.0,0.7272727272727273,0.7272727272727273,0.7272727272727273,0.46875,0.46875,0.46875,0.7272727272727273,0.7272727272727273,0.7272727272727273,0.7272727272727273,0.7272727272727273,0.7272727272727273,0.7272727272727273,0.7272727272727273,0.7272727272727273,0.46875,0.46875,0.46875,0.0,0.0,0.46875,0.46875,0.46875,0.46875,0.46875,0.46875,0.46875,0.46875,0.46875,0.0,0.0,0.46875,0.46875,0.46875,0.46875,0.46875,0.46875,0.46875,0.46875,0.46875,0.46875,0.46875,0.46875,0.0,0.0,0.46875,0.46875,0.46875,0.46875,0.46875,0.46875,0.46875,0.46875,0.46875,0.46875,0.46875,0.46875,0.0,0.0,0.0,0.46875,0.46875,0.46875,0.0,0.0,0.0,0.0,0.0,0.46875,0.46875,0.46875,0.46875,0.46875,0.46875,0.0,0.0,0.0,0.7272727272727273,0.7272727272727273,0.7272727272727273,0.0,0.0,0.0,0.46875,0.46875,0.46875,0.46875,0.46875,0.46875,0.7272727272727273,0.7272727272727273,0.7272727272727273,0.46875,0.46875,0.46875,0.46875,0.46875,0.7272727272727273,0.7272727272727273,0.7272727272727273,0.7272727272727273,0.7272727272727273,0.7272727272727273,0.7272727272727273,0.7272727272727273,0.7272727272727273,0.46875,0.46875,0.46875,0.46875,0.46875,0.46875,0.46875,0.7272727272727273,0.7272727272727273,0.7272727272727273,0.46875,0.46875,0.46875,0.7272727272727273,0.7272727272727273,0.7272727272727273,0.46875,0.46875,0.46875,0.46875,0.46875,0.46875,0.46875,0.46875,0.7272727272727273,0.7272727272727273,0.7272727272727273,0.46875,0.46875,0.46875,0.7272727272727273,0.7272727272727273,0.0,0.0,0.0,0.7272727272727273,0.7272727272727273,0.7272727272727273,0.46875,0.46875,0.46875,0.46875,0.46875,0.46875,0.46875,0.46875,0.46875,0.46875,0.46875,0.0,0.0,0.0,0.0,0.7272727272727273,0.7272727272727273,0.7272727272727273,0.0,0.0,0.46875,0.46875,0.46875,0.46875,0.46875,0.7272727272727273,0.7272727272727273,0.7272727272727273,0.0,0.0,0.0,0.0,0.46875,0.46875,0.46875,0.46875,0.46875,0.46875,0.46875,0.46875,0.46875,0.46875,0.46875,0.46875,0.46875,0.46875,0.7272727272727273,0.7272727272727273,0.7272727272727273,0.46875,0.46875,0.46875,0.46875,0.46875,0.46875,0.46875,0.7272727272727273,0.7272727272727273,0.7272727272727273,0.46875,0.46875,0.46875,0.0,0.0,0.46875,0.46875,0.46875,0.7272727272727273,0.7272727272727273,0.7272727272727273,0.0,0.0,0.0,0.0,0.0,0.0,0.0,0.46875,0.46875,0.46875,0.0,0.0,0.0,0.0,0.0,0.0,0.0,0.0,0.0,0.0,0.0,0.0,0.0,0.0,0.0,0.0,0.0,0.0,0.0,0.0,0.0,0.0,0.0,0.0,0.0,0.0,0.0,0.0,0.0,0.0,0.0,0.0,0.0,0.0,0.0,0.0,0.0,0.0,0.7272727272727273,0.7272727272727273,0.7272727272727273,0.46875,0.46875,0.46875,0.0,0.0,0.0,0.0,0.0,0.0,0.0,0.0,0.0,0.46875,0.46875,0.46875,0.46875,0.46875,0.46875,0.46875,0.46875,0.46875,0.0,0.0,0.0,0.0,0.0,0.0,0.0,0.0,0.0,0.0,0.0,0.0,0.0,0.7272727272727273,0.7272727272727273,0.0,0.0,0.46875,0.46875,0.46875,0.46875,0.46875,0.46875,0.0,0.0,0.0,0.46875,0.46875,0.46875,0.7272727272727273,0.7272727272727273,0.7272727272727273,0.7272727272727273,0.7272727272727273,0.7272727272727273,0.46875,0.7272727272727273,0.7272727272727273,0.7272727272727273,0.46875,0.46875,0.46875,0.46875,0.46875,0.46875,0.46875,0.46875,0.46875,0.0,0.0,0.0,0.0,0.0],\"type\":\"choropleth\"}],                        {\"template\":{\"data\":{\"histogram2dcontour\":[{\"type\":\"histogram2dcontour\",\"colorbar\":{\"outlinewidth\":0,\"ticks\":\"\"},\"colorscale\":[[0.0,\"#0d0887\"],[0.1111111111111111,\"#46039f\"],[0.2222222222222222,\"#7201a8\"],[0.3333333333333333,\"#9c179e\"],[0.4444444444444444,\"#bd3786\"],[0.5555555555555556,\"#d8576b\"],[0.6666666666666666,\"#ed7953\"],[0.7777777777777778,\"#fb9f3a\"],[0.8888888888888888,\"#fdca26\"],[1.0,\"#f0f921\"]]}],\"choropleth\":[{\"type\":\"choropleth\",\"colorbar\":{\"outlinewidth\":0,\"ticks\":\"\"}}],\"histogram2d\":[{\"type\":\"histogram2d\",\"colorbar\":{\"outlinewidth\":0,\"ticks\":\"\"},\"colorscale\":[[0.0,\"#0d0887\"],[0.1111111111111111,\"#46039f\"],[0.2222222222222222,\"#7201a8\"],[0.3333333333333333,\"#9c179e\"],[0.4444444444444444,\"#bd3786\"],[0.5555555555555556,\"#d8576b\"],[0.6666666666666666,\"#ed7953\"],[0.7777777777777778,\"#fb9f3a\"],[0.8888888888888888,\"#fdca26\"],[1.0,\"#f0f921\"]]}],\"heatmap\":[{\"type\":\"heatmap\",\"colorbar\":{\"outlinewidth\":0,\"ticks\":\"\"},\"colorscale\":[[0.0,\"#0d0887\"],[0.1111111111111111,\"#46039f\"],[0.2222222222222222,\"#7201a8\"],[0.3333333333333333,\"#9c179e\"],[0.4444444444444444,\"#bd3786\"],[0.5555555555555556,\"#d8576b\"],[0.6666666666666666,\"#ed7953\"],[0.7777777777777778,\"#fb9f3a\"],[0.8888888888888888,\"#fdca26\"],[1.0,\"#f0f921\"]]}],\"heatmapgl\":[{\"type\":\"heatmapgl\",\"colorbar\":{\"outlinewidth\":0,\"ticks\":\"\"},\"colorscale\":[[0.0,\"#0d0887\"],[0.1111111111111111,\"#46039f\"],[0.2222222222222222,\"#7201a8\"],[0.3333333333333333,\"#9c179e\"],[0.4444444444444444,\"#bd3786\"],[0.5555555555555556,\"#d8576b\"],[0.6666666666666666,\"#ed7953\"],[0.7777777777777778,\"#fb9f3a\"],[0.8888888888888888,\"#fdca26\"],[1.0,\"#f0f921\"]]}],\"contourcarpet\":[{\"type\":\"contourcarpet\",\"colorbar\":{\"outlinewidth\":0,\"ticks\":\"\"}}],\"contour\":[{\"type\":\"contour\",\"colorbar\":{\"outlinewidth\":0,\"ticks\":\"\"},\"colorscale\":[[0.0,\"#0d0887\"],[0.1111111111111111,\"#46039f\"],[0.2222222222222222,\"#7201a8\"],[0.3333333333333333,\"#9c179e\"],[0.4444444444444444,\"#bd3786\"],[0.5555555555555556,\"#d8576b\"],[0.6666666666666666,\"#ed7953\"],[0.7777777777777778,\"#fb9f3a\"],[0.8888888888888888,\"#fdca26\"],[1.0,\"#f0f921\"]]}],\"surface\":[{\"type\":\"surface\",\"colorbar\":{\"outlinewidth\":0,\"ticks\":\"\"},\"colorscale\":[[0.0,\"#0d0887\"],[0.1111111111111111,\"#46039f\"],[0.2222222222222222,\"#7201a8\"],[0.3333333333333333,\"#9c179e\"],[0.4444444444444444,\"#bd3786\"],[0.5555555555555556,\"#d8576b\"],[0.6666666666666666,\"#ed7953\"],[0.7777777777777778,\"#fb9f3a\"],[0.8888888888888888,\"#fdca26\"],[1.0,\"#f0f921\"]]}],\"mesh3d\":[{\"type\":\"mesh3d\",\"colorbar\":{\"outlinewidth\":0,\"ticks\":\"\"}}],\"scatter\":[{\"fillpattern\":{\"fillmode\":\"overlay\",\"size\":10,\"solidity\":0.2},\"type\":\"scatter\"}],\"parcoords\":[{\"type\":\"parcoords\",\"line\":{\"colorbar\":{\"outlinewidth\":0,\"ticks\":\"\"}}}],\"scatterpolargl\":[{\"type\":\"scatterpolargl\",\"marker\":{\"colorbar\":{\"outlinewidth\":0,\"ticks\":\"\"}}}],\"bar\":[{\"error_x\":{\"color\":\"#2a3f5f\"},\"error_y\":{\"color\":\"#2a3f5f\"},\"marker\":{\"line\":{\"color\":\"#E5ECF6\",\"width\":0.5},\"pattern\":{\"fillmode\":\"overlay\",\"size\":10,\"solidity\":0.2}},\"type\":\"bar\"}],\"scattergeo\":[{\"type\":\"scattergeo\",\"marker\":{\"colorbar\":{\"outlinewidth\":0,\"ticks\":\"\"}}}],\"scatterpolar\":[{\"type\":\"scatterpolar\",\"marker\":{\"colorbar\":{\"outlinewidth\":0,\"ticks\":\"\"}}}],\"histogram\":[{\"marker\":{\"pattern\":{\"fillmode\":\"overlay\",\"size\":10,\"solidity\":0.2}},\"type\":\"histogram\"}],\"scattergl\":[{\"type\":\"scattergl\",\"marker\":{\"colorbar\":{\"outlinewidth\":0,\"ticks\":\"\"}}}],\"scatter3d\":[{\"type\":\"scatter3d\",\"line\":{\"colorbar\":{\"outlinewidth\":0,\"ticks\":\"\"}},\"marker\":{\"colorbar\":{\"outlinewidth\":0,\"ticks\":\"\"}}}],\"scattermapbox\":[{\"type\":\"scattermapbox\",\"marker\":{\"colorbar\":{\"outlinewidth\":0,\"ticks\":\"\"}}}],\"scatterternary\":[{\"type\":\"scatterternary\",\"marker\":{\"colorbar\":{\"outlinewidth\":0,\"ticks\":\"\"}}}],\"scattercarpet\":[{\"type\":\"scattercarpet\",\"marker\":{\"colorbar\":{\"outlinewidth\":0,\"ticks\":\"\"}}}],\"carpet\":[{\"aaxis\":{\"endlinecolor\":\"#2a3f5f\",\"gridcolor\":\"white\",\"linecolor\":\"white\",\"minorgridcolor\":\"white\",\"startlinecolor\":\"#2a3f5f\"},\"baxis\":{\"endlinecolor\":\"#2a3f5f\",\"gridcolor\":\"white\",\"linecolor\":\"white\",\"minorgridcolor\":\"white\",\"startlinecolor\":\"#2a3f5f\"},\"type\":\"carpet\"}],\"table\":[{\"cells\":{\"fill\":{\"color\":\"#EBF0F8\"},\"line\":{\"color\":\"white\"}},\"header\":{\"fill\":{\"color\":\"#C8D4E3\"},\"line\":{\"color\":\"white\"}},\"type\":\"table\"}],\"barpolar\":[{\"marker\":{\"line\":{\"color\":\"#E5ECF6\",\"width\":0.5},\"pattern\":{\"fillmode\":\"overlay\",\"size\":10,\"solidity\":0.2}},\"type\":\"barpolar\"}],\"pie\":[{\"automargin\":true,\"type\":\"pie\"}]},\"layout\":{\"autotypenumbers\":\"strict\",\"colorway\":[\"#636efa\",\"#EF553B\",\"#00cc96\",\"#ab63fa\",\"#FFA15A\",\"#19d3f3\",\"#FF6692\",\"#B6E880\",\"#FF97FF\",\"#FECB52\"],\"font\":{\"color\":\"#2a3f5f\"},\"hovermode\":\"closest\",\"hoverlabel\":{\"align\":\"left\"},\"paper_bgcolor\":\"white\",\"plot_bgcolor\":\"#E5ECF6\",\"polar\":{\"bgcolor\":\"#E5ECF6\",\"angularaxis\":{\"gridcolor\":\"white\",\"linecolor\":\"white\",\"ticks\":\"\"},\"radialaxis\":{\"gridcolor\":\"white\",\"linecolor\":\"white\",\"ticks\":\"\"}},\"ternary\":{\"bgcolor\":\"#E5ECF6\",\"aaxis\":{\"gridcolor\":\"white\",\"linecolor\":\"white\",\"ticks\":\"\"},\"baxis\":{\"gridcolor\":\"white\",\"linecolor\":\"white\",\"ticks\":\"\"},\"caxis\":{\"gridcolor\":\"white\",\"linecolor\":\"white\",\"ticks\":\"\"}},\"coloraxis\":{\"colorbar\":{\"outlinewidth\":0,\"ticks\":\"\"}},\"colorscale\":{\"sequential\":[[0.0,\"#0d0887\"],[0.1111111111111111,\"#46039f\"],[0.2222222222222222,\"#7201a8\"],[0.3333333333333333,\"#9c179e\"],[0.4444444444444444,\"#bd3786\"],[0.5555555555555556,\"#d8576b\"],[0.6666666666666666,\"#ed7953\"],[0.7777777777777778,\"#fb9f3a\"],[0.8888888888888888,\"#fdca26\"],[1.0,\"#f0f921\"]],\"sequentialminus\":[[0.0,\"#0d0887\"],[0.1111111111111111,\"#46039f\"],[0.2222222222222222,\"#7201a8\"],[0.3333333333333333,\"#9c179e\"],[0.4444444444444444,\"#bd3786\"],[0.5555555555555556,\"#d8576b\"],[0.6666666666666666,\"#ed7953\"],[0.7777777777777778,\"#fb9f3a\"],[0.8888888888888888,\"#fdca26\"],[1.0,\"#f0f921\"]],\"diverging\":[[0,\"#8e0152\"],[0.1,\"#c51b7d\"],[0.2,\"#de77ae\"],[0.3,\"#f1b6da\"],[0.4,\"#fde0ef\"],[0.5,\"#f7f7f7\"],[0.6,\"#e6f5d0\"],[0.7,\"#b8e186\"],[0.8,\"#7fbc41\"],[0.9,\"#4d9221\"],[1,\"#276419\"]]},\"xaxis\":{\"gridcolor\":\"white\",\"linecolor\":\"white\",\"ticks\":\"\",\"title\":{\"standoff\":15},\"zerolinecolor\":\"white\",\"automargin\":true,\"zerolinewidth\":2},\"yaxis\":{\"gridcolor\":\"white\",\"linecolor\":\"white\",\"ticks\":\"\",\"title\":{\"standoff\":15},\"zerolinecolor\":\"white\",\"automargin\":true,\"zerolinewidth\":2},\"scene\":{\"xaxis\":{\"backgroundcolor\":\"#E5ECF6\",\"gridcolor\":\"white\",\"linecolor\":\"white\",\"showbackground\":true,\"ticks\":\"\",\"zerolinecolor\":\"white\",\"gridwidth\":2},\"yaxis\":{\"backgroundcolor\":\"#E5ECF6\",\"gridcolor\":\"white\",\"linecolor\":\"white\",\"showbackground\":true,\"ticks\":\"\",\"zerolinecolor\":\"white\",\"gridwidth\":2},\"zaxis\":{\"backgroundcolor\":\"#E5ECF6\",\"gridcolor\":\"white\",\"linecolor\":\"white\",\"showbackground\":true,\"ticks\":\"\",\"zerolinecolor\":\"white\",\"gridwidth\":2}},\"shapedefaults\":{\"line\":{\"color\":\"#2a3f5f\"}},\"annotationdefaults\":{\"arrowcolor\":\"#2a3f5f\",\"arrowhead\":0,\"arrowwidth\":1},\"geo\":{\"bgcolor\":\"white\",\"landcolor\":\"#E5ECF6\",\"subunitcolor\":\"white\",\"showland\":true,\"showlakes\":true,\"lakecolor\":\"white\"},\"title\":{\"x\":0.05},\"mapbox\":{\"style\":\"light\"}}}},                        {\"responsive\": true}                    ).then(function(){\n",
       "                            \n",
       "var gd = document.getElementById('056ce664-f653-436c-92e2-49c112fd19af');\n",
       "var x = new MutationObserver(function (mutations, observer) {{\n",
       "        var display = window.getComputedStyle(gd).display;\n",
       "        if (!display || display === 'none') {{\n",
       "            console.log([gd, 'removed!']);\n",
       "            Plotly.purge(gd);\n",
       "            observer.disconnect();\n",
       "        }}\n",
       "}});\n",
       "\n",
       "// Listen for the removal of the full notebook cells\n",
       "var notebookContainer = gd.closest('#notebook-container');\n",
       "if (notebookContainer) {{\n",
       "    x.observe(notebookContainer, {childList: true});\n",
       "}}\n",
       "\n",
       "// Listen for the clearing of the current output cell\n",
       "var outputEl = gd.closest('.output');\n",
       "if (outputEl) {{\n",
       "    x.observe(outputEl, {childList: true});\n",
       "}}\n",
       "\n",
       "                        })                };                });            </script>        </div>"
      ]
     },
     "metadata": {},
     "output_type": "display_data"
    },
    {
     "data": {
      "application/vnd.plotly.v1+json": {
       "config": {
        "plotlyServerURL": "https://plot.ly"
       },
       "data": [
        {
         "autocolorscale": false,
         "colorbar": {
          "tickprefix": "",
          "title": {
           "text": "xgboost recall_score"
          }
         },
         "colorscale": [
          [
           0,
           "rgb(247,251,255)"
          ],
          [
           0.125,
           "rgb(222,235,247)"
          ],
          [
           0.25,
           "rgb(198,219,239)"
          ],
          [
           0.375,
           "rgb(158,202,225)"
          ],
          [
           0.5,
           "rgb(107,174,214)"
          ],
          [
           0.625,
           "rgb(66,146,198)"
          ],
          [
           0.75,
           "rgb(33,113,181)"
          ],
          [
           0.875,
           "rgb(8,81,156)"
          ],
          [
           1,
           "rgb(8,48,107)"
          ]
         ],
         "locations": [
          "FJI",
          "FJI",
          "TZA",
          "TZA",
          "TZA",
          "CAN",
          "CAN",
          "USA",
          "USA",
          "USA",
          "KAZ",
          "KAZ",
          "KAZ",
          "UZB",
          "UZB",
          "UZB",
          "IDN",
          "IDN",
          "IDN",
          "ARG",
          "ARG",
          "ARG",
          "CHL",
          "CHL",
          "CHL",
          "SOM",
          "SOM",
          "SOM",
          "KEN",
          "KEN",
          "KEN",
          "SDN",
          "SDN",
          "SDN",
          "TCD",
          "TCD",
          "TCD",
          "HTI",
          "HTI",
          "HTI",
          "RUS",
          "RUS",
          "RUS",
          "NOR",
          "NOR",
          "ZAF",
          "ZAF",
          "ZAF",
          "LSO",
          "LSO",
          "LSO",
          "MEX",
          "MEX",
          "MEX",
          "URY",
          "URY",
          "BRA",
          "BRA",
          "BRA",
          "BOL",
          "BOL",
          "BOL",
          "PER",
          "PER",
          "PER",
          "COL",
          "COL",
          "COL",
          "PAN",
          "PAN",
          "NIC",
          "NIC",
          "NIC",
          "HND",
          "HND",
          "HND",
          "SLV",
          "SLV",
          "SLV",
          "GTM",
          "GTM",
          "GTM",
          "BLZ",
          "BLZ",
          "BLZ",
          "GUY",
          "GUY",
          "GUY",
          "SUR",
          "SUR",
          "FRA",
          "FRA",
          "FRA",
          "ECU",
          "ECU",
          "ECU",
          "JAM",
          "JAM",
          "JAM",
          "CUB",
          "CUB",
          "CUB",
          "ZWE",
          "ZWE",
          "ZWE",
          "BWA",
          "BWA",
          "BWA",
          "NAM",
          "NAM",
          "NAM",
          "SEN",
          "SEN",
          "SEN",
          "MLI",
          "MLI",
          "MLI",
          "MRT",
          "MRT",
          "BEN",
          "BEN",
          "BEN",
          "NER",
          "NER",
          "NER",
          "NGA",
          "NGA",
          "NGA",
          "CMR",
          "CMR",
          "CMR",
          "TGO",
          "TGO",
          "TGO",
          "GHA",
          "GHA",
          "GHA",
          "CIV",
          "GIN",
          "GIN",
          "GIN",
          "LBR",
          "LBR",
          "LBR",
          "BFA",
          "BFA",
          "BFA",
          "GAB",
          "GAB",
          "ZMB",
          "ZMB",
          "ZMB",
          "MWI",
          "MWI",
          "MWI",
          "MOZ",
          "MOZ",
          "MOZ",
          "AGO",
          "AGO",
          "AGO",
          "BDI",
          "BDI",
          "ISR",
          "ISR",
          "ISR",
          "LBN",
          "LBN",
          "LBN",
          "MDG",
          "MDG",
          "MDG",
          "TUN",
          "TUN",
          "DZA",
          "DZA",
          "DZA",
          "JOR",
          "JOR",
          "JOR",
          "QAT",
          "QAT",
          "KWT",
          "KWT",
          "IRQ",
          "IRQ",
          "IRQ",
          "OMN",
          "OMN",
          "KHM",
          "KHM",
          "THA",
          "THA",
          "THA",
          "MMR",
          "MMR",
          "MMR",
          "VNM",
          "VNM",
          "MNG",
          "MNG",
          "IND",
          "IND",
          "IND",
          "BGD",
          "BGD",
          "BGD",
          "BTN",
          "BTN",
          "NPL",
          "NPL",
          "NPL",
          "PAK",
          "PAK",
          "PAK",
          "AFG",
          "AFG",
          "AFG",
          "TJK",
          "TJK",
          "KGZ",
          "KGZ",
          "KGZ",
          "TKM",
          "TKM",
          "SYR",
          "SYR",
          "SYR",
          "ARM",
          "ARM",
          "ARM",
          "SWE",
          "SWE",
          "BLR",
          "BLR",
          "BLR",
          "UKR",
          "UKR",
          "UKR",
          "POL",
          "POL",
          "AUT",
          "AUT",
          "HUN",
          "HUN",
          "HUN",
          "MDA",
          "MDA",
          "MDA",
          "ROU",
          "ROU",
          "LTU",
          "LTU",
          "LVA",
          "LVA",
          "EST",
          "EST",
          "DEU",
          "DEU",
          "DEU",
          "BGR",
          "BGR",
          "GRC",
          "GRC",
          "GRC",
          "ALB",
          "ALB",
          "HRV",
          "HRV",
          "CHE",
          "CHE",
          "LUX",
          "LUX",
          "BEL",
          "BEL",
          "NLD",
          "NLD",
          "PRT",
          "PRT",
          "ESP",
          "ESP",
          "ESP",
          "IRL",
          "IRL",
          "IRL",
          "AUS",
          "AUS",
          "LKA",
          "LKA",
          "LKA",
          "CHN",
          "CHN",
          "CHN",
          "ITA",
          "ITA",
          "ITA",
          "DNK",
          "DNK",
          "GBR",
          "GBR",
          "ISL",
          "ISL",
          "AZE",
          "AZE",
          "AZE",
          "GEO",
          "GEO",
          "GEO",
          "PHL",
          "PHL",
          "PHL",
          "MYS",
          "MYS",
          "BRN",
          "BRN",
          "SVN",
          "SVN",
          "FIN",
          "FIN",
          "SVK",
          "SVK",
          "CZE",
          "CZE",
          "CZE",
          "ERI",
          "ERI",
          "JPN",
          "JPN",
          "PRY",
          "PRY",
          "PRY",
          "SAU",
          "SAU",
          "SAU",
          "CYP",
          "CYP",
          "CYP",
          "MAR",
          "MAR",
          "MAR",
          "LBY",
          "LBY",
          "LBY",
          "ETH",
          "ETH",
          "ETH",
          "DJI",
          "UGA",
          "UGA",
          "UGA",
          "RWA",
          "RWA",
          "RWA",
          "MKD",
          "MKD",
          "MKD",
          "SRB",
          "SRB",
          "SRB",
          "MNE",
          "MNE",
          "TTO",
          "TTO",
          "TTO"
         ],
         "marker": {
          "line": {
           "color": "darkgray",
           "width": 0.5
          }
         },
         "reversescale": false,
         "text": [
          "FJI",
          "FJI",
          "TZA",
          "TZA",
          "TZA",
          "CAN",
          "CAN",
          "USA",
          "USA",
          "USA",
          "KAZ",
          "KAZ",
          "KAZ",
          "UZB",
          "UZB",
          "UZB",
          "IDN",
          "IDN",
          "IDN",
          "ARG",
          "ARG",
          "ARG",
          "CHL",
          "CHL",
          "CHL",
          "SOM",
          "SOM",
          "SOM",
          "KEN",
          "KEN",
          "KEN",
          "SDN",
          "SDN",
          "SDN",
          "TCD",
          "TCD",
          "TCD",
          "HTI",
          "HTI",
          "HTI",
          "RUS",
          "RUS",
          "RUS",
          "NOR",
          "NOR",
          "ZAF",
          "ZAF",
          "ZAF",
          "LSO",
          "LSO",
          "LSO",
          "MEX",
          "MEX",
          "MEX",
          "URY",
          "URY",
          "BRA",
          "BRA",
          "BRA",
          "BOL",
          "BOL",
          "BOL",
          "PER",
          "PER",
          "PER",
          "COL",
          "COL",
          "COL",
          "PAN",
          "PAN",
          "NIC",
          "NIC",
          "NIC",
          "HND",
          "HND",
          "HND",
          "SLV",
          "SLV",
          "SLV",
          "GTM",
          "GTM",
          "GTM",
          "BLZ",
          "BLZ",
          "BLZ",
          "GUY",
          "GUY",
          "GUY",
          "SUR",
          "SUR",
          "FRA",
          "FRA",
          "FRA",
          "ECU",
          "ECU",
          "ECU",
          "JAM",
          "JAM",
          "JAM",
          "CUB",
          "CUB",
          "CUB",
          "ZWE",
          "ZWE",
          "ZWE",
          "BWA",
          "BWA",
          "BWA",
          "NAM",
          "NAM",
          "NAM",
          "SEN",
          "SEN",
          "SEN",
          "MLI",
          "MLI",
          "MLI",
          "MRT",
          "MRT",
          "BEN",
          "BEN",
          "BEN",
          "NER",
          "NER",
          "NER",
          "NGA",
          "NGA",
          "NGA",
          "CMR",
          "CMR",
          "CMR",
          "TGO",
          "TGO",
          "TGO",
          "GHA",
          "GHA",
          "GHA",
          "CIV",
          "GIN",
          "GIN",
          "GIN",
          "LBR",
          "LBR",
          "LBR",
          "BFA",
          "BFA",
          "BFA",
          "GAB",
          "GAB",
          "ZMB",
          "ZMB",
          "ZMB",
          "MWI",
          "MWI",
          "MWI",
          "MOZ",
          "MOZ",
          "MOZ",
          "AGO",
          "AGO",
          "AGO",
          "BDI",
          "BDI",
          "ISR",
          "ISR",
          "ISR",
          "LBN",
          "LBN",
          "LBN",
          "MDG",
          "MDG",
          "MDG",
          "TUN",
          "TUN",
          "DZA",
          "DZA",
          "DZA",
          "JOR",
          "JOR",
          "JOR",
          "QAT",
          "QAT",
          "KWT",
          "KWT",
          "IRQ",
          "IRQ",
          "IRQ",
          "OMN",
          "OMN",
          "KHM",
          "KHM",
          "THA",
          "THA",
          "THA",
          "MMR",
          "MMR",
          "MMR",
          "VNM",
          "VNM",
          "MNG",
          "MNG",
          "IND",
          "IND",
          "IND",
          "BGD",
          "BGD",
          "BGD",
          "BTN",
          "BTN",
          "NPL",
          "NPL",
          "NPL",
          "PAK",
          "PAK",
          "PAK",
          "AFG",
          "AFG",
          "AFG",
          "TJK",
          "TJK",
          "KGZ",
          "KGZ",
          "KGZ",
          "TKM",
          "TKM",
          "SYR",
          "SYR",
          "SYR",
          "ARM",
          "ARM",
          "ARM",
          "SWE",
          "SWE",
          "BLR",
          "BLR",
          "BLR",
          "UKR",
          "UKR",
          "UKR",
          "POL",
          "POL",
          "AUT",
          "AUT",
          "HUN",
          "HUN",
          "HUN",
          "MDA",
          "MDA",
          "MDA",
          "ROU",
          "ROU",
          "LTU",
          "LTU",
          "LVA",
          "LVA",
          "EST",
          "EST",
          "DEU",
          "DEU",
          "DEU",
          "BGR",
          "BGR",
          "GRC",
          "GRC",
          "GRC",
          "ALB",
          "ALB",
          "HRV",
          "HRV",
          "CHE",
          "CHE",
          "LUX",
          "LUX",
          "BEL",
          "BEL",
          "NLD",
          "NLD",
          "PRT",
          "PRT",
          "ESP",
          "ESP",
          "ESP",
          "IRL",
          "IRL",
          "IRL",
          "AUS",
          "AUS",
          "LKA",
          "LKA",
          "LKA",
          "CHN",
          "CHN",
          "CHN",
          "ITA",
          "ITA",
          "ITA",
          "DNK",
          "DNK",
          "GBR",
          "GBR",
          "ISL",
          "ISL",
          "AZE",
          "AZE",
          "AZE",
          "GEO",
          "GEO",
          "GEO",
          "PHL",
          "PHL",
          "PHL",
          "MYS",
          "MYS",
          "BRN",
          "BRN",
          "SVN",
          "SVN",
          "FIN",
          "FIN",
          "SVK",
          "SVK",
          "CZE",
          "CZE",
          "CZE",
          "ERI",
          "ERI",
          "JPN",
          "JPN",
          "PRY",
          "PRY",
          "PRY",
          "SAU",
          "SAU",
          "SAU",
          "CYP",
          "CYP",
          "CYP",
          "MAR",
          "MAR",
          "MAR",
          "LBY",
          "LBY",
          "LBY",
          "ETH",
          "ETH",
          "ETH",
          "DJI",
          "UGA",
          "UGA",
          "UGA",
          "RWA",
          "RWA",
          "RWA",
          "MKD",
          "MKD",
          "MKD",
          "SRB",
          "SRB",
          "SRB",
          "MNE",
          "MNE",
          "TTO",
          "TTO",
          "TTO"
         ],
         "type": "choropleth",
         "z": [
          0.7352941176470589,
          0.7352941176470589,
          0.7352941176470589,
          0.7352941176470589,
          0.7352941176470589,
          0,
          0,
          0.4444444444444444,
          0.4444444444444444,
          0.4444444444444444,
          0.7352941176470589,
          0.7352941176470589,
          0.7352941176470589,
          0.7352941176470589,
          0.7352941176470589,
          0.7352941176470589,
          0.7352941176470589,
          0.7352941176470589,
          0.7352941176470589,
          0.4444444444444444,
          0.4444444444444444,
          0.4444444444444444,
          0.4444444444444444,
          0.4444444444444444,
          0.4444444444444444,
          1,
          1,
          1,
          0.7352941176470589,
          0.7352941176470589,
          0.7352941176470589,
          1,
          1,
          1,
          1,
          1,
          1,
          1,
          1,
          1,
          0.7352941176470589,
          0.7352941176470589,
          0.7352941176470589,
          0,
          0,
          0.7352941176470589,
          0.7352941176470589,
          0.7352941176470589,
          0.7352941176470589,
          0.7352941176470589,
          0.7352941176470589,
          0.7352941176470589,
          0.7352941176470589,
          0.7352941176470589,
          0.4444444444444444,
          0.4444444444444444,
          0.7352941176470589,
          0.7352941176470589,
          0.7352941176470589,
          0.7352941176470589,
          0.7352941176470589,
          0.7352941176470589,
          0.7352941176470589,
          0.7352941176470589,
          0.7352941176470589,
          0.7352941176470589,
          0.7352941176470589,
          0.7352941176470589,
          0.4444444444444444,
          0.4444444444444444,
          0.7352941176470589,
          0.7352941176470589,
          0.7352941176470589,
          0.7352941176470589,
          0.7352941176470589,
          0.7352941176470589,
          0.7352941176470589,
          0.7352941176470589,
          0.7352941176470589,
          0.7352941176470589,
          0.7352941176470589,
          0.7352941176470589,
          0.4444444444444444,
          0.4444444444444444,
          0.4444444444444444,
          0.7352941176470589,
          0.7352941176470589,
          0.7352941176470589,
          0.4444444444444444,
          0.4444444444444444,
          0,
          0,
          0,
          0.7352941176470589,
          0.7352941176470589,
          0.7352941176470589,
          0.7352941176470589,
          0.7352941176470589,
          0.7352941176470589,
          0.4444444444444444,
          0.4444444444444444,
          0.4444444444444444,
          1,
          1,
          1,
          0.4444444444444444,
          0.4444444444444444,
          0.4444444444444444,
          0.7352941176470589,
          0.7352941176470589,
          0.7352941176470589,
          0.7352941176470589,
          0.7352941176470589,
          0.7352941176470589,
          1,
          1,
          1,
          0.7352941176470589,
          0.7352941176470589,
          0.7352941176470589,
          0.7352941176470589,
          0.7352941176470589,
          1,
          1,
          1,
          1,
          1,
          1,
          1,
          1,
          1,
          0.7352941176470589,
          0.7352941176470589,
          0.7352941176470589,
          0.7352941176470589,
          0.7352941176470589,
          0.7352941176470589,
          0.7352941176470589,
          1,
          1,
          1,
          0.7352941176470589,
          0.7352941176470589,
          0.7352941176470589,
          1,
          1,
          1,
          0.7352941176470589,
          0.7352941176470589,
          0.7352941176470589,
          0.7352941176470589,
          0.7352941176470589,
          0.7352941176470589,
          0.7352941176470589,
          0.7352941176470589,
          1,
          1,
          1,
          0.7352941176470589,
          0.7352941176470589,
          0.7352941176470589,
          1,
          1,
          0.4444444444444444,
          0.4444444444444444,
          0.4444444444444444,
          1,
          1,
          1,
          0.7352941176470589,
          0.7352941176470589,
          0.7352941176470589,
          0.7352941176470589,
          0.7352941176470589,
          0.7352941176470589,
          0.7352941176470589,
          0.7352941176470589,
          0.7352941176470589,
          0.7352941176470589,
          0.7352941176470589,
          0.4444444444444444,
          0.4444444444444444,
          0.4444444444444444,
          0.4444444444444444,
          1,
          1,
          1,
          0.4444444444444444,
          0.4444444444444444,
          0.7352941176470589,
          0.7352941176470589,
          0.7352941176470589,
          0.7352941176470589,
          0.7352941176470589,
          1,
          1,
          1,
          0.4444444444444444,
          0.4444444444444444,
          0.4444444444444444,
          0.4444444444444444,
          0.7352941176470589,
          0.7352941176470589,
          0.7352941176470589,
          0.7352941176470589,
          0.7352941176470589,
          0.7352941176470589,
          0.7352941176470589,
          0.7352941176470589,
          0.7352941176470589,
          0.7352941176470589,
          0.7352941176470589,
          0.7352941176470589,
          0.7352941176470589,
          0.7352941176470589,
          1,
          1,
          1,
          0.7352941176470589,
          0.7352941176470589,
          0.7352941176470589,
          0.7352941176470589,
          0.7352941176470589,
          0.7352941176470589,
          0.7352941176470589,
          1,
          1,
          1,
          0.7352941176470589,
          0.7352941176470589,
          0.7352941176470589,
          0,
          0,
          0.7352941176470589,
          0.7352941176470589,
          0.7352941176470589,
          1,
          1,
          1,
          0.4444444444444444,
          0.4444444444444444,
          0,
          0,
          0.4444444444444444,
          0.4444444444444444,
          0.4444444444444444,
          0.7352941176470589,
          0.7352941176470589,
          0.7352941176470589,
          0.4444444444444444,
          0.4444444444444444,
          0.4444444444444444,
          0.4444444444444444,
          0.4444444444444444,
          0.4444444444444444,
          0.4444444444444444,
          0.4444444444444444,
          0,
          0,
          0,
          0.4444444444444444,
          0.4444444444444444,
          0.4444444444444444,
          0.4444444444444444,
          0.4444444444444444,
          0.4444444444444444,
          0.4444444444444444,
          0.4444444444444444,
          0.4444444444444444,
          0,
          0,
          0,
          0,
          0.4444444444444444,
          0.4444444444444444,
          0,
          0,
          0,
          0,
          0.4444444444444444,
          0.4444444444444444,
          0.4444444444444444,
          0,
          0,
          0,
          0,
          0,
          1,
          1,
          1,
          0.7352941176470589,
          0.7352941176470589,
          0.7352941176470589,
          0.4444444444444444,
          0.4444444444444444,
          0.4444444444444444,
          0,
          0,
          0.4444444444444444,
          0.4444444444444444,
          0,
          0,
          0.7352941176470589,
          0.7352941176470589,
          0.7352941176470589,
          0.7352941176470589,
          0.7352941176470589,
          0.7352941176470589,
          0.7352941176470589,
          0.7352941176470589,
          0.7352941176470589,
          0.4444444444444444,
          0.4444444444444444,
          0.4444444444444444,
          0.4444444444444444,
          0,
          0,
          0,
          0,
          0.4444444444444444,
          0.4444444444444444,
          0.4444444444444444,
          0.4444444444444444,
          0.4444444444444444,
          1,
          1,
          0.4444444444444444,
          0.4444444444444444,
          0.7352941176470589,
          0.7352941176470589,
          0.7352941176470589,
          0.7352941176470589,
          0.7352941176470589,
          0.7352941176470589,
          0.4444444444444444,
          0.4444444444444444,
          0.4444444444444444,
          0.7352941176470589,
          0.7352941176470589,
          0.7352941176470589,
          1,
          1,
          1,
          1,
          1,
          1,
          0.7352941176470589,
          1,
          1,
          1,
          0.7352941176470589,
          0.7352941176470589,
          0.7352941176470589,
          0.7352941176470589,
          0.7352941176470589,
          0.7352941176470589,
          0.7352941176470589,
          0.7352941176470589,
          0.7352941176470589,
          0.4444444444444444,
          0.4444444444444444,
          0.4444444444444444,
          0.4444444444444444,
          0.4444444444444444
         ]
        }
       ],
       "layout": {
        "template": {
         "data": {
          "bar": [
           {
            "error_x": {
             "color": "#2a3f5f"
            },
            "error_y": {
             "color": "#2a3f5f"
            },
            "marker": {
             "line": {
              "color": "#E5ECF6",
              "width": 0.5
             },
             "pattern": {
              "fillmode": "overlay",
              "size": 10,
              "solidity": 0.2
             }
            },
            "type": "bar"
           }
          ],
          "barpolar": [
           {
            "marker": {
             "line": {
              "color": "#E5ECF6",
              "width": 0.5
             },
             "pattern": {
              "fillmode": "overlay",
              "size": 10,
              "solidity": 0.2
             }
            },
            "type": "barpolar"
           }
          ],
          "carpet": [
           {
            "aaxis": {
             "endlinecolor": "#2a3f5f",
             "gridcolor": "white",
             "linecolor": "white",
             "minorgridcolor": "white",
             "startlinecolor": "#2a3f5f"
            },
            "baxis": {
             "endlinecolor": "#2a3f5f",
             "gridcolor": "white",
             "linecolor": "white",
             "minorgridcolor": "white",
             "startlinecolor": "#2a3f5f"
            },
            "type": "carpet"
           }
          ],
          "choropleth": [
           {
            "colorbar": {
             "outlinewidth": 0,
             "ticks": ""
            },
            "type": "choropleth"
           }
          ],
          "contour": [
           {
            "colorbar": {
             "outlinewidth": 0,
             "ticks": ""
            },
            "colorscale": [
             [
              0,
              "#0d0887"
             ],
             [
              0.1111111111111111,
              "#46039f"
             ],
             [
              0.2222222222222222,
              "#7201a8"
             ],
             [
              0.3333333333333333,
              "#9c179e"
             ],
             [
              0.4444444444444444,
              "#bd3786"
             ],
             [
              0.5555555555555556,
              "#d8576b"
             ],
             [
              0.6666666666666666,
              "#ed7953"
             ],
             [
              0.7777777777777778,
              "#fb9f3a"
             ],
             [
              0.8888888888888888,
              "#fdca26"
             ],
             [
              1,
              "#f0f921"
             ]
            ],
            "type": "contour"
           }
          ],
          "contourcarpet": [
           {
            "colorbar": {
             "outlinewidth": 0,
             "ticks": ""
            },
            "type": "contourcarpet"
           }
          ],
          "heatmap": [
           {
            "colorbar": {
             "outlinewidth": 0,
             "ticks": ""
            },
            "colorscale": [
             [
              0,
              "#0d0887"
             ],
             [
              0.1111111111111111,
              "#46039f"
             ],
             [
              0.2222222222222222,
              "#7201a8"
             ],
             [
              0.3333333333333333,
              "#9c179e"
             ],
             [
              0.4444444444444444,
              "#bd3786"
             ],
             [
              0.5555555555555556,
              "#d8576b"
             ],
             [
              0.6666666666666666,
              "#ed7953"
             ],
             [
              0.7777777777777778,
              "#fb9f3a"
             ],
             [
              0.8888888888888888,
              "#fdca26"
             ],
             [
              1,
              "#f0f921"
             ]
            ],
            "type": "heatmap"
           }
          ],
          "heatmapgl": [
           {
            "colorbar": {
             "outlinewidth": 0,
             "ticks": ""
            },
            "colorscale": [
             [
              0,
              "#0d0887"
             ],
             [
              0.1111111111111111,
              "#46039f"
             ],
             [
              0.2222222222222222,
              "#7201a8"
             ],
             [
              0.3333333333333333,
              "#9c179e"
             ],
             [
              0.4444444444444444,
              "#bd3786"
             ],
             [
              0.5555555555555556,
              "#d8576b"
             ],
             [
              0.6666666666666666,
              "#ed7953"
             ],
             [
              0.7777777777777778,
              "#fb9f3a"
             ],
             [
              0.8888888888888888,
              "#fdca26"
             ],
             [
              1,
              "#f0f921"
             ]
            ],
            "type": "heatmapgl"
           }
          ],
          "histogram": [
           {
            "marker": {
             "pattern": {
              "fillmode": "overlay",
              "size": 10,
              "solidity": 0.2
             }
            },
            "type": "histogram"
           }
          ],
          "histogram2d": [
           {
            "colorbar": {
             "outlinewidth": 0,
             "ticks": ""
            },
            "colorscale": [
             [
              0,
              "#0d0887"
             ],
             [
              0.1111111111111111,
              "#46039f"
             ],
             [
              0.2222222222222222,
              "#7201a8"
             ],
             [
              0.3333333333333333,
              "#9c179e"
             ],
             [
              0.4444444444444444,
              "#bd3786"
             ],
             [
              0.5555555555555556,
              "#d8576b"
             ],
             [
              0.6666666666666666,
              "#ed7953"
             ],
             [
              0.7777777777777778,
              "#fb9f3a"
             ],
             [
              0.8888888888888888,
              "#fdca26"
             ],
             [
              1,
              "#f0f921"
             ]
            ],
            "type": "histogram2d"
           }
          ],
          "histogram2dcontour": [
           {
            "colorbar": {
             "outlinewidth": 0,
             "ticks": ""
            },
            "colorscale": [
             [
              0,
              "#0d0887"
             ],
             [
              0.1111111111111111,
              "#46039f"
             ],
             [
              0.2222222222222222,
              "#7201a8"
             ],
             [
              0.3333333333333333,
              "#9c179e"
             ],
             [
              0.4444444444444444,
              "#bd3786"
             ],
             [
              0.5555555555555556,
              "#d8576b"
             ],
             [
              0.6666666666666666,
              "#ed7953"
             ],
             [
              0.7777777777777778,
              "#fb9f3a"
             ],
             [
              0.8888888888888888,
              "#fdca26"
             ],
             [
              1,
              "#f0f921"
             ]
            ],
            "type": "histogram2dcontour"
           }
          ],
          "mesh3d": [
           {
            "colorbar": {
             "outlinewidth": 0,
             "ticks": ""
            },
            "type": "mesh3d"
           }
          ],
          "parcoords": [
           {
            "line": {
             "colorbar": {
              "outlinewidth": 0,
              "ticks": ""
             }
            },
            "type": "parcoords"
           }
          ],
          "pie": [
           {
            "automargin": true,
            "type": "pie"
           }
          ],
          "scatter": [
           {
            "fillpattern": {
             "fillmode": "overlay",
             "size": 10,
             "solidity": 0.2
            },
            "type": "scatter"
           }
          ],
          "scatter3d": [
           {
            "line": {
             "colorbar": {
              "outlinewidth": 0,
              "ticks": ""
             }
            },
            "marker": {
             "colorbar": {
              "outlinewidth": 0,
              "ticks": ""
             }
            },
            "type": "scatter3d"
           }
          ],
          "scattercarpet": [
           {
            "marker": {
             "colorbar": {
              "outlinewidth": 0,
              "ticks": ""
             }
            },
            "type": "scattercarpet"
           }
          ],
          "scattergeo": [
           {
            "marker": {
             "colorbar": {
              "outlinewidth": 0,
              "ticks": ""
             }
            },
            "type": "scattergeo"
           }
          ],
          "scattergl": [
           {
            "marker": {
             "colorbar": {
              "outlinewidth": 0,
              "ticks": ""
             }
            },
            "type": "scattergl"
           }
          ],
          "scattermapbox": [
           {
            "marker": {
             "colorbar": {
              "outlinewidth": 0,
              "ticks": ""
             }
            },
            "type": "scattermapbox"
           }
          ],
          "scatterpolar": [
           {
            "marker": {
             "colorbar": {
              "outlinewidth": 0,
              "ticks": ""
             }
            },
            "type": "scatterpolar"
           }
          ],
          "scatterpolargl": [
           {
            "marker": {
             "colorbar": {
              "outlinewidth": 0,
              "ticks": ""
             }
            },
            "type": "scatterpolargl"
           }
          ],
          "scatterternary": [
           {
            "marker": {
             "colorbar": {
              "outlinewidth": 0,
              "ticks": ""
             }
            },
            "type": "scatterternary"
           }
          ],
          "surface": [
           {
            "colorbar": {
             "outlinewidth": 0,
             "ticks": ""
            },
            "colorscale": [
             [
              0,
              "#0d0887"
             ],
             [
              0.1111111111111111,
              "#46039f"
             ],
             [
              0.2222222222222222,
              "#7201a8"
             ],
             [
              0.3333333333333333,
              "#9c179e"
             ],
             [
              0.4444444444444444,
              "#bd3786"
             ],
             [
              0.5555555555555556,
              "#d8576b"
             ],
             [
              0.6666666666666666,
              "#ed7953"
             ],
             [
              0.7777777777777778,
              "#fb9f3a"
             ],
             [
              0.8888888888888888,
              "#fdca26"
             ],
             [
              1,
              "#f0f921"
             ]
            ],
            "type": "surface"
           }
          ],
          "table": [
           {
            "cells": {
             "fill": {
              "color": "#EBF0F8"
             },
             "line": {
              "color": "white"
             }
            },
            "header": {
             "fill": {
              "color": "#C8D4E3"
             },
             "line": {
              "color": "white"
             }
            },
            "type": "table"
           }
          ]
         },
         "layout": {
          "annotationdefaults": {
           "arrowcolor": "#2a3f5f",
           "arrowhead": 0,
           "arrowwidth": 1
          },
          "autotypenumbers": "strict",
          "coloraxis": {
           "colorbar": {
            "outlinewidth": 0,
            "ticks": ""
           }
          },
          "colorscale": {
           "diverging": [
            [
             0,
             "#8e0152"
            ],
            [
             0.1,
             "#c51b7d"
            ],
            [
             0.2,
             "#de77ae"
            ],
            [
             0.3,
             "#f1b6da"
            ],
            [
             0.4,
             "#fde0ef"
            ],
            [
             0.5,
             "#f7f7f7"
            ],
            [
             0.6,
             "#e6f5d0"
            ],
            [
             0.7,
             "#b8e186"
            ],
            [
             0.8,
             "#7fbc41"
            ],
            [
             0.9,
             "#4d9221"
            ],
            [
             1,
             "#276419"
            ]
           ],
           "sequential": [
            [
             0,
             "#0d0887"
            ],
            [
             0.1111111111111111,
             "#46039f"
            ],
            [
             0.2222222222222222,
             "#7201a8"
            ],
            [
             0.3333333333333333,
             "#9c179e"
            ],
            [
             0.4444444444444444,
             "#bd3786"
            ],
            [
             0.5555555555555556,
             "#d8576b"
            ],
            [
             0.6666666666666666,
             "#ed7953"
            ],
            [
             0.7777777777777778,
             "#fb9f3a"
            ],
            [
             0.8888888888888888,
             "#fdca26"
            ],
            [
             1,
             "#f0f921"
            ]
           ],
           "sequentialminus": [
            [
             0,
             "#0d0887"
            ],
            [
             0.1111111111111111,
             "#46039f"
            ],
            [
             0.2222222222222222,
             "#7201a8"
            ],
            [
             0.3333333333333333,
             "#9c179e"
            ],
            [
             0.4444444444444444,
             "#bd3786"
            ],
            [
             0.5555555555555556,
             "#d8576b"
            ],
            [
             0.6666666666666666,
             "#ed7953"
            ],
            [
             0.7777777777777778,
             "#fb9f3a"
            ],
            [
             0.8888888888888888,
             "#fdca26"
            ],
            [
             1,
             "#f0f921"
            ]
           ]
          },
          "colorway": [
           "#636efa",
           "#EF553B",
           "#00cc96",
           "#ab63fa",
           "#FFA15A",
           "#19d3f3",
           "#FF6692",
           "#B6E880",
           "#FF97FF",
           "#FECB52"
          ],
          "font": {
           "color": "#2a3f5f"
          },
          "geo": {
           "bgcolor": "white",
           "lakecolor": "white",
           "landcolor": "#E5ECF6",
           "showlakes": true,
           "showland": true,
           "subunitcolor": "white"
          },
          "hoverlabel": {
           "align": "left"
          },
          "hovermode": "closest",
          "mapbox": {
           "style": "light"
          },
          "paper_bgcolor": "white",
          "plot_bgcolor": "#E5ECF6",
          "polar": {
           "angularaxis": {
            "gridcolor": "white",
            "linecolor": "white",
            "ticks": ""
           },
           "bgcolor": "#E5ECF6",
           "radialaxis": {
            "gridcolor": "white",
            "linecolor": "white",
            "ticks": ""
           }
          },
          "scene": {
           "xaxis": {
            "backgroundcolor": "#E5ECF6",
            "gridcolor": "white",
            "gridwidth": 2,
            "linecolor": "white",
            "showbackground": true,
            "ticks": "",
            "zerolinecolor": "white"
           },
           "yaxis": {
            "backgroundcolor": "#E5ECF6",
            "gridcolor": "white",
            "gridwidth": 2,
            "linecolor": "white",
            "showbackground": true,
            "ticks": "",
            "zerolinecolor": "white"
           },
           "zaxis": {
            "backgroundcolor": "#E5ECF6",
            "gridcolor": "white",
            "gridwidth": 2,
            "linecolor": "white",
            "showbackground": true,
            "ticks": "",
            "zerolinecolor": "white"
           }
          },
          "shapedefaults": {
           "line": {
            "color": "#2a3f5f"
           }
          },
          "ternary": {
           "aaxis": {
            "gridcolor": "white",
            "linecolor": "white",
            "ticks": ""
           },
           "baxis": {
            "gridcolor": "white",
            "linecolor": "white",
            "ticks": ""
           },
           "bgcolor": "#E5ECF6",
           "caxis": {
            "gridcolor": "white",
            "linecolor": "white",
            "ticks": ""
           }
          },
          "title": {
           "x": 0.05
          },
          "xaxis": {
           "automargin": true,
           "gridcolor": "white",
           "linecolor": "white",
           "ticks": "",
           "title": {
            "standoff": 15
           },
           "zerolinecolor": "white",
           "zerolinewidth": 2
          },
          "yaxis": {
           "automargin": true,
           "gridcolor": "white",
           "linecolor": "white",
           "ticks": "",
           "title": {
            "standoff": 15
           },
           "zerolinecolor": "white",
           "zerolinewidth": 2
          }
         }
        }
       }
      },
      "text/html": [
       "<div>                            <div id=\"ddbf2daa-eada-412f-b585-e71af765c7d1\" class=\"plotly-graph-div\" style=\"height:525px; width:100%;\"></div>            <script type=\"text/javascript\">                require([\"plotly\"], function(Plotly) {                    window.PLOTLYENV=window.PLOTLYENV || {};                                    if (document.getElementById(\"ddbf2daa-eada-412f-b585-e71af765c7d1\")) {                    Plotly.newPlot(                        \"ddbf2daa-eada-412f-b585-e71af765c7d1\",                        [{\"autocolorscale\":false,\"colorbar\":{\"tickprefix\":\"\",\"title\":{\"text\":\"xgboost recall_score\"}},\"colorscale\":[[0.0,\"rgb(247,251,255)\"],[0.125,\"rgb(222,235,247)\"],[0.25,\"rgb(198,219,239)\"],[0.375,\"rgb(158,202,225)\"],[0.5,\"rgb(107,174,214)\"],[0.625,\"rgb(66,146,198)\"],[0.75,\"rgb(33,113,181)\"],[0.875,\"rgb(8,81,156)\"],[1.0,\"rgb(8,48,107)\"]],\"locations\":[\"FJI\",\"FJI\",\"TZA\",\"TZA\",\"TZA\",\"CAN\",\"CAN\",\"USA\",\"USA\",\"USA\",\"KAZ\",\"KAZ\",\"KAZ\",\"UZB\",\"UZB\",\"UZB\",\"IDN\",\"IDN\",\"IDN\",\"ARG\",\"ARG\",\"ARG\",\"CHL\",\"CHL\",\"CHL\",\"SOM\",\"SOM\",\"SOM\",\"KEN\",\"KEN\",\"KEN\",\"SDN\",\"SDN\",\"SDN\",\"TCD\",\"TCD\",\"TCD\",\"HTI\",\"HTI\",\"HTI\",\"RUS\",\"RUS\",\"RUS\",\"NOR\",\"NOR\",\"ZAF\",\"ZAF\",\"ZAF\",\"LSO\",\"LSO\",\"LSO\",\"MEX\",\"MEX\",\"MEX\",\"URY\",\"URY\",\"BRA\",\"BRA\",\"BRA\",\"BOL\",\"BOL\",\"BOL\",\"PER\",\"PER\",\"PER\",\"COL\",\"COL\",\"COL\",\"PAN\",\"PAN\",\"NIC\",\"NIC\",\"NIC\",\"HND\",\"HND\",\"HND\",\"SLV\",\"SLV\",\"SLV\",\"GTM\",\"GTM\",\"GTM\",\"BLZ\",\"BLZ\",\"BLZ\",\"GUY\",\"GUY\",\"GUY\",\"SUR\",\"SUR\",\"FRA\",\"FRA\",\"FRA\",\"ECU\",\"ECU\",\"ECU\",\"JAM\",\"JAM\",\"JAM\",\"CUB\",\"CUB\",\"CUB\",\"ZWE\",\"ZWE\",\"ZWE\",\"BWA\",\"BWA\",\"BWA\",\"NAM\",\"NAM\",\"NAM\",\"SEN\",\"SEN\",\"SEN\",\"MLI\",\"MLI\",\"MLI\",\"MRT\",\"MRT\",\"BEN\",\"BEN\",\"BEN\",\"NER\",\"NER\",\"NER\",\"NGA\",\"NGA\",\"NGA\",\"CMR\",\"CMR\",\"CMR\",\"TGO\",\"TGO\",\"TGO\",\"GHA\",\"GHA\",\"GHA\",\"CIV\",\"GIN\",\"GIN\",\"GIN\",\"LBR\",\"LBR\",\"LBR\",\"BFA\",\"BFA\",\"BFA\",\"GAB\",\"GAB\",\"ZMB\",\"ZMB\",\"ZMB\",\"MWI\",\"MWI\",\"MWI\",\"MOZ\",\"MOZ\",\"MOZ\",\"AGO\",\"AGO\",\"AGO\",\"BDI\",\"BDI\",\"ISR\",\"ISR\",\"ISR\",\"LBN\",\"LBN\",\"LBN\",\"MDG\",\"MDG\",\"MDG\",\"TUN\",\"TUN\",\"DZA\",\"DZA\",\"DZA\",\"JOR\",\"JOR\",\"JOR\",\"QAT\",\"QAT\",\"KWT\",\"KWT\",\"IRQ\",\"IRQ\",\"IRQ\",\"OMN\",\"OMN\",\"KHM\",\"KHM\",\"THA\",\"THA\",\"THA\",\"MMR\",\"MMR\",\"MMR\",\"VNM\",\"VNM\",\"MNG\",\"MNG\",\"IND\",\"IND\",\"IND\",\"BGD\",\"BGD\",\"BGD\",\"BTN\",\"BTN\",\"NPL\",\"NPL\",\"NPL\",\"PAK\",\"PAK\",\"PAK\",\"AFG\",\"AFG\",\"AFG\",\"TJK\",\"TJK\",\"KGZ\",\"KGZ\",\"KGZ\",\"TKM\",\"TKM\",\"SYR\",\"SYR\",\"SYR\",\"ARM\",\"ARM\",\"ARM\",\"SWE\",\"SWE\",\"BLR\",\"BLR\",\"BLR\",\"UKR\",\"UKR\",\"UKR\",\"POL\",\"POL\",\"AUT\",\"AUT\",\"HUN\",\"HUN\",\"HUN\",\"MDA\",\"MDA\",\"MDA\",\"ROU\",\"ROU\",\"LTU\",\"LTU\",\"LVA\",\"LVA\",\"EST\",\"EST\",\"DEU\",\"DEU\",\"DEU\",\"BGR\",\"BGR\",\"GRC\",\"GRC\",\"GRC\",\"ALB\",\"ALB\",\"HRV\",\"HRV\",\"CHE\",\"CHE\",\"LUX\",\"LUX\",\"BEL\",\"BEL\",\"NLD\",\"NLD\",\"PRT\",\"PRT\",\"ESP\",\"ESP\",\"ESP\",\"IRL\",\"IRL\",\"IRL\",\"AUS\",\"AUS\",\"LKA\",\"LKA\",\"LKA\",\"CHN\",\"CHN\",\"CHN\",\"ITA\",\"ITA\",\"ITA\",\"DNK\",\"DNK\",\"GBR\",\"GBR\",\"ISL\",\"ISL\",\"AZE\",\"AZE\",\"AZE\",\"GEO\",\"GEO\",\"GEO\",\"PHL\",\"PHL\",\"PHL\",\"MYS\",\"MYS\",\"BRN\",\"BRN\",\"SVN\",\"SVN\",\"FIN\",\"FIN\",\"SVK\",\"SVK\",\"CZE\",\"CZE\",\"CZE\",\"ERI\",\"ERI\",\"JPN\",\"JPN\",\"PRY\",\"PRY\",\"PRY\",\"SAU\",\"SAU\",\"SAU\",\"CYP\",\"CYP\",\"CYP\",\"MAR\",\"MAR\",\"MAR\",\"LBY\",\"LBY\",\"LBY\",\"ETH\",\"ETH\",\"ETH\",\"DJI\",\"UGA\",\"UGA\",\"UGA\",\"RWA\",\"RWA\",\"RWA\",\"MKD\",\"MKD\",\"MKD\",\"SRB\",\"SRB\",\"SRB\",\"MNE\",\"MNE\",\"TTO\",\"TTO\",\"TTO\"],\"marker\":{\"line\":{\"color\":\"darkgray\",\"width\":0.5}},\"reversescale\":false,\"text\":[\"FJI\",\"FJI\",\"TZA\",\"TZA\",\"TZA\",\"CAN\",\"CAN\",\"USA\",\"USA\",\"USA\",\"KAZ\",\"KAZ\",\"KAZ\",\"UZB\",\"UZB\",\"UZB\",\"IDN\",\"IDN\",\"IDN\",\"ARG\",\"ARG\",\"ARG\",\"CHL\",\"CHL\",\"CHL\",\"SOM\",\"SOM\",\"SOM\",\"KEN\",\"KEN\",\"KEN\",\"SDN\",\"SDN\",\"SDN\",\"TCD\",\"TCD\",\"TCD\",\"HTI\",\"HTI\",\"HTI\",\"RUS\",\"RUS\",\"RUS\",\"NOR\",\"NOR\",\"ZAF\",\"ZAF\",\"ZAF\",\"LSO\",\"LSO\",\"LSO\",\"MEX\",\"MEX\",\"MEX\",\"URY\",\"URY\",\"BRA\",\"BRA\",\"BRA\",\"BOL\",\"BOL\",\"BOL\",\"PER\",\"PER\",\"PER\",\"COL\",\"COL\",\"COL\",\"PAN\",\"PAN\",\"NIC\",\"NIC\",\"NIC\",\"HND\",\"HND\",\"HND\",\"SLV\",\"SLV\",\"SLV\",\"GTM\",\"GTM\",\"GTM\",\"BLZ\",\"BLZ\",\"BLZ\",\"GUY\",\"GUY\",\"GUY\",\"SUR\",\"SUR\",\"FRA\",\"FRA\",\"FRA\",\"ECU\",\"ECU\",\"ECU\",\"JAM\",\"JAM\",\"JAM\",\"CUB\",\"CUB\",\"CUB\",\"ZWE\",\"ZWE\",\"ZWE\",\"BWA\",\"BWA\",\"BWA\",\"NAM\",\"NAM\",\"NAM\",\"SEN\",\"SEN\",\"SEN\",\"MLI\",\"MLI\",\"MLI\",\"MRT\",\"MRT\",\"BEN\",\"BEN\",\"BEN\",\"NER\",\"NER\",\"NER\",\"NGA\",\"NGA\",\"NGA\",\"CMR\",\"CMR\",\"CMR\",\"TGO\",\"TGO\",\"TGO\",\"GHA\",\"GHA\",\"GHA\",\"CIV\",\"GIN\",\"GIN\",\"GIN\",\"LBR\",\"LBR\",\"LBR\",\"BFA\",\"BFA\",\"BFA\",\"GAB\",\"GAB\",\"ZMB\",\"ZMB\",\"ZMB\",\"MWI\",\"MWI\",\"MWI\",\"MOZ\",\"MOZ\",\"MOZ\",\"AGO\",\"AGO\",\"AGO\",\"BDI\",\"BDI\",\"ISR\",\"ISR\",\"ISR\",\"LBN\",\"LBN\",\"LBN\",\"MDG\",\"MDG\",\"MDG\",\"TUN\",\"TUN\",\"DZA\",\"DZA\",\"DZA\",\"JOR\",\"JOR\",\"JOR\",\"QAT\",\"QAT\",\"KWT\",\"KWT\",\"IRQ\",\"IRQ\",\"IRQ\",\"OMN\",\"OMN\",\"KHM\",\"KHM\",\"THA\",\"THA\",\"THA\",\"MMR\",\"MMR\",\"MMR\",\"VNM\",\"VNM\",\"MNG\",\"MNG\",\"IND\",\"IND\",\"IND\",\"BGD\",\"BGD\",\"BGD\",\"BTN\",\"BTN\",\"NPL\",\"NPL\",\"NPL\",\"PAK\",\"PAK\",\"PAK\",\"AFG\",\"AFG\",\"AFG\",\"TJK\",\"TJK\",\"KGZ\",\"KGZ\",\"KGZ\",\"TKM\",\"TKM\",\"SYR\",\"SYR\",\"SYR\",\"ARM\",\"ARM\",\"ARM\",\"SWE\",\"SWE\",\"BLR\",\"BLR\",\"BLR\",\"UKR\",\"UKR\",\"UKR\",\"POL\",\"POL\",\"AUT\",\"AUT\",\"HUN\",\"HUN\",\"HUN\",\"MDA\",\"MDA\",\"MDA\",\"ROU\",\"ROU\",\"LTU\",\"LTU\",\"LVA\",\"LVA\",\"EST\",\"EST\",\"DEU\",\"DEU\",\"DEU\",\"BGR\",\"BGR\",\"GRC\",\"GRC\",\"GRC\",\"ALB\",\"ALB\",\"HRV\",\"HRV\",\"CHE\",\"CHE\",\"LUX\",\"LUX\",\"BEL\",\"BEL\",\"NLD\",\"NLD\",\"PRT\",\"PRT\",\"ESP\",\"ESP\",\"ESP\",\"IRL\",\"IRL\",\"IRL\",\"AUS\",\"AUS\",\"LKA\",\"LKA\",\"LKA\",\"CHN\",\"CHN\",\"CHN\",\"ITA\",\"ITA\",\"ITA\",\"DNK\",\"DNK\",\"GBR\",\"GBR\",\"ISL\",\"ISL\",\"AZE\",\"AZE\",\"AZE\",\"GEO\",\"GEO\",\"GEO\",\"PHL\",\"PHL\",\"PHL\",\"MYS\",\"MYS\",\"BRN\",\"BRN\",\"SVN\",\"SVN\",\"FIN\",\"FIN\",\"SVK\",\"SVK\",\"CZE\",\"CZE\",\"CZE\",\"ERI\",\"ERI\",\"JPN\",\"JPN\",\"PRY\",\"PRY\",\"PRY\",\"SAU\",\"SAU\",\"SAU\",\"CYP\",\"CYP\",\"CYP\",\"MAR\",\"MAR\",\"MAR\",\"LBY\",\"LBY\",\"LBY\",\"ETH\",\"ETH\",\"ETH\",\"DJI\",\"UGA\",\"UGA\",\"UGA\",\"RWA\",\"RWA\",\"RWA\",\"MKD\",\"MKD\",\"MKD\",\"SRB\",\"SRB\",\"SRB\",\"MNE\",\"MNE\",\"TTO\",\"TTO\",\"TTO\"],\"z\":[0.7352941176470589,0.7352941176470589,0.7352941176470589,0.7352941176470589,0.7352941176470589,0.0,0.0,0.4444444444444444,0.4444444444444444,0.4444444444444444,0.7352941176470589,0.7352941176470589,0.7352941176470589,0.7352941176470589,0.7352941176470589,0.7352941176470589,0.7352941176470589,0.7352941176470589,0.7352941176470589,0.4444444444444444,0.4444444444444444,0.4444444444444444,0.4444444444444444,0.4444444444444444,0.4444444444444444,1.0,1.0,1.0,0.7352941176470589,0.7352941176470589,0.7352941176470589,1.0,1.0,1.0,1.0,1.0,1.0,1.0,1.0,1.0,0.7352941176470589,0.7352941176470589,0.7352941176470589,0.0,0.0,0.7352941176470589,0.7352941176470589,0.7352941176470589,0.7352941176470589,0.7352941176470589,0.7352941176470589,0.7352941176470589,0.7352941176470589,0.7352941176470589,0.4444444444444444,0.4444444444444444,0.7352941176470589,0.7352941176470589,0.7352941176470589,0.7352941176470589,0.7352941176470589,0.7352941176470589,0.7352941176470589,0.7352941176470589,0.7352941176470589,0.7352941176470589,0.7352941176470589,0.7352941176470589,0.4444444444444444,0.4444444444444444,0.7352941176470589,0.7352941176470589,0.7352941176470589,0.7352941176470589,0.7352941176470589,0.7352941176470589,0.7352941176470589,0.7352941176470589,0.7352941176470589,0.7352941176470589,0.7352941176470589,0.7352941176470589,0.4444444444444444,0.4444444444444444,0.4444444444444444,0.7352941176470589,0.7352941176470589,0.7352941176470589,0.4444444444444444,0.4444444444444444,0.0,0.0,0.0,0.7352941176470589,0.7352941176470589,0.7352941176470589,0.7352941176470589,0.7352941176470589,0.7352941176470589,0.4444444444444444,0.4444444444444444,0.4444444444444444,1.0,1.0,1.0,0.4444444444444444,0.4444444444444444,0.4444444444444444,0.7352941176470589,0.7352941176470589,0.7352941176470589,0.7352941176470589,0.7352941176470589,0.7352941176470589,1.0,1.0,1.0,0.7352941176470589,0.7352941176470589,0.7352941176470589,0.7352941176470589,0.7352941176470589,1.0,1.0,1.0,1.0,1.0,1.0,1.0,1.0,1.0,0.7352941176470589,0.7352941176470589,0.7352941176470589,0.7352941176470589,0.7352941176470589,0.7352941176470589,0.7352941176470589,1.0,1.0,1.0,0.7352941176470589,0.7352941176470589,0.7352941176470589,1.0,1.0,1.0,0.7352941176470589,0.7352941176470589,0.7352941176470589,0.7352941176470589,0.7352941176470589,0.7352941176470589,0.7352941176470589,0.7352941176470589,1.0,1.0,1.0,0.7352941176470589,0.7352941176470589,0.7352941176470589,1.0,1.0,0.4444444444444444,0.4444444444444444,0.4444444444444444,1.0,1.0,1.0,0.7352941176470589,0.7352941176470589,0.7352941176470589,0.7352941176470589,0.7352941176470589,0.7352941176470589,0.7352941176470589,0.7352941176470589,0.7352941176470589,0.7352941176470589,0.7352941176470589,0.4444444444444444,0.4444444444444444,0.4444444444444444,0.4444444444444444,1.0,1.0,1.0,0.4444444444444444,0.4444444444444444,0.7352941176470589,0.7352941176470589,0.7352941176470589,0.7352941176470589,0.7352941176470589,1.0,1.0,1.0,0.4444444444444444,0.4444444444444444,0.4444444444444444,0.4444444444444444,0.7352941176470589,0.7352941176470589,0.7352941176470589,0.7352941176470589,0.7352941176470589,0.7352941176470589,0.7352941176470589,0.7352941176470589,0.7352941176470589,0.7352941176470589,0.7352941176470589,0.7352941176470589,0.7352941176470589,0.7352941176470589,1.0,1.0,1.0,0.7352941176470589,0.7352941176470589,0.7352941176470589,0.7352941176470589,0.7352941176470589,0.7352941176470589,0.7352941176470589,1.0,1.0,1.0,0.7352941176470589,0.7352941176470589,0.7352941176470589,0.0,0.0,0.7352941176470589,0.7352941176470589,0.7352941176470589,1.0,1.0,1.0,0.4444444444444444,0.4444444444444444,0.0,0.0,0.4444444444444444,0.4444444444444444,0.4444444444444444,0.7352941176470589,0.7352941176470589,0.7352941176470589,0.4444444444444444,0.4444444444444444,0.4444444444444444,0.4444444444444444,0.4444444444444444,0.4444444444444444,0.4444444444444444,0.4444444444444444,0.0,0.0,0.0,0.4444444444444444,0.4444444444444444,0.4444444444444444,0.4444444444444444,0.4444444444444444,0.4444444444444444,0.4444444444444444,0.4444444444444444,0.4444444444444444,0.0,0.0,0.0,0.0,0.4444444444444444,0.4444444444444444,0.0,0.0,0.0,0.0,0.4444444444444444,0.4444444444444444,0.4444444444444444,0.0,0.0,0.0,0.0,0.0,1.0,1.0,1.0,0.7352941176470589,0.7352941176470589,0.7352941176470589,0.4444444444444444,0.4444444444444444,0.4444444444444444,0.0,0.0,0.4444444444444444,0.4444444444444444,0.0,0.0,0.7352941176470589,0.7352941176470589,0.7352941176470589,0.7352941176470589,0.7352941176470589,0.7352941176470589,0.7352941176470589,0.7352941176470589,0.7352941176470589,0.4444444444444444,0.4444444444444444,0.4444444444444444,0.4444444444444444,0.0,0.0,0.0,0.0,0.4444444444444444,0.4444444444444444,0.4444444444444444,0.4444444444444444,0.4444444444444444,1.0,1.0,0.4444444444444444,0.4444444444444444,0.7352941176470589,0.7352941176470589,0.7352941176470589,0.7352941176470589,0.7352941176470589,0.7352941176470589,0.4444444444444444,0.4444444444444444,0.4444444444444444,0.7352941176470589,0.7352941176470589,0.7352941176470589,1.0,1.0,1.0,1.0,1.0,1.0,0.7352941176470589,1.0,1.0,1.0,0.7352941176470589,0.7352941176470589,0.7352941176470589,0.7352941176470589,0.7352941176470589,0.7352941176470589,0.7352941176470589,0.7352941176470589,0.7352941176470589,0.4444444444444444,0.4444444444444444,0.4444444444444444,0.4444444444444444,0.4444444444444444],\"type\":\"choropleth\"}],                        {\"template\":{\"data\":{\"histogram2dcontour\":[{\"type\":\"histogram2dcontour\",\"colorbar\":{\"outlinewidth\":0,\"ticks\":\"\"},\"colorscale\":[[0.0,\"#0d0887\"],[0.1111111111111111,\"#46039f\"],[0.2222222222222222,\"#7201a8\"],[0.3333333333333333,\"#9c179e\"],[0.4444444444444444,\"#bd3786\"],[0.5555555555555556,\"#d8576b\"],[0.6666666666666666,\"#ed7953\"],[0.7777777777777778,\"#fb9f3a\"],[0.8888888888888888,\"#fdca26\"],[1.0,\"#f0f921\"]]}],\"choropleth\":[{\"type\":\"choropleth\",\"colorbar\":{\"outlinewidth\":0,\"ticks\":\"\"}}],\"histogram2d\":[{\"type\":\"histogram2d\",\"colorbar\":{\"outlinewidth\":0,\"ticks\":\"\"},\"colorscale\":[[0.0,\"#0d0887\"],[0.1111111111111111,\"#46039f\"],[0.2222222222222222,\"#7201a8\"],[0.3333333333333333,\"#9c179e\"],[0.4444444444444444,\"#bd3786\"],[0.5555555555555556,\"#d8576b\"],[0.6666666666666666,\"#ed7953\"],[0.7777777777777778,\"#fb9f3a\"],[0.8888888888888888,\"#fdca26\"],[1.0,\"#f0f921\"]]}],\"heatmap\":[{\"type\":\"heatmap\",\"colorbar\":{\"outlinewidth\":0,\"ticks\":\"\"},\"colorscale\":[[0.0,\"#0d0887\"],[0.1111111111111111,\"#46039f\"],[0.2222222222222222,\"#7201a8\"],[0.3333333333333333,\"#9c179e\"],[0.4444444444444444,\"#bd3786\"],[0.5555555555555556,\"#d8576b\"],[0.6666666666666666,\"#ed7953\"],[0.7777777777777778,\"#fb9f3a\"],[0.8888888888888888,\"#fdca26\"],[1.0,\"#f0f921\"]]}],\"heatmapgl\":[{\"type\":\"heatmapgl\",\"colorbar\":{\"outlinewidth\":0,\"ticks\":\"\"},\"colorscale\":[[0.0,\"#0d0887\"],[0.1111111111111111,\"#46039f\"],[0.2222222222222222,\"#7201a8\"],[0.3333333333333333,\"#9c179e\"],[0.4444444444444444,\"#bd3786\"],[0.5555555555555556,\"#d8576b\"],[0.6666666666666666,\"#ed7953\"],[0.7777777777777778,\"#fb9f3a\"],[0.8888888888888888,\"#fdca26\"],[1.0,\"#f0f921\"]]}],\"contourcarpet\":[{\"type\":\"contourcarpet\",\"colorbar\":{\"outlinewidth\":0,\"ticks\":\"\"}}],\"contour\":[{\"type\":\"contour\",\"colorbar\":{\"outlinewidth\":0,\"ticks\":\"\"},\"colorscale\":[[0.0,\"#0d0887\"],[0.1111111111111111,\"#46039f\"],[0.2222222222222222,\"#7201a8\"],[0.3333333333333333,\"#9c179e\"],[0.4444444444444444,\"#bd3786\"],[0.5555555555555556,\"#d8576b\"],[0.6666666666666666,\"#ed7953\"],[0.7777777777777778,\"#fb9f3a\"],[0.8888888888888888,\"#fdca26\"],[1.0,\"#f0f921\"]]}],\"surface\":[{\"type\":\"surface\",\"colorbar\":{\"outlinewidth\":0,\"ticks\":\"\"},\"colorscale\":[[0.0,\"#0d0887\"],[0.1111111111111111,\"#46039f\"],[0.2222222222222222,\"#7201a8\"],[0.3333333333333333,\"#9c179e\"],[0.4444444444444444,\"#bd3786\"],[0.5555555555555556,\"#d8576b\"],[0.6666666666666666,\"#ed7953\"],[0.7777777777777778,\"#fb9f3a\"],[0.8888888888888888,\"#fdca26\"],[1.0,\"#f0f921\"]]}],\"mesh3d\":[{\"type\":\"mesh3d\",\"colorbar\":{\"outlinewidth\":0,\"ticks\":\"\"}}],\"scatter\":[{\"fillpattern\":{\"fillmode\":\"overlay\",\"size\":10,\"solidity\":0.2},\"type\":\"scatter\"}],\"parcoords\":[{\"type\":\"parcoords\",\"line\":{\"colorbar\":{\"outlinewidth\":0,\"ticks\":\"\"}}}],\"scatterpolargl\":[{\"type\":\"scatterpolargl\",\"marker\":{\"colorbar\":{\"outlinewidth\":0,\"ticks\":\"\"}}}],\"bar\":[{\"error_x\":{\"color\":\"#2a3f5f\"},\"error_y\":{\"color\":\"#2a3f5f\"},\"marker\":{\"line\":{\"color\":\"#E5ECF6\",\"width\":0.5},\"pattern\":{\"fillmode\":\"overlay\",\"size\":10,\"solidity\":0.2}},\"type\":\"bar\"}],\"scattergeo\":[{\"type\":\"scattergeo\",\"marker\":{\"colorbar\":{\"outlinewidth\":0,\"ticks\":\"\"}}}],\"scatterpolar\":[{\"type\":\"scatterpolar\",\"marker\":{\"colorbar\":{\"outlinewidth\":0,\"ticks\":\"\"}}}],\"histogram\":[{\"marker\":{\"pattern\":{\"fillmode\":\"overlay\",\"size\":10,\"solidity\":0.2}},\"type\":\"histogram\"}],\"scattergl\":[{\"type\":\"scattergl\",\"marker\":{\"colorbar\":{\"outlinewidth\":0,\"ticks\":\"\"}}}],\"scatter3d\":[{\"type\":\"scatter3d\",\"line\":{\"colorbar\":{\"outlinewidth\":0,\"ticks\":\"\"}},\"marker\":{\"colorbar\":{\"outlinewidth\":0,\"ticks\":\"\"}}}],\"scattermapbox\":[{\"type\":\"scattermapbox\",\"marker\":{\"colorbar\":{\"outlinewidth\":0,\"ticks\":\"\"}}}],\"scatterternary\":[{\"type\":\"scatterternary\",\"marker\":{\"colorbar\":{\"outlinewidth\":0,\"ticks\":\"\"}}}],\"scattercarpet\":[{\"type\":\"scattercarpet\",\"marker\":{\"colorbar\":{\"outlinewidth\":0,\"ticks\":\"\"}}}],\"carpet\":[{\"aaxis\":{\"endlinecolor\":\"#2a3f5f\",\"gridcolor\":\"white\",\"linecolor\":\"white\",\"minorgridcolor\":\"white\",\"startlinecolor\":\"#2a3f5f\"},\"baxis\":{\"endlinecolor\":\"#2a3f5f\",\"gridcolor\":\"white\",\"linecolor\":\"white\",\"minorgridcolor\":\"white\",\"startlinecolor\":\"#2a3f5f\"},\"type\":\"carpet\"}],\"table\":[{\"cells\":{\"fill\":{\"color\":\"#EBF0F8\"},\"line\":{\"color\":\"white\"}},\"header\":{\"fill\":{\"color\":\"#C8D4E3\"},\"line\":{\"color\":\"white\"}},\"type\":\"table\"}],\"barpolar\":[{\"marker\":{\"line\":{\"color\":\"#E5ECF6\",\"width\":0.5},\"pattern\":{\"fillmode\":\"overlay\",\"size\":10,\"solidity\":0.2}},\"type\":\"barpolar\"}],\"pie\":[{\"automargin\":true,\"type\":\"pie\"}]},\"layout\":{\"autotypenumbers\":\"strict\",\"colorway\":[\"#636efa\",\"#EF553B\",\"#00cc96\",\"#ab63fa\",\"#FFA15A\",\"#19d3f3\",\"#FF6692\",\"#B6E880\",\"#FF97FF\",\"#FECB52\"],\"font\":{\"color\":\"#2a3f5f\"},\"hovermode\":\"closest\",\"hoverlabel\":{\"align\":\"left\"},\"paper_bgcolor\":\"white\",\"plot_bgcolor\":\"#E5ECF6\",\"polar\":{\"bgcolor\":\"#E5ECF6\",\"angularaxis\":{\"gridcolor\":\"white\",\"linecolor\":\"white\",\"ticks\":\"\"},\"radialaxis\":{\"gridcolor\":\"white\",\"linecolor\":\"white\",\"ticks\":\"\"}},\"ternary\":{\"bgcolor\":\"#E5ECF6\",\"aaxis\":{\"gridcolor\":\"white\",\"linecolor\":\"white\",\"ticks\":\"\"},\"baxis\":{\"gridcolor\":\"white\",\"linecolor\":\"white\",\"ticks\":\"\"},\"caxis\":{\"gridcolor\":\"white\",\"linecolor\":\"white\",\"ticks\":\"\"}},\"coloraxis\":{\"colorbar\":{\"outlinewidth\":0,\"ticks\":\"\"}},\"colorscale\":{\"sequential\":[[0.0,\"#0d0887\"],[0.1111111111111111,\"#46039f\"],[0.2222222222222222,\"#7201a8\"],[0.3333333333333333,\"#9c179e\"],[0.4444444444444444,\"#bd3786\"],[0.5555555555555556,\"#d8576b\"],[0.6666666666666666,\"#ed7953\"],[0.7777777777777778,\"#fb9f3a\"],[0.8888888888888888,\"#fdca26\"],[1.0,\"#f0f921\"]],\"sequentialminus\":[[0.0,\"#0d0887\"],[0.1111111111111111,\"#46039f\"],[0.2222222222222222,\"#7201a8\"],[0.3333333333333333,\"#9c179e\"],[0.4444444444444444,\"#bd3786\"],[0.5555555555555556,\"#d8576b\"],[0.6666666666666666,\"#ed7953\"],[0.7777777777777778,\"#fb9f3a\"],[0.8888888888888888,\"#fdca26\"],[1.0,\"#f0f921\"]],\"diverging\":[[0,\"#8e0152\"],[0.1,\"#c51b7d\"],[0.2,\"#de77ae\"],[0.3,\"#f1b6da\"],[0.4,\"#fde0ef\"],[0.5,\"#f7f7f7\"],[0.6,\"#e6f5d0\"],[0.7,\"#b8e186\"],[0.8,\"#7fbc41\"],[0.9,\"#4d9221\"],[1,\"#276419\"]]},\"xaxis\":{\"gridcolor\":\"white\",\"linecolor\":\"white\",\"ticks\":\"\",\"title\":{\"standoff\":15},\"zerolinecolor\":\"white\",\"automargin\":true,\"zerolinewidth\":2},\"yaxis\":{\"gridcolor\":\"white\",\"linecolor\":\"white\",\"ticks\":\"\",\"title\":{\"standoff\":15},\"zerolinecolor\":\"white\",\"automargin\":true,\"zerolinewidth\":2},\"scene\":{\"xaxis\":{\"backgroundcolor\":\"#E5ECF6\",\"gridcolor\":\"white\",\"linecolor\":\"white\",\"showbackground\":true,\"ticks\":\"\",\"zerolinecolor\":\"white\",\"gridwidth\":2},\"yaxis\":{\"backgroundcolor\":\"#E5ECF6\",\"gridcolor\":\"white\",\"linecolor\":\"white\",\"showbackground\":true,\"ticks\":\"\",\"zerolinecolor\":\"white\",\"gridwidth\":2},\"zaxis\":{\"backgroundcolor\":\"#E5ECF6\",\"gridcolor\":\"white\",\"linecolor\":\"white\",\"showbackground\":true,\"ticks\":\"\",\"zerolinecolor\":\"white\",\"gridwidth\":2}},\"shapedefaults\":{\"line\":{\"color\":\"#2a3f5f\"}},\"annotationdefaults\":{\"arrowcolor\":\"#2a3f5f\",\"arrowhead\":0,\"arrowwidth\":1},\"geo\":{\"bgcolor\":\"white\",\"landcolor\":\"#E5ECF6\",\"subunitcolor\":\"white\",\"showland\":true,\"showlakes\":true,\"lakecolor\":\"white\"},\"title\":{\"x\":0.05},\"mapbox\":{\"style\":\"light\"}}}},                        {\"responsive\": true}                    ).then(function(){\n",
       "                            \n",
       "var gd = document.getElementById('ddbf2daa-eada-412f-b585-e71af765c7d1');\n",
       "var x = new MutationObserver(function (mutations, observer) {{\n",
       "        var display = window.getComputedStyle(gd).display;\n",
       "        if (!display || display === 'none') {{\n",
       "            console.log([gd, 'removed!']);\n",
       "            Plotly.purge(gd);\n",
       "            observer.disconnect();\n",
       "        }}\n",
       "}});\n",
       "\n",
       "// Listen for the removal of the full notebook cells\n",
       "var notebookContainer = gd.closest('#notebook-container');\n",
       "if (notebookContainer) {{\n",
       "    x.observe(notebookContainer, {childList: true});\n",
       "}}\n",
       "\n",
       "// Listen for the clearing of the current output cell\n",
       "var outputEl = gd.closest('.output');\n",
       "if (outputEl) {{\n",
       "    x.observe(outputEl, {childList: true});\n",
       "}}\n",
       "\n",
       "                        })                };                });            </script>        </div>"
      ]
     },
     "metadata": {},
     "output_type": "display_data"
    },
    {
     "data": {
      "application/vnd.plotly.v1+json": {
       "config": {
        "plotlyServerURL": "https://plot.ly"
       },
       "data": [
        {
         "autocolorscale": false,
         "colorbar": {
          "tickprefix": "",
          "title": {
           "text": "transformer recall_score"
          }
         },
         "colorscale": [
          [
           0,
           "rgb(247,252,245)"
          ],
          [
           0.125,
           "rgb(229,245,224)"
          ],
          [
           0.25,
           "rgb(199,233,192)"
          ],
          [
           0.375,
           "rgb(161,217,155)"
          ],
          [
           0.5,
           "rgb(116,196,118)"
          ],
          [
           0.625,
           "rgb(65,171,93)"
          ],
          [
           0.75,
           "rgb(35,139,69)"
          ],
          [
           0.875,
           "rgb(0,109,44)"
          ],
          [
           1,
           "rgb(0,68,27)"
          ]
         ],
         "locations": [
          "FJI",
          "FJI",
          "TZA",
          "TZA",
          "TZA",
          "CAN",
          "CAN",
          "USA",
          "USA",
          "USA",
          "KAZ",
          "KAZ",
          "KAZ",
          "UZB",
          "UZB",
          "UZB",
          "IDN",
          "IDN",
          "IDN",
          "ARG",
          "ARG",
          "ARG",
          "CHL",
          "CHL",
          "CHL",
          "SOM",
          "SOM",
          "SOM",
          "KEN",
          "KEN",
          "KEN",
          "SDN",
          "SDN",
          "SDN",
          "TCD",
          "TCD",
          "TCD",
          "HTI",
          "HTI",
          "HTI",
          "RUS",
          "RUS",
          "RUS",
          "NOR",
          "NOR",
          "ZAF",
          "ZAF",
          "ZAF",
          "LSO",
          "LSO",
          "LSO",
          "MEX",
          "MEX",
          "MEX",
          "URY",
          "URY",
          "BRA",
          "BRA",
          "BRA",
          "BOL",
          "BOL",
          "BOL",
          "PER",
          "PER",
          "PER",
          "COL",
          "COL",
          "COL",
          "PAN",
          "PAN",
          "NIC",
          "NIC",
          "NIC",
          "HND",
          "HND",
          "HND",
          "SLV",
          "SLV",
          "SLV",
          "GTM",
          "GTM",
          "GTM",
          "BLZ",
          "BLZ",
          "BLZ",
          "GUY",
          "GUY",
          "GUY",
          "SUR",
          "SUR",
          "FRA",
          "FRA",
          "FRA",
          "ECU",
          "ECU",
          "ECU",
          "JAM",
          "JAM",
          "JAM",
          "CUB",
          "CUB",
          "CUB",
          "ZWE",
          "ZWE",
          "ZWE",
          "BWA",
          "BWA",
          "BWA",
          "NAM",
          "NAM",
          "NAM",
          "SEN",
          "SEN",
          "SEN",
          "MLI",
          "MLI",
          "MLI",
          "MRT",
          "MRT",
          "BEN",
          "BEN",
          "BEN",
          "NER",
          "NER",
          "NER",
          "NGA",
          "NGA",
          "NGA",
          "CMR",
          "CMR",
          "CMR",
          "TGO",
          "TGO",
          "TGO",
          "GHA",
          "GHA",
          "GHA",
          "CIV",
          "GIN",
          "GIN",
          "GIN",
          "LBR",
          "LBR",
          "LBR",
          "BFA",
          "BFA",
          "BFA",
          "GAB",
          "GAB",
          "ZMB",
          "ZMB",
          "ZMB",
          "MWI",
          "MWI",
          "MWI",
          "MOZ",
          "MOZ",
          "MOZ",
          "AGO",
          "AGO",
          "AGO",
          "BDI",
          "BDI",
          "ISR",
          "ISR",
          "ISR",
          "LBN",
          "LBN",
          "LBN",
          "MDG",
          "MDG",
          "MDG",
          "TUN",
          "TUN",
          "DZA",
          "DZA",
          "DZA",
          "JOR",
          "JOR",
          "JOR",
          "QAT",
          "QAT",
          "KWT",
          "KWT",
          "IRQ",
          "IRQ",
          "IRQ",
          "OMN",
          "OMN",
          "KHM",
          "KHM",
          "THA",
          "THA",
          "THA",
          "MMR",
          "MMR",
          "MMR",
          "VNM",
          "VNM",
          "MNG",
          "MNG",
          "IND",
          "IND",
          "IND",
          "BGD",
          "BGD",
          "BGD",
          "BTN",
          "BTN",
          "NPL",
          "NPL",
          "NPL",
          "PAK",
          "PAK",
          "PAK",
          "AFG",
          "AFG",
          "AFG",
          "TJK",
          "TJK",
          "KGZ",
          "KGZ",
          "KGZ",
          "TKM",
          "TKM",
          "SYR",
          "SYR",
          "SYR",
          "ARM",
          "ARM",
          "ARM",
          "SWE",
          "SWE",
          "BLR",
          "BLR",
          "BLR",
          "UKR",
          "UKR",
          "UKR",
          "POL",
          "POL",
          "AUT",
          "AUT",
          "HUN",
          "HUN",
          "HUN",
          "MDA",
          "MDA",
          "MDA",
          "ROU",
          "ROU",
          "LTU",
          "LTU",
          "LVA",
          "LVA",
          "EST",
          "EST",
          "DEU",
          "DEU",
          "DEU",
          "BGR",
          "BGR",
          "GRC",
          "GRC",
          "GRC",
          "ALB",
          "ALB",
          "HRV",
          "HRV",
          "CHE",
          "CHE",
          "LUX",
          "LUX",
          "BEL",
          "BEL",
          "NLD",
          "NLD",
          "PRT",
          "PRT",
          "ESP",
          "ESP",
          "ESP",
          "IRL",
          "IRL",
          "IRL",
          "AUS",
          "AUS",
          "LKA",
          "LKA",
          "LKA",
          "CHN",
          "CHN",
          "CHN",
          "ITA",
          "ITA",
          "ITA",
          "DNK",
          "DNK",
          "GBR",
          "GBR",
          "ISL",
          "ISL",
          "AZE",
          "AZE",
          "AZE",
          "GEO",
          "GEO",
          "GEO",
          "PHL",
          "PHL",
          "PHL",
          "MYS",
          "MYS",
          "BRN",
          "BRN",
          "SVN",
          "SVN",
          "FIN",
          "FIN",
          "SVK",
          "SVK",
          "CZE",
          "CZE",
          "CZE",
          "ERI",
          "ERI",
          "JPN",
          "JPN",
          "PRY",
          "PRY",
          "PRY",
          "SAU",
          "SAU",
          "SAU",
          "CYP",
          "CYP",
          "CYP",
          "MAR",
          "MAR",
          "MAR",
          "LBY",
          "LBY",
          "LBY",
          "ETH",
          "ETH",
          "ETH",
          "DJI",
          "UGA",
          "UGA",
          "UGA",
          "RWA",
          "RWA",
          "RWA",
          "MKD",
          "MKD",
          "MKD",
          "SRB",
          "SRB",
          "SRB",
          "MNE",
          "MNE",
          "TTO",
          "TTO",
          "TTO"
         ],
         "marker": {
          "line": {
           "color": "darkgray",
           "width": 0.5
          }
         },
         "reversescale": false,
         "text": [
          "FJI",
          "FJI",
          "TZA",
          "TZA",
          "TZA",
          "CAN",
          "CAN",
          "USA",
          "USA",
          "USA",
          "KAZ",
          "KAZ",
          "KAZ",
          "UZB",
          "UZB",
          "UZB",
          "IDN",
          "IDN",
          "IDN",
          "ARG",
          "ARG",
          "ARG",
          "CHL",
          "CHL",
          "CHL",
          "SOM",
          "SOM",
          "SOM",
          "KEN",
          "KEN",
          "KEN",
          "SDN",
          "SDN",
          "SDN",
          "TCD",
          "TCD",
          "TCD",
          "HTI",
          "HTI",
          "HTI",
          "RUS",
          "RUS",
          "RUS",
          "NOR",
          "NOR",
          "ZAF",
          "ZAF",
          "ZAF",
          "LSO",
          "LSO",
          "LSO",
          "MEX",
          "MEX",
          "MEX",
          "URY",
          "URY",
          "BRA",
          "BRA",
          "BRA",
          "BOL",
          "BOL",
          "BOL",
          "PER",
          "PER",
          "PER",
          "COL",
          "COL",
          "COL",
          "PAN",
          "PAN",
          "NIC",
          "NIC",
          "NIC",
          "HND",
          "HND",
          "HND",
          "SLV",
          "SLV",
          "SLV",
          "GTM",
          "GTM",
          "GTM",
          "BLZ",
          "BLZ",
          "BLZ",
          "GUY",
          "GUY",
          "GUY",
          "SUR",
          "SUR",
          "FRA",
          "FRA",
          "FRA",
          "ECU",
          "ECU",
          "ECU",
          "JAM",
          "JAM",
          "JAM",
          "CUB",
          "CUB",
          "CUB",
          "ZWE",
          "ZWE",
          "ZWE",
          "BWA",
          "BWA",
          "BWA",
          "NAM",
          "NAM",
          "NAM",
          "SEN",
          "SEN",
          "SEN",
          "MLI",
          "MLI",
          "MLI",
          "MRT",
          "MRT",
          "BEN",
          "BEN",
          "BEN",
          "NER",
          "NER",
          "NER",
          "NGA",
          "NGA",
          "NGA",
          "CMR",
          "CMR",
          "CMR",
          "TGO",
          "TGO",
          "TGO",
          "GHA",
          "GHA",
          "GHA",
          "CIV",
          "GIN",
          "GIN",
          "GIN",
          "LBR",
          "LBR",
          "LBR",
          "BFA",
          "BFA",
          "BFA",
          "GAB",
          "GAB",
          "ZMB",
          "ZMB",
          "ZMB",
          "MWI",
          "MWI",
          "MWI",
          "MOZ",
          "MOZ",
          "MOZ",
          "AGO",
          "AGO",
          "AGO",
          "BDI",
          "BDI",
          "ISR",
          "ISR",
          "ISR",
          "LBN",
          "LBN",
          "LBN",
          "MDG",
          "MDG",
          "MDG",
          "TUN",
          "TUN",
          "DZA",
          "DZA",
          "DZA",
          "JOR",
          "JOR",
          "JOR",
          "QAT",
          "QAT",
          "KWT",
          "KWT",
          "IRQ",
          "IRQ",
          "IRQ",
          "OMN",
          "OMN",
          "KHM",
          "KHM",
          "THA",
          "THA",
          "THA",
          "MMR",
          "MMR",
          "MMR",
          "VNM",
          "VNM",
          "MNG",
          "MNG",
          "IND",
          "IND",
          "IND",
          "BGD",
          "BGD",
          "BGD",
          "BTN",
          "BTN",
          "NPL",
          "NPL",
          "NPL",
          "PAK",
          "PAK",
          "PAK",
          "AFG",
          "AFG",
          "AFG",
          "TJK",
          "TJK",
          "KGZ",
          "KGZ",
          "KGZ",
          "TKM",
          "TKM",
          "SYR",
          "SYR",
          "SYR",
          "ARM",
          "ARM",
          "ARM",
          "SWE",
          "SWE",
          "BLR",
          "BLR",
          "BLR",
          "UKR",
          "UKR",
          "UKR",
          "POL",
          "POL",
          "AUT",
          "AUT",
          "HUN",
          "HUN",
          "HUN",
          "MDA",
          "MDA",
          "MDA",
          "ROU",
          "ROU",
          "LTU",
          "LTU",
          "LVA",
          "LVA",
          "EST",
          "EST",
          "DEU",
          "DEU",
          "DEU",
          "BGR",
          "BGR",
          "GRC",
          "GRC",
          "GRC",
          "ALB",
          "ALB",
          "HRV",
          "HRV",
          "CHE",
          "CHE",
          "LUX",
          "LUX",
          "BEL",
          "BEL",
          "NLD",
          "NLD",
          "PRT",
          "PRT",
          "ESP",
          "ESP",
          "ESP",
          "IRL",
          "IRL",
          "IRL",
          "AUS",
          "AUS",
          "LKA",
          "LKA",
          "LKA",
          "CHN",
          "CHN",
          "CHN",
          "ITA",
          "ITA",
          "ITA",
          "DNK",
          "DNK",
          "GBR",
          "GBR",
          "ISL",
          "ISL",
          "AZE",
          "AZE",
          "AZE",
          "GEO",
          "GEO",
          "GEO",
          "PHL",
          "PHL",
          "PHL",
          "MYS",
          "MYS",
          "BRN",
          "BRN",
          "SVN",
          "SVN",
          "FIN",
          "FIN",
          "SVK",
          "SVK",
          "CZE",
          "CZE",
          "CZE",
          "ERI",
          "ERI",
          "JPN",
          "JPN",
          "PRY",
          "PRY",
          "PRY",
          "SAU",
          "SAU",
          "SAU",
          "CYP",
          "CYP",
          "CYP",
          "MAR",
          "MAR",
          "MAR",
          "LBY",
          "LBY",
          "LBY",
          "ETH",
          "ETH",
          "ETH",
          "DJI",
          "UGA",
          "UGA",
          "UGA",
          "RWA",
          "RWA",
          "RWA",
          "MKD",
          "MKD",
          "MKD",
          "SRB",
          "SRB",
          "SRB",
          "MNE",
          "MNE",
          "TTO",
          "TTO",
          "TTO"
         ],
         "type": "choropleth",
         "z": [
          0.59375,
          0.59375,
          0.59375,
          0.59375,
          0.59375,
          0.5,
          0.5,
          0.3333333333333333,
          0.3333333333333333,
          0.3333333333333333,
          0.59375,
          0.59375,
          0.59375,
          0.59375,
          0.59375,
          0.59375,
          0.59375,
          0.59375,
          0.59375,
          0.3333333333333333,
          0.3333333333333333,
          0.3333333333333333,
          0.3333333333333333,
          0.3333333333333333,
          0.3333333333333333,
          0.8181818181818182,
          0.8181818181818182,
          0.8181818181818182,
          0.59375,
          0.59375,
          0.59375,
          0.8181818181818182,
          0.8181818181818182,
          0.8181818181818182,
          0.8181818181818182,
          0.8181818181818182,
          0.8181818181818182,
          0.8181818181818182,
          0.8181818181818182,
          0.8181818181818182,
          0.59375,
          0.59375,
          0.59375,
          0.5,
          0.5,
          0.59375,
          0.59375,
          0.59375,
          0.59375,
          0.59375,
          0.59375,
          0.59375,
          0.59375,
          0.59375,
          0.3333333333333333,
          0.3333333333333333,
          0.59375,
          0.59375,
          0.59375,
          0.59375,
          0.59375,
          0.59375,
          0.59375,
          0.59375,
          0.59375,
          0.59375,
          0.59375,
          0.59375,
          0.3333333333333333,
          0.3333333333333333,
          0.59375,
          0.59375,
          0.59375,
          0.59375,
          0.59375,
          0.59375,
          0.59375,
          0.59375,
          0.59375,
          0.59375,
          0.59375,
          0.59375,
          0.3333333333333333,
          0.3333333333333333,
          0.3333333333333333,
          0.59375,
          0.59375,
          0.59375,
          0.3333333333333333,
          0.3333333333333333,
          0.5,
          0.5,
          0.5,
          0.59375,
          0.59375,
          0.59375,
          0.59375,
          0.59375,
          0.59375,
          0.3333333333333333,
          0.3333333333333333,
          0.3333333333333333,
          0.8181818181818182,
          0.8181818181818182,
          0.8181818181818182,
          0.3333333333333333,
          0.3333333333333333,
          0.3333333333333333,
          0.59375,
          0.59375,
          0.59375,
          0.59375,
          0.59375,
          0.59375,
          0.8181818181818182,
          0.8181818181818182,
          0.8181818181818182,
          0.59375,
          0.59375,
          0.59375,
          0.59375,
          0.59375,
          0.8181818181818182,
          0.8181818181818182,
          0.8181818181818182,
          0.8181818181818182,
          0.8181818181818182,
          0.8181818181818182,
          0.8181818181818182,
          0.8181818181818182,
          0.8181818181818182,
          0.59375,
          0.59375,
          0.59375,
          0.59375,
          0.59375,
          0.59375,
          0.59375,
          0.8181818181818182,
          0.8181818181818182,
          0.8181818181818182,
          0.59375,
          0.59375,
          0.59375,
          0.8181818181818182,
          0.8181818181818182,
          0.8181818181818182,
          0.59375,
          0.59375,
          0.59375,
          0.59375,
          0.59375,
          0.59375,
          0.59375,
          0.59375,
          0.8181818181818182,
          0.8181818181818182,
          0.8181818181818182,
          0.59375,
          0.59375,
          0.59375,
          0.8181818181818182,
          0.8181818181818182,
          0.3333333333333333,
          0.3333333333333333,
          0.3333333333333333,
          0.8181818181818182,
          0.8181818181818182,
          0.8181818181818182,
          0.59375,
          0.59375,
          0.59375,
          0.59375,
          0.59375,
          0.59375,
          0.59375,
          0.59375,
          0.59375,
          0.59375,
          0.59375,
          0.3333333333333333,
          0.3333333333333333,
          0.3333333333333333,
          0.3333333333333333,
          0.8181818181818182,
          0.8181818181818182,
          0.8181818181818182,
          0.3333333333333333,
          0.3333333333333333,
          0.59375,
          0.59375,
          0.59375,
          0.59375,
          0.59375,
          0.8181818181818182,
          0.8181818181818182,
          0.8181818181818182,
          0.3333333333333333,
          0.3333333333333333,
          0.3333333333333333,
          0.3333333333333333,
          0.59375,
          0.59375,
          0.59375,
          0.59375,
          0.59375,
          0.59375,
          0.59375,
          0.59375,
          0.59375,
          0.59375,
          0.59375,
          0.59375,
          0.59375,
          0.59375,
          0.8181818181818182,
          0.8181818181818182,
          0.8181818181818182,
          0.59375,
          0.59375,
          0.59375,
          0.59375,
          0.59375,
          0.59375,
          0.59375,
          0.8181818181818182,
          0.8181818181818182,
          0.8181818181818182,
          0.59375,
          0.59375,
          0.59375,
          0.5,
          0.5,
          0.59375,
          0.59375,
          0.59375,
          0.8181818181818182,
          0.8181818181818182,
          0.8181818181818182,
          0.3333333333333333,
          0.3333333333333333,
          0.5,
          0.5,
          0.3333333333333333,
          0.3333333333333333,
          0.3333333333333333,
          0.59375,
          0.59375,
          0.59375,
          0.3333333333333333,
          0.3333333333333333,
          0.3333333333333333,
          0.3333333333333333,
          0.3333333333333333,
          0.3333333333333333,
          0.3333333333333333,
          0.3333333333333333,
          0.5,
          0.5,
          0.5,
          0.3333333333333333,
          0.3333333333333333,
          0.3333333333333333,
          0.3333333333333333,
          0.3333333333333333,
          0.3333333333333333,
          0.3333333333333333,
          0.3333333333333333,
          0.3333333333333333,
          0.5,
          0.5,
          0.5,
          0.5,
          0.3333333333333333,
          0.3333333333333333,
          0.5,
          0.5,
          0.5,
          0.5,
          0.3333333333333333,
          0.3333333333333333,
          0.3333333333333333,
          0.5,
          0.5,
          0.5,
          0.5,
          0.5,
          0.8181818181818182,
          0.8181818181818182,
          0.8181818181818182,
          0.59375,
          0.59375,
          0.59375,
          0.3333333333333333,
          0.3333333333333333,
          0.3333333333333333,
          0.5,
          0.5,
          0.3333333333333333,
          0.3333333333333333,
          0.5,
          0.5,
          0.59375,
          0.59375,
          0.59375,
          0.59375,
          0.59375,
          0.59375,
          0.59375,
          0.59375,
          0.59375,
          0.3333333333333333,
          0.3333333333333333,
          0.3333333333333333,
          0.3333333333333333,
          0.5,
          0.5,
          0.5,
          0.5,
          0.3333333333333333,
          0.3333333333333333,
          0.3333333333333333,
          0.3333333333333333,
          0.3333333333333333,
          0.8181818181818182,
          0.8181818181818182,
          0.3333333333333333,
          0.3333333333333333,
          0.59375,
          0.59375,
          0.59375,
          0.59375,
          0.59375,
          0.59375,
          0.3333333333333333,
          0.3333333333333333,
          0.3333333333333333,
          0.59375,
          0.59375,
          0.59375,
          0.8181818181818182,
          0.8181818181818182,
          0.8181818181818182,
          0.8181818181818182,
          0.8181818181818182,
          0.8181818181818182,
          0.59375,
          0.8181818181818182,
          0.8181818181818182,
          0.8181818181818182,
          0.59375,
          0.59375,
          0.59375,
          0.59375,
          0.59375,
          0.59375,
          0.59375,
          0.59375,
          0.59375,
          0.3333333333333333,
          0.3333333333333333,
          0.3333333333333333,
          0.3333333333333333,
          0.3333333333333333
         ]
        }
       ],
       "layout": {
        "template": {
         "data": {
          "bar": [
           {
            "error_x": {
             "color": "#2a3f5f"
            },
            "error_y": {
             "color": "#2a3f5f"
            },
            "marker": {
             "line": {
              "color": "#E5ECF6",
              "width": 0.5
             },
             "pattern": {
              "fillmode": "overlay",
              "size": 10,
              "solidity": 0.2
             }
            },
            "type": "bar"
           }
          ],
          "barpolar": [
           {
            "marker": {
             "line": {
              "color": "#E5ECF6",
              "width": 0.5
             },
             "pattern": {
              "fillmode": "overlay",
              "size": 10,
              "solidity": 0.2
             }
            },
            "type": "barpolar"
           }
          ],
          "carpet": [
           {
            "aaxis": {
             "endlinecolor": "#2a3f5f",
             "gridcolor": "white",
             "linecolor": "white",
             "minorgridcolor": "white",
             "startlinecolor": "#2a3f5f"
            },
            "baxis": {
             "endlinecolor": "#2a3f5f",
             "gridcolor": "white",
             "linecolor": "white",
             "minorgridcolor": "white",
             "startlinecolor": "#2a3f5f"
            },
            "type": "carpet"
           }
          ],
          "choropleth": [
           {
            "colorbar": {
             "outlinewidth": 0,
             "ticks": ""
            },
            "type": "choropleth"
           }
          ],
          "contour": [
           {
            "colorbar": {
             "outlinewidth": 0,
             "ticks": ""
            },
            "colorscale": [
             [
              0,
              "#0d0887"
             ],
             [
              0.1111111111111111,
              "#46039f"
             ],
             [
              0.2222222222222222,
              "#7201a8"
             ],
             [
              0.3333333333333333,
              "#9c179e"
             ],
             [
              0.4444444444444444,
              "#bd3786"
             ],
             [
              0.5555555555555556,
              "#d8576b"
             ],
             [
              0.6666666666666666,
              "#ed7953"
             ],
             [
              0.7777777777777778,
              "#fb9f3a"
             ],
             [
              0.8888888888888888,
              "#fdca26"
             ],
             [
              1,
              "#f0f921"
             ]
            ],
            "type": "contour"
           }
          ],
          "contourcarpet": [
           {
            "colorbar": {
             "outlinewidth": 0,
             "ticks": ""
            },
            "type": "contourcarpet"
           }
          ],
          "heatmap": [
           {
            "colorbar": {
             "outlinewidth": 0,
             "ticks": ""
            },
            "colorscale": [
             [
              0,
              "#0d0887"
             ],
             [
              0.1111111111111111,
              "#46039f"
             ],
             [
              0.2222222222222222,
              "#7201a8"
             ],
             [
              0.3333333333333333,
              "#9c179e"
             ],
             [
              0.4444444444444444,
              "#bd3786"
             ],
             [
              0.5555555555555556,
              "#d8576b"
             ],
             [
              0.6666666666666666,
              "#ed7953"
             ],
             [
              0.7777777777777778,
              "#fb9f3a"
             ],
             [
              0.8888888888888888,
              "#fdca26"
             ],
             [
              1,
              "#f0f921"
             ]
            ],
            "type": "heatmap"
           }
          ],
          "heatmapgl": [
           {
            "colorbar": {
             "outlinewidth": 0,
             "ticks": ""
            },
            "colorscale": [
             [
              0,
              "#0d0887"
             ],
             [
              0.1111111111111111,
              "#46039f"
             ],
             [
              0.2222222222222222,
              "#7201a8"
             ],
             [
              0.3333333333333333,
              "#9c179e"
             ],
             [
              0.4444444444444444,
              "#bd3786"
             ],
             [
              0.5555555555555556,
              "#d8576b"
             ],
             [
              0.6666666666666666,
              "#ed7953"
             ],
             [
              0.7777777777777778,
              "#fb9f3a"
             ],
             [
              0.8888888888888888,
              "#fdca26"
             ],
             [
              1,
              "#f0f921"
             ]
            ],
            "type": "heatmapgl"
           }
          ],
          "histogram": [
           {
            "marker": {
             "pattern": {
              "fillmode": "overlay",
              "size": 10,
              "solidity": 0.2
             }
            },
            "type": "histogram"
           }
          ],
          "histogram2d": [
           {
            "colorbar": {
             "outlinewidth": 0,
             "ticks": ""
            },
            "colorscale": [
             [
              0,
              "#0d0887"
             ],
             [
              0.1111111111111111,
              "#46039f"
             ],
             [
              0.2222222222222222,
              "#7201a8"
             ],
             [
              0.3333333333333333,
              "#9c179e"
             ],
             [
              0.4444444444444444,
              "#bd3786"
             ],
             [
              0.5555555555555556,
              "#d8576b"
             ],
             [
              0.6666666666666666,
              "#ed7953"
             ],
             [
              0.7777777777777778,
              "#fb9f3a"
             ],
             [
              0.8888888888888888,
              "#fdca26"
             ],
             [
              1,
              "#f0f921"
             ]
            ],
            "type": "histogram2d"
           }
          ],
          "histogram2dcontour": [
           {
            "colorbar": {
             "outlinewidth": 0,
             "ticks": ""
            },
            "colorscale": [
             [
              0,
              "#0d0887"
             ],
             [
              0.1111111111111111,
              "#46039f"
             ],
             [
              0.2222222222222222,
              "#7201a8"
             ],
             [
              0.3333333333333333,
              "#9c179e"
             ],
             [
              0.4444444444444444,
              "#bd3786"
             ],
             [
              0.5555555555555556,
              "#d8576b"
             ],
             [
              0.6666666666666666,
              "#ed7953"
             ],
             [
              0.7777777777777778,
              "#fb9f3a"
             ],
             [
              0.8888888888888888,
              "#fdca26"
             ],
             [
              1,
              "#f0f921"
             ]
            ],
            "type": "histogram2dcontour"
           }
          ],
          "mesh3d": [
           {
            "colorbar": {
             "outlinewidth": 0,
             "ticks": ""
            },
            "type": "mesh3d"
           }
          ],
          "parcoords": [
           {
            "line": {
             "colorbar": {
              "outlinewidth": 0,
              "ticks": ""
             }
            },
            "type": "parcoords"
           }
          ],
          "pie": [
           {
            "automargin": true,
            "type": "pie"
           }
          ],
          "scatter": [
           {
            "fillpattern": {
             "fillmode": "overlay",
             "size": 10,
             "solidity": 0.2
            },
            "type": "scatter"
           }
          ],
          "scatter3d": [
           {
            "line": {
             "colorbar": {
              "outlinewidth": 0,
              "ticks": ""
             }
            },
            "marker": {
             "colorbar": {
              "outlinewidth": 0,
              "ticks": ""
             }
            },
            "type": "scatter3d"
           }
          ],
          "scattercarpet": [
           {
            "marker": {
             "colorbar": {
              "outlinewidth": 0,
              "ticks": ""
             }
            },
            "type": "scattercarpet"
           }
          ],
          "scattergeo": [
           {
            "marker": {
             "colorbar": {
              "outlinewidth": 0,
              "ticks": ""
             }
            },
            "type": "scattergeo"
           }
          ],
          "scattergl": [
           {
            "marker": {
             "colorbar": {
              "outlinewidth": 0,
              "ticks": ""
             }
            },
            "type": "scattergl"
           }
          ],
          "scattermapbox": [
           {
            "marker": {
             "colorbar": {
              "outlinewidth": 0,
              "ticks": ""
             }
            },
            "type": "scattermapbox"
           }
          ],
          "scatterpolar": [
           {
            "marker": {
             "colorbar": {
              "outlinewidth": 0,
              "ticks": ""
             }
            },
            "type": "scatterpolar"
           }
          ],
          "scatterpolargl": [
           {
            "marker": {
             "colorbar": {
              "outlinewidth": 0,
              "ticks": ""
             }
            },
            "type": "scatterpolargl"
           }
          ],
          "scatterternary": [
           {
            "marker": {
             "colorbar": {
              "outlinewidth": 0,
              "ticks": ""
             }
            },
            "type": "scatterternary"
           }
          ],
          "surface": [
           {
            "colorbar": {
             "outlinewidth": 0,
             "ticks": ""
            },
            "colorscale": [
             [
              0,
              "#0d0887"
             ],
             [
              0.1111111111111111,
              "#46039f"
             ],
             [
              0.2222222222222222,
              "#7201a8"
             ],
             [
              0.3333333333333333,
              "#9c179e"
             ],
             [
              0.4444444444444444,
              "#bd3786"
             ],
             [
              0.5555555555555556,
              "#d8576b"
             ],
             [
              0.6666666666666666,
              "#ed7953"
             ],
             [
              0.7777777777777778,
              "#fb9f3a"
             ],
             [
              0.8888888888888888,
              "#fdca26"
             ],
             [
              1,
              "#f0f921"
             ]
            ],
            "type": "surface"
           }
          ],
          "table": [
           {
            "cells": {
             "fill": {
              "color": "#EBF0F8"
             },
             "line": {
              "color": "white"
             }
            },
            "header": {
             "fill": {
              "color": "#C8D4E3"
             },
             "line": {
              "color": "white"
             }
            },
            "type": "table"
           }
          ]
         },
         "layout": {
          "annotationdefaults": {
           "arrowcolor": "#2a3f5f",
           "arrowhead": 0,
           "arrowwidth": 1
          },
          "autotypenumbers": "strict",
          "coloraxis": {
           "colorbar": {
            "outlinewidth": 0,
            "ticks": ""
           }
          },
          "colorscale": {
           "diverging": [
            [
             0,
             "#8e0152"
            ],
            [
             0.1,
             "#c51b7d"
            ],
            [
             0.2,
             "#de77ae"
            ],
            [
             0.3,
             "#f1b6da"
            ],
            [
             0.4,
             "#fde0ef"
            ],
            [
             0.5,
             "#f7f7f7"
            ],
            [
             0.6,
             "#e6f5d0"
            ],
            [
             0.7,
             "#b8e186"
            ],
            [
             0.8,
             "#7fbc41"
            ],
            [
             0.9,
             "#4d9221"
            ],
            [
             1,
             "#276419"
            ]
           ],
           "sequential": [
            [
             0,
             "#0d0887"
            ],
            [
             0.1111111111111111,
             "#46039f"
            ],
            [
             0.2222222222222222,
             "#7201a8"
            ],
            [
             0.3333333333333333,
             "#9c179e"
            ],
            [
             0.4444444444444444,
             "#bd3786"
            ],
            [
             0.5555555555555556,
             "#d8576b"
            ],
            [
             0.6666666666666666,
             "#ed7953"
            ],
            [
             0.7777777777777778,
             "#fb9f3a"
            ],
            [
             0.8888888888888888,
             "#fdca26"
            ],
            [
             1,
             "#f0f921"
            ]
           ],
           "sequentialminus": [
            [
             0,
             "#0d0887"
            ],
            [
             0.1111111111111111,
             "#46039f"
            ],
            [
             0.2222222222222222,
             "#7201a8"
            ],
            [
             0.3333333333333333,
             "#9c179e"
            ],
            [
             0.4444444444444444,
             "#bd3786"
            ],
            [
             0.5555555555555556,
             "#d8576b"
            ],
            [
             0.6666666666666666,
             "#ed7953"
            ],
            [
             0.7777777777777778,
             "#fb9f3a"
            ],
            [
             0.8888888888888888,
             "#fdca26"
            ],
            [
             1,
             "#f0f921"
            ]
           ]
          },
          "colorway": [
           "#636efa",
           "#EF553B",
           "#00cc96",
           "#ab63fa",
           "#FFA15A",
           "#19d3f3",
           "#FF6692",
           "#B6E880",
           "#FF97FF",
           "#FECB52"
          ],
          "font": {
           "color": "#2a3f5f"
          },
          "geo": {
           "bgcolor": "white",
           "lakecolor": "white",
           "landcolor": "#E5ECF6",
           "showlakes": true,
           "showland": true,
           "subunitcolor": "white"
          },
          "hoverlabel": {
           "align": "left"
          },
          "hovermode": "closest",
          "mapbox": {
           "style": "light"
          },
          "paper_bgcolor": "white",
          "plot_bgcolor": "#E5ECF6",
          "polar": {
           "angularaxis": {
            "gridcolor": "white",
            "linecolor": "white",
            "ticks": ""
           },
           "bgcolor": "#E5ECF6",
           "radialaxis": {
            "gridcolor": "white",
            "linecolor": "white",
            "ticks": ""
           }
          },
          "scene": {
           "xaxis": {
            "backgroundcolor": "#E5ECF6",
            "gridcolor": "white",
            "gridwidth": 2,
            "linecolor": "white",
            "showbackground": true,
            "ticks": "",
            "zerolinecolor": "white"
           },
           "yaxis": {
            "backgroundcolor": "#E5ECF6",
            "gridcolor": "white",
            "gridwidth": 2,
            "linecolor": "white",
            "showbackground": true,
            "ticks": "",
            "zerolinecolor": "white"
           },
           "zaxis": {
            "backgroundcolor": "#E5ECF6",
            "gridcolor": "white",
            "gridwidth": 2,
            "linecolor": "white",
            "showbackground": true,
            "ticks": "",
            "zerolinecolor": "white"
           }
          },
          "shapedefaults": {
           "line": {
            "color": "#2a3f5f"
           }
          },
          "ternary": {
           "aaxis": {
            "gridcolor": "white",
            "linecolor": "white",
            "ticks": ""
           },
           "baxis": {
            "gridcolor": "white",
            "linecolor": "white",
            "ticks": ""
           },
           "bgcolor": "#E5ECF6",
           "caxis": {
            "gridcolor": "white",
            "linecolor": "white",
            "ticks": ""
           }
          },
          "title": {
           "x": 0.05
          },
          "xaxis": {
           "automargin": true,
           "gridcolor": "white",
           "linecolor": "white",
           "ticks": "",
           "title": {
            "standoff": 15
           },
           "zerolinecolor": "white",
           "zerolinewidth": 2
          },
          "yaxis": {
           "automargin": true,
           "gridcolor": "white",
           "linecolor": "white",
           "ticks": "",
           "title": {
            "standoff": 15
           },
           "zerolinecolor": "white",
           "zerolinewidth": 2
          }
         }
        }
       }
      },
      "text/html": [
       "<div>                            <div id=\"9c01a3b4-67c3-4f5e-a850-0ebe0499abe4\" class=\"plotly-graph-div\" style=\"height:525px; width:100%;\"></div>            <script type=\"text/javascript\">                require([\"plotly\"], function(Plotly) {                    window.PLOTLYENV=window.PLOTLYENV || {};                                    if (document.getElementById(\"9c01a3b4-67c3-4f5e-a850-0ebe0499abe4\")) {                    Plotly.newPlot(                        \"9c01a3b4-67c3-4f5e-a850-0ebe0499abe4\",                        [{\"autocolorscale\":false,\"colorbar\":{\"tickprefix\":\"\",\"title\":{\"text\":\"transformer recall_score\"}},\"colorscale\":[[0.0,\"rgb(247,252,245)\"],[0.125,\"rgb(229,245,224)\"],[0.25,\"rgb(199,233,192)\"],[0.375,\"rgb(161,217,155)\"],[0.5,\"rgb(116,196,118)\"],[0.625,\"rgb(65,171,93)\"],[0.75,\"rgb(35,139,69)\"],[0.875,\"rgb(0,109,44)\"],[1.0,\"rgb(0,68,27)\"]],\"locations\":[\"FJI\",\"FJI\",\"TZA\",\"TZA\",\"TZA\",\"CAN\",\"CAN\",\"USA\",\"USA\",\"USA\",\"KAZ\",\"KAZ\",\"KAZ\",\"UZB\",\"UZB\",\"UZB\",\"IDN\",\"IDN\",\"IDN\",\"ARG\",\"ARG\",\"ARG\",\"CHL\",\"CHL\",\"CHL\",\"SOM\",\"SOM\",\"SOM\",\"KEN\",\"KEN\",\"KEN\",\"SDN\",\"SDN\",\"SDN\",\"TCD\",\"TCD\",\"TCD\",\"HTI\",\"HTI\",\"HTI\",\"RUS\",\"RUS\",\"RUS\",\"NOR\",\"NOR\",\"ZAF\",\"ZAF\",\"ZAF\",\"LSO\",\"LSO\",\"LSO\",\"MEX\",\"MEX\",\"MEX\",\"URY\",\"URY\",\"BRA\",\"BRA\",\"BRA\",\"BOL\",\"BOL\",\"BOL\",\"PER\",\"PER\",\"PER\",\"COL\",\"COL\",\"COL\",\"PAN\",\"PAN\",\"NIC\",\"NIC\",\"NIC\",\"HND\",\"HND\",\"HND\",\"SLV\",\"SLV\",\"SLV\",\"GTM\",\"GTM\",\"GTM\",\"BLZ\",\"BLZ\",\"BLZ\",\"GUY\",\"GUY\",\"GUY\",\"SUR\",\"SUR\",\"FRA\",\"FRA\",\"FRA\",\"ECU\",\"ECU\",\"ECU\",\"JAM\",\"JAM\",\"JAM\",\"CUB\",\"CUB\",\"CUB\",\"ZWE\",\"ZWE\",\"ZWE\",\"BWA\",\"BWA\",\"BWA\",\"NAM\",\"NAM\",\"NAM\",\"SEN\",\"SEN\",\"SEN\",\"MLI\",\"MLI\",\"MLI\",\"MRT\",\"MRT\",\"BEN\",\"BEN\",\"BEN\",\"NER\",\"NER\",\"NER\",\"NGA\",\"NGA\",\"NGA\",\"CMR\",\"CMR\",\"CMR\",\"TGO\",\"TGO\",\"TGO\",\"GHA\",\"GHA\",\"GHA\",\"CIV\",\"GIN\",\"GIN\",\"GIN\",\"LBR\",\"LBR\",\"LBR\",\"BFA\",\"BFA\",\"BFA\",\"GAB\",\"GAB\",\"ZMB\",\"ZMB\",\"ZMB\",\"MWI\",\"MWI\",\"MWI\",\"MOZ\",\"MOZ\",\"MOZ\",\"AGO\",\"AGO\",\"AGO\",\"BDI\",\"BDI\",\"ISR\",\"ISR\",\"ISR\",\"LBN\",\"LBN\",\"LBN\",\"MDG\",\"MDG\",\"MDG\",\"TUN\",\"TUN\",\"DZA\",\"DZA\",\"DZA\",\"JOR\",\"JOR\",\"JOR\",\"QAT\",\"QAT\",\"KWT\",\"KWT\",\"IRQ\",\"IRQ\",\"IRQ\",\"OMN\",\"OMN\",\"KHM\",\"KHM\",\"THA\",\"THA\",\"THA\",\"MMR\",\"MMR\",\"MMR\",\"VNM\",\"VNM\",\"MNG\",\"MNG\",\"IND\",\"IND\",\"IND\",\"BGD\",\"BGD\",\"BGD\",\"BTN\",\"BTN\",\"NPL\",\"NPL\",\"NPL\",\"PAK\",\"PAK\",\"PAK\",\"AFG\",\"AFG\",\"AFG\",\"TJK\",\"TJK\",\"KGZ\",\"KGZ\",\"KGZ\",\"TKM\",\"TKM\",\"SYR\",\"SYR\",\"SYR\",\"ARM\",\"ARM\",\"ARM\",\"SWE\",\"SWE\",\"BLR\",\"BLR\",\"BLR\",\"UKR\",\"UKR\",\"UKR\",\"POL\",\"POL\",\"AUT\",\"AUT\",\"HUN\",\"HUN\",\"HUN\",\"MDA\",\"MDA\",\"MDA\",\"ROU\",\"ROU\",\"LTU\",\"LTU\",\"LVA\",\"LVA\",\"EST\",\"EST\",\"DEU\",\"DEU\",\"DEU\",\"BGR\",\"BGR\",\"GRC\",\"GRC\",\"GRC\",\"ALB\",\"ALB\",\"HRV\",\"HRV\",\"CHE\",\"CHE\",\"LUX\",\"LUX\",\"BEL\",\"BEL\",\"NLD\",\"NLD\",\"PRT\",\"PRT\",\"ESP\",\"ESP\",\"ESP\",\"IRL\",\"IRL\",\"IRL\",\"AUS\",\"AUS\",\"LKA\",\"LKA\",\"LKA\",\"CHN\",\"CHN\",\"CHN\",\"ITA\",\"ITA\",\"ITA\",\"DNK\",\"DNK\",\"GBR\",\"GBR\",\"ISL\",\"ISL\",\"AZE\",\"AZE\",\"AZE\",\"GEO\",\"GEO\",\"GEO\",\"PHL\",\"PHL\",\"PHL\",\"MYS\",\"MYS\",\"BRN\",\"BRN\",\"SVN\",\"SVN\",\"FIN\",\"FIN\",\"SVK\",\"SVK\",\"CZE\",\"CZE\",\"CZE\",\"ERI\",\"ERI\",\"JPN\",\"JPN\",\"PRY\",\"PRY\",\"PRY\",\"SAU\",\"SAU\",\"SAU\",\"CYP\",\"CYP\",\"CYP\",\"MAR\",\"MAR\",\"MAR\",\"LBY\",\"LBY\",\"LBY\",\"ETH\",\"ETH\",\"ETH\",\"DJI\",\"UGA\",\"UGA\",\"UGA\",\"RWA\",\"RWA\",\"RWA\",\"MKD\",\"MKD\",\"MKD\",\"SRB\",\"SRB\",\"SRB\",\"MNE\",\"MNE\",\"TTO\",\"TTO\",\"TTO\"],\"marker\":{\"line\":{\"color\":\"darkgray\",\"width\":0.5}},\"reversescale\":false,\"text\":[\"FJI\",\"FJI\",\"TZA\",\"TZA\",\"TZA\",\"CAN\",\"CAN\",\"USA\",\"USA\",\"USA\",\"KAZ\",\"KAZ\",\"KAZ\",\"UZB\",\"UZB\",\"UZB\",\"IDN\",\"IDN\",\"IDN\",\"ARG\",\"ARG\",\"ARG\",\"CHL\",\"CHL\",\"CHL\",\"SOM\",\"SOM\",\"SOM\",\"KEN\",\"KEN\",\"KEN\",\"SDN\",\"SDN\",\"SDN\",\"TCD\",\"TCD\",\"TCD\",\"HTI\",\"HTI\",\"HTI\",\"RUS\",\"RUS\",\"RUS\",\"NOR\",\"NOR\",\"ZAF\",\"ZAF\",\"ZAF\",\"LSO\",\"LSO\",\"LSO\",\"MEX\",\"MEX\",\"MEX\",\"URY\",\"URY\",\"BRA\",\"BRA\",\"BRA\",\"BOL\",\"BOL\",\"BOL\",\"PER\",\"PER\",\"PER\",\"COL\",\"COL\",\"COL\",\"PAN\",\"PAN\",\"NIC\",\"NIC\",\"NIC\",\"HND\",\"HND\",\"HND\",\"SLV\",\"SLV\",\"SLV\",\"GTM\",\"GTM\",\"GTM\",\"BLZ\",\"BLZ\",\"BLZ\",\"GUY\",\"GUY\",\"GUY\",\"SUR\",\"SUR\",\"FRA\",\"FRA\",\"FRA\",\"ECU\",\"ECU\",\"ECU\",\"JAM\",\"JAM\",\"JAM\",\"CUB\",\"CUB\",\"CUB\",\"ZWE\",\"ZWE\",\"ZWE\",\"BWA\",\"BWA\",\"BWA\",\"NAM\",\"NAM\",\"NAM\",\"SEN\",\"SEN\",\"SEN\",\"MLI\",\"MLI\",\"MLI\",\"MRT\",\"MRT\",\"BEN\",\"BEN\",\"BEN\",\"NER\",\"NER\",\"NER\",\"NGA\",\"NGA\",\"NGA\",\"CMR\",\"CMR\",\"CMR\",\"TGO\",\"TGO\",\"TGO\",\"GHA\",\"GHA\",\"GHA\",\"CIV\",\"GIN\",\"GIN\",\"GIN\",\"LBR\",\"LBR\",\"LBR\",\"BFA\",\"BFA\",\"BFA\",\"GAB\",\"GAB\",\"ZMB\",\"ZMB\",\"ZMB\",\"MWI\",\"MWI\",\"MWI\",\"MOZ\",\"MOZ\",\"MOZ\",\"AGO\",\"AGO\",\"AGO\",\"BDI\",\"BDI\",\"ISR\",\"ISR\",\"ISR\",\"LBN\",\"LBN\",\"LBN\",\"MDG\",\"MDG\",\"MDG\",\"TUN\",\"TUN\",\"DZA\",\"DZA\",\"DZA\",\"JOR\",\"JOR\",\"JOR\",\"QAT\",\"QAT\",\"KWT\",\"KWT\",\"IRQ\",\"IRQ\",\"IRQ\",\"OMN\",\"OMN\",\"KHM\",\"KHM\",\"THA\",\"THA\",\"THA\",\"MMR\",\"MMR\",\"MMR\",\"VNM\",\"VNM\",\"MNG\",\"MNG\",\"IND\",\"IND\",\"IND\",\"BGD\",\"BGD\",\"BGD\",\"BTN\",\"BTN\",\"NPL\",\"NPL\",\"NPL\",\"PAK\",\"PAK\",\"PAK\",\"AFG\",\"AFG\",\"AFG\",\"TJK\",\"TJK\",\"KGZ\",\"KGZ\",\"KGZ\",\"TKM\",\"TKM\",\"SYR\",\"SYR\",\"SYR\",\"ARM\",\"ARM\",\"ARM\",\"SWE\",\"SWE\",\"BLR\",\"BLR\",\"BLR\",\"UKR\",\"UKR\",\"UKR\",\"POL\",\"POL\",\"AUT\",\"AUT\",\"HUN\",\"HUN\",\"HUN\",\"MDA\",\"MDA\",\"MDA\",\"ROU\",\"ROU\",\"LTU\",\"LTU\",\"LVA\",\"LVA\",\"EST\",\"EST\",\"DEU\",\"DEU\",\"DEU\",\"BGR\",\"BGR\",\"GRC\",\"GRC\",\"GRC\",\"ALB\",\"ALB\",\"HRV\",\"HRV\",\"CHE\",\"CHE\",\"LUX\",\"LUX\",\"BEL\",\"BEL\",\"NLD\",\"NLD\",\"PRT\",\"PRT\",\"ESP\",\"ESP\",\"ESP\",\"IRL\",\"IRL\",\"IRL\",\"AUS\",\"AUS\",\"LKA\",\"LKA\",\"LKA\",\"CHN\",\"CHN\",\"CHN\",\"ITA\",\"ITA\",\"ITA\",\"DNK\",\"DNK\",\"GBR\",\"GBR\",\"ISL\",\"ISL\",\"AZE\",\"AZE\",\"AZE\",\"GEO\",\"GEO\",\"GEO\",\"PHL\",\"PHL\",\"PHL\",\"MYS\",\"MYS\",\"BRN\",\"BRN\",\"SVN\",\"SVN\",\"FIN\",\"FIN\",\"SVK\",\"SVK\",\"CZE\",\"CZE\",\"CZE\",\"ERI\",\"ERI\",\"JPN\",\"JPN\",\"PRY\",\"PRY\",\"PRY\",\"SAU\",\"SAU\",\"SAU\",\"CYP\",\"CYP\",\"CYP\",\"MAR\",\"MAR\",\"MAR\",\"LBY\",\"LBY\",\"LBY\",\"ETH\",\"ETH\",\"ETH\",\"DJI\",\"UGA\",\"UGA\",\"UGA\",\"RWA\",\"RWA\",\"RWA\",\"MKD\",\"MKD\",\"MKD\",\"SRB\",\"SRB\",\"SRB\",\"MNE\",\"MNE\",\"TTO\",\"TTO\",\"TTO\"],\"z\":[0.59375,0.59375,0.59375,0.59375,0.59375,0.5,0.5,0.3333333333333333,0.3333333333333333,0.3333333333333333,0.59375,0.59375,0.59375,0.59375,0.59375,0.59375,0.59375,0.59375,0.59375,0.3333333333333333,0.3333333333333333,0.3333333333333333,0.3333333333333333,0.3333333333333333,0.3333333333333333,0.8181818181818182,0.8181818181818182,0.8181818181818182,0.59375,0.59375,0.59375,0.8181818181818182,0.8181818181818182,0.8181818181818182,0.8181818181818182,0.8181818181818182,0.8181818181818182,0.8181818181818182,0.8181818181818182,0.8181818181818182,0.59375,0.59375,0.59375,0.5,0.5,0.59375,0.59375,0.59375,0.59375,0.59375,0.59375,0.59375,0.59375,0.59375,0.3333333333333333,0.3333333333333333,0.59375,0.59375,0.59375,0.59375,0.59375,0.59375,0.59375,0.59375,0.59375,0.59375,0.59375,0.59375,0.3333333333333333,0.3333333333333333,0.59375,0.59375,0.59375,0.59375,0.59375,0.59375,0.59375,0.59375,0.59375,0.59375,0.59375,0.59375,0.3333333333333333,0.3333333333333333,0.3333333333333333,0.59375,0.59375,0.59375,0.3333333333333333,0.3333333333333333,0.5,0.5,0.5,0.59375,0.59375,0.59375,0.59375,0.59375,0.59375,0.3333333333333333,0.3333333333333333,0.3333333333333333,0.8181818181818182,0.8181818181818182,0.8181818181818182,0.3333333333333333,0.3333333333333333,0.3333333333333333,0.59375,0.59375,0.59375,0.59375,0.59375,0.59375,0.8181818181818182,0.8181818181818182,0.8181818181818182,0.59375,0.59375,0.59375,0.59375,0.59375,0.8181818181818182,0.8181818181818182,0.8181818181818182,0.8181818181818182,0.8181818181818182,0.8181818181818182,0.8181818181818182,0.8181818181818182,0.8181818181818182,0.59375,0.59375,0.59375,0.59375,0.59375,0.59375,0.59375,0.8181818181818182,0.8181818181818182,0.8181818181818182,0.59375,0.59375,0.59375,0.8181818181818182,0.8181818181818182,0.8181818181818182,0.59375,0.59375,0.59375,0.59375,0.59375,0.59375,0.59375,0.59375,0.8181818181818182,0.8181818181818182,0.8181818181818182,0.59375,0.59375,0.59375,0.8181818181818182,0.8181818181818182,0.3333333333333333,0.3333333333333333,0.3333333333333333,0.8181818181818182,0.8181818181818182,0.8181818181818182,0.59375,0.59375,0.59375,0.59375,0.59375,0.59375,0.59375,0.59375,0.59375,0.59375,0.59375,0.3333333333333333,0.3333333333333333,0.3333333333333333,0.3333333333333333,0.8181818181818182,0.8181818181818182,0.8181818181818182,0.3333333333333333,0.3333333333333333,0.59375,0.59375,0.59375,0.59375,0.59375,0.8181818181818182,0.8181818181818182,0.8181818181818182,0.3333333333333333,0.3333333333333333,0.3333333333333333,0.3333333333333333,0.59375,0.59375,0.59375,0.59375,0.59375,0.59375,0.59375,0.59375,0.59375,0.59375,0.59375,0.59375,0.59375,0.59375,0.8181818181818182,0.8181818181818182,0.8181818181818182,0.59375,0.59375,0.59375,0.59375,0.59375,0.59375,0.59375,0.8181818181818182,0.8181818181818182,0.8181818181818182,0.59375,0.59375,0.59375,0.5,0.5,0.59375,0.59375,0.59375,0.8181818181818182,0.8181818181818182,0.8181818181818182,0.3333333333333333,0.3333333333333333,0.5,0.5,0.3333333333333333,0.3333333333333333,0.3333333333333333,0.59375,0.59375,0.59375,0.3333333333333333,0.3333333333333333,0.3333333333333333,0.3333333333333333,0.3333333333333333,0.3333333333333333,0.3333333333333333,0.3333333333333333,0.5,0.5,0.5,0.3333333333333333,0.3333333333333333,0.3333333333333333,0.3333333333333333,0.3333333333333333,0.3333333333333333,0.3333333333333333,0.3333333333333333,0.3333333333333333,0.5,0.5,0.5,0.5,0.3333333333333333,0.3333333333333333,0.5,0.5,0.5,0.5,0.3333333333333333,0.3333333333333333,0.3333333333333333,0.5,0.5,0.5,0.5,0.5,0.8181818181818182,0.8181818181818182,0.8181818181818182,0.59375,0.59375,0.59375,0.3333333333333333,0.3333333333333333,0.3333333333333333,0.5,0.5,0.3333333333333333,0.3333333333333333,0.5,0.5,0.59375,0.59375,0.59375,0.59375,0.59375,0.59375,0.59375,0.59375,0.59375,0.3333333333333333,0.3333333333333333,0.3333333333333333,0.3333333333333333,0.5,0.5,0.5,0.5,0.3333333333333333,0.3333333333333333,0.3333333333333333,0.3333333333333333,0.3333333333333333,0.8181818181818182,0.8181818181818182,0.3333333333333333,0.3333333333333333,0.59375,0.59375,0.59375,0.59375,0.59375,0.59375,0.3333333333333333,0.3333333333333333,0.3333333333333333,0.59375,0.59375,0.59375,0.8181818181818182,0.8181818181818182,0.8181818181818182,0.8181818181818182,0.8181818181818182,0.8181818181818182,0.59375,0.8181818181818182,0.8181818181818182,0.8181818181818182,0.59375,0.59375,0.59375,0.59375,0.59375,0.59375,0.59375,0.59375,0.59375,0.3333333333333333,0.3333333333333333,0.3333333333333333,0.3333333333333333,0.3333333333333333],\"type\":\"choropleth\"}],                        {\"template\":{\"data\":{\"histogram2dcontour\":[{\"type\":\"histogram2dcontour\",\"colorbar\":{\"outlinewidth\":0,\"ticks\":\"\"},\"colorscale\":[[0.0,\"#0d0887\"],[0.1111111111111111,\"#46039f\"],[0.2222222222222222,\"#7201a8\"],[0.3333333333333333,\"#9c179e\"],[0.4444444444444444,\"#bd3786\"],[0.5555555555555556,\"#d8576b\"],[0.6666666666666666,\"#ed7953\"],[0.7777777777777778,\"#fb9f3a\"],[0.8888888888888888,\"#fdca26\"],[1.0,\"#f0f921\"]]}],\"choropleth\":[{\"type\":\"choropleth\",\"colorbar\":{\"outlinewidth\":0,\"ticks\":\"\"}}],\"histogram2d\":[{\"type\":\"histogram2d\",\"colorbar\":{\"outlinewidth\":0,\"ticks\":\"\"},\"colorscale\":[[0.0,\"#0d0887\"],[0.1111111111111111,\"#46039f\"],[0.2222222222222222,\"#7201a8\"],[0.3333333333333333,\"#9c179e\"],[0.4444444444444444,\"#bd3786\"],[0.5555555555555556,\"#d8576b\"],[0.6666666666666666,\"#ed7953\"],[0.7777777777777778,\"#fb9f3a\"],[0.8888888888888888,\"#fdca26\"],[1.0,\"#f0f921\"]]}],\"heatmap\":[{\"type\":\"heatmap\",\"colorbar\":{\"outlinewidth\":0,\"ticks\":\"\"},\"colorscale\":[[0.0,\"#0d0887\"],[0.1111111111111111,\"#46039f\"],[0.2222222222222222,\"#7201a8\"],[0.3333333333333333,\"#9c179e\"],[0.4444444444444444,\"#bd3786\"],[0.5555555555555556,\"#d8576b\"],[0.6666666666666666,\"#ed7953\"],[0.7777777777777778,\"#fb9f3a\"],[0.8888888888888888,\"#fdca26\"],[1.0,\"#f0f921\"]]}],\"heatmapgl\":[{\"type\":\"heatmapgl\",\"colorbar\":{\"outlinewidth\":0,\"ticks\":\"\"},\"colorscale\":[[0.0,\"#0d0887\"],[0.1111111111111111,\"#46039f\"],[0.2222222222222222,\"#7201a8\"],[0.3333333333333333,\"#9c179e\"],[0.4444444444444444,\"#bd3786\"],[0.5555555555555556,\"#d8576b\"],[0.6666666666666666,\"#ed7953\"],[0.7777777777777778,\"#fb9f3a\"],[0.8888888888888888,\"#fdca26\"],[1.0,\"#f0f921\"]]}],\"contourcarpet\":[{\"type\":\"contourcarpet\",\"colorbar\":{\"outlinewidth\":0,\"ticks\":\"\"}}],\"contour\":[{\"type\":\"contour\",\"colorbar\":{\"outlinewidth\":0,\"ticks\":\"\"},\"colorscale\":[[0.0,\"#0d0887\"],[0.1111111111111111,\"#46039f\"],[0.2222222222222222,\"#7201a8\"],[0.3333333333333333,\"#9c179e\"],[0.4444444444444444,\"#bd3786\"],[0.5555555555555556,\"#d8576b\"],[0.6666666666666666,\"#ed7953\"],[0.7777777777777778,\"#fb9f3a\"],[0.8888888888888888,\"#fdca26\"],[1.0,\"#f0f921\"]]}],\"surface\":[{\"type\":\"surface\",\"colorbar\":{\"outlinewidth\":0,\"ticks\":\"\"},\"colorscale\":[[0.0,\"#0d0887\"],[0.1111111111111111,\"#46039f\"],[0.2222222222222222,\"#7201a8\"],[0.3333333333333333,\"#9c179e\"],[0.4444444444444444,\"#bd3786\"],[0.5555555555555556,\"#d8576b\"],[0.6666666666666666,\"#ed7953\"],[0.7777777777777778,\"#fb9f3a\"],[0.8888888888888888,\"#fdca26\"],[1.0,\"#f0f921\"]]}],\"mesh3d\":[{\"type\":\"mesh3d\",\"colorbar\":{\"outlinewidth\":0,\"ticks\":\"\"}}],\"scatter\":[{\"fillpattern\":{\"fillmode\":\"overlay\",\"size\":10,\"solidity\":0.2},\"type\":\"scatter\"}],\"parcoords\":[{\"type\":\"parcoords\",\"line\":{\"colorbar\":{\"outlinewidth\":0,\"ticks\":\"\"}}}],\"scatterpolargl\":[{\"type\":\"scatterpolargl\",\"marker\":{\"colorbar\":{\"outlinewidth\":0,\"ticks\":\"\"}}}],\"bar\":[{\"error_x\":{\"color\":\"#2a3f5f\"},\"error_y\":{\"color\":\"#2a3f5f\"},\"marker\":{\"line\":{\"color\":\"#E5ECF6\",\"width\":0.5},\"pattern\":{\"fillmode\":\"overlay\",\"size\":10,\"solidity\":0.2}},\"type\":\"bar\"}],\"scattergeo\":[{\"type\":\"scattergeo\",\"marker\":{\"colorbar\":{\"outlinewidth\":0,\"ticks\":\"\"}}}],\"scatterpolar\":[{\"type\":\"scatterpolar\",\"marker\":{\"colorbar\":{\"outlinewidth\":0,\"ticks\":\"\"}}}],\"histogram\":[{\"marker\":{\"pattern\":{\"fillmode\":\"overlay\",\"size\":10,\"solidity\":0.2}},\"type\":\"histogram\"}],\"scattergl\":[{\"type\":\"scattergl\",\"marker\":{\"colorbar\":{\"outlinewidth\":0,\"ticks\":\"\"}}}],\"scatter3d\":[{\"type\":\"scatter3d\",\"line\":{\"colorbar\":{\"outlinewidth\":0,\"ticks\":\"\"}},\"marker\":{\"colorbar\":{\"outlinewidth\":0,\"ticks\":\"\"}}}],\"scattermapbox\":[{\"type\":\"scattermapbox\",\"marker\":{\"colorbar\":{\"outlinewidth\":0,\"ticks\":\"\"}}}],\"scatterternary\":[{\"type\":\"scatterternary\",\"marker\":{\"colorbar\":{\"outlinewidth\":0,\"ticks\":\"\"}}}],\"scattercarpet\":[{\"type\":\"scattercarpet\",\"marker\":{\"colorbar\":{\"outlinewidth\":0,\"ticks\":\"\"}}}],\"carpet\":[{\"aaxis\":{\"endlinecolor\":\"#2a3f5f\",\"gridcolor\":\"white\",\"linecolor\":\"white\",\"minorgridcolor\":\"white\",\"startlinecolor\":\"#2a3f5f\"},\"baxis\":{\"endlinecolor\":\"#2a3f5f\",\"gridcolor\":\"white\",\"linecolor\":\"white\",\"minorgridcolor\":\"white\",\"startlinecolor\":\"#2a3f5f\"},\"type\":\"carpet\"}],\"table\":[{\"cells\":{\"fill\":{\"color\":\"#EBF0F8\"},\"line\":{\"color\":\"white\"}},\"header\":{\"fill\":{\"color\":\"#C8D4E3\"},\"line\":{\"color\":\"white\"}},\"type\":\"table\"}],\"barpolar\":[{\"marker\":{\"line\":{\"color\":\"#E5ECF6\",\"width\":0.5},\"pattern\":{\"fillmode\":\"overlay\",\"size\":10,\"solidity\":0.2}},\"type\":\"barpolar\"}],\"pie\":[{\"automargin\":true,\"type\":\"pie\"}]},\"layout\":{\"autotypenumbers\":\"strict\",\"colorway\":[\"#636efa\",\"#EF553B\",\"#00cc96\",\"#ab63fa\",\"#FFA15A\",\"#19d3f3\",\"#FF6692\",\"#B6E880\",\"#FF97FF\",\"#FECB52\"],\"font\":{\"color\":\"#2a3f5f\"},\"hovermode\":\"closest\",\"hoverlabel\":{\"align\":\"left\"},\"paper_bgcolor\":\"white\",\"plot_bgcolor\":\"#E5ECF6\",\"polar\":{\"bgcolor\":\"#E5ECF6\",\"angularaxis\":{\"gridcolor\":\"white\",\"linecolor\":\"white\",\"ticks\":\"\"},\"radialaxis\":{\"gridcolor\":\"white\",\"linecolor\":\"white\",\"ticks\":\"\"}},\"ternary\":{\"bgcolor\":\"#E5ECF6\",\"aaxis\":{\"gridcolor\":\"white\",\"linecolor\":\"white\",\"ticks\":\"\"},\"baxis\":{\"gridcolor\":\"white\",\"linecolor\":\"white\",\"ticks\":\"\"},\"caxis\":{\"gridcolor\":\"white\",\"linecolor\":\"white\",\"ticks\":\"\"}},\"coloraxis\":{\"colorbar\":{\"outlinewidth\":0,\"ticks\":\"\"}},\"colorscale\":{\"sequential\":[[0.0,\"#0d0887\"],[0.1111111111111111,\"#46039f\"],[0.2222222222222222,\"#7201a8\"],[0.3333333333333333,\"#9c179e\"],[0.4444444444444444,\"#bd3786\"],[0.5555555555555556,\"#d8576b\"],[0.6666666666666666,\"#ed7953\"],[0.7777777777777778,\"#fb9f3a\"],[0.8888888888888888,\"#fdca26\"],[1.0,\"#f0f921\"]],\"sequentialminus\":[[0.0,\"#0d0887\"],[0.1111111111111111,\"#46039f\"],[0.2222222222222222,\"#7201a8\"],[0.3333333333333333,\"#9c179e\"],[0.4444444444444444,\"#bd3786\"],[0.5555555555555556,\"#d8576b\"],[0.6666666666666666,\"#ed7953\"],[0.7777777777777778,\"#fb9f3a\"],[0.8888888888888888,\"#fdca26\"],[1.0,\"#f0f921\"]],\"diverging\":[[0,\"#8e0152\"],[0.1,\"#c51b7d\"],[0.2,\"#de77ae\"],[0.3,\"#f1b6da\"],[0.4,\"#fde0ef\"],[0.5,\"#f7f7f7\"],[0.6,\"#e6f5d0\"],[0.7,\"#b8e186\"],[0.8,\"#7fbc41\"],[0.9,\"#4d9221\"],[1,\"#276419\"]]},\"xaxis\":{\"gridcolor\":\"white\",\"linecolor\":\"white\",\"ticks\":\"\",\"title\":{\"standoff\":15},\"zerolinecolor\":\"white\",\"automargin\":true,\"zerolinewidth\":2},\"yaxis\":{\"gridcolor\":\"white\",\"linecolor\":\"white\",\"ticks\":\"\",\"title\":{\"standoff\":15},\"zerolinecolor\":\"white\",\"automargin\":true,\"zerolinewidth\":2},\"scene\":{\"xaxis\":{\"backgroundcolor\":\"#E5ECF6\",\"gridcolor\":\"white\",\"linecolor\":\"white\",\"showbackground\":true,\"ticks\":\"\",\"zerolinecolor\":\"white\",\"gridwidth\":2},\"yaxis\":{\"backgroundcolor\":\"#E5ECF6\",\"gridcolor\":\"white\",\"linecolor\":\"white\",\"showbackground\":true,\"ticks\":\"\",\"zerolinecolor\":\"white\",\"gridwidth\":2},\"zaxis\":{\"backgroundcolor\":\"#E5ECF6\",\"gridcolor\":\"white\",\"linecolor\":\"white\",\"showbackground\":true,\"ticks\":\"\",\"zerolinecolor\":\"white\",\"gridwidth\":2}},\"shapedefaults\":{\"line\":{\"color\":\"#2a3f5f\"}},\"annotationdefaults\":{\"arrowcolor\":\"#2a3f5f\",\"arrowhead\":0,\"arrowwidth\":1},\"geo\":{\"bgcolor\":\"white\",\"landcolor\":\"#E5ECF6\",\"subunitcolor\":\"white\",\"showland\":true,\"showlakes\":true,\"lakecolor\":\"white\"},\"title\":{\"x\":0.05},\"mapbox\":{\"style\":\"light\"}}}},                        {\"responsive\": true}                    ).then(function(){\n",
       "                            \n",
       "var gd = document.getElementById('9c01a3b4-67c3-4f5e-a850-0ebe0499abe4');\n",
       "var x = new MutationObserver(function (mutations, observer) {{\n",
       "        var display = window.getComputedStyle(gd).display;\n",
       "        if (!display || display === 'none') {{\n",
       "            console.log([gd, 'removed!']);\n",
       "            Plotly.purge(gd);\n",
       "            observer.disconnect();\n",
       "        }}\n",
       "}});\n",
       "\n",
       "// Listen for the removal of the full notebook cells\n",
       "var notebookContainer = gd.closest('#notebook-container');\n",
       "if (notebookContainer) {{\n",
       "    x.observe(notebookContainer, {childList: true});\n",
       "}}\n",
       "\n",
       "// Listen for the clearing of the current output cell\n",
       "var outputEl = gd.closest('.output');\n",
       "if (outputEl) {{\n",
       "    x.observe(outputEl, {childList: true});\n",
       "}}\n",
       "\n",
       "                        })                };                });            </script>        </div>"
      ]
     },
     "metadata": {},
     "output_type": "display_data"
    }
   ],
   "source": [
    "fig = []\n",
    "for model,colors in zip(['ffnn', 'xgboost', 'transformer'],['Reds', 'Blues', 'Greens']):\n",
    "    fig += [go.Figure(data = go.Choropleth(locations=df_preds['iso3'], text=df_preds['iso3'], \n",
    "                                           z=chosen_metric_back_into_original_data[model], \n",
    "               colorscale = colors, autocolorscale=False, reversescale=False, marker_line_color='darkgray',\n",
    "               marker_line_width=0.5, colorbar_tickprefix='', colorbar_title=model+\" \"+chosen_metric))]\n",
    "fig[0].show()\n",
    "fig[1].show()\n",
    "fig[2].show()"
   ]
  },
  {
   "cell_type": "code",
   "execution_count": 15,
   "id": "53e619ee",
   "metadata": {},
   "outputs": [
    {
     "data": {
      "text/html": [
       "<style type=\"text/css\">\n",
       "#T_a27f5_row0_col2, #T_a27f5_row9_col2 {\n",
       "  background-color: #ebf3eb;\n",
       "  color: #000000;\n",
       "}\n",
       "#T_a27f5_row1_col2, #T_a27f5_row2_col2 {\n",
       "  background-color: #92c892;\n",
       "  color: #000000;\n",
       "}\n",
       "#T_a27f5_row3_col2, #T_a27f5_row4_col2 {\n",
       "  background-color: #008000;\n",
       "  color: #f1f1f1;\n",
       "}\n",
       "#T_a27f5_row5_col2 {\n",
       "  background-color: #329832;\n",
       "  color: #f1f1f1;\n",
       "}\n",
       "#T_a27f5_row6_col2 {\n",
       "  background-color: #7bbc7b;\n",
       "  color: #000000;\n",
       "}\n",
       "#T_a27f5_row7_col2 {\n",
       "  background-color: #158a15;\n",
       "  color: #f1f1f1;\n",
       "}\n",
       "#T_a27f5_row8_col2 {\n",
       "  background-color: #4aa44a;\n",
       "  color: #f1f1f1;\n",
       "}\n",
       "#T_a27f5_row10_col2 {\n",
       "  background-color: #7dbd7d;\n",
       "  color: #000000;\n",
       "}\n",
       "#T_a27f5_row11_col2 {\n",
       "  background-color: #90c790;\n",
       "  color: #000000;\n",
       "}\n",
       "</style>\n",
       "<table id=\"T_a27f5\">\n",
       "  <thead>\n",
       "    <tr>\n",
       "      <th id=\"T_a27f5_level0_col0\" class=\"col_heading level0 col0\" >model</th>\n",
       "      <th id=\"T_a27f5_level0_col1\" class=\"col_heading level0 col1\" >wbi_income_group</th>\n",
       "      <th id=\"T_a27f5_level0_col2\" class=\"col_heading level0 col2\" >specificity_score</th>\n",
       "    </tr>\n",
       "  </thead>\n",
       "  <tbody>\n",
       "    <tr>\n",
       "      <td id=\"T_a27f5_row0_col0\" class=\"data row0 col0\" >ffnn</td>\n",
       "      <td id=\"T_a27f5_row0_col1\" class=\"data row0 col1\" >High income</td>\n",
       "      <td id=\"T_a27f5_row0_col2\" class=\"data row0 col2\" >0.000</td>\n",
       "    </tr>\n",
       "    <tr>\n",
       "      <td id=\"T_a27f5_row1_col0\" class=\"data row1 col0\" >xgboost</td>\n",
       "      <td id=\"T_a27f5_row1_col1\" class=\"data row1 col1\" >High income</td>\n",
       "      <td id=\"T_a27f5_row1_col2\" class=\"data row1 col2\" >0.375</td>\n",
       "    </tr>\n",
       "    <tr>\n",
       "      <td id=\"T_a27f5_row2_col0\" class=\"data row2 col0\" >transformer</td>\n",
       "      <td id=\"T_a27f5_row2_col1\" class=\"data row2 col1\" >High income</td>\n",
       "      <td id=\"T_a27f5_row2_col2\" class=\"data row2 col2\" >0.375</td>\n",
       "    </tr>\n",
       "    <tr>\n",
       "      <td id=\"T_a27f5_row3_col0\" class=\"data row3 col0\" >ffnn</td>\n",
       "      <td id=\"T_a27f5_row3_col1\" class=\"data row3 col1\" >Low income</td>\n",
       "      <td id=\"T_a27f5_row3_col2\" class=\"data row3 col2\" >1.000</td>\n",
       "    </tr>\n",
       "    <tr>\n",
       "      <td id=\"T_a27f5_row4_col0\" class=\"data row4 col0\" >xgboost</td>\n",
       "      <td id=\"T_a27f5_row4_col1\" class=\"data row4 col1\" >Low income</td>\n",
       "      <td id=\"T_a27f5_row4_col2\" class=\"data row4 col2\" >1.000</td>\n",
       "    </tr>\n",
       "    <tr>\n",
       "      <td id=\"T_a27f5_row5_col0\" class=\"data row5 col0\" >transformer</td>\n",
       "      <td id=\"T_a27f5_row5_col1\" class=\"data row5 col1\" >Low income</td>\n",
       "      <td id=\"T_a27f5_row5_col2\" class=\"data row5 col2\" >0.786</td>\n",
       "    </tr>\n",
       "    <tr>\n",
       "      <td id=\"T_a27f5_row6_col0\" class=\"data row6 col0\" >ffnn</td>\n",
       "      <td id=\"T_a27f5_row6_col1\" class=\"data row6 col1\" >Lower middle income</td>\n",
       "      <td id=\"T_a27f5_row6_col2\" class=\"data row6 col2\" >0.474</td>\n",
       "    </tr>\n",
       "    <tr>\n",
       "      <td id=\"T_a27f5_row7_col0\" class=\"data row7 col0\" >xgboost</td>\n",
       "      <td id=\"T_a27f5_row7_col1\" class=\"data row7 col1\" >Lower middle income</td>\n",
       "      <td id=\"T_a27f5_row7_col2\" class=\"data row7 col2\" >0.909</td>\n",
       "    </tr>\n",
       "    <tr>\n",
       "      <td id=\"T_a27f5_row8_col0\" class=\"data row8 col0\" >transformer</td>\n",
       "      <td id=\"T_a27f5_row8_col1\" class=\"data row8 col1\" >Lower middle income</td>\n",
       "      <td id=\"T_a27f5_row8_col2\" class=\"data row8 col2\" >0.684</td>\n",
       "    </tr>\n",
       "    <tr>\n",
       "      <td id=\"T_a27f5_row9_col0\" class=\"data row9 col0\" >ffnn</td>\n",
       "      <td id=\"T_a27f5_row9_col1\" class=\"data row9 col1\" >Upper middle income</td>\n",
       "      <td id=\"T_a27f5_row9_col2\" class=\"data row9 col2\" >0.000</td>\n",
       "    </tr>\n",
       "    <tr>\n",
       "      <td id=\"T_a27f5_row10_col0\" class=\"data row10 col0\" >xgboost</td>\n",
       "      <td id=\"T_a27f5_row10_col1\" class=\"data row10 col1\" >Upper middle income</td>\n",
       "      <td id=\"T_a27f5_row10_col2\" class=\"data row10 col2\" >0.467</td>\n",
       "    </tr>\n",
       "    <tr>\n",
       "      <td id=\"T_a27f5_row11_col0\" class=\"data row11 col0\" >transformer</td>\n",
       "      <td id=\"T_a27f5_row11_col1\" class=\"data row11 col1\" >Upper middle income</td>\n",
       "      <td id=\"T_a27f5_row11_col2\" class=\"data row11 col2\" >0.385</td>\n",
       "    </tr>\n",
       "  </tbody>\n",
       "</table>\n"
      ],
      "text/plain": [
       "<pandas.io.formats.style.Styler at 0x7f8cf236d360>"
      ]
     },
     "execution_count": 15,
     "metadata": {},
     "output_type": "execute_result"
    }
   ],
   "source": [
    "column_defining_groups_2 = 'wbi_income_group'\n",
    "chosen_metric_2 = 'specificity_score'\n",
    "metric_function_2 = getattr(metrics, chosen_metric)\n",
    "\n",
    "chosen_metric_for_chosen_groups_2 = list()\n",
    "chosen_metric_back_into_original_data_2 = {'ffnn': pd.Series(index=df.index, dtype=np.float64), \n",
    "                                         'xgboost': pd.Series(index=df.index, dtype=np.float64), \n",
    "                                         'transformer': pd.Series(index=df.index, dtype=np.float64)}\n",
    "    \n",
    "for g, rows in df.groupby(column_defining_groups_2):\n",
    "    for model in ['ffnn', 'xgboost', 'transformer']:        \n",
    "        chosen_metric_value_2 = metric_function_2(rows[f\"y_true_{model}\"], rows[f\"y_pred_{model}\"])\n",
    "        chosen_metric_back_into_original_data_2[model][rows.index] = chosen_metric_value_2\n",
    "        chosen_metric_for_chosen_groups_2.append((model, g, chosen_metric_value_2))\n",
    "\n",
    "cm_bigger_better_2 = sns.light_palette(\"green\", as_cmap=True)\n",
    "styler_2 = (pd.DataFrame(chosen_metric_for_chosen_groups_2, \n",
    "                        columns=('model', column_defining_groups_2, chosen_metric_2))\n",
    "            .sort_values(column_defining_groups_2).style\n",
    "            .background_gradient(cmap=cm_bigger_better_2)\n",
    "            .format(precision=3).hide(axis=\"index\"))\n",
    "styler_2"
   ]
  },
  {
   "cell_type": "code",
   "execution_count": 16,
   "id": "cf3adcde",
   "metadata": {},
   "outputs": [
    {
     "data": {
      "application/vnd.plotly.v1+json": {
       "config": {
        "plotlyServerURL": "https://plot.ly"
       },
       "data": [
        {
         "autocolorscale": false,
         "colorbar": {
          "tickprefix": "",
          "title": {
           "text": "ffnn specificity_score"
          }
         },
         "colorscale": [
          [
           0,
           "rgb(255,245,240)"
          ],
          [
           0.125,
           "rgb(254,224,210)"
          ],
          [
           0.25,
           "rgb(252,187,161)"
          ],
          [
           0.375,
           "rgb(252,146,114)"
          ],
          [
           0.5,
           "rgb(251,106,74)"
          ],
          [
           0.625,
           "rgb(239,59,44)"
          ],
          [
           0.75,
           "rgb(203,24,29)"
          ],
          [
           0.875,
           "rgb(165,15,21)"
          ],
          [
           1,
           "rgb(103,0,13)"
          ]
         ],
         "locations": [
          "FJI",
          "FJI",
          "TZA",
          "TZA",
          "TZA",
          "CAN",
          "CAN",
          "USA",
          "USA",
          "USA",
          "KAZ",
          "KAZ",
          "KAZ",
          "UZB",
          "UZB",
          "UZB",
          "IDN",
          "IDN",
          "IDN",
          "ARG",
          "ARG",
          "ARG",
          "CHL",
          "CHL",
          "CHL",
          "SOM",
          "SOM",
          "SOM",
          "KEN",
          "KEN",
          "KEN",
          "SDN",
          "SDN",
          "SDN",
          "TCD",
          "TCD",
          "TCD",
          "HTI",
          "HTI",
          "HTI",
          "RUS",
          "RUS",
          "RUS",
          "NOR",
          "NOR",
          "ZAF",
          "ZAF",
          "ZAF",
          "LSO",
          "LSO",
          "LSO",
          "MEX",
          "MEX",
          "MEX",
          "URY",
          "URY",
          "BRA",
          "BRA",
          "BRA",
          "BOL",
          "BOL",
          "BOL",
          "PER",
          "PER",
          "PER",
          "COL",
          "COL",
          "COL",
          "PAN",
          "PAN",
          "NIC",
          "NIC",
          "NIC",
          "HND",
          "HND",
          "HND",
          "SLV",
          "SLV",
          "SLV",
          "GTM",
          "GTM",
          "GTM",
          "BLZ",
          "BLZ",
          "BLZ",
          "GUY",
          "GUY",
          "GUY",
          "SUR",
          "SUR",
          "FRA",
          "FRA",
          "FRA",
          "ECU",
          "ECU",
          "ECU",
          "JAM",
          "JAM",
          "JAM",
          "CUB",
          "CUB",
          "CUB",
          "ZWE",
          "ZWE",
          "ZWE",
          "BWA",
          "BWA",
          "BWA",
          "NAM",
          "NAM",
          "NAM",
          "SEN",
          "SEN",
          "SEN",
          "MLI",
          "MLI",
          "MLI",
          "MRT",
          "MRT",
          "BEN",
          "BEN",
          "BEN",
          "NER",
          "NER",
          "NER",
          "NGA",
          "NGA",
          "NGA",
          "CMR",
          "CMR",
          "CMR",
          "TGO",
          "TGO",
          "TGO",
          "GHA",
          "GHA",
          "GHA",
          "CIV",
          "GIN",
          "GIN",
          "GIN",
          "LBR",
          "LBR",
          "LBR",
          "BFA",
          "BFA",
          "BFA",
          "GAB",
          "GAB",
          "ZMB",
          "ZMB",
          "ZMB",
          "MWI",
          "MWI",
          "MWI",
          "MOZ",
          "MOZ",
          "MOZ",
          "AGO",
          "AGO",
          "AGO",
          "BDI",
          "BDI",
          "ISR",
          "ISR",
          "ISR",
          "LBN",
          "LBN",
          "LBN",
          "MDG",
          "MDG",
          "MDG",
          "TUN",
          "TUN",
          "DZA",
          "DZA",
          "DZA",
          "JOR",
          "JOR",
          "JOR",
          "QAT",
          "QAT",
          "KWT",
          "KWT",
          "IRQ",
          "IRQ",
          "IRQ",
          "OMN",
          "OMN",
          "KHM",
          "KHM",
          "THA",
          "THA",
          "THA",
          "MMR",
          "MMR",
          "MMR",
          "VNM",
          "VNM",
          "MNG",
          "MNG",
          "IND",
          "IND",
          "IND",
          "BGD",
          "BGD",
          "BGD",
          "BTN",
          "BTN",
          "NPL",
          "NPL",
          "NPL",
          "PAK",
          "PAK",
          "PAK",
          "AFG",
          "AFG",
          "AFG",
          "TJK",
          "TJK",
          "KGZ",
          "KGZ",
          "KGZ",
          "TKM",
          "TKM",
          "SYR",
          "SYR",
          "SYR",
          "ARM",
          "ARM",
          "ARM",
          "SWE",
          "SWE",
          "BLR",
          "BLR",
          "BLR",
          "UKR",
          "UKR",
          "UKR",
          "POL",
          "POL",
          "AUT",
          "AUT",
          "HUN",
          "HUN",
          "HUN",
          "MDA",
          "MDA",
          "MDA",
          "ROU",
          "ROU",
          "LTU",
          "LTU",
          "LVA",
          "LVA",
          "EST",
          "EST",
          "DEU",
          "DEU",
          "DEU",
          "BGR",
          "BGR",
          "GRC",
          "GRC",
          "GRC",
          "ALB",
          "ALB",
          "HRV",
          "HRV",
          "CHE",
          "CHE",
          "LUX",
          "LUX",
          "BEL",
          "BEL",
          "NLD",
          "NLD",
          "PRT",
          "PRT",
          "ESP",
          "ESP",
          "ESP",
          "IRL",
          "IRL",
          "IRL",
          "AUS",
          "AUS",
          "LKA",
          "LKA",
          "LKA",
          "CHN",
          "CHN",
          "CHN",
          "ITA",
          "ITA",
          "ITA",
          "DNK",
          "DNK",
          "GBR",
          "GBR",
          "ISL",
          "ISL",
          "AZE",
          "AZE",
          "AZE",
          "GEO",
          "GEO",
          "GEO",
          "PHL",
          "PHL",
          "PHL",
          "MYS",
          "MYS",
          "BRN",
          "BRN",
          "SVN",
          "SVN",
          "FIN",
          "FIN",
          "SVK",
          "SVK",
          "CZE",
          "CZE",
          "CZE",
          "ERI",
          "ERI",
          "JPN",
          "JPN",
          "PRY",
          "PRY",
          "PRY",
          "SAU",
          "SAU",
          "SAU",
          "CYP",
          "CYP",
          "CYP",
          "MAR",
          "MAR",
          "MAR",
          "LBY",
          "LBY",
          "LBY",
          "ETH",
          "ETH",
          "ETH",
          "DJI",
          "UGA",
          "UGA",
          "UGA",
          "RWA",
          "RWA",
          "RWA",
          "MKD",
          "MKD",
          "MKD",
          "SRB",
          "SRB",
          "SRB",
          "MNE",
          "MNE",
          "TTO",
          "TTO",
          "TTO"
         ],
         "marker": {
          "line": {
           "color": "darkgray",
           "width": 0.5
          }
         },
         "reversescale": false,
         "text": [
          "FJI",
          "FJI",
          "TZA",
          "TZA",
          "TZA",
          "CAN",
          "CAN",
          "USA",
          "USA",
          "USA",
          "KAZ",
          "KAZ",
          "KAZ",
          "UZB",
          "UZB",
          "UZB",
          "IDN",
          "IDN",
          "IDN",
          "ARG",
          "ARG",
          "ARG",
          "CHL",
          "CHL",
          "CHL",
          "SOM",
          "SOM",
          "SOM",
          "KEN",
          "KEN",
          "KEN",
          "SDN",
          "SDN",
          "SDN",
          "TCD",
          "TCD",
          "TCD",
          "HTI",
          "HTI",
          "HTI",
          "RUS",
          "RUS",
          "RUS",
          "NOR",
          "NOR",
          "ZAF",
          "ZAF",
          "ZAF",
          "LSO",
          "LSO",
          "LSO",
          "MEX",
          "MEX",
          "MEX",
          "URY",
          "URY",
          "BRA",
          "BRA",
          "BRA",
          "BOL",
          "BOL",
          "BOL",
          "PER",
          "PER",
          "PER",
          "COL",
          "COL",
          "COL",
          "PAN",
          "PAN",
          "NIC",
          "NIC",
          "NIC",
          "HND",
          "HND",
          "HND",
          "SLV",
          "SLV",
          "SLV",
          "GTM",
          "GTM",
          "GTM",
          "BLZ",
          "BLZ",
          "BLZ",
          "GUY",
          "GUY",
          "GUY",
          "SUR",
          "SUR",
          "FRA",
          "FRA",
          "FRA",
          "ECU",
          "ECU",
          "ECU",
          "JAM",
          "JAM",
          "JAM",
          "CUB",
          "CUB",
          "CUB",
          "ZWE",
          "ZWE",
          "ZWE",
          "BWA",
          "BWA",
          "BWA",
          "NAM",
          "NAM",
          "NAM",
          "SEN",
          "SEN",
          "SEN",
          "MLI",
          "MLI",
          "MLI",
          "MRT",
          "MRT",
          "BEN",
          "BEN",
          "BEN",
          "NER",
          "NER",
          "NER",
          "NGA",
          "NGA",
          "NGA",
          "CMR",
          "CMR",
          "CMR",
          "TGO",
          "TGO",
          "TGO",
          "GHA",
          "GHA",
          "GHA",
          "CIV",
          "GIN",
          "GIN",
          "GIN",
          "LBR",
          "LBR",
          "LBR",
          "BFA",
          "BFA",
          "BFA",
          "GAB",
          "GAB",
          "ZMB",
          "ZMB",
          "ZMB",
          "MWI",
          "MWI",
          "MWI",
          "MOZ",
          "MOZ",
          "MOZ",
          "AGO",
          "AGO",
          "AGO",
          "BDI",
          "BDI",
          "ISR",
          "ISR",
          "ISR",
          "LBN",
          "LBN",
          "LBN",
          "MDG",
          "MDG",
          "MDG",
          "TUN",
          "TUN",
          "DZA",
          "DZA",
          "DZA",
          "JOR",
          "JOR",
          "JOR",
          "QAT",
          "QAT",
          "KWT",
          "KWT",
          "IRQ",
          "IRQ",
          "IRQ",
          "OMN",
          "OMN",
          "KHM",
          "KHM",
          "THA",
          "THA",
          "THA",
          "MMR",
          "MMR",
          "MMR",
          "VNM",
          "VNM",
          "MNG",
          "MNG",
          "IND",
          "IND",
          "IND",
          "BGD",
          "BGD",
          "BGD",
          "BTN",
          "BTN",
          "NPL",
          "NPL",
          "NPL",
          "PAK",
          "PAK",
          "PAK",
          "AFG",
          "AFG",
          "AFG",
          "TJK",
          "TJK",
          "KGZ",
          "KGZ",
          "KGZ",
          "TKM",
          "TKM",
          "SYR",
          "SYR",
          "SYR",
          "ARM",
          "ARM",
          "ARM",
          "SWE",
          "SWE",
          "BLR",
          "BLR",
          "BLR",
          "UKR",
          "UKR",
          "UKR",
          "POL",
          "POL",
          "AUT",
          "AUT",
          "HUN",
          "HUN",
          "HUN",
          "MDA",
          "MDA",
          "MDA",
          "ROU",
          "ROU",
          "LTU",
          "LTU",
          "LVA",
          "LVA",
          "EST",
          "EST",
          "DEU",
          "DEU",
          "DEU",
          "BGR",
          "BGR",
          "GRC",
          "GRC",
          "GRC",
          "ALB",
          "ALB",
          "HRV",
          "HRV",
          "CHE",
          "CHE",
          "LUX",
          "LUX",
          "BEL",
          "BEL",
          "NLD",
          "NLD",
          "PRT",
          "PRT",
          "ESP",
          "ESP",
          "ESP",
          "IRL",
          "IRL",
          "IRL",
          "AUS",
          "AUS",
          "LKA",
          "LKA",
          "LKA",
          "CHN",
          "CHN",
          "CHN",
          "ITA",
          "ITA",
          "ITA",
          "DNK",
          "DNK",
          "GBR",
          "GBR",
          "ISL",
          "ISL",
          "AZE",
          "AZE",
          "AZE",
          "GEO",
          "GEO",
          "GEO",
          "PHL",
          "PHL",
          "PHL",
          "MYS",
          "MYS",
          "BRN",
          "BRN",
          "SVN",
          "SVN",
          "FIN",
          "FIN",
          "SVK",
          "SVK",
          "CZE",
          "CZE",
          "CZE",
          "ERI",
          "ERI",
          "JPN",
          "JPN",
          "PRY",
          "PRY",
          "PRY",
          "SAU",
          "SAU",
          "SAU",
          "CYP",
          "CYP",
          "CYP",
          "MAR",
          "MAR",
          "MAR",
          "LBY",
          "LBY",
          "LBY",
          "ETH",
          "ETH",
          "ETH",
          "DJI",
          "UGA",
          "UGA",
          "UGA",
          "RWA",
          "RWA",
          "RWA",
          "MKD",
          "MKD",
          "MKD",
          "SRB",
          "SRB",
          "SRB",
          "MNE",
          "MNE",
          "TTO",
          "TTO",
          "TTO"
         ],
         "type": "choropleth",
         "z": [
          0,
          0,
          0.47368421052631576,
          0.47368421052631576,
          0.47368421052631576,
          0,
          0,
          0,
          0,
          0,
          0,
          0,
          0,
          0.47368421052631576,
          0.47368421052631576,
          0.47368421052631576,
          0.47368421052631576,
          0.47368421052631576,
          0.47368421052631576,
          0,
          0,
          0,
          0,
          0,
          0,
          1,
          1,
          1,
          0.47368421052631576,
          0.47368421052631576,
          0.47368421052631576,
          1,
          1,
          1,
          1,
          1,
          1,
          0.47368421052631576,
          0.47368421052631576,
          0.47368421052631576,
          0,
          0,
          0,
          0,
          0,
          0,
          0,
          0,
          0.47368421052631576,
          0.47368421052631576,
          0.47368421052631576,
          0,
          0,
          0,
          0,
          0,
          0,
          0,
          0,
          0.47368421052631576,
          0.47368421052631576,
          0.47368421052631576,
          0,
          0,
          0,
          0,
          0,
          0,
          0,
          0,
          0.47368421052631576,
          0.47368421052631576,
          0.47368421052631576,
          0.47368421052631576,
          0.47368421052631576,
          0.47368421052631576,
          0.47368421052631576,
          0.47368421052631576,
          0.47368421052631576,
          0,
          0,
          0,
          0,
          0,
          0,
          0,
          0,
          0,
          0,
          0,
          0,
          0,
          0,
          0,
          0,
          0,
          0,
          0,
          0,
          0,
          0,
          0,
          0.47368421052631576,
          0.47368421052631576,
          0.47368421052631576,
          0,
          0,
          0,
          0,
          0,
          0,
          0.47368421052631576,
          0.47368421052631576,
          0.47368421052631576,
          1,
          1,
          1,
          0.47368421052631576,
          0.47368421052631576,
          0.47368421052631576,
          0.47368421052631576,
          0.47368421052631576,
          1,
          1,
          1,
          0.47368421052631576,
          0.47368421052631576,
          0.47368421052631576,
          0.47368421052631576,
          0.47368421052631576,
          0.47368421052631576,
          1,
          1,
          1,
          0.47368421052631576,
          0.47368421052631576,
          0.47368421052631576,
          null,
          1,
          1,
          1,
          1,
          1,
          1,
          1,
          1,
          1,
          0,
          0,
          1,
          1,
          1,
          1,
          1,
          1,
          1,
          1,
          1,
          0.47368421052631576,
          0.47368421052631576,
          0.47368421052631576,
          1,
          1,
          0,
          0,
          0,
          0.47368421052631576,
          0.47368421052631576,
          0.47368421052631576,
          1,
          1,
          1,
          0.47368421052631576,
          0.47368421052631576,
          0.47368421052631576,
          0.47368421052631576,
          0.47368421052631576,
          0,
          0,
          0,
          0,
          0,
          0,
          0,
          0,
          0,
          0,
          0,
          0,
          0.47368421052631576,
          0.47368421052631576,
          0,
          0,
          0,
          0.47368421052631576,
          0.47368421052631576,
          0.47368421052631576,
          0.47368421052631576,
          0.47368421052631576,
          0.47368421052631576,
          0.47368421052631576,
          0.47368421052631576,
          0.47368421052631576,
          0.47368421052631576,
          0.47368421052631576,
          0.47368421052631576,
          0.47368421052631576,
          0.47368421052631576,
          0.47368421052631576,
          0.47368421052631576,
          0.47368421052631576,
          0.47368421052631576,
          0.47368421052631576,
          0.47368421052631576,
          0.47368421052631576,
          1,
          1,
          1,
          0.47368421052631576,
          0.47368421052631576,
          0.47368421052631576,
          0.47368421052631576,
          0.47368421052631576,
          0,
          0,
          1,
          1,
          1,
          0,
          0,
          0,
          0,
          0,
          0,
          0,
          0,
          0.47368421052631576,
          0.47368421052631576,
          0.47368421052631576,
          0,
          0,
          0,
          0,
          0,
          0,
          0,
          0,
          0,
          0,
          0,
          0,
          0,
          0,
          0,
          0,
          0,
          0,
          0,
          0,
          0,
          0,
          0,
          0,
          0,
          0,
          0,
          0,
          0,
          0,
          0,
          0,
          0,
          0,
          0,
          0,
          0,
          0,
          0,
          0,
          0,
          0,
          0,
          0,
          0,
          0,
          0,
          0,
          0.47368421052631576,
          0.47368421052631576,
          0.47368421052631576,
          0,
          0,
          0,
          0,
          0,
          0,
          0,
          0,
          0,
          0,
          0,
          0,
          0,
          0,
          0,
          0,
          0,
          0,
          0.47368421052631576,
          0.47368421052631576,
          0.47368421052631576,
          0,
          0,
          0,
          0,
          0,
          0,
          0,
          0,
          0,
          0,
          0,
          0,
          0,
          1,
          1,
          0,
          0,
          0,
          0,
          0,
          0,
          0,
          0,
          0,
          0,
          0,
          0.47368421052631576,
          0.47368421052631576,
          0.47368421052631576,
          0,
          0,
          0,
          1,
          1,
          1,
          0.47368421052631576,
          1,
          1,
          1,
          1,
          1,
          1,
          0,
          0,
          0,
          0,
          0,
          0,
          0,
          0,
          0,
          0,
          0
         ]
        }
       ],
       "layout": {
        "template": {
         "data": {
          "bar": [
           {
            "error_x": {
             "color": "#2a3f5f"
            },
            "error_y": {
             "color": "#2a3f5f"
            },
            "marker": {
             "line": {
              "color": "#E5ECF6",
              "width": 0.5
             },
             "pattern": {
              "fillmode": "overlay",
              "size": 10,
              "solidity": 0.2
             }
            },
            "type": "bar"
           }
          ],
          "barpolar": [
           {
            "marker": {
             "line": {
              "color": "#E5ECF6",
              "width": 0.5
             },
             "pattern": {
              "fillmode": "overlay",
              "size": 10,
              "solidity": 0.2
             }
            },
            "type": "barpolar"
           }
          ],
          "carpet": [
           {
            "aaxis": {
             "endlinecolor": "#2a3f5f",
             "gridcolor": "white",
             "linecolor": "white",
             "minorgridcolor": "white",
             "startlinecolor": "#2a3f5f"
            },
            "baxis": {
             "endlinecolor": "#2a3f5f",
             "gridcolor": "white",
             "linecolor": "white",
             "minorgridcolor": "white",
             "startlinecolor": "#2a3f5f"
            },
            "type": "carpet"
           }
          ],
          "choropleth": [
           {
            "colorbar": {
             "outlinewidth": 0,
             "ticks": ""
            },
            "type": "choropleth"
           }
          ],
          "contour": [
           {
            "colorbar": {
             "outlinewidth": 0,
             "ticks": ""
            },
            "colorscale": [
             [
              0,
              "#0d0887"
             ],
             [
              0.1111111111111111,
              "#46039f"
             ],
             [
              0.2222222222222222,
              "#7201a8"
             ],
             [
              0.3333333333333333,
              "#9c179e"
             ],
             [
              0.4444444444444444,
              "#bd3786"
             ],
             [
              0.5555555555555556,
              "#d8576b"
             ],
             [
              0.6666666666666666,
              "#ed7953"
             ],
             [
              0.7777777777777778,
              "#fb9f3a"
             ],
             [
              0.8888888888888888,
              "#fdca26"
             ],
             [
              1,
              "#f0f921"
             ]
            ],
            "type": "contour"
           }
          ],
          "contourcarpet": [
           {
            "colorbar": {
             "outlinewidth": 0,
             "ticks": ""
            },
            "type": "contourcarpet"
           }
          ],
          "heatmap": [
           {
            "colorbar": {
             "outlinewidth": 0,
             "ticks": ""
            },
            "colorscale": [
             [
              0,
              "#0d0887"
             ],
             [
              0.1111111111111111,
              "#46039f"
             ],
             [
              0.2222222222222222,
              "#7201a8"
             ],
             [
              0.3333333333333333,
              "#9c179e"
             ],
             [
              0.4444444444444444,
              "#bd3786"
             ],
             [
              0.5555555555555556,
              "#d8576b"
             ],
             [
              0.6666666666666666,
              "#ed7953"
             ],
             [
              0.7777777777777778,
              "#fb9f3a"
             ],
             [
              0.8888888888888888,
              "#fdca26"
             ],
             [
              1,
              "#f0f921"
             ]
            ],
            "type": "heatmap"
           }
          ],
          "heatmapgl": [
           {
            "colorbar": {
             "outlinewidth": 0,
             "ticks": ""
            },
            "colorscale": [
             [
              0,
              "#0d0887"
             ],
             [
              0.1111111111111111,
              "#46039f"
             ],
             [
              0.2222222222222222,
              "#7201a8"
             ],
             [
              0.3333333333333333,
              "#9c179e"
             ],
             [
              0.4444444444444444,
              "#bd3786"
             ],
             [
              0.5555555555555556,
              "#d8576b"
             ],
             [
              0.6666666666666666,
              "#ed7953"
             ],
             [
              0.7777777777777778,
              "#fb9f3a"
             ],
             [
              0.8888888888888888,
              "#fdca26"
             ],
             [
              1,
              "#f0f921"
             ]
            ],
            "type": "heatmapgl"
           }
          ],
          "histogram": [
           {
            "marker": {
             "pattern": {
              "fillmode": "overlay",
              "size": 10,
              "solidity": 0.2
             }
            },
            "type": "histogram"
           }
          ],
          "histogram2d": [
           {
            "colorbar": {
             "outlinewidth": 0,
             "ticks": ""
            },
            "colorscale": [
             [
              0,
              "#0d0887"
             ],
             [
              0.1111111111111111,
              "#46039f"
             ],
             [
              0.2222222222222222,
              "#7201a8"
             ],
             [
              0.3333333333333333,
              "#9c179e"
             ],
             [
              0.4444444444444444,
              "#bd3786"
             ],
             [
              0.5555555555555556,
              "#d8576b"
             ],
             [
              0.6666666666666666,
              "#ed7953"
             ],
             [
              0.7777777777777778,
              "#fb9f3a"
             ],
             [
              0.8888888888888888,
              "#fdca26"
             ],
             [
              1,
              "#f0f921"
             ]
            ],
            "type": "histogram2d"
           }
          ],
          "histogram2dcontour": [
           {
            "colorbar": {
             "outlinewidth": 0,
             "ticks": ""
            },
            "colorscale": [
             [
              0,
              "#0d0887"
             ],
             [
              0.1111111111111111,
              "#46039f"
             ],
             [
              0.2222222222222222,
              "#7201a8"
             ],
             [
              0.3333333333333333,
              "#9c179e"
             ],
             [
              0.4444444444444444,
              "#bd3786"
             ],
             [
              0.5555555555555556,
              "#d8576b"
             ],
             [
              0.6666666666666666,
              "#ed7953"
             ],
             [
              0.7777777777777778,
              "#fb9f3a"
             ],
             [
              0.8888888888888888,
              "#fdca26"
             ],
             [
              1,
              "#f0f921"
             ]
            ],
            "type": "histogram2dcontour"
           }
          ],
          "mesh3d": [
           {
            "colorbar": {
             "outlinewidth": 0,
             "ticks": ""
            },
            "type": "mesh3d"
           }
          ],
          "parcoords": [
           {
            "line": {
             "colorbar": {
              "outlinewidth": 0,
              "ticks": ""
             }
            },
            "type": "parcoords"
           }
          ],
          "pie": [
           {
            "automargin": true,
            "type": "pie"
           }
          ],
          "scatter": [
           {
            "fillpattern": {
             "fillmode": "overlay",
             "size": 10,
             "solidity": 0.2
            },
            "type": "scatter"
           }
          ],
          "scatter3d": [
           {
            "line": {
             "colorbar": {
              "outlinewidth": 0,
              "ticks": ""
             }
            },
            "marker": {
             "colorbar": {
              "outlinewidth": 0,
              "ticks": ""
             }
            },
            "type": "scatter3d"
           }
          ],
          "scattercarpet": [
           {
            "marker": {
             "colorbar": {
              "outlinewidth": 0,
              "ticks": ""
             }
            },
            "type": "scattercarpet"
           }
          ],
          "scattergeo": [
           {
            "marker": {
             "colorbar": {
              "outlinewidth": 0,
              "ticks": ""
             }
            },
            "type": "scattergeo"
           }
          ],
          "scattergl": [
           {
            "marker": {
             "colorbar": {
              "outlinewidth": 0,
              "ticks": ""
             }
            },
            "type": "scattergl"
           }
          ],
          "scattermapbox": [
           {
            "marker": {
             "colorbar": {
              "outlinewidth": 0,
              "ticks": ""
             }
            },
            "type": "scattermapbox"
           }
          ],
          "scatterpolar": [
           {
            "marker": {
             "colorbar": {
              "outlinewidth": 0,
              "ticks": ""
             }
            },
            "type": "scatterpolar"
           }
          ],
          "scatterpolargl": [
           {
            "marker": {
             "colorbar": {
              "outlinewidth": 0,
              "ticks": ""
             }
            },
            "type": "scatterpolargl"
           }
          ],
          "scatterternary": [
           {
            "marker": {
             "colorbar": {
              "outlinewidth": 0,
              "ticks": ""
             }
            },
            "type": "scatterternary"
           }
          ],
          "surface": [
           {
            "colorbar": {
             "outlinewidth": 0,
             "ticks": ""
            },
            "colorscale": [
             [
              0,
              "#0d0887"
             ],
             [
              0.1111111111111111,
              "#46039f"
             ],
             [
              0.2222222222222222,
              "#7201a8"
             ],
             [
              0.3333333333333333,
              "#9c179e"
             ],
             [
              0.4444444444444444,
              "#bd3786"
             ],
             [
              0.5555555555555556,
              "#d8576b"
             ],
             [
              0.6666666666666666,
              "#ed7953"
             ],
             [
              0.7777777777777778,
              "#fb9f3a"
             ],
             [
              0.8888888888888888,
              "#fdca26"
             ],
             [
              1,
              "#f0f921"
             ]
            ],
            "type": "surface"
           }
          ],
          "table": [
           {
            "cells": {
             "fill": {
              "color": "#EBF0F8"
             },
             "line": {
              "color": "white"
             }
            },
            "header": {
             "fill": {
              "color": "#C8D4E3"
             },
             "line": {
              "color": "white"
             }
            },
            "type": "table"
           }
          ]
         },
         "layout": {
          "annotationdefaults": {
           "arrowcolor": "#2a3f5f",
           "arrowhead": 0,
           "arrowwidth": 1
          },
          "autotypenumbers": "strict",
          "coloraxis": {
           "colorbar": {
            "outlinewidth": 0,
            "ticks": ""
           }
          },
          "colorscale": {
           "diverging": [
            [
             0,
             "#8e0152"
            ],
            [
             0.1,
             "#c51b7d"
            ],
            [
             0.2,
             "#de77ae"
            ],
            [
             0.3,
             "#f1b6da"
            ],
            [
             0.4,
             "#fde0ef"
            ],
            [
             0.5,
             "#f7f7f7"
            ],
            [
             0.6,
             "#e6f5d0"
            ],
            [
             0.7,
             "#b8e186"
            ],
            [
             0.8,
             "#7fbc41"
            ],
            [
             0.9,
             "#4d9221"
            ],
            [
             1,
             "#276419"
            ]
           ],
           "sequential": [
            [
             0,
             "#0d0887"
            ],
            [
             0.1111111111111111,
             "#46039f"
            ],
            [
             0.2222222222222222,
             "#7201a8"
            ],
            [
             0.3333333333333333,
             "#9c179e"
            ],
            [
             0.4444444444444444,
             "#bd3786"
            ],
            [
             0.5555555555555556,
             "#d8576b"
            ],
            [
             0.6666666666666666,
             "#ed7953"
            ],
            [
             0.7777777777777778,
             "#fb9f3a"
            ],
            [
             0.8888888888888888,
             "#fdca26"
            ],
            [
             1,
             "#f0f921"
            ]
           ],
           "sequentialminus": [
            [
             0,
             "#0d0887"
            ],
            [
             0.1111111111111111,
             "#46039f"
            ],
            [
             0.2222222222222222,
             "#7201a8"
            ],
            [
             0.3333333333333333,
             "#9c179e"
            ],
            [
             0.4444444444444444,
             "#bd3786"
            ],
            [
             0.5555555555555556,
             "#d8576b"
            ],
            [
             0.6666666666666666,
             "#ed7953"
            ],
            [
             0.7777777777777778,
             "#fb9f3a"
            ],
            [
             0.8888888888888888,
             "#fdca26"
            ],
            [
             1,
             "#f0f921"
            ]
           ]
          },
          "colorway": [
           "#636efa",
           "#EF553B",
           "#00cc96",
           "#ab63fa",
           "#FFA15A",
           "#19d3f3",
           "#FF6692",
           "#B6E880",
           "#FF97FF",
           "#FECB52"
          ],
          "font": {
           "color": "#2a3f5f"
          },
          "geo": {
           "bgcolor": "white",
           "lakecolor": "white",
           "landcolor": "#E5ECF6",
           "showlakes": true,
           "showland": true,
           "subunitcolor": "white"
          },
          "hoverlabel": {
           "align": "left"
          },
          "hovermode": "closest",
          "mapbox": {
           "style": "light"
          },
          "paper_bgcolor": "white",
          "plot_bgcolor": "#E5ECF6",
          "polar": {
           "angularaxis": {
            "gridcolor": "white",
            "linecolor": "white",
            "ticks": ""
           },
           "bgcolor": "#E5ECF6",
           "radialaxis": {
            "gridcolor": "white",
            "linecolor": "white",
            "ticks": ""
           }
          },
          "scene": {
           "xaxis": {
            "backgroundcolor": "#E5ECF6",
            "gridcolor": "white",
            "gridwidth": 2,
            "linecolor": "white",
            "showbackground": true,
            "ticks": "",
            "zerolinecolor": "white"
           },
           "yaxis": {
            "backgroundcolor": "#E5ECF6",
            "gridcolor": "white",
            "gridwidth": 2,
            "linecolor": "white",
            "showbackground": true,
            "ticks": "",
            "zerolinecolor": "white"
           },
           "zaxis": {
            "backgroundcolor": "#E5ECF6",
            "gridcolor": "white",
            "gridwidth": 2,
            "linecolor": "white",
            "showbackground": true,
            "ticks": "",
            "zerolinecolor": "white"
           }
          },
          "shapedefaults": {
           "line": {
            "color": "#2a3f5f"
           }
          },
          "ternary": {
           "aaxis": {
            "gridcolor": "white",
            "linecolor": "white",
            "ticks": ""
           },
           "baxis": {
            "gridcolor": "white",
            "linecolor": "white",
            "ticks": ""
           },
           "bgcolor": "#E5ECF6",
           "caxis": {
            "gridcolor": "white",
            "linecolor": "white",
            "ticks": ""
           }
          },
          "title": {
           "x": 0.05
          },
          "xaxis": {
           "automargin": true,
           "gridcolor": "white",
           "linecolor": "white",
           "ticks": "",
           "title": {
            "standoff": 15
           },
           "zerolinecolor": "white",
           "zerolinewidth": 2
          },
          "yaxis": {
           "automargin": true,
           "gridcolor": "white",
           "linecolor": "white",
           "ticks": "",
           "title": {
            "standoff": 15
           },
           "zerolinecolor": "white",
           "zerolinewidth": 2
          }
         }
        }
       }
      },
      "text/html": [
       "<div>                            <div id=\"1c51de47-8b2c-4337-bf88-70d02dda7c99\" class=\"plotly-graph-div\" style=\"height:525px; width:100%;\"></div>            <script type=\"text/javascript\">                require([\"plotly\"], function(Plotly) {                    window.PLOTLYENV=window.PLOTLYENV || {};                                    if (document.getElementById(\"1c51de47-8b2c-4337-bf88-70d02dda7c99\")) {                    Plotly.newPlot(                        \"1c51de47-8b2c-4337-bf88-70d02dda7c99\",                        [{\"autocolorscale\":false,\"colorbar\":{\"tickprefix\":\"\",\"title\":{\"text\":\"ffnn specificity_score\"}},\"colorscale\":[[0.0,\"rgb(255,245,240)\"],[0.125,\"rgb(254,224,210)\"],[0.25,\"rgb(252,187,161)\"],[0.375,\"rgb(252,146,114)\"],[0.5,\"rgb(251,106,74)\"],[0.625,\"rgb(239,59,44)\"],[0.75,\"rgb(203,24,29)\"],[0.875,\"rgb(165,15,21)\"],[1.0,\"rgb(103,0,13)\"]],\"locations\":[\"FJI\",\"FJI\",\"TZA\",\"TZA\",\"TZA\",\"CAN\",\"CAN\",\"USA\",\"USA\",\"USA\",\"KAZ\",\"KAZ\",\"KAZ\",\"UZB\",\"UZB\",\"UZB\",\"IDN\",\"IDN\",\"IDN\",\"ARG\",\"ARG\",\"ARG\",\"CHL\",\"CHL\",\"CHL\",\"SOM\",\"SOM\",\"SOM\",\"KEN\",\"KEN\",\"KEN\",\"SDN\",\"SDN\",\"SDN\",\"TCD\",\"TCD\",\"TCD\",\"HTI\",\"HTI\",\"HTI\",\"RUS\",\"RUS\",\"RUS\",\"NOR\",\"NOR\",\"ZAF\",\"ZAF\",\"ZAF\",\"LSO\",\"LSO\",\"LSO\",\"MEX\",\"MEX\",\"MEX\",\"URY\",\"URY\",\"BRA\",\"BRA\",\"BRA\",\"BOL\",\"BOL\",\"BOL\",\"PER\",\"PER\",\"PER\",\"COL\",\"COL\",\"COL\",\"PAN\",\"PAN\",\"NIC\",\"NIC\",\"NIC\",\"HND\",\"HND\",\"HND\",\"SLV\",\"SLV\",\"SLV\",\"GTM\",\"GTM\",\"GTM\",\"BLZ\",\"BLZ\",\"BLZ\",\"GUY\",\"GUY\",\"GUY\",\"SUR\",\"SUR\",\"FRA\",\"FRA\",\"FRA\",\"ECU\",\"ECU\",\"ECU\",\"JAM\",\"JAM\",\"JAM\",\"CUB\",\"CUB\",\"CUB\",\"ZWE\",\"ZWE\",\"ZWE\",\"BWA\",\"BWA\",\"BWA\",\"NAM\",\"NAM\",\"NAM\",\"SEN\",\"SEN\",\"SEN\",\"MLI\",\"MLI\",\"MLI\",\"MRT\",\"MRT\",\"BEN\",\"BEN\",\"BEN\",\"NER\",\"NER\",\"NER\",\"NGA\",\"NGA\",\"NGA\",\"CMR\",\"CMR\",\"CMR\",\"TGO\",\"TGO\",\"TGO\",\"GHA\",\"GHA\",\"GHA\",\"CIV\",\"GIN\",\"GIN\",\"GIN\",\"LBR\",\"LBR\",\"LBR\",\"BFA\",\"BFA\",\"BFA\",\"GAB\",\"GAB\",\"ZMB\",\"ZMB\",\"ZMB\",\"MWI\",\"MWI\",\"MWI\",\"MOZ\",\"MOZ\",\"MOZ\",\"AGO\",\"AGO\",\"AGO\",\"BDI\",\"BDI\",\"ISR\",\"ISR\",\"ISR\",\"LBN\",\"LBN\",\"LBN\",\"MDG\",\"MDG\",\"MDG\",\"TUN\",\"TUN\",\"DZA\",\"DZA\",\"DZA\",\"JOR\",\"JOR\",\"JOR\",\"QAT\",\"QAT\",\"KWT\",\"KWT\",\"IRQ\",\"IRQ\",\"IRQ\",\"OMN\",\"OMN\",\"KHM\",\"KHM\",\"THA\",\"THA\",\"THA\",\"MMR\",\"MMR\",\"MMR\",\"VNM\",\"VNM\",\"MNG\",\"MNG\",\"IND\",\"IND\",\"IND\",\"BGD\",\"BGD\",\"BGD\",\"BTN\",\"BTN\",\"NPL\",\"NPL\",\"NPL\",\"PAK\",\"PAK\",\"PAK\",\"AFG\",\"AFG\",\"AFG\",\"TJK\",\"TJK\",\"KGZ\",\"KGZ\",\"KGZ\",\"TKM\",\"TKM\",\"SYR\",\"SYR\",\"SYR\",\"ARM\",\"ARM\",\"ARM\",\"SWE\",\"SWE\",\"BLR\",\"BLR\",\"BLR\",\"UKR\",\"UKR\",\"UKR\",\"POL\",\"POL\",\"AUT\",\"AUT\",\"HUN\",\"HUN\",\"HUN\",\"MDA\",\"MDA\",\"MDA\",\"ROU\",\"ROU\",\"LTU\",\"LTU\",\"LVA\",\"LVA\",\"EST\",\"EST\",\"DEU\",\"DEU\",\"DEU\",\"BGR\",\"BGR\",\"GRC\",\"GRC\",\"GRC\",\"ALB\",\"ALB\",\"HRV\",\"HRV\",\"CHE\",\"CHE\",\"LUX\",\"LUX\",\"BEL\",\"BEL\",\"NLD\",\"NLD\",\"PRT\",\"PRT\",\"ESP\",\"ESP\",\"ESP\",\"IRL\",\"IRL\",\"IRL\",\"AUS\",\"AUS\",\"LKA\",\"LKA\",\"LKA\",\"CHN\",\"CHN\",\"CHN\",\"ITA\",\"ITA\",\"ITA\",\"DNK\",\"DNK\",\"GBR\",\"GBR\",\"ISL\",\"ISL\",\"AZE\",\"AZE\",\"AZE\",\"GEO\",\"GEO\",\"GEO\",\"PHL\",\"PHL\",\"PHL\",\"MYS\",\"MYS\",\"BRN\",\"BRN\",\"SVN\",\"SVN\",\"FIN\",\"FIN\",\"SVK\",\"SVK\",\"CZE\",\"CZE\",\"CZE\",\"ERI\",\"ERI\",\"JPN\",\"JPN\",\"PRY\",\"PRY\",\"PRY\",\"SAU\",\"SAU\",\"SAU\",\"CYP\",\"CYP\",\"CYP\",\"MAR\",\"MAR\",\"MAR\",\"LBY\",\"LBY\",\"LBY\",\"ETH\",\"ETH\",\"ETH\",\"DJI\",\"UGA\",\"UGA\",\"UGA\",\"RWA\",\"RWA\",\"RWA\",\"MKD\",\"MKD\",\"MKD\",\"SRB\",\"SRB\",\"SRB\",\"MNE\",\"MNE\",\"TTO\",\"TTO\",\"TTO\"],\"marker\":{\"line\":{\"color\":\"darkgray\",\"width\":0.5}},\"reversescale\":false,\"text\":[\"FJI\",\"FJI\",\"TZA\",\"TZA\",\"TZA\",\"CAN\",\"CAN\",\"USA\",\"USA\",\"USA\",\"KAZ\",\"KAZ\",\"KAZ\",\"UZB\",\"UZB\",\"UZB\",\"IDN\",\"IDN\",\"IDN\",\"ARG\",\"ARG\",\"ARG\",\"CHL\",\"CHL\",\"CHL\",\"SOM\",\"SOM\",\"SOM\",\"KEN\",\"KEN\",\"KEN\",\"SDN\",\"SDN\",\"SDN\",\"TCD\",\"TCD\",\"TCD\",\"HTI\",\"HTI\",\"HTI\",\"RUS\",\"RUS\",\"RUS\",\"NOR\",\"NOR\",\"ZAF\",\"ZAF\",\"ZAF\",\"LSO\",\"LSO\",\"LSO\",\"MEX\",\"MEX\",\"MEX\",\"URY\",\"URY\",\"BRA\",\"BRA\",\"BRA\",\"BOL\",\"BOL\",\"BOL\",\"PER\",\"PER\",\"PER\",\"COL\",\"COL\",\"COL\",\"PAN\",\"PAN\",\"NIC\",\"NIC\",\"NIC\",\"HND\",\"HND\",\"HND\",\"SLV\",\"SLV\",\"SLV\",\"GTM\",\"GTM\",\"GTM\",\"BLZ\",\"BLZ\",\"BLZ\",\"GUY\",\"GUY\",\"GUY\",\"SUR\",\"SUR\",\"FRA\",\"FRA\",\"FRA\",\"ECU\",\"ECU\",\"ECU\",\"JAM\",\"JAM\",\"JAM\",\"CUB\",\"CUB\",\"CUB\",\"ZWE\",\"ZWE\",\"ZWE\",\"BWA\",\"BWA\",\"BWA\",\"NAM\",\"NAM\",\"NAM\",\"SEN\",\"SEN\",\"SEN\",\"MLI\",\"MLI\",\"MLI\",\"MRT\",\"MRT\",\"BEN\",\"BEN\",\"BEN\",\"NER\",\"NER\",\"NER\",\"NGA\",\"NGA\",\"NGA\",\"CMR\",\"CMR\",\"CMR\",\"TGO\",\"TGO\",\"TGO\",\"GHA\",\"GHA\",\"GHA\",\"CIV\",\"GIN\",\"GIN\",\"GIN\",\"LBR\",\"LBR\",\"LBR\",\"BFA\",\"BFA\",\"BFA\",\"GAB\",\"GAB\",\"ZMB\",\"ZMB\",\"ZMB\",\"MWI\",\"MWI\",\"MWI\",\"MOZ\",\"MOZ\",\"MOZ\",\"AGO\",\"AGO\",\"AGO\",\"BDI\",\"BDI\",\"ISR\",\"ISR\",\"ISR\",\"LBN\",\"LBN\",\"LBN\",\"MDG\",\"MDG\",\"MDG\",\"TUN\",\"TUN\",\"DZA\",\"DZA\",\"DZA\",\"JOR\",\"JOR\",\"JOR\",\"QAT\",\"QAT\",\"KWT\",\"KWT\",\"IRQ\",\"IRQ\",\"IRQ\",\"OMN\",\"OMN\",\"KHM\",\"KHM\",\"THA\",\"THA\",\"THA\",\"MMR\",\"MMR\",\"MMR\",\"VNM\",\"VNM\",\"MNG\",\"MNG\",\"IND\",\"IND\",\"IND\",\"BGD\",\"BGD\",\"BGD\",\"BTN\",\"BTN\",\"NPL\",\"NPL\",\"NPL\",\"PAK\",\"PAK\",\"PAK\",\"AFG\",\"AFG\",\"AFG\",\"TJK\",\"TJK\",\"KGZ\",\"KGZ\",\"KGZ\",\"TKM\",\"TKM\",\"SYR\",\"SYR\",\"SYR\",\"ARM\",\"ARM\",\"ARM\",\"SWE\",\"SWE\",\"BLR\",\"BLR\",\"BLR\",\"UKR\",\"UKR\",\"UKR\",\"POL\",\"POL\",\"AUT\",\"AUT\",\"HUN\",\"HUN\",\"HUN\",\"MDA\",\"MDA\",\"MDA\",\"ROU\",\"ROU\",\"LTU\",\"LTU\",\"LVA\",\"LVA\",\"EST\",\"EST\",\"DEU\",\"DEU\",\"DEU\",\"BGR\",\"BGR\",\"GRC\",\"GRC\",\"GRC\",\"ALB\",\"ALB\",\"HRV\",\"HRV\",\"CHE\",\"CHE\",\"LUX\",\"LUX\",\"BEL\",\"BEL\",\"NLD\",\"NLD\",\"PRT\",\"PRT\",\"ESP\",\"ESP\",\"ESP\",\"IRL\",\"IRL\",\"IRL\",\"AUS\",\"AUS\",\"LKA\",\"LKA\",\"LKA\",\"CHN\",\"CHN\",\"CHN\",\"ITA\",\"ITA\",\"ITA\",\"DNK\",\"DNK\",\"GBR\",\"GBR\",\"ISL\",\"ISL\",\"AZE\",\"AZE\",\"AZE\",\"GEO\",\"GEO\",\"GEO\",\"PHL\",\"PHL\",\"PHL\",\"MYS\",\"MYS\",\"BRN\",\"BRN\",\"SVN\",\"SVN\",\"FIN\",\"FIN\",\"SVK\",\"SVK\",\"CZE\",\"CZE\",\"CZE\",\"ERI\",\"ERI\",\"JPN\",\"JPN\",\"PRY\",\"PRY\",\"PRY\",\"SAU\",\"SAU\",\"SAU\",\"CYP\",\"CYP\",\"CYP\",\"MAR\",\"MAR\",\"MAR\",\"LBY\",\"LBY\",\"LBY\",\"ETH\",\"ETH\",\"ETH\",\"DJI\",\"UGA\",\"UGA\",\"UGA\",\"RWA\",\"RWA\",\"RWA\",\"MKD\",\"MKD\",\"MKD\",\"SRB\",\"SRB\",\"SRB\",\"MNE\",\"MNE\",\"TTO\",\"TTO\",\"TTO\"],\"z\":[0.0,0.0,0.47368421052631576,0.47368421052631576,0.47368421052631576,0.0,0.0,0.0,0.0,0.0,0.0,0.0,0.0,0.47368421052631576,0.47368421052631576,0.47368421052631576,0.47368421052631576,0.47368421052631576,0.47368421052631576,0.0,0.0,0.0,0.0,0.0,0.0,1.0,1.0,1.0,0.47368421052631576,0.47368421052631576,0.47368421052631576,1.0,1.0,1.0,1.0,1.0,1.0,0.47368421052631576,0.47368421052631576,0.47368421052631576,0.0,0.0,0.0,0.0,0.0,0.0,0.0,0.0,0.47368421052631576,0.47368421052631576,0.47368421052631576,0.0,0.0,0.0,0.0,0.0,0.0,0.0,0.0,0.47368421052631576,0.47368421052631576,0.47368421052631576,0.0,0.0,0.0,0.0,0.0,0.0,0.0,0.0,0.47368421052631576,0.47368421052631576,0.47368421052631576,0.47368421052631576,0.47368421052631576,0.47368421052631576,0.47368421052631576,0.47368421052631576,0.47368421052631576,0.0,0.0,0.0,0.0,0.0,0.0,0.0,0.0,0.0,0.0,0.0,0.0,0.0,0.0,0.0,0.0,0.0,0.0,0.0,0.0,0.0,0.0,0.0,0.47368421052631576,0.47368421052631576,0.47368421052631576,0.0,0.0,0.0,0.0,0.0,0.0,0.47368421052631576,0.47368421052631576,0.47368421052631576,1.0,1.0,1.0,0.47368421052631576,0.47368421052631576,0.47368421052631576,0.47368421052631576,0.47368421052631576,1.0,1.0,1.0,0.47368421052631576,0.47368421052631576,0.47368421052631576,0.47368421052631576,0.47368421052631576,0.47368421052631576,1.0,1.0,1.0,0.47368421052631576,0.47368421052631576,0.47368421052631576,null,1.0,1.0,1.0,1.0,1.0,1.0,1.0,1.0,1.0,0.0,0.0,1.0,1.0,1.0,1.0,1.0,1.0,1.0,1.0,1.0,0.47368421052631576,0.47368421052631576,0.47368421052631576,1.0,1.0,0.0,0.0,0.0,0.47368421052631576,0.47368421052631576,0.47368421052631576,1.0,1.0,1.0,0.47368421052631576,0.47368421052631576,0.47368421052631576,0.47368421052631576,0.47368421052631576,0.0,0.0,0.0,0.0,0.0,0.0,0.0,0.0,0.0,0.0,0.0,0.0,0.47368421052631576,0.47368421052631576,0.0,0.0,0.0,0.47368421052631576,0.47368421052631576,0.47368421052631576,0.47368421052631576,0.47368421052631576,0.47368421052631576,0.47368421052631576,0.47368421052631576,0.47368421052631576,0.47368421052631576,0.47368421052631576,0.47368421052631576,0.47368421052631576,0.47368421052631576,0.47368421052631576,0.47368421052631576,0.47368421052631576,0.47368421052631576,0.47368421052631576,0.47368421052631576,0.47368421052631576,1.0,1.0,1.0,0.47368421052631576,0.47368421052631576,0.47368421052631576,0.47368421052631576,0.47368421052631576,0.0,0.0,1.0,1.0,1.0,0.0,0.0,0.0,0.0,0.0,0.0,0.0,0.0,0.47368421052631576,0.47368421052631576,0.47368421052631576,0.0,0.0,0.0,0.0,0.0,0.0,0.0,0.0,0.0,0.0,0.0,0.0,0.0,0.0,0.0,0.0,0.0,0.0,0.0,0.0,0.0,0.0,0.0,0.0,0.0,0.0,0.0,0.0,0.0,0.0,0.0,0.0,0.0,0.0,0.0,0.0,0.0,0.0,0.0,0.0,0.0,0.0,0.0,0.0,0.0,0.0,0.0,0.0,0.47368421052631576,0.47368421052631576,0.47368421052631576,0.0,0.0,0.0,0.0,0.0,0.0,0.0,0.0,0.0,0.0,0.0,0.0,0.0,0.0,0.0,0.0,0.0,0.0,0.47368421052631576,0.47368421052631576,0.47368421052631576,0.0,0.0,0.0,0.0,0.0,0.0,0.0,0.0,0.0,0.0,0.0,0.0,0.0,1.0,1.0,0.0,0.0,0.0,0.0,0.0,0.0,0.0,0.0,0.0,0.0,0.0,0.47368421052631576,0.47368421052631576,0.47368421052631576,0.0,0.0,0.0,1.0,1.0,1.0,0.47368421052631576,1.0,1.0,1.0,1.0,1.0,1.0,0.0,0.0,0.0,0.0,0.0,0.0,0.0,0.0,0.0,0.0,0.0],\"type\":\"choropleth\"}],                        {\"template\":{\"data\":{\"histogram2dcontour\":[{\"type\":\"histogram2dcontour\",\"colorbar\":{\"outlinewidth\":0,\"ticks\":\"\"},\"colorscale\":[[0.0,\"#0d0887\"],[0.1111111111111111,\"#46039f\"],[0.2222222222222222,\"#7201a8\"],[0.3333333333333333,\"#9c179e\"],[0.4444444444444444,\"#bd3786\"],[0.5555555555555556,\"#d8576b\"],[0.6666666666666666,\"#ed7953\"],[0.7777777777777778,\"#fb9f3a\"],[0.8888888888888888,\"#fdca26\"],[1.0,\"#f0f921\"]]}],\"choropleth\":[{\"type\":\"choropleth\",\"colorbar\":{\"outlinewidth\":0,\"ticks\":\"\"}}],\"histogram2d\":[{\"type\":\"histogram2d\",\"colorbar\":{\"outlinewidth\":0,\"ticks\":\"\"},\"colorscale\":[[0.0,\"#0d0887\"],[0.1111111111111111,\"#46039f\"],[0.2222222222222222,\"#7201a8\"],[0.3333333333333333,\"#9c179e\"],[0.4444444444444444,\"#bd3786\"],[0.5555555555555556,\"#d8576b\"],[0.6666666666666666,\"#ed7953\"],[0.7777777777777778,\"#fb9f3a\"],[0.8888888888888888,\"#fdca26\"],[1.0,\"#f0f921\"]]}],\"heatmap\":[{\"type\":\"heatmap\",\"colorbar\":{\"outlinewidth\":0,\"ticks\":\"\"},\"colorscale\":[[0.0,\"#0d0887\"],[0.1111111111111111,\"#46039f\"],[0.2222222222222222,\"#7201a8\"],[0.3333333333333333,\"#9c179e\"],[0.4444444444444444,\"#bd3786\"],[0.5555555555555556,\"#d8576b\"],[0.6666666666666666,\"#ed7953\"],[0.7777777777777778,\"#fb9f3a\"],[0.8888888888888888,\"#fdca26\"],[1.0,\"#f0f921\"]]}],\"heatmapgl\":[{\"type\":\"heatmapgl\",\"colorbar\":{\"outlinewidth\":0,\"ticks\":\"\"},\"colorscale\":[[0.0,\"#0d0887\"],[0.1111111111111111,\"#46039f\"],[0.2222222222222222,\"#7201a8\"],[0.3333333333333333,\"#9c179e\"],[0.4444444444444444,\"#bd3786\"],[0.5555555555555556,\"#d8576b\"],[0.6666666666666666,\"#ed7953\"],[0.7777777777777778,\"#fb9f3a\"],[0.8888888888888888,\"#fdca26\"],[1.0,\"#f0f921\"]]}],\"contourcarpet\":[{\"type\":\"contourcarpet\",\"colorbar\":{\"outlinewidth\":0,\"ticks\":\"\"}}],\"contour\":[{\"type\":\"contour\",\"colorbar\":{\"outlinewidth\":0,\"ticks\":\"\"},\"colorscale\":[[0.0,\"#0d0887\"],[0.1111111111111111,\"#46039f\"],[0.2222222222222222,\"#7201a8\"],[0.3333333333333333,\"#9c179e\"],[0.4444444444444444,\"#bd3786\"],[0.5555555555555556,\"#d8576b\"],[0.6666666666666666,\"#ed7953\"],[0.7777777777777778,\"#fb9f3a\"],[0.8888888888888888,\"#fdca26\"],[1.0,\"#f0f921\"]]}],\"surface\":[{\"type\":\"surface\",\"colorbar\":{\"outlinewidth\":0,\"ticks\":\"\"},\"colorscale\":[[0.0,\"#0d0887\"],[0.1111111111111111,\"#46039f\"],[0.2222222222222222,\"#7201a8\"],[0.3333333333333333,\"#9c179e\"],[0.4444444444444444,\"#bd3786\"],[0.5555555555555556,\"#d8576b\"],[0.6666666666666666,\"#ed7953\"],[0.7777777777777778,\"#fb9f3a\"],[0.8888888888888888,\"#fdca26\"],[1.0,\"#f0f921\"]]}],\"mesh3d\":[{\"type\":\"mesh3d\",\"colorbar\":{\"outlinewidth\":0,\"ticks\":\"\"}}],\"scatter\":[{\"fillpattern\":{\"fillmode\":\"overlay\",\"size\":10,\"solidity\":0.2},\"type\":\"scatter\"}],\"parcoords\":[{\"type\":\"parcoords\",\"line\":{\"colorbar\":{\"outlinewidth\":0,\"ticks\":\"\"}}}],\"scatterpolargl\":[{\"type\":\"scatterpolargl\",\"marker\":{\"colorbar\":{\"outlinewidth\":0,\"ticks\":\"\"}}}],\"bar\":[{\"error_x\":{\"color\":\"#2a3f5f\"},\"error_y\":{\"color\":\"#2a3f5f\"},\"marker\":{\"line\":{\"color\":\"#E5ECF6\",\"width\":0.5},\"pattern\":{\"fillmode\":\"overlay\",\"size\":10,\"solidity\":0.2}},\"type\":\"bar\"}],\"scattergeo\":[{\"type\":\"scattergeo\",\"marker\":{\"colorbar\":{\"outlinewidth\":0,\"ticks\":\"\"}}}],\"scatterpolar\":[{\"type\":\"scatterpolar\",\"marker\":{\"colorbar\":{\"outlinewidth\":0,\"ticks\":\"\"}}}],\"histogram\":[{\"marker\":{\"pattern\":{\"fillmode\":\"overlay\",\"size\":10,\"solidity\":0.2}},\"type\":\"histogram\"}],\"scattergl\":[{\"type\":\"scattergl\",\"marker\":{\"colorbar\":{\"outlinewidth\":0,\"ticks\":\"\"}}}],\"scatter3d\":[{\"type\":\"scatter3d\",\"line\":{\"colorbar\":{\"outlinewidth\":0,\"ticks\":\"\"}},\"marker\":{\"colorbar\":{\"outlinewidth\":0,\"ticks\":\"\"}}}],\"scattermapbox\":[{\"type\":\"scattermapbox\",\"marker\":{\"colorbar\":{\"outlinewidth\":0,\"ticks\":\"\"}}}],\"scatterternary\":[{\"type\":\"scatterternary\",\"marker\":{\"colorbar\":{\"outlinewidth\":0,\"ticks\":\"\"}}}],\"scattercarpet\":[{\"type\":\"scattercarpet\",\"marker\":{\"colorbar\":{\"outlinewidth\":0,\"ticks\":\"\"}}}],\"carpet\":[{\"aaxis\":{\"endlinecolor\":\"#2a3f5f\",\"gridcolor\":\"white\",\"linecolor\":\"white\",\"minorgridcolor\":\"white\",\"startlinecolor\":\"#2a3f5f\"},\"baxis\":{\"endlinecolor\":\"#2a3f5f\",\"gridcolor\":\"white\",\"linecolor\":\"white\",\"minorgridcolor\":\"white\",\"startlinecolor\":\"#2a3f5f\"},\"type\":\"carpet\"}],\"table\":[{\"cells\":{\"fill\":{\"color\":\"#EBF0F8\"},\"line\":{\"color\":\"white\"}},\"header\":{\"fill\":{\"color\":\"#C8D4E3\"},\"line\":{\"color\":\"white\"}},\"type\":\"table\"}],\"barpolar\":[{\"marker\":{\"line\":{\"color\":\"#E5ECF6\",\"width\":0.5},\"pattern\":{\"fillmode\":\"overlay\",\"size\":10,\"solidity\":0.2}},\"type\":\"barpolar\"}],\"pie\":[{\"automargin\":true,\"type\":\"pie\"}]},\"layout\":{\"autotypenumbers\":\"strict\",\"colorway\":[\"#636efa\",\"#EF553B\",\"#00cc96\",\"#ab63fa\",\"#FFA15A\",\"#19d3f3\",\"#FF6692\",\"#B6E880\",\"#FF97FF\",\"#FECB52\"],\"font\":{\"color\":\"#2a3f5f\"},\"hovermode\":\"closest\",\"hoverlabel\":{\"align\":\"left\"},\"paper_bgcolor\":\"white\",\"plot_bgcolor\":\"#E5ECF6\",\"polar\":{\"bgcolor\":\"#E5ECF6\",\"angularaxis\":{\"gridcolor\":\"white\",\"linecolor\":\"white\",\"ticks\":\"\"},\"radialaxis\":{\"gridcolor\":\"white\",\"linecolor\":\"white\",\"ticks\":\"\"}},\"ternary\":{\"bgcolor\":\"#E5ECF6\",\"aaxis\":{\"gridcolor\":\"white\",\"linecolor\":\"white\",\"ticks\":\"\"},\"baxis\":{\"gridcolor\":\"white\",\"linecolor\":\"white\",\"ticks\":\"\"},\"caxis\":{\"gridcolor\":\"white\",\"linecolor\":\"white\",\"ticks\":\"\"}},\"coloraxis\":{\"colorbar\":{\"outlinewidth\":0,\"ticks\":\"\"}},\"colorscale\":{\"sequential\":[[0.0,\"#0d0887\"],[0.1111111111111111,\"#46039f\"],[0.2222222222222222,\"#7201a8\"],[0.3333333333333333,\"#9c179e\"],[0.4444444444444444,\"#bd3786\"],[0.5555555555555556,\"#d8576b\"],[0.6666666666666666,\"#ed7953\"],[0.7777777777777778,\"#fb9f3a\"],[0.8888888888888888,\"#fdca26\"],[1.0,\"#f0f921\"]],\"sequentialminus\":[[0.0,\"#0d0887\"],[0.1111111111111111,\"#46039f\"],[0.2222222222222222,\"#7201a8\"],[0.3333333333333333,\"#9c179e\"],[0.4444444444444444,\"#bd3786\"],[0.5555555555555556,\"#d8576b\"],[0.6666666666666666,\"#ed7953\"],[0.7777777777777778,\"#fb9f3a\"],[0.8888888888888888,\"#fdca26\"],[1.0,\"#f0f921\"]],\"diverging\":[[0,\"#8e0152\"],[0.1,\"#c51b7d\"],[0.2,\"#de77ae\"],[0.3,\"#f1b6da\"],[0.4,\"#fde0ef\"],[0.5,\"#f7f7f7\"],[0.6,\"#e6f5d0\"],[0.7,\"#b8e186\"],[0.8,\"#7fbc41\"],[0.9,\"#4d9221\"],[1,\"#276419\"]]},\"xaxis\":{\"gridcolor\":\"white\",\"linecolor\":\"white\",\"ticks\":\"\",\"title\":{\"standoff\":15},\"zerolinecolor\":\"white\",\"automargin\":true,\"zerolinewidth\":2},\"yaxis\":{\"gridcolor\":\"white\",\"linecolor\":\"white\",\"ticks\":\"\",\"title\":{\"standoff\":15},\"zerolinecolor\":\"white\",\"automargin\":true,\"zerolinewidth\":2},\"scene\":{\"xaxis\":{\"backgroundcolor\":\"#E5ECF6\",\"gridcolor\":\"white\",\"linecolor\":\"white\",\"showbackground\":true,\"ticks\":\"\",\"zerolinecolor\":\"white\",\"gridwidth\":2},\"yaxis\":{\"backgroundcolor\":\"#E5ECF6\",\"gridcolor\":\"white\",\"linecolor\":\"white\",\"showbackground\":true,\"ticks\":\"\",\"zerolinecolor\":\"white\",\"gridwidth\":2},\"zaxis\":{\"backgroundcolor\":\"#E5ECF6\",\"gridcolor\":\"white\",\"linecolor\":\"white\",\"showbackground\":true,\"ticks\":\"\",\"zerolinecolor\":\"white\",\"gridwidth\":2}},\"shapedefaults\":{\"line\":{\"color\":\"#2a3f5f\"}},\"annotationdefaults\":{\"arrowcolor\":\"#2a3f5f\",\"arrowhead\":0,\"arrowwidth\":1},\"geo\":{\"bgcolor\":\"white\",\"landcolor\":\"#E5ECF6\",\"subunitcolor\":\"white\",\"showland\":true,\"showlakes\":true,\"lakecolor\":\"white\"},\"title\":{\"x\":0.05},\"mapbox\":{\"style\":\"light\"}}}},                        {\"responsive\": true}                    ).then(function(){\n",
       "                            \n",
       "var gd = document.getElementById('1c51de47-8b2c-4337-bf88-70d02dda7c99');\n",
       "var x = new MutationObserver(function (mutations, observer) {{\n",
       "        var display = window.getComputedStyle(gd).display;\n",
       "        if (!display || display === 'none') {{\n",
       "            console.log([gd, 'removed!']);\n",
       "            Plotly.purge(gd);\n",
       "            observer.disconnect();\n",
       "        }}\n",
       "}});\n",
       "\n",
       "// Listen for the removal of the full notebook cells\n",
       "var notebookContainer = gd.closest('#notebook-container');\n",
       "if (notebookContainer) {{\n",
       "    x.observe(notebookContainer, {childList: true});\n",
       "}}\n",
       "\n",
       "// Listen for the clearing of the current output cell\n",
       "var outputEl = gd.closest('.output');\n",
       "if (outputEl) {{\n",
       "    x.observe(outputEl, {childList: true});\n",
       "}}\n",
       "\n",
       "                        })                };                });            </script>        </div>"
      ]
     },
     "metadata": {},
     "output_type": "display_data"
    },
    {
     "data": {
      "application/vnd.plotly.v1+json": {
       "config": {
        "plotlyServerURL": "https://plot.ly"
       },
       "data": [
        {
         "autocolorscale": false,
         "colorbar": {
          "tickprefix": "",
          "title": {
           "text": "xgboost specificity_score"
          }
         },
         "colorscale": [
          [
           0,
           "rgb(247,251,255)"
          ],
          [
           0.125,
           "rgb(222,235,247)"
          ],
          [
           0.25,
           "rgb(198,219,239)"
          ],
          [
           0.375,
           "rgb(158,202,225)"
          ],
          [
           0.5,
           "rgb(107,174,214)"
          ],
          [
           0.625,
           "rgb(66,146,198)"
          ],
          [
           0.75,
           "rgb(33,113,181)"
          ],
          [
           0.875,
           "rgb(8,81,156)"
          ],
          [
           1,
           "rgb(8,48,107)"
          ]
         ],
         "locations": [
          "FJI",
          "FJI",
          "TZA",
          "TZA",
          "TZA",
          "CAN",
          "CAN",
          "USA",
          "USA",
          "USA",
          "KAZ",
          "KAZ",
          "KAZ",
          "UZB",
          "UZB",
          "UZB",
          "IDN",
          "IDN",
          "IDN",
          "ARG",
          "ARG",
          "ARG",
          "CHL",
          "CHL",
          "CHL",
          "SOM",
          "SOM",
          "SOM",
          "KEN",
          "KEN",
          "KEN",
          "SDN",
          "SDN",
          "SDN",
          "TCD",
          "TCD",
          "TCD",
          "HTI",
          "HTI",
          "HTI",
          "RUS",
          "RUS",
          "RUS",
          "NOR",
          "NOR",
          "ZAF",
          "ZAF",
          "ZAF",
          "LSO",
          "LSO",
          "LSO",
          "MEX",
          "MEX",
          "MEX",
          "URY",
          "URY",
          "BRA",
          "BRA",
          "BRA",
          "BOL",
          "BOL",
          "BOL",
          "PER",
          "PER",
          "PER",
          "COL",
          "COL",
          "COL",
          "PAN",
          "PAN",
          "NIC",
          "NIC",
          "NIC",
          "HND",
          "HND",
          "HND",
          "SLV",
          "SLV",
          "SLV",
          "GTM",
          "GTM",
          "GTM",
          "BLZ",
          "BLZ",
          "BLZ",
          "GUY",
          "GUY",
          "GUY",
          "SUR",
          "SUR",
          "FRA",
          "FRA",
          "FRA",
          "ECU",
          "ECU",
          "ECU",
          "JAM",
          "JAM",
          "JAM",
          "CUB",
          "CUB",
          "CUB",
          "ZWE",
          "ZWE",
          "ZWE",
          "BWA",
          "BWA",
          "BWA",
          "NAM",
          "NAM",
          "NAM",
          "SEN",
          "SEN",
          "SEN",
          "MLI",
          "MLI",
          "MLI",
          "MRT",
          "MRT",
          "BEN",
          "BEN",
          "BEN",
          "NER",
          "NER",
          "NER",
          "NGA",
          "NGA",
          "NGA",
          "CMR",
          "CMR",
          "CMR",
          "TGO",
          "TGO",
          "TGO",
          "GHA",
          "GHA",
          "GHA",
          "CIV",
          "GIN",
          "GIN",
          "GIN",
          "LBR",
          "LBR",
          "LBR",
          "BFA",
          "BFA",
          "BFA",
          "GAB",
          "GAB",
          "ZMB",
          "ZMB",
          "ZMB",
          "MWI",
          "MWI",
          "MWI",
          "MOZ",
          "MOZ",
          "MOZ",
          "AGO",
          "AGO",
          "AGO",
          "BDI",
          "BDI",
          "ISR",
          "ISR",
          "ISR",
          "LBN",
          "LBN",
          "LBN",
          "MDG",
          "MDG",
          "MDG",
          "TUN",
          "TUN",
          "DZA",
          "DZA",
          "DZA",
          "JOR",
          "JOR",
          "JOR",
          "QAT",
          "QAT",
          "KWT",
          "KWT",
          "IRQ",
          "IRQ",
          "IRQ",
          "OMN",
          "OMN",
          "KHM",
          "KHM",
          "THA",
          "THA",
          "THA",
          "MMR",
          "MMR",
          "MMR",
          "VNM",
          "VNM",
          "MNG",
          "MNG",
          "IND",
          "IND",
          "IND",
          "BGD",
          "BGD",
          "BGD",
          "BTN",
          "BTN",
          "NPL",
          "NPL",
          "NPL",
          "PAK",
          "PAK",
          "PAK",
          "AFG",
          "AFG",
          "AFG",
          "TJK",
          "TJK",
          "KGZ",
          "KGZ",
          "KGZ",
          "TKM",
          "TKM",
          "SYR",
          "SYR",
          "SYR",
          "ARM",
          "ARM",
          "ARM",
          "SWE",
          "SWE",
          "BLR",
          "BLR",
          "BLR",
          "UKR",
          "UKR",
          "UKR",
          "POL",
          "POL",
          "AUT",
          "AUT",
          "HUN",
          "HUN",
          "HUN",
          "MDA",
          "MDA",
          "MDA",
          "ROU",
          "ROU",
          "LTU",
          "LTU",
          "LVA",
          "LVA",
          "EST",
          "EST",
          "DEU",
          "DEU",
          "DEU",
          "BGR",
          "BGR",
          "GRC",
          "GRC",
          "GRC",
          "ALB",
          "ALB",
          "HRV",
          "HRV",
          "CHE",
          "CHE",
          "LUX",
          "LUX",
          "BEL",
          "BEL",
          "NLD",
          "NLD",
          "PRT",
          "PRT",
          "ESP",
          "ESP",
          "ESP",
          "IRL",
          "IRL",
          "IRL",
          "AUS",
          "AUS",
          "LKA",
          "LKA",
          "LKA",
          "CHN",
          "CHN",
          "CHN",
          "ITA",
          "ITA",
          "ITA",
          "DNK",
          "DNK",
          "GBR",
          "GBR",
          "ISL",
          "ISL",
          "AZE",
          "AZE",
          "AZE",
          "GEO",
          "GEO",
          "GEO",
          "PHL",
          "PHL",
          "PHL",
          "MYS",
          "MYS",
          "BRN",
          "BRN",
          "SVN",
          "SVN",
          "FIN",
          "FIN",
          "SVK",
          "SVK",
          "CZE",
          "CZE",
          "CZE",
          "ERI",
          "ERI",
          "JPN",
          "JPN",
          "PRY",
          "PRY",
          "PRY",
          "SAU",
          "SAU",
          "SAU",
          "CYP",
          "CYP",
          "CYP",
          "MAR",
          "MAR",
          "MAR",
          "LBY",
          "LBY",
          "LBY",
          "ETH",
          "ETH",
          "ETH",
          "DJI",
          "UGA",
          "UGA",
          "UGA",
          "RWA",
          "RWA",
          "RWA",
          "MKD",
          "MKD",
          "MKD",
          "SRB",
          "SRB",
          "SRB",
          "MNE",
          "MNE",
          "TTO",
          "TTO",
          "TTO"
         ],
         "marker": {
          "line": {
           "color": "darkgray",
           "width": 0.5
          }
         },
         "reversescale": false,
         "text": [
          "FJI",
          "FJI",
          "TZA",
          "TZA",
          "TZA",
          "CAN",
          "CAN",
          "USA",
          "USA",
          "USA",
          "KAZ",
          "KAZ",
          "KAZ",
          "UZB",
          "UZB",
          "UZB",
          "IDN",
          "IDN",
          "IDN",
          "ARG",
          "ARG",
          "ARG",
          "CHL",
          "CHL",
          "CHL",
          "SOM",
          "SOM",
          "SOM",
          "KEN",
          "KEN",
          "KEN",
          "SDN",
          "SDN",
          "SDN",
          "TCD",
          "TCD",
          "TCD",
          "HTI",
          "HTI",
          "HTI",
          "RUS",
          "RUS",
          "RUS",
          "NOR",
          "NOR",
          "ZAF",
          "ZAF",
          "ZAF",
          "LSO",
          "LSO",
          "LSO",
          "MEX",
          "MEX",
          "MEX",
          "URY",
          "URY",
          "BRA",
          "BRA",
          "BRA",
          "BOL",
          "BOL",
          "BOL",
          "PER",
          "PER",
          "PER",
          "COL",
          "COL",
          "COL",
          "PAN",
          "PAN",
          "NIC",
          "NIC",
          "NIC",
          "HND",
          "HND",
          "HND",
          "SLV",
          "SLV",
          "SLV",
          "GTM",
          "GTM",
          "GTM",
          "BLZ",
          "BLZ",
          "BLZ",
          "GUY",
          "GUY",
          "GUY",
          "SUR",
          "SUR",
          "FRA",
          "FRA",
          "FRA",
          "ECU",
          "ECU",
          "ECU",
          "JAM",
          "JAM",
          "JAM",
          "CUB",
          "CUB",
          "CUB",
          "ZWE",
          "ZWE",
          "ZWE",
          "BWA",
          "BWA",
          "BWA",
          "NAM",
          "NAM",
          "NAM",
          "SEN",
          "SEN",
          "SEN",
          "MLI",
          "MLI",
          "MLI",
          "MRT",
          "MRT",
          "BEN",
          "BEN",
          "BEN",
          "NER",
          "NER",
          "NER",
          "NGA",
          "NGA",
          "NGA",
          "CMR",
          "CMR",
          "CMR",
          "TGO",
          "TGO",
          "TGO",
          "GHA",
          "GHA",
          "GHA",
          "CIV",
          "GIN",
          "GIN",
          "GIN",
          "LBR",
          "LBR",
          "LBR",
          "BFA",
          "BFA",
          "BFA",
          "GAB",
          "GAB",
          "ZMB",
          "ZMB",
          "ZMB",
          "MWI",
          "MWI",
          "MWI",
          "MOZ",
          "MOZ",
          "MOZ",
          "AGO",
          "AGO",
          "AGO",
          "BDI",
          "BDI",
          "ISR",
          "ISR",
          "ISR",
          "LBN",
          "LBN",
          "LBN",
          "MDG",
          "MDG",
          "MDG",
          "TUN",
          "TUN",
          "DZA",
          "DZA",
          "DZA",
          "JOR",
          "JOR",
          "JOR",
          "QAT",
          "QAT",
          "KWT",
          "KWT",
          "IRQ",
          "IRQ",
          "IRQ",
          "OMN",
          "OMN",
          "KHM",
          "KHM",
          "THA",
          "THA",
          "THA",
          "MMR",
          "MMR",
          "MMR",
          "VNM",
          "VNM",
          "MNG",
          "MNG",
          "IND",
          "IND",
          "IND",
          "BGD",
          "BGD",
          "BGD",
          "BTN",
          "BTN",
          "NPL",
          "NPL",
          "NPL",
          "PAK",
          "PAK",
          "PAK",
          "AFG",
          "AFG",
          "AFG",
          "TJK",
          "TJK",
          "KGZ",
          "KGZ",
          "KGZ",
          "TKM",
          "TKM",
          "SYR",
          "SYR",
          "SYR",
          "ARM",
          "ARM",
          "ARM",
          "SWE",
          "SWE",
          "BLR",
          "BLR",
          "BLR",
          "UKR",
          "UKR",
          "UKR",
          "POL",
          "POL",
          "AUT",
          "AUT",
          "HUN",
          "HUN",
          "HUN",
          "MDA",
          "MDA",
          "MDA",
          "ROU",
          "ROU",
          "LTU",
          "LTU",
          "LVA",
          "LVA",
          "EST",
          "EST",
          "DEU",
          "DEU",
          "DEU",
          "BGR",
          "BGR",
          "GRC",
          "GRC",
          "GRC",
          "ALB",
          "ALB",
          "HRV",
          "HRV",
          "CHE",
          "CHE",
          "LUX",
          "LUX",
          "BEL",
          "BEL",
          "NLD",
          "NLD",
          "PRT",
          "PRT",
          "ESP",
          "ESP",
          "ESP",
          "IRL",
          "IRL",
          "IRL",
          "AUS",
          "AUS",
          "LKA",
          "LKA",
          "LKA",
          "CHN",
          "CHN",
          "CHN",
          "ITA",
          "ITA",
          "ITA",
          "DNK",
          "DNK",
          "GBR",
          "GBR",
          "ISL",
          "ISL",
          "AZE",
          "AZE",
          "AZE",
          "GEO",
          "GEO",
          "GEO",
          "PHL",
          "PHL",
          "PHL",
          "MYS",
          "MYS",
          "BRN",
          "BRN",
          "SVN",
          "SVN",
          "FIN",
          "FIN",
          "SVK",
          "SVK",
          "CZE",
          "CZE",
          "CZE",
          "ERI",
          "ERI",
          "JPN",
          "JPN",
          "PRY",
          "PRY",
          "PRY",
          "SAU",
          "SAU",
          "SAU",
          "CYP",
          "CYP",
          "CYP",
          "MAR",
          "MAR",
          "MAR",
          "LBY",
          "LBY",
          "LBY",
          "ETH",
          "ETH",
          "ETH",
          "DJI",
          "UGA",
          "UGA",
          "UGA",
          "RWA",
          "RWA",
          "RWA",
          "MKD",
          "MKD",
          "MKD",
          "SRB",
          "SRB",
          "SRB",
          "MNE",
          "MNE",
          "TTO",
          "TTO",
          "TTO"
         ],
         "type": "choropleth",
         "z": [
          0.4666666666666667,
          0.4666666666666667,
          0.9090909090909091,
          0.9090909090909091,
          0.9090909090909091,
          0.375,
          0.375,
          0.375,
          0.375,
          0.375,
          0.4666666666666667,
          0.4666666666666667,
          0.4666666666666667,
          0.9090909090909091,
          0.9090909090909091,
          0.9090909090909091,
          0.9090909090909091,
          0.9090909090909091,
          0.9090909090909091,
          0.4666666666666667,
          0.4666666666666667,
          0.4666666666666667,
          0.375,
          0.375,
          0.375,
          1,
          1,
          1,
          0.9090909090909091,
          0.9090909090909091,
          0.9090909090909091,
          1,
          1,
          1,
          1,
          1,
          1,
          0.9090909090909091,
          0.9090909090909091,
          0.9090909090909091,
          0.4666666666666667,
          0.4666666666666667,
          0.4666666666666667,
          0.375,
          0.375,
          0.4666666666666667,
          0.4666666666666667,
          0.4666666666666667,
          0.9090909090909091,
          0.9090909090909091,
          0.9090909090909091,
          0.4666666666666667,
          0.4666666666666667,
          0.4666666666666667,
          0.375,
          0.375,
          0.4666666666666667,
          0.4666666666666667,
          0.4666666666666667,
          0.9090909090909091,
          0.9090909090909091,
          0.9090909090909091,
          0.4666666666666667,
          0.4666666666666667,
          0.4666666666666667,
          0.4666666666666667,
          0.4666666666666667,
          0.4666666666666667,
          0.375,
          0.375,
          0.9090909090909091,
          0.9090909090909091,
          0.9090909090909091,
          0.9090909090909091,
          0.9090909090909091,
          0.9090909090909091,
          0.9090909090909091,
          0.9090909090909091,
          0.9090909090909091,
          0.4666666666666667,
          0.4666666666666667,
          0.4666666666666667,
          0.4666666666666667,
          0.4666666666666667,
          0.4666666666666667,
          0.4666666666666667,
          0.4666666666666667,
          0.4666666666666667,
          0.4666666666666667,
          0.4666666666666667,
          0.375,
          0.375,
          0.375,
          0.4666666666666667,
          0.4666666666666667,
          0.4666666666666667,
          0.4666666666666667,
          0.4666666666666667,
          0.4666666666666667,
          0.4666666666666667,
          0.4666666666666667,
          0.4666666666666667,
          0.9090909090909091,
          0.9090909090909091,
          0.9090909090909091,
          0.4666666666666667,
          0.4666666666666667,
          0.4666666666666667,
          0.4666666666666667,
          0.4666666666666667,
          0.4666666666666667,
          0.9090909090909091,
          0.9090909090909091,
          0.9090909090909091,
          1,
          1,
          1,
          0.9090909090909091,
          0.9090909090909091,
          0.9090909090909091,
          0.9090909090909091,
          0.9090909090909091,
          1,
          1,
          1,
          0.9090909090909091,
          0.9090909090909091,
          0.9090909090909091,
          0.9090909090909091,
          0.9090909090909091,
          0.9090909090909091,
          1,
          1,
          1,
          0.9090909090909091,
          0.9090909090909091,
          0.9090909090909091,
          null,
          1,
          1,
          1,
          1,
          1,
          1,
          1,
          1,
          1,
          0.4666666666666667,
          0.4666666666666667,
          1,
          1,
          1,
          1,
          1,
          1,
          1,
          1,
          1,
          0.9090909090909091,
          0.9090909090909091,
          0.9090909090909091,
          1,
          1,
          0.375,
          0.375,
          0.375,
          0.9090909090909091,
          0.9090909090909091,
          0.9090909090909091,
          1,
          1,
          1,
          0.9090909090909091,
          0.9090909090909091,
          0.9090909090909091,
          0.9090909090909091,
          0.9090909090909091,
          0.4666666666666667,
          0.4666666666666667,
          0.4666666666666667,
          0.375,
          0.375,
          0.375,
          0.375,
          0.4666666666666667,
          0.4666666666666667,
          0.4666666666666667,
          0.375,
          0.375,
          0.9090909090909091,
          0.9090909090909091,
          0.4666666666666667,
          0.4666666666666667,
          0.4666666666666667,
          0.9090909090909091,
          0.9090909090909091,
          0.9090909090909091,
          0.9090909090909091,
          0.9090909090909091,
          0.9090909090909091,
          0.9090909090909091,
          0.9090909090909091,
          0.9090909090909091,
          0.9090909090909091,
          0.9090909090909091,
          0.9090909090909091,
          0.9090909090909091,
          0.9090909090909091,
          0.9090909090909091,
          0.9090909090909091,
          0.9090909090909091,
          0.9090909090909091,
          0.9090909090909091,
          0.9090909090909091,
          0.9090909090909091,
          1,
          1,
          1,
          0.9090909090909091,
          0.9090909090909091,
          0.9090909090909091,
          0.9090909090909091,
          0.9090909090909091,
          0.4666666666666667,
          0.4666666666666667,
          1,
          1,
          1,
          0.4666666666666667,
          0.4666666666666667,
          0.4666666666666667,
          0.375,
          0.375,
          0.4666666666666667,
          0.4666666666666667,
          0.4666666666666667,
          0.9090909090909091,
          0.9090909090909091,
          0.9090909090909091,
          0.375,
          0.375,
          0.375,
          0.375,
          0.375,
          0.375,
          0.375,
          0.4666666666666667,
          0.4666666666666667,
          0.4666666666666667,
          0.375,
          0.375,
          0.375,
          0.375,
          0.375,
          0.375,
          0.375,
          0.375,
          0.375,
          0.375,
          0.375,
          0.4666666666666667,
          0.4666666666666667,
          0.375,
          0.375,
          0.375,
          0.4666666666666667,
          0.4666666666666667,
          0.375,
          0.375,
          0.375,
          0.375,
          0.375,
          0.375,
          0.375,
          0.375,
          0.375,
          0.375,
          0.375,
          0.375,
          0.375,
          0.375,
          0.375,
          0.375,
          0.375,
          0.375,
          0.375,
          0.375,
          0.9090909090909091,
          0.9090909090909091,
          0.9090909090909091,
          0.4666666666666667,
          0.4666666666666667,
          0.4666666666666667,
          0.375,
          0.375,
          0.375,
          0.375,
          0.375,
          0.375,
          0.375,
          0.375,
          0.375,
          0.4666666666666667,
          0.4666666666666667,
          0.4666666666666667,
          0.4666666666666667,
          0.4666666666666667,
          0.4666666666666667,
          0.9090909090909091,
          0.9090909090909091,
          0.9090909090909091,
          0.4666666666666667,
          0.4666666666666667,
          0.375,
          0.375,
          0.375,
          0.375,
          0.375,
          0.375,
          0.375,
          0.375,
          0.375,
          0.375,
          0.375,
          1,
          1,
          0.375,
          0.375,
          0.4666666666666667,
          0.4666666666666667,
          0.4666666666666667,
          0.375,
          0.375,
          0.375,
          0.375,
          0.375,
          0.375,
          0.9090909090909091,
          0.9090909090909091,
          0.9090909090909091,
          0.4666666666666667,
          0.4666666666666667,
          0.4666666666666667,
          1,
          1,
          1,
          0.9090909090909091,
          1,
          1,
          1,
          1,
          1,
          1,
          0.4666666666666667,
          0.4666666666666667,
          0.4666666666666667,
          0.4666666666666667,
          0.4666666666666667,
          0.4666666666666667,
          0.4666666666666667,
          0.4666666666666667,
          0.375,
          0.375,
          0.375
         ]
        }
       ],
       "layout": {
        "template": {
         "data": {
          "bar": [
           {
            "error_x": {
             "color": "#2a3f5f"
            },
            "error_y": {
             "color": "#2a3f5f"
            },
            "marker": {
             "line": {
              "color": "#E5ECF6",
              "width": 0.5
             },
             "pattern": {
              "fillmode": "overlay",
              "size": 10,
              "solidity": 0.2
             }
            },
            "type": "bar"
           }
          ],
          "barpolar": [
           {
            "marker": {
             "line": {
              "color": "#E5ECF6",
              "width": 0.5
             },
             "pattern": {
              "fillmode": "overlay",
              "size": 10,
              "solidity": 0.2
             }
            },
            "type": "barpolar"
           }
          ],
          "carpet": [
           {
            "aaxis": {
             "endlinecolor": "#2a3f5f",
             "gridcolor": "white",
             "linecolor": "white",
             "minorgridcolor": "white",
             "startlinecolor": "#2a3f5f"
            },
            "baxis": {
             "endlinecolor": "#2a3f5f",
             "gridcolor": "white",
             "linecolor": "white",
             "minorgridcolor": "white",
             "startlinecolor": "#2a3f5f"
            },
            "type": "carpet"
           }
          ],
          "choropleth": [
           {
            "colorbar": {
             "outlinewidth": 0,
             "ticks": ""
            },
            "type": "choropleth"
           }
          ],
          "contour": [
           {
            "colorbar": {
             "outlinewidth": 0,
             "ticks": ""
            },
            "colorscale": [
             [
              0,
              "#0d0887"
             ],
             [
              0.1111111111111111,
              "#46039f"
             ],
             [
              0.2222222222222222,
              "#7201a8"
             ],
             [
              0.3333333333333333,
              "#9c179e"
             ],
             [
              0.4444444444444444,
              "#bd3786"
             ],
             [
              0.5555555555555556,
              "#d8576b"
             ],
             [
              0.6666666666666666,
              "#ed7953"
             ],
             [
              0.7777777777777778,
              "#fb9f3a"
             ],
             [
              0.8888888888888888,
              "#fdca26"
             ],
             [
              1,
              "#f0f921"
             ]
            ],
            "type": "contour"
           }
          ],
          "contourcarpet": [
           {
            "colorbar": {
             "outlinewidth": 0,
             "ticks": ""
            },
            "type": "contourcarpet"
           }
          ],
          "heatmap": [
           {
            "colorbar": {
             "outlinewidth": 0,
             "ticks": ""
            },
            "colorscale": [
             [
              0,
              "#0d0887"
             ],
             [
              0.1111111111111111,
              "#46039f"
             ],
             [
              0.2222222222222222,
              "#7201a8"
             ],
             [
              0.3333333333333333,
              "#9c179e"
             ],
             [
              0.4444444444444444,
              "#bd3786"
             ],
             [
              0.5555555555555556,
              "#d8576b"
             ],
             [
              0.6666666666666666,
              "#ed7953"
             ],
             [
              0.7777777777777778,
              "#fb9f3a"
             ],
             [
              0.8888888888888888,
              "#fdca26"
             ],
             [
              1,
              "#f0f921"
             ]
            ],
            "type": "heatmap"
           }
          ],
          "heatmapgl": [
           {
            "colorbar": {
             "outlinewidth": 0,
             "ticks": ""
            },
            "colorscale": [
             [
              0,
              "#0d0887"
             ],
             [
              0.1111111111111111,
              "#46039f"
             ],
             [
              0.2222222222222222,
              "#7201a8"
             ],
             [
              0.3333333333333333,
              "#9c179e"
             ],
             [
              0.4444444444444444,
              "#bd3786"
             ],
             [
              0.5555555555555556,
              "#d8576b"
             ],
             [
              0.6666666666666666,
              "#ed7953"
             ],
             [
              0.7777777777777778,
              "#fb9f3a"
             ],
             [
              0.8888888888888888,
              "#fdca26"
             ],
             [
              1,
              "#f0f921"
             ]
            ],
            "type": "heatmapgl"
           }
          ],
          "histogram": [
           {
            "marker": {
             "pattern": {
              "fillmode": "overlay",
              "size": 10,
              "solidity": 0.2
             }
            },
            "type": "histogram"
           }
          ],
          "histogram2d": [
           {
            "colorbar": {
             "outlinewidth": 0,
             "ticks": ""
            },
            "colorscale": [
             [
              0,
              "#0d0887"
             ],
             [
              0.1111111111111111,
              "#46039f"
             ],
             [
              0.2222222222222222,
              "#7201a8"
             ],
             [
              0.3333333333333333,
              "#9c179e"
             ],
             [
              0.4444444444444444,
              "#bd3786"
             ],
             [
              0.5555555555555556,
              "#d8576b"
             ],
             [
              0.6666666666666666,
              "#ed7953"
             ],
             [
              0.7777777777777778,
              "#fb9f3a"
             ],
             [
              0.8888888888888888,
              "#fdca26"
             ],
             [
              1,
              "#f0f921"
             ]
            ],
            "type": "histogram2d"
           }
          ],
          "histogram2dcontour": [
           {
            "colorbar": {
             "outlinewidth": 0,
             "ticks": ""
            },
            "colorscale": [
             [
              0,
              "#0d0887"
             ],
             [
              0.1111111111111111,
              "#46039f"
             ],
             [
              0.2222222222222222,
              "#7201a8"
             ],
             [
              0.3333333333333333,
              "#9c179e"
             ],
             [
              0.4444444444444444,
              "#bd3786"
             ],
             [
              0.5555555555555556,
              "#d8576b"
             ],
             [
              0.6666666666666666,
              "#ed7953"
             ],
             [
              0.7777777777777778,
              "#fb9f3a"
             ],
             [
              0.8888888888888888,
              "#fdca26"
             ],
             [
              1,
              "#f0f921"
             ]
            ],
            "type": "histogram2dcontour"
           }
          ],
          "mesh3d": [
           {
            "colorbar": {
             "outlinewidth": 0,
             "ticks": ""
            },
            "type": "mesh3d"
           }
          ],
          "parcoords": [
           {
            "line": {
             "colorbar": {
              "outlinewidth": 0,
              "ticks": ""
             }
            },
            "type": "parcoords"
           }
          ],
          "pie": [
           {
            "automargin": true,
            "type": "pie"
           }
          ],
          "scatter": [
           {
            "fillpattern": {
             "fillmode": "overlay",
             "size": 10,
             "solidity": 0.2
            },
            "type": "scatter"
           }
          ],
          "scatter3d": [
           {
            "line": {
             "colorbar": {
              "outlinewidth": 0,
              "ticks": ""
             }
            },
            "marker": {
             "colorbar": {
              "outlinewidth": 0,
              "ticks": ""
             }
            },
            "type": "scatter3d"
           }
          ],
          "scattercarpet": [
           {
            "marker": {
             "colorbar": {
              "outlinewidth": 0,
              "ticks": ""
             }
            },
            "type": "scattercarpet"
           }
          ],
          "scattergeo": [
           {
            "marker": {
             "colorbar": {
              "outlinewidth": 0,
              "ticks": ""
             }
            },
            "type": "scattergeo"
           }
          ],
          "scattergl": [
           {
            "marker": {
             "colorbar": {
              "outlinewidth": 0,
              "ticks": ""
             }
            },
            "type": "scattergl"
           }
          ],
          "scattermapbox": [
           {
            "marker": {
             "colorbar": {
              "outlinewidth": 0,
              "ticks": ""
             }
            },
            "type": "scattermapbox"
           }
          ],
          "scatterpolar": [
           {
            "marker": {
             "colorbar": {
              "outlinewidth": 0,
              "ticks": ""
             }
            },
            "type": "scatterpolar"
           }
          ],
          "scatterpolargl": [
           {
            "marker": {
             "colorbar": {
              "outlinewidth": 0,
              "ticks": ""
             }
            },
            "type": "scatterpolargl"
           }
          ],
          "scatterternary": [
           {
            "marker": {
             "colorbar": {
              "outlinewidth": 0,
              "ticks": ""
             }
            },
            "type": "scatterternary"
           }
          ],
          "surface": [
           {
            "colorbar": {
             "outlinewidth": 0,
             "ticks": ""
            },
            "colorscale": [
             [
              0,
              "#0d0887"
             ],
             [
              0.1111111111111111,
              "#46039f"
             ],
             [
              0.2222222222222222,
              "#7201a8"
             ],
             [
              0.3333333333333333,
              "#9c179e"
             ],
             [
              0.4444444444444444,
              "#bd3786"
             ],
             [
              0.5555555555555556,
              "#d8576b"
             ],
             [
              0.6666666666666666,
              "#ed7953"
             ],
             [
              0.7777777777777778,
              "#fb9f3a"
             ],
             [
              0.8888888888888888,
              "#fdca26"
             ],
             [
              1,
              "#f0f921"
             ]
            ],
            "type": "surface"
           }
          ],
          "table": [
           {
            "cells": {
             "fill": {
              "color": "#EBF0F8"
             },
             "line": {
              "color": "white"
             }
            },
            "header": {
             "fill": {
              "color": "#C8D4E3"
             },
             "line": {
              "color": "white"
             }
            },
            "type": "table"
           }
          ]
         },
         "layout": {
          "annotationdefaults": {
           "arrowcolor": "#2a3f5f",
           "arrowhead": 0,
           "arrowwidth": 1
          },
          "autotypenumbers": "strict",
          "coloraxis": {
           "colorbar": {
            "outlinewidth": 0,
            "ticks": ""
           }
          },
          "colorscale": {
           "diverging": [
            [
             0,
             "#8e0152"
            ],
            [
             0.1,
             "#c51b7d"
            ],
            [
             0.2,
             "#de77ae"
            ],
            [
             0.3,
             "#f1b6da"
            ],
            [
             0.4,
             "#fde0ef"
            ],
            [
             0.5,
             "#f7f7f7"
            ],
            [
             0.6,
             "#e6f5d0"
            ],
            [
             0.7,
             "#b8e186"
            ],
            [
             0.8,
             "#7fbc41"
            ],
            [
             0.9,
             "#4d9221"
            ],
            [
             1,
             "#276419"
            ]
           ],
           "sequential": [
            [
             0,
             "#0d0887"
            ],
            [
             0.1111111111111111,
             "#46039f"
            ],
            [
             0.2222222222222222,
             "#7201a8"
            ],
            [
             0.3333333333333333,
             "#9c179e"
            ],
            [
             0.4444444444444444,
             "#bd3786"
            ],
            [
             0.5555555555555556,
             "#d8576b"
            ],
            [
             0.6666666666666666,
             "#ed7953"
            ],
            [
             0.7777777777777778,
             "#fb9f3a"
            ],
            [
             0.8888888888888888,
             "#fdca26"
            ],
            [
             1,
             "#f0f921"
            ]
           ],
           "sequentialminus": [
            [
             0,
             "#0d0887"
            ],
            [
             0.1111111111111111,
             "#46039f"
            ],
            [
             0.2222222222222222,
             "#7201a8"
            ],
            [
             0.3333333333333333,
             "#9c179e"
            ],
            [
             0.4444444444444444,
             "#bd3786"
            ],
            [
             0.5555555555555556,
             "#d8576b"
            ],
            [
             0.6666666666666666,
             "#ed7953"
            ],
            [
             0.7777777777777778,
             "#fb9f3a"
            ],
            [
             0.8888888888888888,
             "#fdca26"
            ],
            [
             1,
             "#f0f921"
            ]
           ]
          },
          "colorway": [
           "#636efa",
           "#EF553B",
           "#00cc96",
           "#ab63fa",
           "#FFA15A",
           "#19d3f3",
           "#FF6692",
           "#B6E880",
           "#FF97FF",
           "#FECB52"
          ],
          "font": {
           "color": "#2a3f5f"
          },
          "geo": {
           "bgcolor": "white",
           "lakecolor": "white",
           "landcolor": "#E5ECF6",
           "showlakes": true,
           "showland": true,
           "subunitcolor": "white"
          },
          "hoverlabel": {
           "align": "left"
          },
          "hovermode": "closest",
          "mapbox": {
           "style": "light"
          },
          "paper_bgcolor": "white",
          "plot_bgcolor": "#E5ECF6",
          "polar": {
           "angularaxis": {
            "gridcolor": "white",
            "linecolor": "white",
            "ticks": ""
           },
           "bgcolor": "#E5ECF6",
           "radialaxis": {
            "gridcolor": "white",
            "linecolor": "white",
            "ticks": ""
           }
          },
          "scene": {
           "xaxis": {
            "backgroundcolor": "#E5ECF6",
            "gridcolor": "white",
            "gridwidth": 2,
            "linecolor": "white",
            "showbackground": true,
            "ticks": "",
            "zerolinecolor": "white"
           },
           "yaxis": {
            "backgroundcolor": "#E5ECF6",
            "gridcolor": "white",
            "gridwidth": 2,
            "linecolor": "white",
            "showbackground": true,
            "ticks": "",
            "zerolinecolor": "white"
           },
           "zaxis": {
            "backgroundcolor": "#E5ECF6",
            "gridcolor": "white",
            "gridwidth": 2,
            "linecolor": "white",
            "showbackground": true,
            "ticks": "",
            "zerolinecolor": "white"
           }
          },
          "shapedefaults": {
           "line": {
            "color": "#2a3f5f"
           }
          },
          "ternary": {
           "aaxis": {
            "gridcolor": "white",
            "linecolor": "white",
            "ticks": ""
           },
           "baxis": {
            "gridcolor": "white",
            "linecolor": "white",
            "ticks": ""
           },
           "bgcolor": "#E5ECF6",
           "caxis": {
            "gridcolor": "white",
            "linecolor": "white",
            "ticks": ""
           }
          },
          "title": {
           "x": 0.05
          },
          "xaxis": {
           "automargin": true,
           "gridcolor": "white",
           "linecolor": "white",
           "ticks": "",
           "title": {
            "standoff": 15
           },
           "zerolinecolor": "white",
           "zerolinewidth": 2
          },
          "yaxis": {
           "automargin": true,
           "gridcolor": "white",
           "linecolor": "white",
           "ticks": "",
           "title": {
            "standoff": 15
           },
           "zerolinecolor": "white",
           "zerolinewidth": 2
          }
         }
        }
       }
      },
      "text/html": [
       "<div>                            <div id=\"7e0167c0-c76f-4b79-a2ab-ba13adb197ae\" class=\"plotly-graph-div\" style=\"height:525px; width:100%;\"></div>            <script type=\"text/javascript\">                require([\"plotly\"], function(Plotly) {                    window.PLOTLYENV=window.PLOTLYENV || {};                                    if (document.getElementById(\"7e0167c0-c76f-4b79-a2ab-ba13adb197ae\")) {                    Plotly.newPlot(                        \"7e0167c0-c76f-4b79-a2ab-ba13adb197ae\",                        [{\"autocolorscale\":false,\"colorbar\":{\"tickprefix\":\"\",\"title\":{\"text\":\"xgboost specificity_score\"}},\"colorscale\":[[0.0,\"rgb(247,251,255)\"],[0.125,\"rgb(222,235,247)\"],[0.25,\"rgb(198,219,239)\"],[0.375,\"rgb(158,202,225)\"],[0.5,\"rgb(107,174,214)\"],[0.625,\"rgb(66,146,198)\"],[0.75,\"rgb(33,113,181)\"],[0.875,\"rgb(8,81,156)\"],[1.0,\"rgb(8,48,107)\"]],\"locations\":[\"FJI\",\"FJI\",\"TZA\",\"TZA\",\"TZA\",\"CAN\",\"CAN\",\"USA\",\"USA\",\"USA\",\"KAZ\",\"KAZ\",\"KAZ\",\"UZB\",\"UZB\",\"UZB\",\"IDN\",\"IDN\",\"IDN\",\"ARG\",\"ARG\",\"ARG\",\"CHL\",\"CHL\",\"CHL\",\"SOM\",\"SOM\",\"SOM\",\"KEN\",\"KEN\",\"KEN\",\"SDN\",\"SDN\",\"SDN\",\"TCD\",\"TCD\",\"TCD\",\"HTI\",\"HTI\",\"HTI\",\"RUS\",\"RUS\",\"RUS\",\"NOR\",\"NOR\",\"ZAF\",\"ZAF\",\"ZAF\",\"LSO\",\"LSO\",\"LSO\",\"MEX\",\"MEX\",\"MEX\",\"URY\",\"URY\",\"BRA\",\"BRA\",\"BRA\",\"BOL\",\"BOL\",\"BOL\",\"PER\",\"PER\",\"PER\",\"COL\",\"COL\",\"COL\",\"PAN\",\"PAN\",\"NIC\",\"NIC\",\"NIC\",\"HND\",\"HND\",\"HND\",\"SLV\",\"SLV\",\"SLV\",\"GTM\",\"GTM\",\"GTM\",\"BLZ\",\"BLZ\",\"BLZ\",\"GUY\",\"GUY\",\"GUY\",\"SUR\",\"SUR\",\"FRA\",\"FRA\",\"FRA\",\"ECU\",\"ECU\",\"ECU\",\"JAM\",\"JAM\",\"JAM\",\"CUB\",\"CUB\",\"CUB\",\"ZWE\",\"ZWE\",\"ZWE\",\"BWA\",\"BWA\",\"BWA\",\"NAM\",\"NAM\",\"NAM\",\"SEN\",\"SEN\",\"SEN\",\"MLI\",\"MLI\",\"MLI\",\"MRT\",\"MRT\",\"BEN\",\"BEN\",\"BEN\",\"NER\",\"NER\",\"NER\",\"NGA\",\"NGA\",\"NGA\",\"CMR\",\"CMR\",\"CMR\",\"TGO\",\"TGO\",\"TGO\",\"GHA\",\"GHA\",\"GHA\",\"CIV\",\"GIN\",\"GIN\",\"GIN\",\"LBR\",\"LBR\",\"LBR\",\"BFA\",\"BFA\",\"BFA\",\"GAB\",\"GAB\",\"ZMB\",\"ZMB\",\"ZMB\",\"MWI\",\"MWI\",\"MWI\",\"MOZ\",\"MOZ\",\"MOZ\",\"AGO\",\"AGO\",\"AGO\",\"BDI\",\"BDI\",\"ISR\",\"ISR\",\"ISR\",\"LBN\",\"LBN\",\"LBN\",\"MDG\",\"MDG\",\"MDG\",\"TUN\",\"TUN\",\"DZA\",\"DZA\",\"DZA\",\"JOR\",\"JOR\",\"JOR\",\"QAT\",\"QAT\",\"KWT\",\"KWT\",\"IRQ\",\"IRQ\",\"IRQ\",\"OMN\",\"OMN\",\"KHM\",\"KHM\",\"THA\",\"THA\",\"THA\",\"MMR\",\"MMR\",\"MMR\",\"VNM\",\"VNM\",\"MNG\",\"MNG\",\"IND\",\"IND\",\"IND\",\"BGD\",\"BGD\",\"BGD\",\"BTN\",\"BTN\",\"NPL\",\"NPL\",\"NPL\",\"PAK\",\"PAK\",\"PAK\",\"AFG\",\"AFG\",\"AFG\",\"TJK\",\"TJK\",\"KGZ\",\"KGZ\",\"KGZ\",\"TKM\",\"TKM\",\"SYR\",\"SYR\",\"SYR\",\"ARM\",\"ARM\",\"ARM\",\"SWE\",\"SWE\",\"BLR\",\"BLR\",\"BLR\",\"UKR\",\"UKR\",\"UKR\",\"POL\",\"POL\",\"AUT\",\"AUT\",\"HUN\",\"HUN\",\"HUN\",\"MDA\",\"MDA\",\"MDA\",\"ROU\",\"ROU\",\"LTU\",\"LTU\",\"LVA\",\"LVA\",\"EST\",\"EST\",\"DEU\",\"DEU\",\"DEU\",\"BGR\",\"BGR\",\"GRC\",\"GRC\",\"GRC\",\"ALB\",\"ALB\",\"HRV\",\"HRV\",\"CHE\",\"CHE\",\"LUX\",\"LUX\",\"BEL\",\"BEL\",\"NLD\",\"NLD\",\"PRT\",\"PRT\",\"ESP\",\"ESP\",\"ESP\",\"IRL\",\"IRL\",\"IRL\",\"AUS\",\"AUS\",\"LKA\",\"LKA\",\"LKA\",\"CHN\",\"CHN\",\"CHN\",\"ITA\",\"ITA\",\"ITA\",\"DNK\",\"DNK\",\"GBR\",\"GBR\",\"ISL\",\"ISL\",\"AZE\",\"AZE\",\"AZE\",\"GEO\",\"GEO\",\"GEO\",\"PHL\",\"PHL\",\"PHL\",\"MYS\",\"MYS\",\"BRN\",\"BRN\",\"SVN\",\"SVN\",\"FIN\",\"FIN\",\"SVK\",\"SVK\",\"CZE\",\"CZE\",\"CZE\",\"ERI\",\"ERI\",\"JPN\",\"JPN\",\"PRY\",\"PRY\",\"PRY\",\"SAU\",\"SAU\",\"SAU\",\"CYP\",\"CYP\",\"CYP\",\"MAR\",\"MAR\",\"MAR\",\"LBY\",\"LBY\",\"LBY\",\"ETH\",\"ETH\",\"ETH\",\"DJI\",\"UGA\",\"UGA\",\"UGA\",\"RWA\",\"RWA\",\"RWA\",\"MKD\",\"MKD\",\"MKD\",\"SRB\",\"SRB\",\"SRB\",\"MNE\",\"MNE\",\"TTO\",\"TTO\",\"TTO\"],\"marker\":{\"line\":{\"color\":\"darkgray\",\"width\":0.5}},\"reversescale\":false,\"text\":[\"FJI\",\"FJI\",\"TZA\",\"TZA\",\"TZA\",\"CAN\",\"CAN\",\"USA\",\"USA\",\"USA\",\"KAZ\",\"KAZ\",\"KAZ\",\"UZB\",\"UZB\",\"UZB\",\"IDN\",\"IDN\",\"IDN\",\"ARG\",\"ARG\",\"ARG\",\"CHL\",\"CHL\",\"CHL\",\"SOM\",\"SOM\",\"SOM\",\"KEN\",\"KEN\",\"KEN\",\"SDN\",\"SDN\",\"SDN\",\"TCD\",\"TCD\",\"TCD\",\"HTI\",\"HTI\",\"HTI\",\"RUS\",\"RUS\",\"RUS\",\"NOR\",\"NOR\",\"ZAF\",\"ZAF\",\"ZAF\",\"LSO\",\"LSO\",\"LSO\",\"MEX\",\"MEX\",\"MEX\",\"URY\",\"URY\",\"BRA\",\"BRA\",\"BRA\",\"BOL\",\"BOL\",\"BOL\",\"PER\",\"PER\",\"PER\",\"COL\",\"COL\",\"COL\",\"PAN\",\"PAN\",\"NIC\",\"NIC\",\"NIC\",\"HND\",\"HND\",\"HND\",\"SLV\",\"SLV\",\"SLV\",\"GTM\",\"GTM\",\"GTM\",\"BLZ\",\"BLZ\",\"BLZ\",\"GUY\",\"GUY\",\"GUY\",\"SUR\",\"SUR\",\"FRA\",\"FRA\",\"FRA\",\"ECU\",\"ECU\",\"ECU\",\"JAM\",\"JAM\",\"JAM\",\"CUB\",\"CUB\",\"CUB\",\"ZWE\",\"ZWE\",\"ZWE\",\"BWA\",\"BWA\",\"BWA\",\"NAM\",\"NAM\",\"NAM\",\"SEN\",\"SEN\",\"SEN\",\"MLI\",\"MLI\",\"MLI\",\"MRT\",\"MRT\",\"BEN\",\"BEN\",\"BEN\",\"NER\",\"NER\",\"NER\",\"NGA\",\"NGA\",\"NGA\",\"CMR\",\"CMR\",\"CMR\",\"TGO\",\"TGO\",\"TGO\",\"GHA\",\"GHA\",\"GHA\",\"CIV\",\"GIN\",\"GIN\",\"GIN\",\"LBR\",\"LBR\",\"LBR\",\"BFA\",\"BFA\",\"BFA\",\"GAB\",\"GAB\",\"ZMB\",\"ZMB\",\"ZMB\",\"MWI\",\"MWI\",\"MWI\",\"MOZ\",\"MOZ\",\"MOZ\",\"AGO\",\"AGO\",\"AGO\",\"BDI\",\"BDI\",\"ISR\",\"ISR\",\"ISR\",\"LBN\",\"LBN\",\"LBN\",\"MDG\",\"MDG\",\"MDG\",\"TUN\",\"TUN\",\"DZA\",\"DZA\",\"DZA\",\"JOR\",\"JOR\",\"JOR\",\"QAT\",\"QAT\",\"KWT\",\"KWT\",\"IRQ\",\"IRQ\",\"IRQ\",\"OMN\",\"OMN\",\"KHM\",\"KHM\",\"THA\",\"THA\",\"THA\",\"MMR\",\"MMR\",\"MMR\",\"VNM\",\"VNM\",\"MNG\",\"MNG\",\"IND\",\"IND\",\"IND\",\"BGD\",\"BGD\",\"BGD\",\"BTN\",\"BTN\",\"NPL\",\"NPL\",\"NPL\",\"PAK\",\"PAK\",\"PAK\",\"AFG\",\"AFG\",\"AFG\",\"TJK\",\"TJK\",\"KGZ\",\"KGZ\",\"KGZ\",\"TKM\",\"TKM\",\"SYR\",\"SYR\",\"SYR\",\"ARM\",\"ARM\",\"ARM\",\"SWE\",\"SWE\",\"BLR\",\"BLR\",\"BLR\",\"UKR\",\"UKR\",\"UKR\",\"POL\",\"POL\",\"AUT\",\"AUT\",\"HUN\",\"HUN\",\"HUN\",\"MDA\",\"MDA\",\"MDA\",\"ROU\",\"ROU\",\"LTU\",\"LTU\",\"LVA\",\"LVA\",\"EST\",\"EST\",\"DEU\",\"DEU\",\"DEU\",\"BGR\",\"BGR\",\"GRC\",\"GRC\",\"GRC\",\"ALB\",\"ALB\",\"HRV\",\"HRV\",\"CHE\",\"CHE\",\"LUX\",\"LUX\",\"BEL\",\"BEL\",\"NLD\",\"NLD\",\"PRT\",\"PRT\",\"ESP\",\"ESP\",\"ESP\",\"IRL\",\"IRL\",\"IRL\",\"AUS\",\"AUS\",\"LKA\",\"LKA\",\"LKA\",\"CHN\",\"CHN\",\"CHN\",\"ITA\",\"ITA\",\"ITA\",\"DNK\",\"DNK\",\"GBR\",\"GBR\",\"ISL\",\"ISL\",\"AZE\",\"AZE\",\"AZE\",\"GEO\",\"GEO\",\"GEO\",\"PHL\",\"PHL\",\"PHL\",\"MYS\",\"MYS\",\"BRN\",\"BRN\",\"SVN\",\"SVN\",\"FIN\",\"FIN\",\"SVK\",\"SVK\",\"CZE\",\"CZE\",\"CZE\",\"ERI\",\"ERI\",\"JPN\",\"JPN\",\"PRY\",\"PRY\",\"PRY\",\"SAU\",\"SAU\",\"SAU\",\"CYP\",\"CYP\",\"CYP\",\"MAR\",\"MAR\",\"MAR\",\"LBY\",\"LBY\",\"LBY\",\"ETH\",\"ETH\",\"ETH\",\"DJI\",\"UGA\",\"UGA\",\"UGA\",\"RWA\",\"RWA\",\"RWA\",\"MKD\",\"MKD\",\"MKD\",\"SRB\",\"SRB\",\"SRB\",\"MNE\",\"MNE\",\"TTO\",\"TTO\",\"TTO\"],\"z\":[0.4666666666666667,0.4666666666666667,0.9090909090909091,0.9090909090909091,0.9090909090909091,0.375,0.375,0.375,0.375,0.375,0.4666666666666667,0.4666666666666667,0.4666666666666667,0.9090909090909091,0.9090909090909091,0.9090909090909091,0.9090909090909091,0.9090909090909091,0.9090909090909091,0.4666666666666667,0.4666666666666667,0.4666666666666667,0.375,0.375,0.375,1.0,1.0,1.0,0.9090909090909091,0.9090909090909091,0.9090909090909091,1.0,1.0,1.0,1.0,1.0,1.0,0.9090909090909091,0.9090909090909091,0.9090909090909091,0.4666666666666667,0.4666666666666667,0.4666666666666667,0.375,0.375,0.4666666666666667,0.4666666666666667,0.4666666666666667,0.9090909090909091,0.9090909090909091,0.9090909090909091,0.4666666666666667,0.4666666666666667,0.4666666666666667,0.375,0.375,0.4666666666666667,0.4666666666666667,0.4666666666666667,0.9090909090909091,0.9090909090909091,0.9090909090909091,0.4666666666666667,0.4666666666666667,0.4666666666666667,0.4666666666666667,0.4666666666666667,0.4666666666666667,0.375,0.375,0.9090909090909091,0.9090909090909091,0.9090909090909091,0.9090909090909091,0.9090909090909091,0.9090909090909091,0.9090909090909091,0.9090909090909091,0.9090909090909091,0.4666666666666667,0.4666666666666667,0.4666666666666667,0.4666666666666667,0.4666666666666667,0.4666666666666667,0.4666666666666667,0.4666666666666667,0.4666666666666667,0.4666666666666667,0.4666666666666667,0.375,0.375,0.375,0.4666666666666667,0.4666666666666667,0.4666666666666667,0.4666666666666667,0.4666666666666667,0.4666666666666667,0.4666666666666667,0.4666666666666667,0.4666666666666667,0.9090909090909091,0.9090909090909091,0.9090909090909091,0.4666666666666667,0.4666666666666667,0.4666666666666667,0.4666666666666667,0.4666666666666667,0.4666666666666667,0.9090909090909091,0.9090909090909091,0.9090909090909091,1.0,1.0,1.0,0.9090909090909091,0.9090909090909091,0.9090909090909091,0.9090909090909091,0.9090909090909091,1.0,1.0,1.0,0.9090909090909091,0.9090909090909091,0.9090909090909091,0.9090909090909091,0.9090909090909091,0.9090909090909091,1.0,1.0,1.0,0.9090909090909091,0.9090909090909091,0.9090909090909091,null,1.0,1.0,1.0,1.0,1.0,1.0,1.0,1.0,1.0,0.4666666666666667,0.4666666666666667,1.0,1.0,1.0,1.0,1.0,1.0,1.0,1.0,1.0,0.9090909090909091,0.9090909090909091,0.9090909090909091,1.0,1.0,0.375,0.375,0.375,0.9090909090909091,0.9090909090909091,0.9090909090909091,1.0,1.0,1.0,0.9090909090909091,0.9090909090909091,0.9090909090909091,0.9090909090909091,0.9090909090909091,0.4666666666666667,0.4666666666666667,0.4666666666666667,0.375,0.375,0.375,0.375,0.4666666666666667,0.4666666666666667,0.4666666666666667,0.375,0.375,0.9090909090909091,0.9090909090909091,0.4666666666666667,0.4666666666666667,0.4666666666666667,0.9090909090909091,0.9090909090909091,0.9090909090909091,0.9090909090909091,0.9090909090909091,0.9090909090909091,0.9090909090909091,0.9090909090909091,0.9090909090909091,0.9090909090909091,0.9090909090909091,0.9090909090909091,0.9090909090909091,0.9090909090909091,0.9090909090909091,0.9090909090909091,0.9090909090909091,0.9090909090909091,0.9090909090909091,0.9090909090909091,0.9090909090909091,1.0,1.0,1.0,0.9090909090909091,0.9090909090909091,0.9090909090909091,0.9090909090909091,0.9090909090909091,0.4666666666666667,0.4666666666666667,1.0,1.0,1.0,0.4666666666666667,0.4666666666666667,0.4666666666666667,0.375,0.375,0.4666666666666667,0.4666666666666667,0.4666666666666667,0.9090909090909091,0.9090909090909091,0.9090909090909091,0.375,0.375,0.375,0.375,0.375,0.375,0.375,0.4666666666666667,0.4666666666666667,0.4666666666666667,0.375,0.375,0.375,0.375,0.375,0.375,0.375,0.375,0.375,0.375,0.375,0.4666666666666667,0.4666666666666667,0.375,0.375,0.375,0.4666666666666667,0.4666666666666667,0.375,0.375,0.375,0.375,0.375,0.375,0.375,0.375,0.375,0.375,0.375,0.375,0.375,0.375,0.375,0.375,0.375,0.375,0.375,0.375,0.9090909090909091,0.9090909090909091,0.9090909090909091,0.4666666666666667,0.4666666666666667,0.4666666666666667,0.375,0.375,0.375,0.375,0.375,0.375,0.375,0.375,0.375,0.4666666666666667,0.4666666666666667,0.4666666666666667,0.4666666666666667,0.4666666666666667,0.4666666666666667,0.9090909090909091,0.9090909090909091,0.9090909090909091,0.4666666666666667,0.4666666666666667,0.375,0.375,0.375,0.375,0.375,0.375,0.375,0.375,0.375,0.375,0.375,1.0,1.0,0.375,0.375,0.4666666666666667,0.4666666666666667,0.4666666666666667,0.375,0.375,0.375,0.375,0.375,0.375,0.9090909090909091,0.9090909090909091,0.9090909090909091,0.4666666666666667,0.4666666666666667,0.4666666666666667,1.0,1.0,1.0,0.9090909090909091,1.0,1.0,1.0,1.0,1.0,1.0,0.4666666666666667,0.4666666666666667,0.4666666666666667,0.4666666666666667,0.4666666666666667,0.4666666666666667,0.4666666666666667,0.4666666666666667,0.375,0.375,0.375],\"type\":\"choropleth\"}],                        {\"template\":{\"data\":{\"histogram2dcontour\":[{\"type\":\"histogram2dcontour\",\"colorbar\":{\"outlinewidth\":0,\"ticks\":\"\"},\"colorscale\":[[0.0,\"#0d0887\"],[0.1111111111111111,\"#46039f\"],[0.2222222222222222,\"#7201a8\"],[0.3333333333333333,\"#9c179e\"],[0.4444444444444444,\"#bd3786\"],[0.5555555555555556,\"#d8576b\"],[0.6666666666666666,\"#ed7953\"],[0.7777777777777778,\"#fb9f3a\"],[0.8888888888888888,\"#fdca26\"],[1.0,\"#f0f921\"]]}],\"choropleth\":[{\"type\":\"choropleth\",\"colorbar\":{\"outlinewidth\":0,\"ticks\":\"\"}}],\"histogram2d\":[{\"type\":\"histogram2d\",\"colorbar\":{\"outlinewidth\":0,\"ticks\":\"\"},\"colorscale\":[[0.0,\"#0d0887\"],[0.1111111111111111,\"#46039f\"],[0.2222222222222222,\"#7201a8\"],[0.3333333333333333,\"#9c179e\"],[0.4444444444444444,\"#bd3786\"],[0.5555555555555556,\"#d8576b\"],[0.6666666666666666,\"#ed7953\"],[0.7777777777777778,\"#fb9f3a\"],[0.8888888888888888,\"#fdca26\"],[1.0,\"#f0f921\"]]}],\"heatmap\":[{\"type\":\"heatmap\",\"colorbar\":{\"outlinewidth\":0,\"ticks\":\"\"},\"colorscale\":[[0.0,\"#0d0887\"],[0.1111111111111111,\"#46039f\"],[0.2222222222222222,\"#7201a8\"],[0.3333333333333333,\"#9c179e\"],[0.4444444444444444,\"#bd3786\"],[0.5555555555555556,\"#d8576b\"],[0.6666666666666666,\"#ed7953\"],[0.7777777777777778,\"#fb9f3a\"],[0.8888888888888888,\"#fdca26\"],[1.0,\"#f0f921\"]]}],\"heatmapgl\":[{\"type\":\"heatmapgl\",\"colorbar\":{\"outlinewidth\":0,\"ticks\":\"\"},\"colorscale\":[[0.0,\"#0d0887\"],[0.1111111111111111,\"#46039f\"],[0.2222222222222222,\"#7201a8\"],[0.3333333333333333,\"#9c179e\"],[0.4444444444444444,\"#bd3786\"],[0.5555555555555556,\"#d8576b\"],[0.6666666666666666,\"#ed7953\"],[0.7777777777777778,\"#fb9f3a\"],[0.8888888888888888,\"#fdca26\"],[1.0,\"#f0f921\"]]}],\"contourcarpet\":[{\"type\":\"contourcarpet\",\"colorbar\":{\"outlinewidth\":0,\"ticks\":\"\"}}],\"contour\":[{\"type\":\"contour\",\"colorbar\":{\"outlinewidth\":0,\"ticks\":\"\"},\"colorscale\":[[0.0,\"#0d0887\"],[0.1111111111111111,\"#46039f\"],[0.2222222222222222,\"#7201a8\"],[0.3333333333333333,\"#9c179e\"],[0.4444444444444444,\"#bd3786\"],[0.5555555555555556,\"#d8576b\"],[0.6666666666666666,\"#ed7953\"],[0.7777777777777778,\"#fb9f3a\"],[0.8888888888888888,\"#fdca26\"],[1.0,\"#f0f921\"]]}],\"surface\":[{\"type\":\"surface\",\"colorbar\":{\"outlinewidth\":0,\"ticks\":\"\"},\"colorscale\":[[0.0,\"#0d0887\"],[0.1111111111111111,\"#46039f\"],[0.2222222222222222,\"#7201a8\"],[0.3333333333333333,\"#9c179e\"],[0.4444444444444444,\"#bd3786\"],[0.5555555555555556,\"#d8576b\"],[0.6666666666666666,\"#ed7953\"],[0.7777777777777778,\"#fb9f3a\"],[0.8888888888888888,\"#fdca26\"],[1.0,\"#f0f921\"]]}],\"mesh3d\":[{\"type\":\"mesh3d\",\"colorbar\":{\"outlinewidth\":0,\"ticks\":\"\"}}],\"scatter\":[{\"fillpattern\":{\"fillmode\":\"overlay\",\"size\":10,\"solidity\":0.2},\"type\":\"scatter\"}],\"parcoords\":[{\"type\":\"parcoords\",\"line\":{\"colorbar\":{\"outlinewidth\":0,\"ticks\":\"\"}}}],\"scatterpolargl\":[{\"type\":\"scatterpolargl\",\"marker\":{\"colorbar\":{\"outlinewidth\":0,\"ticks\":\"\"}}}],\"bar\":[{\"error_x\":{\"color\":\"#2a3f5f\"},\"error_y\":{\"color\":\"#2a3f5f\"},\"marker\":{\"line\":{\"color\":\"#E5ECF6\",\"width\":0.5},\"pattern\":{\"fillmode\":\"overlay\",\"size\":10,\"solidity\":0.2}},\"type\":\"bar\"}],\"scattergeo\":[{\"type\":\"scattergeo\",\"marker\":{\"colorbar\":{\"outlinewidth\":0,\"ticks\":\"\"}}}],\"scatterpolar\":[{\"type\":\"scatterpolar\",\"marker\":{\"colorbar\":{\"outlinewidth\":0,\"ticks\":\"\"}}}],\"histogram\":[{\"marker\":{\"pattern\":{\"fillmode\":\"overlay\",\"size\":10,\"solidity\":0.2}},\"type\":\"histogram\"}],\"scattergl\":[{\"type\":\"scattergl\",\"marker\":{\"colorbar\":{\"outlinewidth\":0,\"ticks\":\"\"}}}],\"scatter3d\":[{\"type\":\"scatter3d\",\"line\":{\"colorbar\":{\"outlinewidth\":0,\"ticks\":\"\"}},\"marker\":{\"colorbar\":{\"outlinewidth\":0,\"ticks\":\"\"}}}],\"scattermapbox\":[{\"type\":\"scattermapbox\",\"marker\":{\"colorbar\":{\"outlinewidth\":0,\"ticks\":\"\"}}}],\"scatterternary\":[{\"type\":\"scatterternary\",\"marker\":{\"colorbar\":{\"outlinewidth\":0,\"ticks\":\"\"}}}],\"scattercarpet\":[{\"type\":\"scattercarpet\",\"marker\":{\"colorbar\":{\"outlinewidth\":0,\"ticks\":\"\"}}}],\"carpet\":[{\"aaxis\":{\"endlinecolor\":\"#2a3f5f\",\"gridcolor\":\"white\",\"linecolor\":\"white\",\"minorgridcolor\":\"white\",\"startlinecolor\":\"#2a3f5f\"},\"baxis\":{\"endlinecolor\":\"#2a3f5f\",\"gridcolor\":\"white\",\"linecolor\":\"white\",\"minorgridcolor\":\"white\",\"startlinecolor\":\"#2a3f5f\"},\"type\":\"carpet\"}],\"table\":[{\"cells\":{\"fill\":{\"color\":\"#EBF0F8\"},\"line\":{\"color\":\"white\"}},\"header\":{\"fill\":{\"color\":\"#C8D4E3\"},\"line\":{\"color\":\"white\"}},\"type\":\"table\"}],\"barpolar\":[{\"marker\":{\"line\":{\"color\":\"#E5ECF6\",\"width\":0.5},\"pattern\":{\"fillmode\":\"overlay\",\"size\":10,\"solidity\":0.2}},\"type\":\"barpolar\"}],\"pie\":[{\"automargin\":true,\"type\":\"pie\"}]},\"layout\":{\"autotypenumbers\":\"strict\",\"colorway\":[\"#636efa\",\"#EF553B\",\"#00cc96\",\"#ab63fa\",\"#FFA15A\",\"#19d3f3\",\"#FF6692\",\"#B6E880\",\"#FF97FF\",\"#FECB52\"],\"font\":{\"color\":\"#2a3f5f\"},\"hovermode\":\"closest\",\"hoverlabel\":{\"align\":\"left\"},\"paper_bgcolor\":\"white\",\"plot_bgcolor\":\"#E5ECF6\",\"polar\":{\"bgcolor\":\"#E5ECF6\",\"angularaxis\":{\"gridcolor\":\"white\",\"linecolor\":\"white\",\"ticks\":\"\"},\"radialaxis\":{\"gridcolor\":\"white\",\"linecolor\":\"white\",\"ticks\":\"\"}},\"ternary\":{\"bgcolor\":\"#E5ECF6\",\"aaxis\":{\"gridcolor\":\"white\",\"linecolor\":\"white\",\"ticks\":\"\"},\"baxis\":{\"gridcolor\":\"white\",\"linecolor\":\"white\",\"ticks\":\"\"},\"caxis\":{\"gridcolor\":\"white\",\"linecolor\":\"white\",\"ticks\":\"\"}},\"coloraxis\":{\"colorbar\":{\"outlinewidth\":0,\"ticks\":\"\"}},\"colorscale\":{\"sequential\":[[0.0,\"#0d0887\"],[0.1111111111111111,\"#46039f\"],[0.2222222222222222,\"#7201a8\"],[0.3333333333333333,\"#9c179e\"],[0.4444444444444444,\"#bd3786\"],[0.5555555555555556,\"#d8576b\"],[0.6666666666666666,\"#ed7953\"],[0.7777777777777778,\"#fb9f3a\"],[0.8888888888888888,\"#fdca26\"],[1.0,\"#f0f921\"]],\"sequentialminus\":[[0.0,\"#0d0887\"],[0.1111111111111111,\"#46039f\"],[0.2222222222222222,\"#7201a8\"],[0.3333333333333333,\"#9c179e\"],[0.4444444444444444,\"#bd3786\"],[0.5555555555555556,\"#d8576b\"],[0.6666666666666666,\"#ed7953\"],[0.7777777777777778,\"#fb9f3a\"],[0.8888888888888888,\"#fdca26\"],[1.0,\"#f0f921\"]],\"diverging\":[[0,\"#8e0152\"],[0.1,\"#c51b7d\"],[0.2,\"#de77ae\"],[0.3,\"#f1b6da\"],[0.4,\"#fde0ef\"],[0.5,\"#f7f7f7\"],[0.6,\"#e6f5d0\"],[0.7,\"#b8e186\"],[0.8,\"#7fbc41\"],[0.9,\"#4d9221\"],[1,\"#276419\"]]},\"xaxis\":{\"gridcolor\":\"white\",\"linecolor\":\"white\",\"ticks\":\"\",\"title\":{\"standoff\":15},\"zerolinecolor\":\"white\",\"automargin\":true,\"zerolinewidth\":2},\"yaxis\":{\"gridcolor\":\"white\",\"linecolor\":\"white\",\"ticks\":\"\",\"title\":{\"standoff\":15},\"zerolinecolor\":\"white\",\"automargin\":true,\"zerolinewidth\":2},\"scene\":{\"xaxis\":{\"backgroundcolor\":\"#E5ECF6\",\"gridcolor\":\"white\",\"linecolor\":\"white\",\"showbackground\":true,\"ticks\":\"\",\"zerolinecolor\":\"white\",\"gridwidth\":2},\"yaxis\":{\"backgroundcolor\":\"#E5ECF6\",\"gridcolor\":\"white\",\"linecolor\":\"white\",\"showbackground\":true,\"ticks\":\"\",\"zerolinecolor\":\"white\",\"gridwidth\":2},\"zaxis\":{\"backgroundcolor\":\"#E5ECF6\",\"gridcolor\":\"white\",\"linecolor\":\"white\",\"showbackground\":true,\"ticks\":\"\",\"zerolinecolor\":\"white\",\"gridwidth\":2}},\"shapedefaults\":{\"line\":{\"color\":\"#2a3f5f\"}},\"annotationdefaults\":{\"arrowcolor\":\"#2a3f5f\",\"arrowhead\":0,\"arrowwidth\":1},\"geo\":{\"bgcolor\":\"white\",\"landcolor\":\"#E5ECF6\",\"subunitcolor\":\"white\",\"showland\":true,\"showlakes\":true,\"lakecolor\":\"white\"},\"title\":{\"x\":0.05},\"mapbox\":{\"style\":\"light\"}}}},                        {\"responsive\": true}                    ).then(function(){\n",
       "                            \n",
       "var gd = document.getElementById('7e0167c0-c76f-4b79-a2ab-ba13adb197ae');\n",
       "var x = new MutationObserver(function (mutations, observer) {{\n",
       "        var display = window.getComputedStyle(gd).display;\n",
       "        if (!display || display === 'none') {{\n",
       "            console.log([gd, 'removed!']);\n",
       "            Plotly.purge(gd);\n",
       "            observer.disconnect();\n",
       "        }}\n",
       "}});\n",
       "\n",
       "// Listen for the removal of the full notebook cells\n",
       "var notebookContainer = gd.closest('#notebook-container');\n",
       "if (notebookContainer) {{\n",
       "    x.observe(notebookContainer, {childList: true});\n",
       "}}\n",
       "\n",
       "// Listen for the clearing of the current output cell\n",
       "var outputEl = gd.closest('.output');\n",
       "if (outputEl) {{\n",
       "    x.observe(outputEl, {childList: true});\n",
       "}}\n",
       "\n",
       "                        })                };                });            </script>        </div>"
      ]
     },
     "metadata": {},
     "output_type": "display_data"
    },
    {
     "data": {
      "application/vnd.plotly.v1+json": {
       "config": {
        "plotlyServerURL": "https://plot.ly"
       },
       "data": [
        {
         "autocolorscale": false,
         "colorbar": {
          "tickprefix": "",
          "title": {
           "text": "transformer specificity_score"
          }
         },
         "colorscale": [
          [
           0,
           "rgb(247,252,245)"
          ],
          [
           0.125,
           "rgb(229,245,224)"
          ],
          [
           0.25,
           "rgb(199,233,192)"
          ],
          [
           0.375,
           "rgb(161,217,155)"
          ],
          [
           0.5,
           "rgb(116,196,118)"
          ],
          [
           0.625,
           "rgb(65,171,93)"
          ],
          [
           0.75,
           "rgb(35,139,69)"
          ],
          [
           0.875,
           "rgb(0,109,44)"
          ],
          [
           1,
           "rgb(0,68,27)"
          ]
         ],
         "locations": [
          "FJI",
          "FJI",
          "TZA",
          "TZA",
          "TZA",
          "CAN",
          "CAN",
          "USA",
          "USA",
          "USA",
          "KAZ",
          "KAZ",
          "KAZ",
          "UZB",
          "UZB",
          "UZB",
          "IDN",
          "IDN",
          "IDN",
          "ARG",
          "ARG",
          "ARG",
          "CHL",
          "CHL",
          "CHL",
          "SOM",
          "SOM",
          "SOM",
          "KEN",
          "KEN",
          "KEN",
          "SDN",
          "SDN",
          "SDN",
          "TCD",
          "TCD",
          "TCD",
          "HTI",
          "HTI",
          "HTI",
          "RUS",
          "RUS",
          "RUS",
          "NOR",
          "NOR",
          "ZAF",
          "ZAF",
          "ZAF",
          "LSO",
          "LSO",
          "LSO",
          "MEX",
          "MEX",
          "MEX",
          "URY",
          "URY",
          "BRA",
          "BRA",
          "BRA",
          "BOL",
          "BOL",
          "BOL",
          "PER",
          "PER",
          "PER",
          "COL",
          "COL",
          "COL",
          "PAN",
          "PAN",
          "NIC",
          "NIC",
          "NIC",
          "HND",
          "HND",
          "HND",
          "SLV",
          "SLV",
          "SLV",
          "GTM",
          "GTM",
          "GTM",
          "BLZ",
          "BLZ",
          "BLZ",
          "GUY",
          "GUY",
          "GUY",
          "SUR",
          "SUR",
          "FRA",
          "FRA",
          "FRA",
          "ECU",
          "ECU",
          "ECU",
          "JAM",
          "JAM",
          "JAM",
          "CUB",
          "CUB",
          "CUB",
          "ZWE",
          "ZWE",
          "ZWE",
          "BWA",
          "BWA",
          "BWA",
          "NAM",
          "NAM",
          "NAM",
          "SEN",
          "SEN",
          "SEN",
          "MLI",
          "MLI",
          "MLI",
          "MRT",
          "MRT",
          "BEN",
          "BEN",
          "BEN",
          "NER",
          "NER",
          "NER",
          "NGA",
          "NGA",
          "NGA",
          "CMR",
          "CMR",
          "CMR",
          "TGO",
          "TGO",
          "TGO",
          "GHA",
          "GHA",
          "GHA",
          "CIV",
          "GIN",
          "GIN",
          "GIN",
          "LBR",
          "LBR",
          "LBR",
          "BFA",
          "BFA",
          "BFA",
          "GAB",
          "GAB",
          "ZMB",
          "ZMB",
          "ZMB",
          "MWI",
          "MWI",
          "MWI",
          "MOZ",
          "MOZ",
          "MOZ",
          "AGO",
          "AGO",
          "AGO",
          "BDI",
          "BDI",
          "ISR",
          "ISR",
          "ISR",
          "LBN",
          "LBN",
          "LBN",
          "MDG",
          "MDG",
          "MDG",
          "TUN",
          "TUN",
          "DZA",
          "DZA",
          "DZA",
          "JOR",
          "JOR",
          "JOR",
          "QAT",
          "QAT",
          "KWT",
          "KWT",
          "IRQ",
          "IRQ",
          "IRQ",
          "OMN",
          "OMN",
          "KHM",
          "KHM",
          "THA",
          "THA",
          "THA",
          "MMR",
          "MMR",
          "MMR",
          "VNM",
          "VNM",
          "MNG",
          "MNG",
          "IND",
          "IND",
          "IND",
          "BGD",
          "BGD",
          "BGD",
          "BTN",
          "BTN",
          "NPL",
          "NPL",
          "NPL",
          "PAK",
          "PAK",
          "PAK",
          "AFG",
          "AFG",
          "AFG",
          "TJK",
          "TJK",
          "KGZ",
          "KGZ",
          "KGZ",
          "TKM",
          "TKM",
          "SYR",
          "SYR",
          "SYR",
          "ARM",
          "ARM",
          "ARM",
          "SWE",
          "SWE",
          "BLR",
          "BLR",
          "BLR",
          "UKR",
          "UKR",
          "UKR",
          "POL",
          "POL",
          "AUT",
          "AUT",
          "HUN",
          "HUN",
          "HUN",
          "MDA",
          "MDA",
          "MDA",
          "ROU",
          "ROU",
          "LTU",
          "LTU",
          "LVA",
          "LVA",
          "EST",
          "EST",
          "DEU",
          "DEU",
          "DEU",
          "BGR",
          "BGR",
          "GRC",
          "GRC",
          "GRC",
          "ALB",
          "ALB",
          "HRV",
          "HRV",
          "CHE",
          "CHE",
          "LUX",
          "LUX",
          "BEL",
          "BEL",
          "NLD",
          "NLD",
          "PRT",
          "PRT",
          "ESP",
          "ESP",
          "ESP",
          "IRL",
          "IRL",
          "IRL",
          "AUS",
          "AUS",
          "LKA",
          "LKA",
          "LKA",
          "CHN",
          "CHN",
          "CHN",
          "ITA",
          "ITA",
          "ITA",
          "DNK",
          "DNK",
          "GBR",
          "GBR",
          "ISL",
          "ISL",
          "AZE",
          "AZE",
          "AZE",
          "GEO",
          "GEO",
          "GEO",
          "PHL",
          "PHL",
          "PHL",
          "MYS",
          "MYS",
          "BRN",
          "BRN",
          "SVN",
          "SVN",
          "FIN",
          "FIN",
          "SVK",
          "SVK",
          "CZE",
          "CZE",
          "CZE",
          "ERI",
          "ERI",
          "JPN",
          "JPN",
          "PRY",
          "PRY",
          "PRY",
          "SAU",
          "SAU",
          "SAU",
          "CYP",
          "CYP",
          "CYP",
          "MAR",
          "MAR",
          "MAR",
          "LBY",
          "LBY",
          "LBY",
          "ETH",
          "ETH",
          "ETH",
          "DJI",
          "UGA",
          "UGA",
          "UGA",
          "RWA",
          "RWA",
          "RWA",
          "MKD",
          "MKD",
          "MKD",
          "SRB",
          "SRB",
          "SRB",
          "MNE",
          "MNE",
          "TTO",
          "TTO",
          "TTO"
         ],
         "marker": {
          "line": {
           "color": "darkgray",
           "width": 0.5
          }
         },
         "reversescale": false,
         "text": [
          "FJI",
          "FJI",
          "TZA",
          "TZA",
          "TZA",
          "CAN",
          "CAN",
          "USA",
          "USA",
          "USA",
          "KAZ",
          "KAZ",
          "KAZ",
          "UZB",
          "UZB",
          "UZB",
          "IDN",
          "IDN",
          "IDN",
          "ARG",
          "ARG",
          "ARG",
          "CHL",
          "CHL",
          "CHL",
          "SOM",
          "SOM",
          "SOM",
          "KEN",
          "KEN",
          "KEN",
          "SDN",
          "SDN",
          "SDN",
          "TCD",
          "TCD",
          "TCD",
          "HTI",
          "HTI",
          "HTI",
          "RUS",
          "RUS",
          "RUS",
          "NOR",
          "NOR",
          "ZAF",
          "ZAF",
          "ZAF",
          "LSO",
          "LSO",
          "LSO",
          "MEX",
          "MEX",
          "MEX",
          "URY",
          "URY",
          "BRA",
          "BRA",
          "BRA",
          "BOL",
          "BOL",
          "BOL",
          "PER",
          "PER",
          "PER",
          "COL",
          "COL",
          "COL",
          "PAN",
          "PAN",
          "NIC",
          "NIC",
          "NIC",
          "HND",
          "HND",
          "HND",
          "SLV",
          "SLV",
          "SLV",
          "GTM",
          "GTM",
          "GTM",
          "BLZ",
          "BLZ",
          "BLZ",
          "GUY",
          "GUY",
          "GUY",
          "SUR",
          "SUR",
          "FRA",
          "FRA",
          "FRA",
          "ECU",
          "ECU",
          "ECU",
          "JAM",
          "JAM",
          "JAM",
          "CUB",
          "CUB",
          "CUB",
          "ZWE",
          "ZWE",
          "ZWE",
          "BWA",
          "BWA",
          "BWA",
          "NAM",
          "NAM",
          "NAM",
          "SEN",
          "SEN",
          "SEN",
          "MLI",
          "MLI",
          "MLI",
          "MRT",
          "MRT",
          "BEN",
          "BEN",
          "BEN",
          "NER",
          "NER",
          "NER",
          "NGA",
          "NGA",
          "NGA",
          "CMR",
          "CMR",
          "CMR",
          "TGO",
          "TGO",
          "TGO",
          "GHA",
          "GHA",
          "GHA",
          "CIV",
          "GIN",
          "GIN",
          "GIN",
          "LBR",
          "LBR",
          "LBR",
          "BFA",
          "BFA",
          "BFA",
          "GAB",
          "GAB",
          "ZMB",
          "ZMB",
          "ZMB",
          "MWI",
          "MWI",
          "MWI",
          "MOZ",
          "MOZ",
          "MOZ",
          "AGO",
          "AGO",
          "AGO",
          "BDI",
          "BDI",
          "ISR",
          "ISR",
          "ISR",
          "LBN",
          "LBN",
          "LBN",
          "MDG",
          "MDG",
          "MDG",
          "TUN",
          "TUN",
          "DZA",
          "DZA",
          "DZA",
          "JOR",
          "JOR",
          "JOR",
          "QAT",
          "QAT",
          "KWT",
          "KWT",
          "IRQ",
          "IRQ",
          "IRQ",
          "OMN",
          "OMN",
          "KHM",
          "KHM",
          "THA",
          "THA",
          "THA",
          "MMR",
          "MMR",
          "MMR",
          "VNM",
          "VNM",
          "MNG",
          "MNG",
          "IND",
          "IND",
          "IND",
          "BGD",
          "BGD",
          "BGD",
          "BTN",
          "BTN",
          "NPL",
          "NPL",
          "NPL",
          "PAK",
          "PAK",
          "PAK",
          "AFG",
          "AFG",
          "AFG",
          "TJK",
          "TJK",
          "KGZ",
          "KGZ",
          "KGZ",
          "TKM",
          "TKM",
          "SYR",
          "SYR",
          "SYR",
          "ARM",
          "ARM",
          "ARM",
          "SWE",
          "SWE",
          "BLR",
          "BLR",
          "BLR",
          "UKR",
          "UKR",
          "UKR",
          "POL",
          "POL",
          "AUT",
          "AUT",
          "HUN",
          "HUN",
          "HUN",
          "MDA",
          "MDA",
          "MDA",
          "ROU",
          "ROU",
          "LTU",
          "LTU",
          "LVA",
          "LVA",
          "EST",
          "EST",
          "DEU",
          "DEU",
          "DEU",
          "BGR",
          "BGR",
          "GRC",
          "GRC",
          "GRC",
          "ALB",
          "ALB",
          "HRV",
          "HRV",
          "CHE",
          "CHE",
          "LUX",
          "LUX",
          "BEL",
          "BEL",
          "NLD",
          "NLD",
          "PRT",
          "PRT",
          "ESP",
          "ESP",
          "ESP",
          "IRL",
          "IRL",
          "IRL",
          "AUS",
          "AUS",
          "LKA",
          "LKA",
          "LKA",
          "CHN",
          "CHN",
          "CHN",
          "ITA",
          "ITA",
          "ITA",
          "DNK",
          "DNK",
          "GBR",
          "GBR",
          "ISL",
          "ISL",
          "AZE",
          "AZE",
          "AZE",
          "GEO",
          "GEO",
          "GEO",
          "PHL",
          "PHL",
          "PHL",
          "MYS",
          "MYS",
          "BRN",
          "BRN",
          "SVN",
          "SVN",
          "FIN",
          "FIN",
          "SVK",
          "SVK",
          "CZE",
          "CZE",
          "CZE",
          "ERI",
          "ERI",
          "JPN",
          "JPN",
          "PRY",
          "PRY",
          "PRY",
          "SAU",
          "SAU",
          "SAU",
          "CYP",
          "CYP",
          "CYP",
          "MAR",
          "MAR",
          "MAR",
          "LBY",
          "LBY",
          "LBY",
          "ETH",
          "ETH",
          "ETH",
          "DJI",
          "UGA",
          "UGA",
          "UGA",
          "RWA",
          "RWA",
          "RWA",
          "MKD",
          "MKD",
          "MKD",
          "SRB",
          "SRB",
          "SRB",
          "MNE",
          "MNE",
          "TTO",
          "TTO",
          "TTO"
         ],
         "type": "choropleth",
         "z": [
          0.38461538461538464,
          0.38461538461538464,
          0.6842105263157895,
          0.6842105263157895,
          0.6842105263157895,
          0.375,
          0.375,
          0.375,
          0.375,
          0.375,
          0.38461538461538464,
          0.38461538461538464,
          0.38461538461538464,
          0.6842105263157895,
          0.6842105263157895,
          0.6842105263157895,
          0.6842105263157895,
          0.6842105263157895,
          0.6842105263157895,
          0.38461538461538464,
          0.38461538461538464,
          0.38461538461538464,
          0.375,
          0.375,
          0.375,
          0.7857142857142857,
          0.7857142857142857,
          0.7857142857142857,
          0.6842105263157895,
          0.6842105263157895,
          0.6842105263157895,
          0.7857142857142857,
          0.7857142857142857,
          0.7857142857142857,
          0.7857142857142857,
          0.7857142857142857,
          0.7857142857142857,
          0.6842105263157895,
          0.6842105263157895,
          0.6842105263157895,
          0.38461538461538464,
          0.38461538461538464,
          0.38461538461538464,
          0.375,
          0.375,
          0.38461538461538464,
          0.38461538461538464,
          0.38461538461538464,
          0.6842105263157895,
          0.6842105263157895,
          0.6842105263157895,
          0.38461538461538464,
          0.38461538461538464,
          0.38461538461538464,
          0.375,
          0.375,
          0.38461538461538464,
          0.38461538461538464,
          0.38461538461538464,
          0.6842105263157895,
          0.6842105263157895,
          0.6842105263157895,
          0.38461538461538464,
          0.38461538461538464,
          0.38461538461538464,
          0.38461538461538464,
          0.38461538461538464,
          0.38461538461538464,
          0.375,
          0.375,
          0.6842105263157895,
          0.6842105263157895,
          0.6842105263157895,
          0.6842105263157895,
          0.6842105263157895,
          0.6842105263157895,
          0.6842105263157895,
          0.6842105263157895,
          0.6842105263157895,
          0.38461538461538464,
          0.38461538461538464,
          0.38461538461538464,
          0.38461538461538464,
          0.38461538461538464,
          0.38461538461538464,
          0.38461538461538464,
          0.38461538461538464,
          0.38461538461538464,
          0.38461538461538464,
          0.38461538461538464,
          0.375,
          0.375,
          0.375,
          0.38461538461538464,
          0.38461538461538464,
          0.38461538461538464,
          0.38461538461538464,
          0.38461538461538464,
          0.38461538461538464,
          0.38461538461538464,
          0.38461538461538464,
          0.38461538461538464,
          0.6842105263157895,
          0.6842105263157895,
          0.6842105263157895,
          0.38461538461538464,
          0.38461538461538464,
          0.38461538461538464,
          0.38461538461538464,
          0.38461538461538464,
          0.38461538461538464,
          0.6842105263157895,
          0.6842105263157895,
          0.6842105263157895,
          0.7857142857142857,
          0.7857142857142857,
          0.7857142857142857,
          0.6842105263157895,
          0.6842105263157895,
          0.6842105263157895,
          0.6842105263157895,
          0.6842105263157895,
          0.7857142857142857,
          0.7857142857142857,
          0.7857142857142857,
          0.6842105263157895,
          0.6842105263157895,
          0.6842105263157895,
          0.6842105263157895,
          0.6842105263157895,
          0.6842105263157895,
          0.7857142857142857,
          0.7857142857142857,
          0.7857142857142857,
          0.6842105263157895,
          0.6842105263157895,
          0.6842105263157895,
          null,
          0.7857142857142857,
          0.7857142857142857,
          0.7857142857142857,
          0.7857142857142857,
          0.7857142857142857,
          0.7857142857142857,
          0.7857142857142857,
          0.7857142857142857,
          0.7857142857142857,
          0.38461538461538464,
          0.38461538461538464,
          0.7857142857142857,
          0.7857142857142857,
          0.7857142857142857,
          0.7857142857142857,
          0.7857142857142857,
          0.7857142857142857,
          0.7857142857142857,
          0.7857142857142857,
          0.7857142857142857,
          0.6842105263157895,
          0.6842105263157895,
          0.6842105263157895,
          0.7857142857142857,
          0.7857142857142857,
          0.375,
          0.375,
          0.375,
          0.6842105263157895,
          0.6842105263157895,
          0.6842105263157895,
          0.7857142857142857,
          0.7857142857142857,
          0.7857142857142857,
          0.6842105263157895,
          0.6842105263157895,
          0.6842105263157895,
          0.6842105263157895,
          0.6842105263157895,
          0.38461538461538464,
          0.38461538461538464,
          0.38461538461538464,
          0.375,
          0.375,
          0.375,
          0.375,
          0.38461538461538464,
          0.38461538461538464,
          0.38461538461538464,
          0.375,
          0.375,
          0.6842105263157895,
          0.6842105263157895,
          0.38461538461538464,
          0.38461538461538464,
          0.38461538461538464,
          0.6842105263157895,
          0.6842105263157895,
          0.6842105263157895,
          0.6842105263157895,
          0.6842105263157895,
          0.6842105263157895,
          0.6842105263157895,
          0.6842105263157895,
          0.6842105263157895,
          0.6842105263157895,
          0.6842105263157895,
          0.6842105263157895,
          0.6842105263157895,
          0.6842105263157895,
          0.6842105263157895,
          0.6842105263157895,
          0.6842105263157895,
          0.6842105263157895,
          0.6842105263157895,
          0.6842105263157895,
          0.6842105263157895,
          0.7857142857142857,
          0.7857142857142857,
          0.7857142857142857,
          0.6842105263157895,
          0.6842105263157895,
          0.6842105263157895,
          0.6842105263157895,
          0.6842105263157895,
          0.38461538461538464,
          0.38461538461538464,
          0.7857142857142857,
          0.7857142857142857,
          0.7857142857142857,
          0.38461538461538464,
          0.38461538461538464,
          0.38461538461538464,
          0.375,
          0.375,
          0.38461538461538464,
          0.38461538461538464,
          0.38461538461538464,
          0.6842105263157895,
          0.6842105263157895,
          0.6842105263157895,
          0.375,
          0.375,
          0.375,
          0.375,
          0.375,
          0.375,
          0.375,
          0.38461538461538464,
          0.38461538461538464,
          0.38461538461538464,
          0.375,
          0.375,
          0.375,
          0.375,
          0.375,
          0.375,
          0.375,
          0.375,
          0.375,
          0.375,
          0.375,
          0.38461538461538464,
          0.38461538461538464,
          0.375,
          0.375,
          0.375,
          0.38461538461538464,
          0.38461538461538464,
          0.375,
          0.375,
          0.375,
          0.375,
          0.375,
          0.375,
          0.375,
          0.375,
          0.375,
          0.375,
          0.375,
          0.375,
          0.375,
          0.375,
          0.375,
          0.375,
          0.375,
          0.375,
          0.375,
          0.375,
          0.6842105263157895,
          0.6842105263157895,
          0.6842105263157895,
          0.38461538461538464,
          0.38461538461538464,
          0.38461538461538464,
          0.375,
          0.375,
          0.375,
          0.375,
          0.375,
          0.375,
          0.375,
          0.375,
          0.375,
          0.38461538461538464,
          0.38461538461538464,
          0.38461538461538464,
          0.38461538461538464,
          0.38461538461538464,
          0.38461538461538464,
          0.6842105263157895,
          0.6842105263157895,
          0.6842105263157895,
          0.38461538461538464,
          0.38461538461538464,
          0.375,
          0.375,
          0.375,
          0.375,
          0.375,
          0.375,
          0.375,
          0.375,
          0.375,
          0.375,
          0.375,
          0.7857142857142857,
          0.7857142857142857,
          0.375,
          0.375,
          0.38461538461538464,
          0.38461538461538464,
          0.38461538461538464,
          0.375,
          0.375,
          0.375,
          0.375,
          0.375,
          0.375,
          0.6842105263157895,
          0.6842105263157895,
          0.6842105263157895,
          0.38461538461538464,
          0.38461538461538464,
          0.38461538461538464,
          0.7857142857142857,
          0.7857142857142857,
          0.7857142857142857,
          0.6842105263157895,
          0.7857142857142857,
          0.7857142857142857,
          0.7857142857142857,
          0.7857142857142857,
          0.7857142857142857,
          0.7857142857142857,
          0.38461538461538464,
          0.38461538461538464,
          0.38461538461538464,
          0.38461538461538464,
          0.38461538461538464,
          0.38461538461538464,
          0.38461538461538464,
          0.38461538461538464,
          0.375,
          0.375,
          0.375
         ]
        }
       ],
       "layout": {
        "template": {
         "data": {
          "bar": [
           {
            "error_x": {
             "color": "#2a3f5f"
            },
            "error_y": {
             "color": "#2a3f5f"
            },
            "marker": {
             "line": {
              "color": "#E5ECF6",
              "width": 0.5
             },
             "pattern": {
              "fillmode": "overlay",
              "size": 10,
              "solidity": 0.2
             }
            },
            "type": "bar"
           }
          ],
          "barpolar": [
           {
            "marker": {
             "line": {
              "color": "#E5ECF6",
              "width": 0.5
             },
             "pattern": {
              "fillmode": "overlay",
              "size": 10,
              "solidity": 0.2
             }
            },
            "type": "barpolar"
           }
          ],
          "carpet": [
           {
            "aaxis": {
             "endlinecolor": "#2a3f5f",
             "gridcolor": "white",
             "linecolor": "white",
             "minorgridcolor": "white",
             "startlinecolor": "#2a3f5f"
            },
            "baxis": {
             "endlinecolor": "#2a3f5f",
             "gridcolor": "white",
             "linecolor": "white",
             "minorgridcolor": "white",
             "startlinecolor": "#2a3f5f"
            },
            "type": "carpet"
           }
          ],
          "choropleth": [
           {
            "colorbar": {
             "outlinewidth": 0,
             "ticks": ""
            },
            "type": "choropleth"
           }
          ],
          "contour": [
           {
            "colorbar": {
             "outlinewidth": 0,
             "ticks": ""
            },
            "colorscale": [
             [
              0,
              "#0d0887"
             ],
             [
              0.1111111111111111,
              "#46039f"
             ],
             [
              0.2222222222222222,
              "#7201a8"
             ],
             [
              0.3333333333333333,
              "#9c179e"
             ],
             [
              0.4444444444444444,
              "#bd3786"
             ],
             [
              0.5555555555555556,
              "#d8576b"
             ],
             [
              0.6666666666666666,
              "#ed7953"
             ],
             [
              0.7777777777777778,
              "#fb9f3a"
             ],
             [
              0.8888888888888888,
              "#fdca26"
             ],
             [
              1,
              "#f0f921"
             ]
            ],
            "type": "contour"
           }
          ],
          "contourcarpet": [
           {
            "colorbar": {
             "outlinewidth": 0,
             "ticks": ""
            },
            "type": "contourcarpet"
           }
          ],
          "heatmap": [
           {
            "colorbar": {
             "outlinewidth": 0,
             "ticks": ""
            },
            "colorscale": [
             [
              0,
              "#0d0887"
             ],
             [
              0.1111111111111111,
              "#46039f"
             ],
             [
              0.2222222222222222,
              "#7201a8"
             ],
             [
              0.3333333333333333,
              "#9c179e"
             ],
             [
              0.4444444444444444,
              "#bd3786"
             ],
             [
              0.5555555555555556,
              "#d8576b"
             ],
             [
              0.6666666666666666,
              "#ed7953"
             ],
             [
              0.7777777777777778,
              "#fb9f3a"
             ],
             [
              0.8888888888888888,
              "#fdca26"
             ],
             [
              1,
              "#f0f921"
             ]
            ],
            "type": "heatmap"
           }
          ],
          "heatmapgl": [
           {
            "colorbar": {
             "outlinewidth": 0,
             "ticks": ""
            },
            "colorscale": [
             [
              0,
              "#0d0887"
             ],
             [
              0.1111111111111111,
              "#46039f"
             ],
             [
              0.2222222222222222,
              "#7201a8"
             ],
             [
              0.3333333333333333,
              "#9c179e"
             ],
             [
              0.4444444444444444,
              "#bd3786"
             ],
             [
              0.5555555555555556,
              "#d8576b"
             ],
             [
              0.6666666666666666,
              "#ed7953"
             ],
             [
              0.7777777777777778,
              "#fb9f3a"
             ],
             [
              0.8888888888888888,
              "#fdca26"
             ],
             [
              1,
              "#f0f921"
             ]
            ],
            "type": "heatmapgl"
           }
          ],
          "histogram": [
           {
            "marker": {
             "pattern": {
              "fillmode": "overlay",
              "size": 10,
              "solidity": 0.2
             }
            },
            "type": "histogram"
           }
          ],
          "histogram2d": [
           {
            "colorbar": {
             "outlinewidth": 0,
             "ticks": ""
            },
            "colorscale": [
             [
              0,
              "#0d0887"
             ],
             [
              0.1111111111111111,
              "#46039f"
             ],
             [
              0.2222222222222222,
              "#7201a8"
             ],
             [
              0.3333333333333333,
              "#9c179e"
             ],
             [
              0.4444444444444444,
              "#bd3786"
             ],
             [
              0.5555555555555556,
              "#d8576b"
             ],
             [
              0.6666666666666666,
              "#ed7953"
             ],
             [
              0.7777777777777778,
              "#fb9f3a"
             ],
             [
              0.8888888888888888,
              "#fdca26"
             ],
             [
              1,
              "#f0f921"
             ]
            ],
            "type": "histogram2d"
           }
          ],
          "histogram2dcontour": [
           {
            "colorbar": {
             "outlinewidth": 0,
             "ticks": ""
            },
            "colorscale": [
             [
              0,
              "#0d0887"
             ],
             [
              0.1111111111111111,
              "#46039f"
             ],
             [
              0.2222222222222222,
              "#7201a8"
             ],
             [
              0.3333333333333333,
              "#9c179e"
             ],
             [
              0.4444444444444444,
              "#bd3786"
             ],
             [
              0.5555555555555556,
              "#d8576b"
             ],
             [
              0.6666666666666666,
              "#ed7953"
             ],
             [
              0.7777777777777778,
              "#fb9f3a"
             ],
             [
              0.8888888888888888,
              "#fdca26"
             ],
             [
              1,
              "#f0f921"
             ]
            ],
            "type": "histogram2dcontour"
           }
          ],
          "mesh3d": [
           {
            "colorbar": {
             "outlinewidth": 0,
             "ticks": ""
            },
            "type": "mesh3d"
           }
          ],
          "parcoords": [
           {
            "line": {
             "colorbar": {
              "outlinewidth": 0,
              "ticks": ""
             }
            },
            "type": "parcoords"
           }
          ],
          "pie": [
           {
            "automargin": true,
            "type": "pie"
           }
          ],
          "scatter": [
           {
            "fillpattern": {
             "fillmode": "overlay",
             "size": 10,
             "solidity": 0.2
            },
            "type": "scatter"
           }
          ],
          "scatter3d": [
           {
            "line": {
             "colorbar": {
              "outlinewidth": 0,
              "ticks": ""
             }
            },
            "marker": {
             "colorbar": {
              "outlinewidth": 0,
              "ticks": ""
             }
            },
            "type": "scatter3d"
           }
          ],
          "scattercarpet": [
           {
            "marker": {
             "colorbar": {
              "outlinewidth": 0,
              "ticks": ""
             }
            },
            "type": "scattercarpet"
           }
          ],
          "scattergeo": [
           {
            "marker": {
             "colorbar": {
              "outlinewidth": 0,
              "ticks": ""
             }
            },
            "type": "scattergeo"
           }
          ],
          "scattergl": [
           {
            "marker": {
             "colorbar": {
              "outlinewidth": 0,
              "ticks": ""
             }
            },
            "type": "scattergl"
           }
          ],
          "scattermapbox": [
           {
            "marker": {
             "colorbar": {
              "outlinewidth": 0,
              "ticks": ""
             }
            },
            "type": "scattermapbox"
           }
          ],
          "scatterpolar": [
           {
            "marker": {
             "colorbar": {
              "outlinewidth": 0,
              "ticks": ""
             }
            },
            "type": "scatterpolar"
           }
          ],
          "scatterpolargl": [
           {
            "marker": {
             "colorbar": {
              "outlinewidth": 0,
              "ticks": ""
             }
            },
            "type": "scatterpolargl"
           }
          ],
          "scatterternary": [
           {
            "marker": {
             "colorbar": {
              "outlinewidth": 0,
              "ticks": ""
             }
            },
            "type": "scatterternary"
           }
          ],
          "surface": [
           {
            "colorbar": {
             "outlinewidth": 0,
             "ticks": ""
            },
            "colorscale": [
             [
              0,
              "#0d0887"
             ],
             [
              0.1111111111111111,
              "#46039f"
             ],
             [
              0.2222222222222222,
              "#7201a8"
             ],
             [
              0.3333333333333333,
              "#9c179e"
             ],
             [
              0.4444444444444444,
              "#bd3786"
             ],
             [
              0.5555555555555556,
              "#d8576b"
             ],
             [
              0.6666666666666666,
              "#ed7953"
             ],
             [
              0.7777777777777778,
              "#fb9f3a"
             ],
             [
              0.8888888888888888,
              "#fdca26"
             ],
             [
              1,
              "#f0f921"
             ]
            ],
            "type": "surface"
           }
          ],
          "table": [
           {
            "cells": {
             "fill": {
              "color": "#EBF0F8"
             },
             "line": {
              "color": "white"
             }
            },
            "header": {
             "fill": {
              "color": "#C8D4E3"
             },
             "line": {
              "color": "white"
             }
            },
            "type": "table"
           }
          ]
         },
         "layout": {
          "annotationdefaults": {
           "arrowcolor": "#2a3f5f",
           "arrowhead": 0,
           "arrowwidth": 1
          },
          "autotypenumbers": "strict",
          "coloraxis": {
           "colorbar": {
            "outlinewidth": 0,
            "ticks": ""
           }
          },
          "colorscale": {
           "diverging": [
            [
             0,
             "#8e0152"
            ],
            [
             0.1,
             "#c51b7d"
            ],
            [
             0.2,
             "#de77ae"
            ],
            [
             0.3,
             "#f1b6da"
            ],
            [
             0.4,
             "#fde0ef"
            ],
            [
             0.5,
             "#f7f7f7"
            ],
            [
             0.6,
             "#e6f5d0"
            ],
            [
             0.7,
             "#b8e186"
            ],
            [
             0.8,
             "#7fbc41"
            ],
            [
             0.9,
             "#4d9221"
            ],
            [
             1,
             "#276419"
            ]
           ],
           "sequential": [
            [
             0,
             "#0d0887"
            ],
            [
             0.1111111111111111,
             "#46039f"
            ],
            [
             0.2222222222222222,
             "#7201a8"
            ],
            [
             0.3333333333333333,
             "#9c179e"
            ],
            [
             0.4444444444444444,
             "#bd3786"
            ],
            [
             0.5555555555555556,
             "#d8576b"
            ],
            [
             0.6666666666666666,
             "#ed7953"
            ],
            [
             0.7777777777777778,
             "#fb9f3a"
            ],
            [
             0.8888888888888888,
             "#fdca26"
            ],
            [
             1,
             "#f0f921"
            ]
           ],
           "sequentialminus": [
            [
             0,
             "#0d0887"
            ],
            [
             0.1111111111111111,
             "#46039f"
            ],
            [
             0.2222222222222222,
             "#7201a8"
            ],
            [
             0.3333333333333333,
             "#9c179e"
            ],
            [
             0.4444444444444444,
             "#bd3786"
            ],
            [
             0.5555555555555556,
             "#d8576b"
            ],
            [
             0.6666666666666666,
             "#ed7953"
            ],
            [
             0.7777777777777778,
             "#fb9f3a"
            ],
            [
             0.8888888888888888,
             "#fdca26"
            ],
            [
             1,
             "#f0f921"
            ]
           ]
          },
          "colorway": [
           "#636efa",
           "#EF553B",
           "#00cc96",
           "#ab63fa",
           "#FFA15A",
           "#19d3f3",
           "#FF6692",
           "#B6E880",
           "#FF97FF",
           "#FECB52"
          ],
          "font": {
           "color": "#2a3f5f"
          },
          "geo": {
           "bgcolor": "white",
           "lakecolor": "white",
           "landcolor": "#E5ECF6",
           "showlakes": true,
           "showland": true,
           "subunitcolor": "white"
          },
          "hoverlabel": {
           "align": "left"
          },
          "hovermode": "closest",
          "mapbox": {
           "style": "light"
          },
          "paper_bgcolor": "white",
          "plot_bgcolor": "#E5ECF6",
          "polar": {
           "angularaxis": {
            "gridcolor": "white",
            "linecolor": "white",
            "ticks": ""
           },
           "bgcolor": "#E5ECF6",
           "radialaxis": {
            "gridcolor": "white",
            "linecolor": "white",
            "ticks": ""
           }
          },
          "scene": {
           "xaxis": {
            "backgroundcolor": "#E5ECF6",
            "gridcolor": "white",
            "gridwidth": 2,
            "linecolor": "white",
            "showbackground": true,
            "ticks": "",
            "zerolinecolor": "white"
           },
           "yaxis": {
            "backgroundcolor": "#E5ECF6",
            "gridcolor": "white",
            "gridwidth": 2,
            "linecolor": "white",
            "showbackground": true,
            "ticks": "",
            "zerolinecolor": "white"
           },
           "zaxis": {
            "backgroundcolor": "#E5ECF6",
            "gridcolor": "white",
            "gridwidth": 2,
            "linecolor": "white",
            "showbackground": true,
            "ticks": "",
            "zerolinecolor": "white"
           }
          },
          "shapedefaults": {
           "line": {
            "color": "#2a3f5f"
           }
          },
          "ternary": {
           "aaxis": {
            "gridcolor": "white",
            "linecolor": "white",
            "ticks": ""
           },
           "baxis": {
            "gridcolor": "white",
            "linecolor": "white",
            "ticks": ""
           },
           "bgcolor": "#E5ECF6",
           "caxis": {
            "gridcolor": "white",
            "linecolor": "white",
            "ticks": ""
           }
          },
          "title": {
           "x": 0.05
          },
          "xaxis": {
           "automargin": true,
           "gridcolor": "white",
           "linecolor": "white",
           "ticks": "",
           "title": {
            "standoff": 15
           },
           "zerolinecolor": "white",
           "zerolinewidth": 2
          },
          "yaxis": {
           "automargin": true,
           "gridcolor": "white",
           "linecolor": "white",
           "ticks": "",
           "title": {
            "standoff": 15
           },
           "zerolinecolor": "white",
           "zerolinewidth": 2
          }
         }
        }
       }
      },
      "text/html": [
       "<div>                            <div id=\"b082f9c4-a43f-4bc4-ada1-0437a1ae5875\" class=\"plotly-graph-div\" style=\"height:525px; width:100%;\"></div>            <script type=\"text/javascript\">                require([\"plotly\"], function(Plotly) {                    window.PLOTLYENV=window.PLOTLYENV || {};                                    if (document.getElementById(\"b082f9c4-a43f-4bc4-ada1-0437a1ae5875\")) {                    Plotly.newPlot(                        \"b082f9c4-a43f-4bc4-ada1-0437a1ae5875\",                        [{\"autocolorscale\":false,\"colorbar\":{\"tickprefix\":\"\",\"title\":{\"text\":\"transformer specificity_score\"}},\"colorscale\":[[0.0,\"rgb(247,252,245)\"],[0.125,\"rgb(229,245,224)\"],[0.25,\"rgb(199,233,192)\"],[0.375,\"rgb(161,217,155)\"],[0.5,\"rgb(116,196,118)\"],[0.625,\"rgb(65,171,93)\"],[0.75,\"rgb(35,139,69)\"],[0.875,\"rgb(0,109,44)\"],[1.0,\"rgb(0,68,27)\"]],\"locations\":[\"FJI\",\"FJI\",\"TZA\",\"TZA\",\"TZA\",\"CAN\",\"CAN\",\"USA\",\"USA\",\"USA\",\"KAZ\",\"KAZ\",\"KAZ\",\"UZB\",\"UZB\",\"UZB\",\"IDN\",\"IDN\",\"IDN\",\"ARG\",\"ARG\",\"ARG\",\"CHL\",\"CHL\",\"CHL\",\"SOM\",\"SOM\",\"SOM\",\"KEN\",\"KEN\",\"KEN\",\"SDN\",\"SDN\",\"SDN\",\"TCD\",\"TCD\",\"TCD\",\"HTI\",\"HTI\",\"HTI\",\"RUS\",\"RUS\",\"RUS\",\"NOR\",\"NOR\",\"ZAF\",\"ZAF\",\"ZAF\",\"LSO\",\"LSO\",\"LSO\",\"MEX\",\"MEX\",\"MEX\",\"URY\",\"URY\",\"BRA\",\"BRA\",\"BRA\",\"BOL\",\"BOL\",\"BOL\",\"PER\",\"PER\",\"PER\",\"COL\",\"COL\",\"COL\",\"PAN\",\"PAN\",\"NIC\",\"NIC\",\"NIC\",\"HND\",\"HND\",\"HND\",\"SLV\",\"SLV\",\"SLV\",\"GTM\",\"GTM\",\"GTM\",\"BLZ\",\"BLZ\",\"BLZ\",\"GUY\",\"GUY\",\"GUY\",\"SUR\",\"SUR\",\"FRA\",\"FRA\",\"FRA\",\"ECU\",\"ECU\",\"ECU\",\"JAM\",\"JAM\",\"JAM\",\"CUB\",\"CUB\",\"CUB\",\"ZWE\",\"ZWE\",\"ZWE\",\"BWA\",\"BWA\",\"BWA\",\"NAM\",\"NAM\",\"NAM\",\"SEN\",\"SEN\",\"SEN\",\"MLI\",\"MLI\",\"MLI\",\"MRT\",\"MRT\",\"BEN\",\"BEN\",\"BEN\",\"NER\",\"NER\",\"NER\",\"NGA\",\"NGA\",\"NGA\",\"CMR\",\"CMR\",\"CMR\",\"TGO\",\"TGO\",\"TGO\",\"GHA\",\"GHA\",\"GHA\",\"CIV\",\"GIN\",\"GIN\",\"GIN\",\"LBR\",\"LBR\",\"LBR\",\"BFA\",\"BFA\",\"BFA\",\"GAB\",\"GAB\",\"ZMB\",\"ZMB\",\"ZMB\",\"MWI\",\"MWI\",\"MWI\",\"MOZ\",\"MOZ\",\"MOZ\",\"AGO\",\"AGO\",\"AGO\",\"BDI\",\"BDI\",\"ISR\",\"ISR\",\"ISR\",\"LBN\",\"LBN\",\"LBN\",\"MDG\",\"MDG\",\"MDG\",\"TUN\",\"TUN\",\"DZA\",\"DZA\",\"DZA\",\"JOR\",\"JOR\",\"JOR\",\"QAT\",\"QAT\",\"KWT\",\"KWT\",\"IRQ\",\"IRQ\",\"IRQ\",\"OMN\",\"OMN\",\"KHM\",\"KHM\",\"THA\",\"THA\",\"THA\",\"MMR\",\"MMR\",\"MMR\",\"VNM\",\"VNM\",\"MNG\",\"MNG\",\"IND\",\"IND\",\"IND\",\"BGD\",\"BGD\",\"BGD\",\"BTN\",\"BTN\",\"NPL\",\"NPL\",\"NPL\",\"PAK\",\"PAK\",\"PAK\",\"AFG\",\"AFG\",\"AFG\",\"TJK\",\"TJK\",\"KGZ\",\"KGZ\",\"KGZ\",\"TKM\",\"TKM\",\"SYR\",\"SYR\",\"SYR\",\"ARM\",\"ARM\",\"ARM\",\"SWE\",\"SWE\",\"BLR\",\"BLR\",\"BLR\",\"UKR\",\"UKR\",\"UKR\",\"POL\",\"POL\",\"AUT\",\"AUT\",\"HUN\",\"HUN\",\"HUN\",\"MDA\",\"MDA\",\"MDA\",\"ROU\",\"ROU\",\"LTU\",\"LTU\",\"LVA\",\"LVA\",\"EST\",\"EST\",\"DEU\",\"DEU\",\"DEU\",\"BGR\",\"BGR\",\"GRC\",\"GRC\",\"GRC\",\"ALB\",\"ALB\",\"HRV\",\"HRV\",\"CHE\",\"CHE\",\"LUX\",\"LUX\",\"BEL\",\"BEL\",\"NLD\",\"NLD\",\"PRT\",\"PRT\",\"ESP\",\"ESP\",\"ESP\",\"IRL\",\"IRL\",\"IRL\",\"AUS\",\"AUS\",\"LKA\",\"LKA\",\"LKA\",\"CHN\",\"CHN\",\"CHN\",\"ITA\",\"ITA\",\"ITA\",\"DNK\",\"DNK\",\"GBR\",\"GBR\",\"ISL\",\"ISL\",\"AZE\",\"AZE\",\"AZE\",\"GEO\",\"GEO\",\"GEO\",\"PHL\",\"PHL\",\"PHL\",\"MYS\",\"MYS\",\"BRN\",\"BRN\",\"SVN\",\"SVN\",\"FIN\",\"FIN\",\"SVK\",\"SVK\",\"CZE\",\"CZE\",\"CZE\",\"ERI\",\"ERI\",\"JPN\",\"JPN\",\"PRY\",\"PRY\",\"PRY\",\"SAU\",\"SAU\",\"SAU\",\"CYP\",\"CYP\",\"CYP\",\"MAR\",\"MAR\",\"MAR\",\"LBY\",\"LBY\",\"LBY\",\"ETH\",\"ETH\",\"ETH\",\"DJI\",\"UGA\",\"UGA\",\"UGA\",\"RWA\",\"RWA\",\"RWA\",\"MKD\",\"MKD\",\"MKD\",\"SRB\",\"SRB\",\"SRB\",\"MNE\",\"MNE\",\"TTO\",\"TTO\",\"TTO\"],\"marker\":{\"line\":{\"color\":\"darkgray\",\"width\":0.5}},\"reversescale\":false,\"text\":[\"FJI\",\"FJI\",\"TZA\",\"TZA\",\"TZA\",\"CAN\",\"CAN\",\"USA\",\"USA\",\"USA\",\"KAZ\",\"KAZ\",\"KAZ\",\"UZB\",\"UZB\",\"UZB\",\"IDN\",\"IDN\",\"IDN\",\"ARG\",\"ARG\",\"ARG\",\"CHL\",\"CHL\",\"CHL\",\"SOM\",\"SOM\",\"SOM\",\"KEN\",\"KEN\",\"KEN\",\"SDN\",\"SDN\",\"SDN\",\"TCD\",\"TCD\",\"TCD\",\"HTI\",\"HTI\",\"HTI\",\"RUS\",\"RUS\",\"RUS\",\"NOR\",\"NOR\",\"ZAF\",\"ZAF\",\"ZAF\",\"LSO\",\"LSO\",\"LSO\",\"MEX\",\"MEX\",\"MEX\",\"URY\",\"URY\",\"BRA\",\"BRA\",\"BRA\",\"BOL\",\"BOL\",\"BOL\",\"PER\",\"PER\",\"PER\",\"COL\",\"COL\",\"COL\",\"PAN\",\"PAN\",\"NIC\",\"NIC\",\"NIC\",\"HND\",\"HND\",\"HND\",\"SLV\",\"SLV\",\"SLV\",\"GTM\",\"GTM\",\"GTM\",\"BLZ\",\"BLZ\",\"BLZ\",\"GUY\",\"GUY\",\"GUY\",\"SUR\",\"SUR\",\"FRA\",\"FRA\",\"FRA\",\"ECU\",\"ECU\",\"ECU\",\"JAM\",\"JAM\",\"JAM\",\"CUB\",\"CUB\",\"CUB\",\"ZWE\",\"ZWE\",\"ZWE\",\"BWA\",\"BWA\",\"BWA\",\"NAM\",\"NAM\",\"NAM\",\"SEN\",\"SEN\",\"SEN\",\"MLI\",\"MLI\",\"MLI\",\"MRT\",\"MRT\",\"BEN\",\"BEN\",\"BEN\",\"NER\",\"NER\",\"NER\",\"NGA\",\"NGA\",\"NGA\",\"CMR\",\"CMR\",\"CMR\",\"TGO\",\"TGO\",\"TGO\",\"GHA\",\"GHA\",\"GHA\",\"CIV\",\"GIN\",\"GIN\",\"GIN\",\"LBR\",\"LBR\",\"LBR\",\"BFA\",\"BFA\",\"BFA\",\"GAB\",\"GAB\",\"ZMB\",\"ZMB\",\"ZMB\",\"MWI\",\"MWI\",\"MWI\",\"MOZ\",\"MOZ\",\"MOZ\",\"AGO\",\"AGO\",\"AGO\",\"BDI\",\"BDI\",\"ISR\",\"ISR\",\"ISR\",\"LBN\",\"LBN\",\"LBN\",\"MDG\",\"MDG\",\"MDG\",\"TUN\",\"TUN\",\"DZA\",\"DZA\",\"DZA\",\"JOR\",\"JOR\",\"JOR\",\"QAT\",\"QAT\",\"KWT\",\"KWT\",\"IRQ\",\"IRQ\",\"IRQ\",\"OMN\",\"OMN\",\"KHM\",\"KHM\",\"THA\",\"THA\",\"THA\",\"MMR\",\"MMR\",\"MMR\",\"VNM\",\"VNM\",\"MNG\",\"MNG\",\"IND\",\"IND\",\"IND\",\"BGD\",\"BGD\",\"BGD\",\"BTN\",\"BTN\",\"NPL\",\"NPL\",\"NPL\",\"PAK\",\"PAK\",\"PAK\",\"AFG\",\"AFG\",\"AFG\",\"TJK\",\"TJK\",\"KGZ\",\"KGZ\",\"KGZ\",\"TKM\",\"TKM\",\"SYR\",\"SYR\",\"SYR\",\"ARM\",\"ARM\",\"ARM\",\"SWE\",\"SWE\",\"BLR\",\"BLR\",\"BLR\",\"UKR\",\"UKR\",\"UKR\",\"POL\",\"POL\",\"AUT\",\"AUT\",\"HUN\",\"HUN\",\"HUN\",\"MDA\",\"MDA\",\"MDA\",\"ROU\",\"ROU\",\"LTU\",\"LTU\",\"LVA\",\"LVA\",\"EST\",\"EST\",\"DEU\",\"DEU\",\"DEU\",\"BGR\",\"BGR\",\"GRC\",\"GRC\",\"GRC\",\"ALB\",\"ALB\",\"HRV\",\"HRV\",\"CHE\",\"CHE\",\"LUX\",\"LUX\",\"BEL\",\"BEL\",\"NLD\",\"NLD\",\"PRT\",\"PRT\",\"ESP\",\"ESP\",\"ESP\",\"IRL\",\"IRL\",\"IRL\",\"AUS\",\"AUS\",\"LKA\",\"LKA\",\"LKA\",\"CHN\",\"CHN\",\"CHN\",\"ITA\",\"ITA\",\"ITA\",\"DNK\",\"DNK\",\"GBR\",\"GBR\",\"ISL\",\"ISL\",\"AZE\",\"AZE\",\"AZE\",\"GEO\",\"GEO\",\"GEO\",\"PHL\",\"PHL\",\"PHL\",\"MYS\",\"MYS\",\"BRN\",\"BRN\",\"SVN\",\"SVN\",\"FIN\",\"FIN\",\"SVK\",\"SVK\",\"CZE\",\"CZE\",\"CZE\",\"ERI\",\"ERI\",\"JPN\",\"JPN\",\"PRY\",\"PRY\",\"PRY\",\"SAU\",\"SAU\",\"SAU\",\"CYP\",\"CYP\",\"CYP\",\"MAR\",\"MAR\",\"MAR\",\"LBY\",\"LBY\",\"LBY\",\"ETH\",\"ETH\",\"ETH\",\"DJI\",\"UGA\",\"UGA\",\"UGA\",\"RWA\",\"RWA\",\"RWA\",\"MKD\",\"MKD\",\"MKD\",\"SRB\",\"SRB\",\"SRB\",\"MNE\",\"MNE\",\"TTO\",\"TTO\",\"TTO\"],\"z\":[0.38461538461538464,0.38461538461538464,0.6842105263157895,0.6842105263157895,0.6842105263157895,0.375,0.375,0.375,0.375,0.375,0.38461538461538464,0.38461538461538464,0.38461538461538464,0.6842105263157895,0.6842105263157895,0.6842105263157895,0.6842105263157895,0.6842105263157895,0.6842105263157895,0.38461538461538464,0.38461538461538464,0.38461538461538464,0.375,0.375,0.375,0.7857142857142857,0.7857142857142857,0.7857142857142857,0.6842105263157895,0.6842105263157895,0.6842105263157895,0.7857142857142857,0.7857142857142857,0.7857142857142857,0.7857142857142857,0.7857142857142857,0.7857142857142857,0.6842105263157895,0.6842105263157895,0.6842105263157895,0.38461538461538464,0.38461538461538464,0.38461538461538464,0.375,0.375,0.38461538461538464,0.38461538461538464,0.38461538461538464,0.6842105263157895,0.6842105263157895,0.6842105263157895,0.38461538461538464,0.38461538461538464,0.38461538461538464,0.375,0.375,0.38461538461538464,0.38461538461538464,0.38461538461538464,0.6842105263157895,0.6842105263157895,0.6842105263157895,0.38461538461538464,0.38461538461538464,0.38461538461538464,0.38461538461538464,0.38461538461538464,0.38461538461538464,0.375,0.375,0.6842105263157895,0.6842105263157895,0.6842105263157895,0.6842105263157895,0.6842105263157895,0.6842105263157895,0.6842105263157895,0.6842105263157895,0.6842105263157895,0.38461538461538464,0.38461538461538464,0.38461538461538464,0.38461538461538464,0.38461538461538464,0.38461538461538464,0.38461538461538464,0.38461538461538464,0.38461538461538464,0.38461538461538464,0.38461538461538464,0.375,0.375,0.375,0.38461538461538464,0.38461538461538464,0.38461538461538464,0.38461538461538464,0.38461538461538464,0.38461538461538464,0.38461538461538464,0.38461538461538464,0.38461538461538464,0.6842105263157895,0.6842105263157895,0.6842105263157895,0.38461538461538464,0.38461538461538464,0.38461538461538464,0.38461538461538464,0.38461538461538464,0.38461538461538464,0.6842105263157895,0.6842105263157895,0.6842105263157895,0.7857142857142857,0.7857142857142857,0.7857142857142857,0.6842105263157895,0.6842105263157895,0.6842105263157895,0.6842105263157895,0.6842105263157895,0.7857142857142857,0.7857142857142857,0.7857142857142857,0.6842105263157895,0.6842105263157895,0.6842105263157895,0.6842105263157895,0.6842105263157895,0.6842105263157895,0.7857142857142857,0.7857142857142857,0.7857142857142857,0.6842105263157895,0.6842105263157895,0.6842105263157895,null,0.7857142857142857,0.7857142857142857,0.7857142857142857,0.7857142857142857,0.7857142857142857,0.7857142857142857,0.7857142857142857,0.7857142857142857,0.7857142857142857,0.38461538461538464,0.38461538461538464,0.7857142857142857,0.7857142857142857,0.7857142857142857,0.7857142857142857,0.7857142857142857,0.7857142857142857,0.7857142857142857,0.7857142857142857,0.7857142857142857,0.6842105263157895,0.6842105263157895,0.6842105263157895,0.7857142857142857,0.7857142857142857,0.375,0.375,0.375,0.6842105263157895,0.6842105263157895,0.6842105263157895,0.7857142857142857,0.7857142857142857,0.7857142857142857,0.6842105263157895,0.6842105263157895,0.6842105263157895,0.6842105263157895,0.6842105263157895,0.38461538461538464,0.38461538461538464,0.38461538461538464,0.375,0.375,0.375,0.375,0.38461538461538464,0.38461538461538464,0.38461538461538464,0.375,0.375,0.6842105263157895,0.6842105263157895,0.38461538461538464,0.38461538461538464,0.38461538461538464,0.6842105263157895,0.6842105263157895,0.6842105263157895,0.6842105263157895,0.6842105263157895,0.6842105263157895,0.6842105263157895,0.6842105263157895,0.6842105263157895,0.6842105263157895,0.6842105263157895,0.6842105263157895,0.6842105263157895,0.6842105263157895,0.6842105263157895,0.6842105263157895,0.6842105263157895,0.6842105263157895,0.6842105263157895,0.6842105263157895,0.6842105263157895,0.7857142857142857,0.7857142857142857,0.7857142857142857,0.6842105263157895,0.6842105263157895,0.6842105263157895,0.6842105263157895,0.6842105263157895,0.38461538461538464,0.38461538461538464,0.7857142857142857,0.7857142857142857,0.7857142857142857,0.38461538461538464,0.38461538461538464,0.38461538461538464,0.375,0.375,0.38461538461538464,0.38461538461538464,0.38461538461538464,0.6842105263157895,0.6842105263157895,0.6842105263157895,0.375,0.375,0.375,0.375,0.375,0.375,0.375,0.38461538461538464,0.38461538461538464,0.38461538461538464,0.375,0.375,0.375,0.375,0.375,0.375,0.375,0.375,0.375,0.375,0.375,0.38461538461538464,0.38461538461538464,0.375,0.375,0.375,0.38461538461538464,0.38461538461538464,0.375,0.375,0.375,0.375,0.375,0.375,0.375,0.375,0.375,0.375,0.375,0.375,0.375,0.375,0.375,0.375,0.375,0.375,0.375,0.375,0.6842105263157895,0.6842105263157895,0.6842105263157895,0.38461538461538464,0.38461538461538464,0.38461538461538464,0.375,0.375,0.375,0.375,0.375,0.375,0.375,0.375,0.375,0.38461538461538464,0.38461538461538464,0.38461538461538464,0.38461538461538464,0.38461538461538464,0.38461538461538464,0.6842105263157895,0.6842105263157895,0.6842105263157895,0.38461538461538464,0.38461538461538464,0.375,0.375,0.375,0.375,0.375,0.375,0.375,0.375,0.375,0.375,0.375,0.7857142857142857,0.7857142857142857,0.375,0.375,0.38461538461538464,0.38461538461538464,0.38461538461538464,0.375,0.375,0.375,0.375,0.375,0.375,0.6842105263157895,0.6842105263157895,0.6842105263157895,0.38461538461538464,0.38461538461538464,0.38461538461538464,0.7857142857142857,0.7857142857142857,0.7857142857142857,0.6842105263157895,0.7857142857142857,0.7857142857142857,0.7857142857142857,0.7857142857142857,0.7857142857142857,0.7857142857142857,0.38461538461538464,0.38461538461538464,0.38461538461538464,0.38461538461538464,0.38461538461538464,0.38461538461538464,0.38461538461538464,0.38461538461538464,0.375,0.375,0.375],\"type\":\"choropleth\"}],                        {\"template\":{\"data\":{\"histogram2dcontour\":[{\"type\":\"histogram2dcontour\",\"colorbar\":{\"outlinewidth\":0,\"ticks\":\"\"},\"colorscale\":[[0.0,\"#0d0887\"],[0.1111111111111111,\"#46039f\"],[0.2222222222222222,\"#7201a8\"],[0.3333333333333333,\"#9c179e\"],[0.4444444444444444,\"#bd3786\"],[0.5555555555555556,\"#d8576b\"],[0.6666666666666666,\"#ed7953\"],[0.7777777777777778,\"#fb9f3a\"],[0.8888888888888888,\"#fdca26\"],[1.0,\"#f0f921\"]]}],\"choropleth\":[{\"type\":\"choropleth\",\"colorbar\":{\"outlinewidth\":0,\"ticks\":\"\"}}],\"histogram2d\":[{\"type\":\"histogram2d\",\"colorbar\":{\"outlinewidth\":0,\"ticks\":\"\"},\"colorscale\":[[0.0,\"#0d0887\"],[0.1111111111111111,\"#46039f\"],[0.2222222222222222,\"#7201a8\"],[0.3333333333333333,\"#9c179e\"],[0.4444444444444444,\"#bd3786\"],[0.5555555555555556,\"#d8576b\"],[0.6666666666666666,\"#ed7953\"],[0.7777777777777778,\"#fb9f3a\"],[0.8888888888888888,\"#fdca26\"],[1.0,\"#f0f921\"]]}],\"heatmap\":[{\"type\":\"heatmap\",\"colorbar\":{\"outlinewidth\":0,\"ticks\":\"\"},\"colorscale\":[[0.0,\"#0d0887\"],[0.1111111111111111,\"#46039f\"],[0.2222222222222222,\"#7201a8\"],[0.3333333333333333,\"#9c179e\"],[0.4444444444444444,\"#bd3786\"],[0.5555555555555556,\"#d8576b\"],[0.6666666666666666,\"#ed7953\"],[0.7777777777777778,\"#fb9f3a\"],[0.8888888888888888,\"#fdca26\"],[1.0,\"#f0f921\"]]}],\"heatmapgl\":[{\"type\":\"heatmapgl\",\"colorbar\":{\"outlinewidth\":0,\"ticks\":\"\"},\"colorscale\":[[0.0,\"#0d0887\"],[0.1111111111111111,\"#46039f\"],[0.2222222222222222,\"#7201a8\"],[0.3333333333333333,\"#9c179e\"],[0.4444444444444444,\"#bd3786\"],[0.5555555555555556,\"#d8576b\"],[0.6666666666666666,\"#ed7953\"],[0.7777777777777778,\"#fb9f3a\"],[0.8888888888888888,\"#fdca26\"],[1.0,\"#f0f921\"]]}],\"contourcarpet\":[{\"type\":\"contourcarpet\",\"colorbar\":{\"outlinewidth\":0,\"ticks\":\"\"}}],\"contour\":[{\"type\":\"contour\",\"colorbar\":{\"outlinewidth\":0,\"ticks\":\"\"},\"colorscale\":[[0.0,\"#0d0887\"],[0.1111111111111111,\"#46039f\"],[0.2222222222222222,\"#7201a8\"],[0.3333333333333333,\"#9c179e\"],[0.4444444444444444,\"#bd3786\"],[0.5555555555555556,\"#d8576b\"],[0.6666666666666666,\"#ed7953\"],[0.7777777777777778,\"#fb9f3a\"],[0.8888888888888888,\"#fdca26\"],[1.0,\"#f0f921\"]]}],\"surface\":[{\"type\":\"surface\",\"colorbar\":{\"outlinewidth\":0,\"ticks\":\"\"},\"colorscale\":[[0.0,\"#0d0887\"],[0.1111111111111111,\"#46039f\"],[0.2222222222222222,\"#7201a8\"],[0.3333333333333333,\"#9c179e\"],[0.4444444444444444,\"#bd3786\"],[0.5555555555555556,\"#d8576b\"],[0.6666666666666666,\"#ed7953\"],[0.7777777777777778,\"#fb9f3a\"],[0.8888888888888888,\"#fdca26\"],[1.0,\"#f0f921\"]]}],\"mesh3d\":[{\"type\":\"mesh3d\",\"colorbar\":{\"outlinewidth\":0,\"ticks\":\"\"}}],\"scatter\":[{\"fillpattern\":{\"fillmode\":\"overlay\",\"size\":10,\"solidity\":0.2},\"type\":\"scatter\"}],\"parcoords\":[{\"type\":\"parcoords\",\"line\":{\"colorbar\":{\"outlinewidth\":0,\"ticks\":\"\"}}}],\"scatterpolargl\":[{\"type\":\"scatterpolargl\",\"marker\":{\"colorbar\":{\"outlinewidth\":0,\"ticks\":\"\"}}}],\"bar\":[{\"error_x\":{\"color\":\"#2a3f5f\"},\"error_y\":{\"color\":\"#2a3f5f\"},\"marker\":{\"line\":{\"color\":\"#E5ECF6\",\"width\":0.5},\"pattern\":{\"fillmode\":\"overlay\",\"size\":10,\"solidity\":0.2}},\"type\":\"bar\"}],\"scattergeo\":[{\"type\":\"scattergeo\",\"marker\":{\"colorbar\":{\"outlinewidth\":0,\"ticks\":\"\"}}}],\"scatterpolar\":[{\"type\":\"scatterpolar\",\"marker\":{\"colorbar\":{\"outlinewidth\":0,\"ticks\":\"\"}}}],\"histogram\":[{\"marker\":{\"pattern\":{\"fillmode\":\"overlay\",\"size\":10,\"solidity\":0.2}},\"type\":\"histogram\"}],\"scattergl\":[{\"type\":\"scattergl\",\"marker\":{\"colorbar\":{\"outlinewidth\":0,\"ticks\":\"\"}}}],\"scatter3d\":[{\"type\":\"scatter3d\",\"line\":{\"colorbar\":{\"outlinewidth\":0,\"ticks\":\"\"}},\"marker\":{\"colorbar\":{\"outlinewidth\":0,\"ticks\":\"\"}}}],\"scattermapbox\":[{\"type\":\"scattermapbox\",\"marker\":{\"colorbar\":{\"outlinewidth\":0,\"ticks\":\"\"}}}],\"scatterternary\":[{\"type\":\"scatterternary\",\"marker\":{\"colorbar\":{\"outlinewidth\":0,\"ticks\":\"\"}}}],\"scattercarpet\":[{\"type\":\"scattercarpet\",\"marker\":{\"colorbar\":{\"outlinewidth\":0,\"ticks\":\"\"}}}],\"carpet\":[{\"aaxis\":{\"endlinecolor\":\"#2a3f5f\",\"gridcolor\":\"white\",\"linecolor\":\"white\",\"minorgridcolor\":\"white\",\"startlinecolor\":\"#2a3f5f\"},\"baxis\":{\"endlinecolor\":\"#2a3f5f\",\"gridcolor\":\"white\",\"linecolor\":\"white\",\"minorgridcolor\":\"white\",\"startlinecolor\":\"#2a3f5f\"},\"type\":\"carpet\"}],\"table\":[{\"cells\":{\"fill\":{\"color\":\"#EBF0F8\"},\"line\":{\"color\":\"white\"}},\"header\":{\"fill\":{\"color\":\"#C8D4E3\"},\"line\":{\"color\":\"white\"}},\"type\":\"table\"}],\"barpolar\":[{\"marker\":{\"line\":{\"color\":\"#E5ECF6\",\"width\":0.5},\"pattern\":{\"fillmode\":\"overlay\",\"size\":10,\"solidity\":0.2}},\"type\":\"barpolar\"}],\"pie\":[{\"automargin\":true,\"type\":\"pie\"}]},\"layout\":{\"autotypenumbers\":\"strict\",\"colorway\":[\"#636efa\",\"#EF553B\",\"#00cc96\",\"#ab63fa\",\"#FFA15A\",\"#19d3f3\",\"#FF6692\",\"#B6E880\",\"#FF97FF\",\"#FECB52\"],\"font\":{\"color\":\"#2a3f5f\"},\"hovermode\":\"closest\",\"hoverlabel\":{\"align\":\"left\"},\"paper_bgcolor\":\"white\",\"plot_bgcolor\":\"#E5ECF6\",\"polar\":{\"bgcolor\":\"#E5ECF6\",\"angularaxis\":{\"gridcolor\":\"white\",\"linecolor\":\"white\",\"ticks\":\"\"},\"radialaxis\":{\"gridcolor\":\"white\",\"linecolor\":\"white\",\"ticks\":\"\"}},\"ternary\":{\"bgcolor\":\"#E5ECF6\",\"aaxis\":{\"gridcolor\":\"white\",\"linecolor\":\"white\",\"ticks\":\"\"},\"baxis\":{\"gridcolor\":\"white\",\"linecolor\":\"white\",\"ticks\":\"\"},\"caxis\":{\"gridcolor\":\"white\",\"linecolor\":\"white\",\"ticks\":\"\"}},\"coloraxis\":{\"colorbar\":{\"outlinewidth\":0,\"ticks\":\"\"}},\"colorscale\":{\"sequential\":[[0.0,\"#0d0887\"],[0.1111111111111111,\"#46039f\"],[0.2222222222222222,\"#7201a8\"],[0.3333333333333333,\"#9c179e\"],[0.4444444444444444,\"#bd3786\"],[0.5555555555555556,\"#d8576b\"],[0.6666666666666666,\"#ed7953\"],[0.7777777777777778,\"#fb9f3a\"],[0.8888888888888888,\"#fdca26\"],[1.0,\"#f0f921\"]],\"sequentialminus\":[[0.0,\"#0d0887\"],[0.1111111111111111,\"#46039f\"],[0.2222222222222222,\"#7201a8\"],[0.3333333333333333,\"#9c179e\"],[0.4444444444444444,\"#bd3786\"],[0.5555555555555556,\"#d8576b\"],[0.6666666666666666,\"#ed7953\"],[0.7777777777777778,\"#fb9f3a\"],[0.8888888888888888,\"#fdca26\"],[1.0,\"#f0f921\"]],\"diverging\":[[0,\"#8e0152\"],[0.1,\"#c51b7d\"],[0.2,\"#de77ae\"],[0.3,\"#f1b6da\"],[0.4,\"#fde0ef\"],[0.5,\"#f7f7f7\"],[0.6,\"#e6f5d0\"],[0.7,\"#b8e186\"],[0.8,\"#7fbc41\"],[0.9,\"#4d9221\"],[1,\"#276419\"]]},\"xaxis\":{\"gridcolor\":\"white\",\"linecolor\":\"white\",\"ticks\":\"\",\"title\":{\"standoff\":15},\"zerolinecolor\":\"white\",\"automargin\":true,\"zerolinewidth\":2},\"yaxis\":{\"gridcolor\":\"white\",\"linecolor\":\"white\",\"ticks\":\"\",\"title\":{\"standoff\":15},\"zerolinecolor\":\"white\",\"automargin\":true,\"zerolinewidth\":2},\"scene\":{\"xaxis\":{\"backgroundcolor\":\"#E5ECF6\",\"gridcolor\":\"white\",\"linecolor\":\"white\",\"showbackground\":true,\"ticks\":\"\",\"zerolinecolor\":\"white\",\"gridwidth\":2},\"yaxis\":{\"backgroundcolor\":\"#E5ECF6\",\"gridcolor\":\"white\",\"linecolor\":\"white\",\"showbackground\":true,\"ticks\":\"\",\"zerolinecolor\":\"white\",\"gridwidth\":2},\"zaxis\":{\"backgroundcolor\":\"#E5ECF6\",\"gridcolor\":\"white\",\"linecolor\":\"white\",\"showbackground\":true,\"ticks\":\"\",\"zerolinecolor\":\"white\",\"gridwidth\":2}},\"shapedefaults\":{\"line\":{\"color\":\"#2a3f5f\"}},\"annotationdefaults\":{\"arrowcolor\":\"#2a3f5f\",\"arrowhead\":0,\"arrowwidth\":1},\"geo\":{\"bgcolor\":\"white\",\"landcolor\":\"#E5ECF6\",\"subunitcolor\":\"white\",\"showland\":true,\"showlakes\":true,\"lakecolor\":\"white\"},\"title\":{\"x\":0.05},\"mapbox\":{\"style\":\"light\"}}}},                        {\"responsive\": true}                    ).then(function(){\n",
       "                            \n",
       "var gd = document.getElementById('b082f9c4-a43f-4bc4-ada1-0437a1ae5875');\n",
       "var x = new MutationObserver(function (mutations, observer) {{\n",
       "        var display = window.getComputedStyle(gd).display;\n",
       "        if (!display || display === 'none') {{\n",
       "            console.log([gd, 'removed!']);\n",
       "            Plotly.purge(gd);\n",
       "            observer.disconnect();\n",
       "        }}\n",
       "}});\n",
       "\n",
       "// Listen for the removal of the full notebook cells\n",
       "var notebookContainer = gd.closest('#notebook-container');\n",
       "if (notebookContainer) {{\n",
       "    x.observe(notebookContainer, {childList: true});\n",
       "}}\n",
       "\n",
       "// Listen for the clearing of the current output cell\n",
       "var outputEl = gd.closest('.output');\n",
       "if (outputEl) {{\n",
       "    x.observe(outputEl, {childList: true});\n",
       "}}\n",
       "\n",
       "                        })                };                });            </script>        </div>"
      ]
     },
     "metadata": {},
     "output_type": "display_data"
    }
   ],
   "source": [
    "fig = []\n",
    "for model,colors in zip(['ffnn', 'xgboost', 'transformer'],['Reds', 'Blues', 'Greens']):\n",
    "    fig += [go.Figure(data = go.Choropleth(locations=df_preds['iso3'], text=df_preds['iso3'], \n",
    "                                           z=chosen_metric_back_into_original_data_2[model], \n",
    "               colorscale = colors, autocolorscale=False, reversescale=False, marker_line_color='darkgray',\n",
    "               marker_line_width=0.5, colorbar_tickprefix='', colorbar_title=model+\" \"+chosen_metric_2))]\n",
    "fig[0].show()\n",
    "fig[1].show()\n",
    "fig[2].show()"
   ]
  },
  {
   "cell_type": "code",
   "execution_count": null,
   "id": "018e1b83",
   "metadata": {},
   "outputs": [],
   "source": []
  }
 ],
 "metadata": {
  "celltoolbar": "Slideshow",
  "kernelspec": {
   "display_name": "Python 3 (ipykernel)",
   "language": "python",
   "name": "python3"
  },
  "language_info": {
   "codemirror_mode": {
    "name": "ipython",
    "version": 3
   },
   "file_extension": ".py",
   "mimetype": "text/x-python",
   "name": "python",
   "nbconvert_exporter": "python",
   "pygments_lexer": "ipython3",
   "version": "3.10.8"
  }
 },
 "nbformat": 4,
 "nbformat_minor": 5
}
